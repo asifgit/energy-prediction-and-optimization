{
 "cells": [
  {
   "cell_type": "markdown",
   "id": "18dc61a2-6713-4afa-98e6-79481b1b9eb8",
   "metadata": {},
   "source": [
    "# Constraints"
   ]
  },
  {
   "cell_type": "markdown",
   "id": "8d0f0e85-fb0d-452a-a93e-064d1e7dfc1a",
   "metadata": {},
   "source": [
    "\n",
    "1. **Energy forecasting models**\n",
    "    - FBPROPHET, ARIMA, LSTM\n",
    "        - LSTM\n",
    "2. **Configuration models**\n",
    "    - RandomForestRegressor, XtraTreeRegressor\n",
    "        - XtraTreeRegressor\n",
    "3. **Dataset**\n",
    "    - Smart home in Belgium\n",
    "        - indoor: 9 rooms temperature, humidity data\n",
    "        - outdoor: weather station data\n",
    "    - Different timeslot analysis\n",
    "        - 11:50 PM - 06:00 AM\n",
    "        - 06:10 AM - 08:30 AM\n",
    "        - 08:40 AM - 12:10 PM\n",
    "        - 12:20 PM - 18:30 PM\n",
    "        - 18:40 PM - 11:40 PM"
   ]
  },
  {
   "cell_type": "code",
   "execution_count": null,
   "id": "5eeece17-158d-487d-b7ce-3b5ba4c2d1b7",
   "metadata": {},
   "outputs": [],
   "source": []
  }
 ],
 "metadata": {
  "kernelspec": {
   "display_name": "Python 3 (ipykernel)",
   "language": "python",
   "name": "python3"
  },
  "language_info": {
   "codemirror_mode": {
    "name": "ipython",
    "version": 3
   },
   "file_extension": ".py",
   "mimetype": "text/x-python",
   "name": "python",
   "nbconvert_exporter": "python",
   "pygments_lexer": "ipython3",
   "version": "3.10.6"
  }
 },
 "nbformat": 4,
 "nbformat_minor": 5
}
