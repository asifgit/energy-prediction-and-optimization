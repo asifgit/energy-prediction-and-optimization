{
 "cells": [
  {
   "cell_type": "markdown",
   "id": "728ae115-c15e-434d-bb07-c72f8e2da5bb",
   "metadata": {},
   "source": [
    "# Library importation"
   ]
  },
  {
   "cell_type": "code",
   "execution_count": 1,
   "id": "d08cab53-c9d9-43aa-a584-80d7a96fd17f",
   "metadata": {},
   "outputs": [
    {
     "name": "stderr",
     "output_type": "stream",
     "text": [
      "/home/xsif/anaconda3/envs/env005_energypredappliances/lib/python3.10/site-packages/scipy/__init__.py:146: UserWarning: A NumPy version >=1.16.5 and <1.23.0 is required for this version of SciPy (detected version 1.23.4\n",
      "  warnings.warn(f\"A NumPy version >={np_minversion} and <{np_maxversion}\"\n"
     ]
    }
   ],
   "source": [
    "from keras.models import Sequential\n",
    "from keras.layers import Dense, LSTM\n",
    "from sklearn.model_selection import train_test_split\n",
    "import numpy as np\n",
    "import matplotlib.pyplot as plt"
   ]
  },
  {
   "cell_type": "markdown",
   "id": "392e6afc-809f-4539-9985-0b1756fe97e9",
   "metadata": {},
   "source": [
    "# Data creation"
   ]
  },
  {
   "cell_type": "code",
   "execution_count": 2,
   "id": "d28a972f-ea50-4b6a-9ee7-c528cbb2d350",
   "metadata": {},
   "outputs": [],
   "source": [
    "recordsss = 100\n",
    "n_inputss = 5\n",
    "n_outputs = 1\n",
    "normalize = 100"
   ]
  },
  {
   "cell_type": "code",
   "execution_count": 3,
   "id": "eeba7ba5-9618-4138-93f8-444d5fd10bdb",
   "metadata": {},
   "outputs": [],
   "source": [
    "Data = [\n",
    "    [\n",
    "        [(j+i)/normalize] for i in range(n_inputss)\n",
    "    ] for j in range(recordsss)\n",
    "]"
   ]
  },
  {
   "cell_type": "code",
   "execution_count": 4,
   "id": "f7acae04-0be2-4789-ae84-fffadec2f6c0",
   "metadata": {},
   "outputs": [],
   "source": [
    "target = [(k+n_inputss)/normalize for k in range(recordsss)]"
   ]
  },
  {
   "cell_type": "code",
   "execution_count": 5,
   "id": "fe83df75-0f77-4d3e-9395-7f1c8be82d4c",
   "metadata": {},
   "outputs": [
    {
     "data": {
      "text/plain": [
       "[[[0.0], [0.01], [0.02], [0.03], [0.04]],\n",
       " [[0.01], [0.02], [0.03], [0.04], [0.05]],\n",
       " [[0.02], [0.03], [0.04], [0.05], [0.06]],\n",
       " [[0.03], [0.04], [0.05], [0.06], [0.07]],\n",
       " [[0.04], [0.05], [0.06], [0.07], [0.08]]]"
      ]
     },
     "execution_count": 5,
     "metadata": {},
     "output_type": "execute_result"
    }
   ],
   "source": [
    "Data[0:n_inputss]"
   ]
  },
  {
   "cell_type": "code",
   "execution_count": 6,
   "id": "ea562b91-2dc1-4347-a2df-5898ea9b4284",
   "metadata": {},
   "outputs": [
    {
     "data": {
      "text/plain": [
       "[0.05, 0.06, 0.07, 0.08, 0.09]"
      ]
     },
     "execution_count": 6,
     "metadata": {},
     "output_type": "execute_result"
    }
   ],
   "source": [
    "target[0:n_inputss]"
   ]
  },
  {
   "cell_type": "code",
   "execution_count": 7,
   "id": "30b805e1-654c-421f-9cb2-270e29c93515",
   "metadata": {},
   "outputs": [],
   "source": [
    "data = np.array(Data, dtype=float)\n",
    "target = np.array(target, dtype=float)"
   ]
  },
  {
   "cell_type": "code",
   "execution_count": 8,
   "id": "bff4fa5d-1d76-4653-8fc6-34aa3e301c7b",
   "metadata": {},
   "outputs": [
    {
     "data": {
      "text/plain": [
       "(100, 5, 1)"
      ]
     },
     "execution_count": 8,
     "metadata": {},
     "output_type": "execute_result"
    }
   ],
   "source": [
    "data.shape"
   ]
  },
  {
   "cell_type": "code",
   "execution_count": 9,
   "id": "f407ce44-5e76-4269-8f2d-eff4a60a5e24",
   "metadata": {},
   "outputs": [
    {
     "data": {
      "text/plain": [
       "(100,)"
      ]
     },
     "execution_count": 9,
     "metadata": {},
     "output_type": "execute_result"
    }
   ],
   "source": [
    "target.shape"
   ]
  },
  {
   "cell_type": "markdown",
   "id": "6ac0b0c0-fd6b-4841-9c3d-8e73510d37fc",
   "metadata": {},
   "source": [
    "# Data split"
   ]
  },
  {
   "cell_type": "code",
   "execution_count": 10,
   "id": "ba8feb86-b885-4fee-9894-e9c323dee1b2",
   "metadata": {},
   "outputs": [],
   "source": [
    "x_train, x_test, y_train, y_test = train_test_split(\n",
    "    data, target, test_size = 0.2, random_state = 4\n",
    ")"
   ]
  },
  {
   "cell_type": "markdown",
   "id": "67ae1866-ffb7-4914-be20-2fe782aa8c3a",
   "metadata": {},
   "source": [
    "# Model creation"
   ]
  },
  {
   "cell_type": "code",
   "execution_count": 11,
   "id": "afa04950-fe2b-4ac0-a0f1-c9fa6e86a149",
   "metadata": {},
   "outputs": [
    {
     "name": "stderr",
     "output_type": "stream",
     "text": [
      "2022-11-29 12:59:13.844155: I tensorflow/core/platform/cpu_feature_guard.cc:193] This TensorFlow binary is optimized with oneAPI Deep Neural Network Library (oneDNN) to use the following CPU instructions in performance-critical operations:  SSE4.1 SSE4.2 AVX AVX2 FMA\n",
      "To enable them in other operations, rebuild TensorFlow with the appropriate compiler flags.\n",
      "2022-11-29 12:59:13.844982: I tensorflow/core/common_runtime/process_util.cc:146] Creating new thread pool with default inter op setting: 2. Tune using inter_op_parallelism_threads for best performance.\n"
     ]
    }
   ],
   "source": [
    "model = Sequential()"
   ]
  },
  {
   "cell_type": "code",
   "execution_count": 12,
   "id": "83203ff4-4db1-4cee-8f31-9afa6b8e8d1d",
   "metadata": {},
   "outputs": [],
   "source": [
    "model.add(\n",
    "    LSTM(\n",
    "        (1),\n",
    "        batch_input_shape = (None, n_inputss, 1),\n",
    "        return_sequences = True,\n",
    "        # activation = \"relu\",\n",
    "        name = \"layer_1_lstm\"\n",
    "    )\n",
    ")\n",
    "model.add(\n",
    "    LSTM(\n",
    "        (1),\n",
    "        return_sequences = True,\n",
    "        # activation = \"relu\",\n",
    "        name = \"layer_2_lstm\"\n",
    "    )\n",
    ")\n",
    "model.add(\n",
    "    LSTM(\n",
    "        (1),\n",
    "        return_sequences = False,\n",
    "        # activation = \"relu\",\n",
    "        name = \"layer_3_lstm\"\n",
    "    )\n",
    ")"
   ]
  },
  {
   "cell_type": "code",
   "execution_count": 13,
   "id": "03ea0370-4d78-47f4-b4a6-6ee546ebaa3b",
   "metadata": {},
   "outputs": [],
   "source": [
    "model.compile(\n",
    "    loss = \"mean_absolute_error\",\n",
    "    optimizer = \"adam\",\n",
    "    metrics = [\"accuracy\"]\n",
    ")"
   ]
  },
  {
   "cell_type": "code",
   "execution_count": 14,
   "id": "bd9eb6ad-69e5-49f2-8031-acb4c75ddd07",
   "metadata": {},
   "outputs": [
    {
     "name": "stdout",
     "output_type": "stream",
     "text": [
      "Model: \"sequential\"\n",
      "_________________________________________________________________\n",
      " Layer (type)                Output Shape              Param #   \n",
      "=================================================================\n",
      " layer_1_lstm (LSTM)         (None, 5, 1)              12        \n",
      "                                                                 \n",
      " layer_2_lstm (LSTM)         (None, 5, 1)              12        \n",
      "                                                                 \n",
      " layer_3_lstm (LSTM)         (None, 1)                 12        \n",
      "                                                                 \n",
      "=================================================================\n",
      "Total params: 36\n",
      "Trainable params: 36\n",
      "Non-trainable params: 0\n",
      "_________________________________________________________________\n"
     ]
    }
   ],
   "source": [
    "model.summary()"
   ]
  },
  {
   "cell_type": "markdown",
   "id": "62a85d42-a53d-4d0a-87c9-e9b8f9a9b246",
   "metadata": {},
   "source": [
    "# Model training"
   ]
  },
  {
   "cell_type": "code",
   "execution_count": 15,
   "id": "7cebc4d4-d174-4b7b-8c85-04f5b6413d19",
   "metadata": {},
   "outputs": [],
   "source": [
    "history = model.fit(\n",
    "    x_train,\n",
    "    y_train,\n",
    "    epochs = 400,\n",
    "    validation_data = (\n",
    "        x_test,\n",
    "        y_test\n",
    "    ),\n",
    "    verbose = 0\n",
    ")"
   ]
  },
  {
   "cell_type": "markdown",
   "id": "30ba82d5-ba88-42f4-aef6-8524204c9cda",
   "metadata": {},
   "source": [
    "# Model evaluation"
   ]
  },
  {
   "cell_type": "code",
   "execution_count": 16,
   "id": "21aea065-537f-4f60-ad92-30157a0d3cde",
   "metadata": {},
   "outputs": [
    {
     "name": "stdout",
     "output_type": "stream",
     "text": [
      "1/1 [==============================] - 1s 642ms/step\n"
     ]
    }
   ],
   "source": [
    "results = model.predict(x_test)"
   ]
  },
  {
   "cell_type": "code",
   "execution_count": 17,
   "id": "5a86c337-82bb-47f2-8ced-f3b1d634c4ab",
   "metadata": {},
   "outputs": [
    {
     "data": {
      "text/plain": [
       "array([[0.23467214],\n",
       "       [0.16895904],\n",
       "       [0.86354226],\n",
       "       [0.20562269],\n",
       "       [0.705716  ]], dtype=float32)"
      ]
     },
     "execution_count": 17,
     "metadata": {},
     "output_type": "execute_result"
    }
   ],
   "source": [
    "results[0:n_inputss]"
   ]
  },
  {
   "cell_type": "code",
   "execution_count": 18,
   "id": "bfa30781-7a5f-4d97-92b2-185358d3c761",
   "metadata": {},
   "outputs": [
    {
     "data": {
      "text/plain": [
       "array([0.25, 0.15, 1.01, 0.21, 0.68])"
      ]
     },
     "execution_count": 18,
     "metadata": {},
     "output_type": "execute_result"
    }
   ],
   "source": [
    "y_test[0:n_inputss]"
   ]
  },
  {
   "cell_type": "code",
   "execution_count": null,
   "id": "519ed520-6803-4fc1-98e4-8eefc81b5b26",
   "metadata": {},
   "outputs": [],
   "source": []
  },
  {
   "cell_type": "code",
   "execution_count": 19,
   "id": "ed6d7fce-16aa-4471-9150-e76d158bbd7e",
   "metadata": {},
   "outputs": [],
   "source": [
    "# results = results*normalize"
   ]
  },
  {
   "cell_type": "code",
   "execution_count": 20,
   "id": "d427b759-4105-4275-b2b7-716d23e0995e",
   "metadata": {},
   "outputs": [],
   "source": [
    "# y_test = y_test*normalize"
   ]
  },
  {
   "cell_type": "code",
   "execution_count": 21,
   "id": "566ac2a1-158b-4dfd-80e4-7c77fba006f5",
   "metadata": {},
   "outputs": [
    {
     "data": {
      "text/plain": [
       "array([[0.23467214],\n",
       "       [0.16895904],\n",
       "       [0.86354226],\n",
       "       [0.20562269],\n",
       "       [0.705716  ]], dtype=float32)"
      ]
     },
     "execution_count": 21,
     "metadata": {},
     "output_type": "execute_result"
    }
   ],
   "source": [
    "results[0:n_inputss]"
   ]
  },
  {
   "cell_type": "code",
   "execution_count": 22,
   "id": "f7cde3ea-78d7-496a-8f17-c5127c994a58",
   "metadata": {},
   "outputs": [
    {
     "data": {
      "text/plain": [
       "array([0.25, 0.15, 1.01, 0.21, 0.68])"
      ]
     },
     "execution_count": 22,
     "metadata": {},
     "output_type": "execute_result"
    }
   ],
   "source": [
    "y_test[0:n_inputss]"
   ]
  },
  {
   "cell_type": "code",
   "execution_count": null,
   "id": "8f413c0e-222b-4e70-9634-ff7e3ea7f1fe",
   "metadata": {},
   "outputs": [],
   "source": []
  },
  {
   "cell_type": "code",
   "execution_count": 23,
   "id": "efe1642e-da58-4e29-a999-f0934fa97f4a",
   "metadata": {},
   "outputs": [
    {
     "data": {
      "image/png": "[encoded data removed]",
      "text/plain": [
       "<Figure size 640x480 with 1 Axes>"
      ]
     },
     "metadata": {},
     "output_type": "display_data"
    }
   ],
   "source": [
    "plt.scatter(\n",
    "    range(20),\n",
    "    results,\n",
    "    c = \"r\",\n",
    "    label=\"predicted\"\n",
    ")\n",
    "plt.scatter(\n",
    "    range(20),\n",
    "    y_test,\n",
    "    c = \"g\",\n",
    "    label=\"actual\"\n",
    ")\n",
    "plt.legend()\n",
    "plt.show()"
   ]
  },
  {
   "cell_type": "code",
   "execution_count": 24,
   "id": "421904d4-b88c-4aa8-83da-3b6717df0f26",
   "metadata": {},
   "outputs": [
    {
     "data": {
      "image/png": "[encoded data removed]",
      "text/plain": [
       "<Figure size 640x480 with 1 Axes>"
      ]
     },
     "metadata": {},
     "output_type": "display_data"
    }
   ],
   "source": [
    "plt.plot(history.history[\"loss\"])\n",
    "plt.xlabel(\"epochs\")\n",
    "plt.ylabel(\"loss\")\n",
    "plt.show()"
   ]
  },
  {
   "cell_type": "code",
   "execution_count": null,
   "id": "0582fd31-6a1c-4b5a-9510-572b2fbd339b",
   "metadata": {},
   "outputs": [],
   "source": []
  },
  {
   "cell_type": "code",
   "execution_count": null,
   "id": "86a19df9-e0e7-4cbe-9ae9-ce8b0d8ee51a",
   "metadata": {},
   "outputs": [],
   "source": []
  },
  {
   "cell_type": "code",
   "execution_count": null,
   "id": "78e4f884-55b6-4842-b567-df6953a9e035",
   "metadata": {},
   "outputs": [],
   "source": []
  }
 ],
 "metadata": {
  "kernelspec": {
   "display_name": "Python 3 (ipykernel)",
   "language": "python",
   "name": "python3"
  },
  "language_info": {
   "codemirror_mode": {
    "name": "ipython",
    "version": 3
   },
   "file_extension": ".py",
   "mimetype": "text/x-python",
   "name": "python",
   "nbconvert_exporter": "python",
   "pygments_lexer": "ipython3",
   "version": "3.10.6"
  }
 },
 "nbformat": 4,
 "nbformat_minor": 5
}
