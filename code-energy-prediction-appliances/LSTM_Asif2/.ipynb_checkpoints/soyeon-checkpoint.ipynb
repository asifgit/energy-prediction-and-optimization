{
 "cells": [
  {
   "cell_type": "code",
   "execution_count": 1,
   "id": "bcd11997",
   "metadata": {},
   "outputs": [],
   "source": [
    "soyeonarray = [\n",
    "    1,3,7,9,10\n",
    "]"
   ]
  },
  {
   "cell_type": "code",
   "execution_count": 6,
   "id": "19f93e6f",
   "metadata": {},
   "outputs": [
    {
     "data": {
      "text/plain": [
       "[1, 3, 7, 9, 10]"
      ]
     },
     "execution_count": 6,
     "metadata": {},
     "output_type": "execute_result"
    }
   ],
   "source": [
    "soyeonarray"
   ]
  },
  {
   "cell_type": "code",
   "execution_count": 7,
   "id": "7c350c79",
   "metadata": {},
   "outputs": [
    {
     "data": {
      "text/plain": [
       "9"
      ]
     },
     "execution_count": 7,
     "metadata": {},
     "output_type": "execute_result"
    }
   ],
   "source": [
    "soyeonarray[3]"
   ]
  },
  {
   "cell_type": "code",
   "execution_count": null,
   "id": "8d62f97d",
   "metadata": {},
   "outputs": [],
   "source": []
  },
  {
   "cell_type": "code",
   "execution_count": 14,
   "id": "dda756bb",
   "metadata": {},
   "outputs": [],
   "source": [
    "soyeon_dictionary = {\n",
    "    \"one\" : 1,\n",
    "    \"price\" : 200000,\n",
    "    \"baeg\": 100,\n",
    "    \"personal-detail\" : {\n",
    "        \"name\" : \"Asif\",\n",
    "        \"age\": 31,\n",
    "    }\n",
    "}"
   ]
  },
  {
   "cell_type": "code",
   "execution_count": 15,
   "id": "040b6654",
   "metadata": {},
   "outputs": [
    {
     "data": {
      "text/plain": [
       "200000"
      ]
     },
     "execution_count": 15,
     "metadata": {},
     "output_type": "execute_result"
    }
   ],
   "source": [
    "soyeon_dictionary[\"price\"]"
   ]
  },
  {
   "cell_type": "code",
   "execution_count": null,
   "id": "1d480192",
   "metadata": {},
   "outputs": [],
   "source": []
  },
  {
   "cell_type": "code",
   "execution_count": 16,
   "id": "38e02a40",
   "metadata": {},
   "outputs": [
    {
     "name": "stdout",
     "output_type": "stream",
     "text": [
      "- one 1\n",
      "- price 200000\n",
      "- baeg 100\n",
      "- personal-detail {'name': 'Asif', 'age': 31}\n"
     ]
    }
   ],
   "source": [
    "for item in soyeon_dictionary:\n",
    "    print (\"-\", item, soyeon_dictionary[item])"
   ]
  },
  {
   "cell_type": "code",
   "execution_count": null,
   "id": "d9df340e",
   "metadata": {},
   "outputs": [],
   "source": []
  },
  {
   "cell_type": "code",
   "execution_count": 22,
   "id": "87154e86",
   "metadata": {},
   "outputs": [],
   "source": [
    "a = range(1,3)"
   ]
  },
  {
   "cell_type": "code",
   "execution_count": 23,
   "id": "a6c2489a",
   "metadata": {},
   "outputs": [
    {
     "name": "stdout",
     "output_type": "stream",
     "text": [
      "1\n",
      "2\n"
     ]
    }
   ],
   "source": [
    "for i in a:\n",
    "    print (i)"
   ]
  },
  {
   "cell_type": "code",
   "execution_count": null,
   "id": "a171d33b",
   "metadata": {},
   "outputs": [],
   "source": []
  }
 ],
 "metadata": {
  "kernelspec": {
   "display_name": "Python 3 (ipykernel)",
   "language": "python",
   "name": "python3"
  },
  "language_info": {
   "codemirror_mode": {
    "name": "ipython",
    "version": 3
   },
   "file_extension": ".py",
   "mimetype": "text/x-python",
   "name": "python",
   "nbconvert_exporter": "python",
   "pygments_lexer": "ipython3",
   "version": "3.10.6"
  }
 },
 "nbformat": 4,
 "nbformat_minor": 5
}
