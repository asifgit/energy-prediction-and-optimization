{
 "cells": [
  {
   "cell_type": "markdown",
   "id": "a25efeda-491c-4293-9b41-c1874a96a64e",
   "metadata": {
    "tags": []
   },
   "source": [
    "# Import Libraries"
   ]
  },
  {
   "cell_type": "code",
   "execution_count": 1,
   "id": "11c0c8eb-105b-4034-ba2d-902e6fc23171",
   "metadata": {},
   "outputs": [
    {
     "name": "stderr",
     "output_type": "stream",
     "text": [
      "/home/xsif/anaconda3/envs/env005_energypredappliances/lib/python3.10/site-packages/scipy/__init__.py:146: UserWarning: A NumPy version >=1.16.5 and <1.23.0 is required for this version of SciPy (detected version 1.23.4\n",
      "  warnings.warn(f\"A NumPy version >={np_minversion} and <{np_maxversion}\"\n",
      "playsound is relying on another python subprocess. Please use `pip install pygobject` if you want playsound to run more efficiently.\n"
     ]
    }
   ],
   "source": [
    "# OTHERS\n",
    "import os\n",
    "import math\n",
    "import calendar\n",
    "from math import sqrt\n",
    "# from datetime import datetime\n",
    "\n",
    "\n",
    "\n",
    "# PANDAS LIBRARIES\n",
    "from pandas import read_csv\n",
    "from pandas import Series\n",
    "from pandas import DataFrame\n",
    "from pandas import concat\n",
    "from pandas import to_datetime\n",
    "\n",
    "\n",
    "\n",
    "# NUMPY LIBRARIES\n",
    "import numpy as np\n",
    "\n",
    "\n",
    "\n",
    "# MATPLOTLIB LIBRARIES\n",
    "from matplotlib import pyplot as plt\n",
    "\n",
    "\n",
    "\n",
    "# SKLEARN LIBRARIES\n",
    "# from sklearn.model_selection import train_test_split\n",
    "from sklearn.model_selection import TimeSeriesSplit\n",
    "from sklearn.preprocessing import StandardScaler\n",
    "from sklearn.preprocessing import MinMaxScaler\n",
    "from sklearn.metrics import mean_squared_error\n",
    "\n",
    "\n",
    "\n",
    "# KERAS LIBRARIES\n",
    "from keras.models import Sequential\n",
    "from keras.layers import LSTM\n",
    "from keras.layers import Dense\n",
    "\n",
    "\n",
    "\n",
    "# SEABORN LIBRARIES\n",
    "from seaborn import heatmap\n",
    "\n",
    "\n",
    "\n",
    "# PLAYSOUND LIBRARIES\n",
    "from playsound import playsound"
   ]
  },
  {
   "cell_type": "markdown",
   "id": "2fa7f245-1131-43cd-864f-26109793c7a2",
   "metadata": {
    "tags": []
   },
   "source": [
    "# Initialize\n",
    "    - experiment type?\n",
    "        - experiment type parameters?\n",
    "    - dataset type?\n",
    "        - dataset type parameters?\n",
    "    - scale type?\n",
    "        - scale type parameters?\n",
    "    - categorize features/targets?\n",
    "    - directories\n",
    "    - filenames"
   ]
  },
  {
   "cell_type": "markdown",
   "id": "60637ab1-3f6d-49ed-a3b5-a6ee7e73cd78",
   "metadata": {},
   "source": [
    "## - experiment type - alldata, monthly, weekly, weekday, weekend, daily, hourly?"
   ]
  },
  {
   "cell_type": "markdown",
   "id": "d07a1e89-8a3b-4c36-8eea-2220722a43cb",
   "metadata": {},
   "source": [
    "    - We use 6 types of experiments which are performed over the period of 5 months differently. Each experiment differs with other(s) in its data patterns, duration, analysis, preprocessing. Firstly, we analyze the patterns over each month, week, weekdays and weekend of week, and day. After finding the patterns over separate experiments held, basic preprocessing filters are applied such as dropping the unnecessary features of the data. This is done by evaluating each feature's correlation with the target variable, i.e., appliance energy. In addition, the data is labeled as either a weekday or weekend. This enables the model to learn the energy pattern over weekdays and weekends, and perform better."
   ]
  },
  {
   "cell_type": "code",
   "execution_count": 2,
   "id": "73c88805-40ae-4d03-ac5a-2b7401cb76ae",
   "metadata": {},
   "outputs": [],
   "source": [
    "main_experiment = \"alldata\""
   ]
  },
  {
   "cell_type": "code",
   "execution_count": 3,
   "id": "52981a44-72b5-43c7-81f8-fb40f828f91c",
   "metadata": {},
   "outputs": [],
   "source": [
    "experiments = [main_experiment, \"monthly\", \"weekly\", \"weekday\", \"weekend\", \"daily\", \"hourly\", \"seasonal\"]\n",
    "# experiment = experiments[0]\n",
    "# experiment = experiments[1]\n",
    "# experiment = experiments[2]\n",
    "# experiment = experiments[3]\n",
    "# experiment = experiments[4]\n",
    "# experiment = experiments[5]\n",
    "experiment = experiments[6]\n",
    "# experiment = experiments[7]"
   ]
  },
  {
   "cell_type": "markdown",
   "id": "38d530ca-a708-4e63-9dbf-5f3d282639c7",
   "metadata": {},
   "source": [
    "### > experiment type parameters"
   ]
  },
  {
   "cell_type": "code",
   "execution_count": 4,
   "id": "5d632b9a-19a0-40a0-b0f7-a81d92c06544",
   "metadata": {},
   "outputs": [],
   "source": [
    "exp_months       = 0\n",
    "exp_months_start = 0\n",
    "exp_months_end   = 0\n",
    "\n",
    "exp_hours       = 0\n",
    "exp_hours_start = 0\n",
    "exp_hours_end   = 0\n",
    "exp_hours_month = 0\n",
    "exp_hours_day   = 0"
   ]
  },
  {
   "cell_type": "code",
   "execution_count": 5,
   "id": "fd17717c-ac70-4401-9d91-88630622fbe5",
   "metadata": {},
   "outputs": [
    {
     "name": "stdout",
     "output_type": "stream",
     "text": [
      "\n",
      "Experiment (hourly) parameters:\n",
      "- 24 hours data\n",
      "- 0 start hour\n",
      "- 23 end hour\n",
      "- 'March' month, day 1 data\n"
     ]
    }
   ],
   "source": [
    "print (\"\\nExperiment ({:}) parameters:\".format(experiment))\n",
    "if (experiment == experiments[0]): # alldata\n",
    "    print (\"- {:} yet\".format(\"N/A\"))\n",
    "elif (experiment == experiments[1]): # monthly\n",
    "    exp_months       = 5\n",
    "    exp_months_start = 1\n",
    "    exp_months_end   = ((exp_months_start + exp_months) - 1)\n",
    "    print (\"- {:} months data\".format(exp_months))\n",
    "    print (\"- '{:}' start month\".format(calendar.month_name[exp_months_start]))\n",
    "    print (\"- '{:}' end month\".format(calendar.month_name[exp_months_end]))\n",
    "elif (experiment == experiments[2]): # weekly\n",
    "    print (\"- {:} yet\".format(\"N/A\"))\n",
    "elif (experiment == experiments[3]): # weekday\n",
    "    print (\"- {:} yet\".format(\"N/A\"))\n",
    "elif (experiment == experiments[4]): # weekend\n",
    "    print (\"- {:} yet\".format(\"N/A\"))\n",
    "elif (experiment == experiments[5]): # daily\n",
    "    print (\"- {:} yet\".format(\"N/A\"))\n",
    "elif (experiment == experiments[6]): # hourly\n",
    "    exp_hours        = 24\n",
    "    exp_hours_start  = 0\n",
    "    exp_hours_end  = ((exp_hours_start + exp_hours) - 1)\n",
    "    exp_hours_month  = 3\n",
    "    exp_hours_day    = 1\n",
    "    print (\"- {:} hours data\".format(exp_hours))\n",
    "    print (\"- {:} start hour\".format(exp_hours_start))\n",
    "    print (\"- {:} end hour\".format(exp_hours_end))\n",
    "    print (\"- '{:}' month, day {:} data\".format(calendar.month_name[exp_hours_month], exp_hours_day))\n",
    "    # print (\"- {:} yet\".format(\"N/A\"))\n",
    "elif (experiment == experiments[7]): # seasonal\n",
    "    print (\"- {:} yet\".format(\"N/A\"))"
   ]
  },
  {
   "cell_type": "markdown",
   "id": "358e5e4d-ca2b-4361-ba5a-3a0b95ca0c43",
   "metadata": {},
   "source": [
    "## - dataset type - time-series (TS) or not-time-series (NTS)?"
   ]
  },
  {
   "cell_type": "markdown",
   "id": "8438f1b2-f366-4f5d-8ae2-0c2455c4592b",
   "metadata": {},
   "source": [
    "    - As this problem is a time-series, the training and testing is split into different sets, each set necessarily having the past data as training and remaining data as testing data. This is a very important consideration in time-series problem domain as it may have a huge impact on the performance of the model to be trained. For this, we used '50' number of splits over each experiment."
   ]
  },
  {
   "cell_type": "code",
   "execution_count": 6,
   "id": "b037ff88-af06-4450-bbb1-9b2bc7d272cf",
   "metadata": {},
   "outputs": [],
   "source": [
    "is_data_ts = True"
   ]
  },
  {
   "cell_type": "markdown",
   "id": "4eb2e95a-80e9-41fc-9f25-2d3fe5554410",
   "metadata": {},
   "source": [
    "### > dataset type parameters"
   ]
  },
  {
   "cell_type": "code",
   "execution_count": 7,
   "id": "f8317a82-78d0-42e1-a236-aea6564e40ca",
   "metadata": {},
   "outputs": [],
   "source": [
    "ts_n_splits = 0"
   ]
  },
  {
   "cell_type": "code",
   "execution_count": 8,
   "id": "ca6889ab-8f72-4c42-98c8-137fcf0233b4",
   "metadata": {},
   "outputs": [
    {
     "name": "stdout",
     "output_type": "stream",
     "text": [
      "\n",
      "Time-series (TS) parameters:\n",
      "- 10 splits\n"
     ]
    }
   ],
   "source": [
    "if (is_data_ts):\n",
    "    ts_n_splits = 10\n",
    "    print (\"\\nTime-series (TS) parameters:\")\n",
    "    print (\"- {:} splits\".format(ts_n_splits))\n",
    "elif (not is_data_ts):\n",
    "    print (\"\\nNot-time-series (NTS) parameters:\")"
   ]
  },
  {
   "cell_type": "markdown",
   "id": "e37cfec4-9775-4bf4-ba68-9b48680784b5",
   "metadata": {},
   "source": [
    "## - scale type - standard, minmax, none?"
   ]
  },
  {
   "cell_type": "markdown",
   "id": "693299c7-579a-410c-bf7b-f5de78af60f0",
   "metadata": {},
   "source": [
    "    - Scaling the feature is necessary, as the learning process may get affected. There are two widely scaling methods used, which are Standard and MinMax. We chose the MinMax for scaling the data features because it gives us better results. We configured the minimum and maximum value to be '-1' and '1', respectively."
   ]
  },
  {
   "cell_type": "code",
   "execution_count": 9,
   "id": "3e159b00-eb01-4d5d-9dc3-6d4160b3f0ad",
   "metadata": {},
   "outputs": [],
   "source": [
    "scalers = [\"standard\", \"minmax\", None]\n",
    "scaler = scalers[0]\n",
    "scaler = scalers[1] # do not change this\n",
    "# scaler = scalers[2]"
   ]
  },
  {
   "cell_type": "markdown",
   "id": "0daa26ff-8c5d-476d-be92-12be2c032f25",
   "metadata": {},
   "source": [
    "### > scale type parameters?"
   ]
  },
  {
   "cell_type": "code",
   "execution_count": 10,
   "id": "ce367762-6da7-4fd5-a71a-c3c17ea8ab51",
   "metadata": {},
   "outputs": [],
   "source": [
    "sc_min = 0\n",
    "sc_max = 0"
   ]
  },
  {
   "cell_type": "code",
   "execution_count": 11,
   "id": "9dfa6d42-5f6d-4050-9815-12d1abab3704",
   "metadata": {},
   "outputs": [
    {
     "name": "stdout",
     "output_type": "stream",
     "text": [
      "\n",
      "Scaling (MinMax) parameters:\n",
      "- -1 minimum\n",
      "- 1 minimum\n"
     ]
    }
   ],
   "source": [
    "if (scaler == \"standard\"):\n",
    "    print (\"\\nScaling (Standard) parameters:\")\n",
    "    print (\"- {:} yet\".format(\"N/A\"))\n",
    "elif (scaler == \"minmax\"):\n",
    "    sc_min = -1\n",
    "    sc_max = 1\n",
    "    print (\"\\nScaling (MinMax) parameters:\")\n",
    "    print (\"- {:} minimum\".format(sc_min))\n",
    "    print (\"- {:} minimum\".format(sc_max))\n",
    "elif (scaler == None):\n",
    "    print (\"\\nScaling (None) parameters:\")\n",
    "    print (\"- {:} yet\".format(\"N/A\"))"
   ]
  },
  {
   "cell_type": "markdown",
   "id": "a9d0af70-e9b4-410d-be3b-c60c09781542",
   "metadata": {},
   "source": [
    "## - categorize features/targets?"
   ]
  },
  {
   "cell_type": "markdown",
   "id": "626d954f-06fe-4d9c-83fe-e3f2717c662d",
   "metadata": {},
   "source": [
    "    - Within the data, we chose the attribute 'Appliances' as the target variable because it refers to the prediction output, i.e., appliance energy consumption, in the forecast. As the attributes associated with temperature, humidity, and weather conditions are known to have an impact on the energy consumption, So, we select these attributes from the dataset as the features"
   ]
  },
  {
   "cell_type": "code",
   "execution_count": 12,
   "id": "63ccace7-340c-4043-96ee-30ce5921e847",
   "metadata": {},
   "outputs": [],
   "source": [
    "col_time    = [\"date\"]\n",
    "\n",
    "col_temp    = [\"T1\", \"T2\", \"T3\", \"T4\", \"T5\", \"T6\", \"T7\", \"T8\", \"T9\"]\n",
    "\n",
    "col_hum     = [\"RH_1\", \"RH_2\", \"RH_3\", \"RH_4\" , \"RH_5\", \"RH_6\", \"RH_7\", \"RH_8\", \"RH_9\"]\n",
    "\n",
    "col_lights  = [\"lights\"]\n",
    "\n",
    "col_weather = [\"T_out\", \"Tdewpoint\", \"RH_out\", \"Press_mm_hg\", \"Windspeed\", \"Visibility\"] \n",
    "\n",
    "col_randoms = [\"rv1\", \"rv2\"]\n",
    "\n",
    "col_target  = [\"Appliances\"]"
   ]
  },
  {
   "cell_type": "markdown",
   "id": "4bd2cd41-9321-4d95-980d-d5d38150bc8d",
   "metadata": {},
   "source": [
    "## - directories - dataset, scale"
   ]
  },
  {
   "cell_type": "markdown",
   "id": "d999570d-85d0-46c9-8d19-e35e586620dc",
   "metadata": {},
   "source": [
    "### > set directory/subdirectory names"
   ]
  },
  {
   "cell_type": "code",
   "execution_count": 13,
   "id": "69b67b16-bcbf-4920-930f-542df1c9e804",
   "metadata": {},
   "outputs": [],
   "source": [
    "directory_mn = \"datasets/\"\n",
    "directory_ds = \"aep/\"\n",
    "directory_xp = \"xps/\"\n",
    "directory_x1 = \"{:}/\".format(experiment)\n",
    "directory_ts = \"\"\n",
    "directory_sc = \"\"\n",
    "\n",
    "if (is_data_ts):\n",
    "    directory_ts = \"ts/\"\n",
    "elif (not is_data_ts):\n",
    "    directory_ts = \"nts/\"\n",
    "\n",
    "if (scaler == \"standard\"):\n",
    "    directory_sc = \"standard/\"\n",
    "elif (scaler == \"minmax\"):\n",
    "    directory_sc = \"minmax/\"\n",
    "elif (True):\n",
    "    directory_sc = \"none/\""
   ]
  },
  {
   "cell_type": "code",
   "execution_count": 14,
   "id": "8216e690-3558-4e11-8b4a-e81c224f794c",
   "metadata": {},
   "outputs": [
    {
     "name": "stdout",
     "output_type": "stream",
     "text": [
      "- datasets/\n",
      "  - aep/\n",
      "    - xps/\n",
      "      - hourly/\n",
      "        - ts/\n",
      "          - minmax/\n"
     ]
    }
   ],
   "source": [
    "print (\"-\", directory_mn)\n",
    "print (\"  -\", directory_ds)\n",
    "print (\"    -\", directory_xp)\n",
    "print (\"      -\", directory_x1)\n",
    "print (\"        -\", directory_ts)\n",
    "print (\"          -\", directory_sc)"
   ]
  },
  {
   "cell_type": "markdown",
   "id": "f8f0f8b9-00cd-4185-a1be-59176077e6c6",
   "metadata": {},
   "source": [
    "### > create directories/subdirectories"
   ]
  },
  {
   "cell_type": "code",
   "execution_count": 15,
   "id": "1926a270-57f0-4273-a4a6-d4f6e42b687b",
   "metadata": {},
   "outputs": [
    {
     "name": "stdout",
     "output_type": "stream",
     "text": [
      "\n",
      "'datasets/aep/xps/hourly/ts/minmax/' directory is available now!\n",
      "\n"
     ]
    }
   ],
   "source": [
    "directory_final = \"{:}{:}{:}{:}{:}{:}\".format(\n",
    "    directory_mn,\n",
    "    directory_ds,\n",
    "    directory_xp,\n",
    "    directory_x1,\n",
    "    directory_ts,\n",
    "    directory_sc\n",
    ")\n",
    "os.makedirs(directory_final, exist_ok = True)\n",
    "print (\"\\n'{:}' directory is available now!\\n\".format(directory_final))"
   ]
  },
  {
   "cell_type": "markdown",
   "id": "4f7e51bc-8cdc-4d8b-a627-fd8e70ebb82a",
   "metadata": {},
   "source": [
    "## - filenames - load, store"
   ]
  },
  {
   "cell_type": "code",
   "execution_count": 16,
   "id": "c6590f4f-ee6f-4325-8bc0-f80576ed75cc",
   "metadata": {},
   "outputs": [],
   "source": [
    "filename_extension = \".csv\""
   ]
  },
  {
   "cell_type": "markdown",
   "id": "f86a3173-747d-4ce9-b948-09fc4e91cd39",
   "metadata": {},
   "source": [
    "### > set filename (to load)"
   ]
  },
  {
   "cell_type": "code",
   "execution_count": 17,
   "id": "6329c130-c955-4a2a-b3bf-d5750a2f71cc",
   "metadata": {},
   "outputs": [
    {
     "name": "stdout",
     "output_type": "stream",
     "text": [
      "\n",
      "'datasets/aep/dataset_a_alldata.csv' filename will be used for loading the dataset and preprocess it!\n",
      "\n"
     ]
    }
   ],
   "source": [
    "filename_ds = \"{:}{:}dataset_a_{:}.csv\".format(directory_mn, directory_ds, main_experiment)\n",
    "\n",
    "print (\"\\n'{:}' filename will be used for loading the dataset and preprocess it!\\n\".format(filename_ds))"
   ]
  },
  {
   "cell_type": "markdown",
   "id": "5a18a273-c3dd-427b-8305-845b3ede7d01",
   "metadata": {},
   "source": [
    "### > set filenames (to process/store)"
   ]
  },
  {
   "cell_type": "code",
   "execution_count": 18,
   "id": "8af62762-b619-425a-b934-b7e0956ff657",
   "metadata": {},
   "outputs": [],
   "source": [
    "filename_prp  = \"{:}preprocessed\".format(directory_final)\n",
    "\n",
    "filename_exp  = \"\"\n",
    "if (experiment == experiments[0]): # alldata\n",
    "    print (\"- {:} yet\".format(\"N/A\"))\n",
    "elif (experiment == experiments[1]): # monthly\n",
    "    filename_exp  = \"{:}monthlyss{:}\".format(directory_final, \"A2Z\")\n",
    "elif (experiment == experiments[2]): # weekly\n",
    "    print (\"- {:} yet\".format(\"N/A\"))\n",
    "elif (experiment == experiments[3]): # weekday\n",
    "    print (\"- {:} yet\".format(\"N/A\"))\n",
    "elif (experiment == experiments[4]): # weekend\n",
    "    print (\"- {:} yet\".format(\"N/A\"))\n",
    "elif (experiment == experiments[5]): # daily\n",
    "    print (\"- {:} yet\".format(\"N/A\"))\n",
    "elif (experiment == experiments[6]): # hourly\n",
    "    filename_exp  = \"{:}hourlysss{:}\".format(directory_final, \"A2Z\")\n",
    "elif (experiment == experiments[7]): # seasonal\n",
    "    print (\"- {:} yet\".format(\"N/A\"))\n",
    "\n",
    "filename_trn = \"{:}trainsssssss\".format(directory_final)\n",
    "filename_tst = \"{:}testssssssss\".format(directory_final)\n",
    "filename_ftr = \"{:}featuresssss\".format(directory_final)\n",
    "filename_trg = \"{:}targetssssss\".format(directory_final)\n",
    "\n",
    "filenames_trn = []\n",
    "filenames_tst = []\n",
    "filenames_ftr = []\n",
    "filenames_trg = []"
   ]
  },
  {
   "cell_type": "code",
   "execution_count": 19,
   "id": "fd13385c-08b8-49f9-9895-34ad98ad33b9",
   "metadata": {},
   "outputs": [
    {
     "name": "stdout",
     "output_type": "stream",
     "text": [
      "\n",
      "Filenames (TS):\n",
      "- Split # 1:\n",
      "  - datasets/aep/xps/hourly/ts/minmax/trainsssssss-1.csv\n",
      "  - datasets/aep/xps/hourly/ts/minmax/testssssssss-1.csv\n",
      "  - datasets/aep/xps/hourly/ts/minmax/featuresssss-1.csv\n",
      "  - datasets/aep/xps/hourly/ts/minmax/targetssssss-1.csv\n",
      "- Split # 2:\n",
      "  - datasets/aep/xps/hourly/ts/minmax/trainsssssss-2.csv\n",
      "  - datasets/aep/xps/hourly/ts/minmax/testssssssss-2.csv\n",
      "  - datasets/aep/xps/hourly/ts/minmax/featuresssss-2.csv\n",
      "  - datasets/aep/xps/hourly/ts/minmax/targetssssss-2.csv\n",
      "- Split # 3:\n",
      "  - datasets/aep/xps/hourly/ts/minmax/trainsssssss-3.csv\n",
      "  - datasets/aep/xps/hourly/ts/minmax/testssssssss-3.csv\n",
      "  - datasets/aep/xps/hourly/ts/minmax/featuresssss-3.csv\n",
      "  - datasets/aep/xps/hourly/ts/minmax/targetssssss-3.csv\n",
      "- Split # 4:\n",
      "  - datasets/aep/xps/hourly/ts/minmax/trainsssssss-4.csv\n",
      "  - datasets/aep/xps/hourly/ts/minmax/testssssssss-4.csv\n",
      "  - datasets/aep/xps/hourly/ts/minmax/featuresssss-4.csv\n",
      "  - datasets/aep/xps/hourly/ts/minmax/targetssssss-4.csv\n",
      "- Split # 5:\n",
      "  - datasets/aep/xps/hourly/ts/minmax/trainsssssss-5.csv\n",
      "  - datasets/aep/xps/hourly/ts/minmax/testssssssss-5.csv\n",
      "  - datasets/aep/xps/hourly/ts/minmax/featuresssss-5.csv\n",
      "  - datasets/aep/xps/hourly/ts/minmax/targetssssss-5.csv\n",
      "- Split # 6:\n",
      "  - datasets/aep/xps/hourly/ts/minmax/trainsssssss-6.csv\n",
      "  - datasets/aep/xps/hourly/ts/minmax/testssssssss-6.csv\n",
      "  - datasets/aep/xps/hourly/ts/minmax/featuresssss-6.csv\n",
      "  - datasets/aep/xps/hourly/ts/minmax/targetssssss-6.csv\n",
      "- Split # 7:\n",
      "  - datasets/aep/xps/hourly/ts/minmax/trainsssssss-7.csv\n",
      "  - datasets/aep/xps/hourly/ts/minmax/testssssssss-7.csv\n",
      "  - datasets/aep/xps/hourly/ts/minmax/featuresssss-7.csv\n",
      "  - datasets/aep/xps/hourly/ts/minmax/targetssssss-7.csv\n",
      "- Split # 8:\n",
      "  - datasets/aep/xps/hourly/ts/minmax/trainsssssss-8.csv\n",
      "  - datasets/aep/xps/hourly/ts/minmax/testssssssss-8.csv\n",
      "  - datasets/aep/xps/hourly/ts/minmax/featuresssss-8.csv\n",
      "  - datasets/aep/xps/hourly/ts/minmax/targetssssss-8.csv\n",
      "- Split # 9:\n",
      "  - datasets/aep/xps/hourly/ts/minmax/trainsssssss-9.csv\n",
      "  - datasets/aep/xps/hourly/ts/minmax/testssssssss-9.csv\n",
      "  - datasets/aep/xps/hourly/ts/minmax/featuresssss-9.csv\n",
      "  - datasets/aep/xps/hourly/ts/minmax/targetssssss-9.csv\n",
      "- Split # 10:\n",
      "  - datasets/aep/xps/hourly/ts/minmax/trainsssssss-10.csv\n",
      "  - datasets/aep/xps/hourly/ts/minmax/testssssssss-10.csv\n",
      "  - datasets/aep/xps/hourly/ts/minmax/featuresssss-10.csv\n",
      "  - datasets/aep/xps/hourly/ts/minmax/targetssssss-10.csv\n",
      "\n",
      "Prepare experiment filenames?\n",
      "- 'March' month, day 1 data (yes)\n",
      "\n",
      "Other filenames (TS/NTS):\n",
      "- preprocessed filename:\n",
      "  - datasets/aep/xps/hourly/ts/minmax/preprocessed.csv\n",
      "- experimental filenames:\n",
      "  - datasets/aep/xps/hourly/ts/minmax/hourlysss-00.csv\n",
      "  - datasets/aep/xps/hourly/ts/minmax/hourlysss-01.csv\n",
      "  - datasets/aep/xps/hourly/ts/minmax/hourlysss-02.csv\n",
      "  - datasets/aep/xps/hourly/ts/minmax/hourlysss-03.csv\n",
      "  - datasets/aep/xps/hourly/ts/minmax/hourlysss-04.csv\n",
      "  - datasets/aep/xps/hourly/ts/minmax/hourlysss-05.csv\n",
      "  - datasets/aep/xps/hourly/ts/minmax/hourlysss-06.csv\n",
      "  - datasets/aep/xps/hourly/ts/minmax/hourlysss-07.csv\n",
      "  - datasets/aep/xps/hourly/ts/minmax/hourlysss-08.csv\n",
      "  - datasets/aep/xps/hourly/ts/minmax/hourlysss-09.csv\n",
      "  - datasets/aep/xps/hourly/ts/minmax/hourlysss-10.csv\n",
      "  - datasets/aep/xps/hourly/ts/minmax/hourlysss-11.csv\n",
      "  - datasets/aep/xps/hourly/ts/minmax/hourlysss-12.csv\n",
      "  - datasets/aep/xps/hourly/ts/minmax/hourlysss-13.csv\n",
      "  - datasets/aep/xps/hourly/ts/minmax/hourlysss-14.csv\n",
      "  - datasets/aep/xps/hourly/ts/minmax/hourlysss-15.csv\n",
      "  - datasets/aep/xps/hourly/ts/minmax/hourlysss-16.csv\n",
      "  - datasets/aep/xps/hourly/ts/minmax/hourlysss-17.csv\n",
      "  - datasets/aep/xps/hourly/ts/minmax/hourlysss-18.csv\n",
      "  - datasets/aep/xps/hourly/ts/minmax/hourlysss-19.csv\n",
      "  - datasets/aep/xps/hourly/ts/minmax/hourlysss-20.csv\n",
      "  - datasets/aep/xps/hourly/ts/minmax/hourlysss-21.csv\n",
      "  - datasets/aep/xps/hourly/ts/minmax/hourlysss-22.csv\n",
      "  - datasets/aep/xps/hourly/ts/minmax/hourlysss-23.csv\n"
     ]
    }
   ],
   "source": [
    "if (is_data_ts):\n",
    "    print (\"\\nFilenames (TS):\")\n",
    "    for split in range(1, ts_n_splits+1):\n",
    "        split_filename_trn = \"{:}-{:}{:}\".format(filename_trn, split, filename_extension)\n",
    "        split_filename_tst = \"{:}-{:}{:}\".format(filename_tst, split, filename_extension)\n",
    "        split_filename_ftr = \"{:}-{:}{:}\".format(filename_ftr, split, filename_extension)\n",
    "        split_filename_trg = \"{:}-{:}{:}\".format(filename_trg, split, filename_extension)\n",
    "        \n",
    "        filenames_trn.append(split_filename_trn)\n",
    "        filenames_tst.append(split_filename_tst)\n",
    "        filenames_ftr.append(split_filename_ftr)\n",
    "        filenames_trg.append(split_filename_trg)\n",
    "        \n",
    "        print (\"- Split # {:}:\".format(split))\n",
    "        print (\"  - {:}\".format(split_filename_trn))\n",
    "        print (\"  - {:}\".format(split_filename_tst))\n",
    "        print (\"  - {:}\".format(split_filename_ftr))\n",
    "        print (\"  - {:}\".format(split_filename_trg))\n",
    "elif (not is_data_ts):\n",
    "    print (\"\\nFilenames (NTS):\")\n",
    "    split_filename_trn = \"{:}{:}\".format(filename_trn, filename_extension)\n",
    "    split_filename_tst = \"{:}{:}\".format(filename_tst, filename_extension)\n",
    "    split_filename_ftr = \"{:}{:}\".format(filename_ftr, filename_extension)\n",
    "    split_filename_trg = \"{:}{:}\".format(filename_trg, filename_extension)\n",
    "    print (\" - {:}\".format(split_filename_trn))\n",
    "    print (\" - {:}\".format(split_filename_tst))\n",
    "    print (\" - {:}\".format(split_filename_ftr))\n",
    "    print (\" - {:}\".format(split_filename_trg))\n",
    "\n",
    "filename_prp_final  = \"{:}{:}\".format(filename_prp, filename_extension)\n",
    "filenames_exp_final = []\n",
    "\n",
    "print (\"\\nPrepare experiment filenames?\")\n",
    "if (experiment == experiments[0]): #alldata\n",
    "    print (\"- {:} yet\".format(\"N/A\"))\n",
    "elif (experiment == experiments[1]): #monthly:\n",
    "    print (\"- {:} month data (yes)\".format(exp_months))\n",
    "    for exp_month in range(exp_months_start, exp_months_end+1):\n",
    "        filename_exp_postfix = \"-\" + str(exp_month).zfill(2)\n",
    "        filename_exp_final   = \"{:}{:}\".format(filename_exp, filename_extension).replace(\"A2Z\", filename_exp_postfix)\n",
    "        filenames_exp_final.append(filename_exp_final)\n",
    "elif (experiment == experiments[2]): # weekly\n",
    "    print (\"- {:} yet\".format(\"N/A\"))\n",
    "elif (experiment == experiments[3]): # weekday\n",
    "    print (\"- {:} yet\".format(\"N/A\"))\n",
    "elif (experiment == experiments[4]): # weekend\n",
    "    print (\"- {:} yet\".format(\"N/A\"))\n",
    "elif (experiment == experiments[5]): # daily\n",
    "    print (\"- {:} yet\".format(\"N/A\"))\n",
    "elif (experiment == experiments[6]): # hourly\n",
    "    print (\"- '{:}' month, day {:} data (yes)\".format(calendar.month_name[exp_hours_month], exp_hours_day))\n",
    "    for exp_hour in range(exp_hours_start, exp_hours_end+1):\n",
    "        filename_exp_postfix = \"-\" + str(exp_hour).zfill(2)\n",
    "        filename_exp_final   = \"{:}{:}\".format(filename_exp, filename_extension).replace(\"A2Z\", filename_exp_postfix)\n",
    "        filenames_exp_final.append(filename_exp_final)\n",
    "elif (experiment == experiments[7]): # seasonal\n",
    "    print (\"- {:} yet\".format(\"N/A\"))\n",
    "    \n",
    "print (\"\\nOther filenames (TS/NTS):\")\n",
    "print (\"- preprocessed filename:\")\n",
    "print (\"  - {:}\".format(filename_prp_final))\n",
    "print (\"- experimental filenames:\\n  - \", end = \"\")\n",
    "print (\"\\n  - \".join(filenames_exp_final))"
   ]
  },
  {
   "cell_type": "markdown",
   "id": "ac4a0784-9f22-4a21-908c-7ec1f9f94a66",
   "metadata": {
    "tags": []
   },
   "source": [
    "# 1. Load the dataset"
   ]
  },
  {
   "cell_type": "code",
   "execution_count": 20,
   "id": "6b1dc8d8-36eb-4e4b-9281-650ed7ceba67",
   "metadata": {},
   "outputs": [],
   "source": [
    "df = read_csv(filename_ds)"
   ]
  },
  {
   "cell_type": "code",
   "execution_count": 21,
   "id": "b3c13aa0-1612-464f-b1c2-eea7c2fed86b",
   "metadata": {},
   "outputs": [
    {
     "data": {
      "text/html": [
       "<div>\n",
       "<style scoped>\n",
       "    .dataframe tbody tr th:only-of-type {\n",
       "        vertical-align: middle;\n",
       "    }\n",
       "\n",
       "    .dataframe tbody tr th {\n",
       "        vertical-align: top;\n",
       "    }\n",
       "\n",
       "    .dataframe thead th {\n",
       "        text-align: right;\n",
       "    }\n",
       "</style>\n",
       "<table border=\"1\" class=\"dataframe\">\n",
       "  <thead>\n",
       "    <tr style=\"text-align: right;\">\n",
       "      <th></th>\n",
       "      <th>date</th>\n",
       "      <th>Appliances</th>\n",
       "      <th>lights</th>\n",
       "      <th>T1</th>\n",
       "      <th>RH_1</th>\n",
       "      <th>T2</th>\n",
       "      <th>RH_2</th>\n",
       "      <th>T3</th>\n",
       "      <th>RH_3</th>\n",
       "      <th>T4</th>\n",
       "      <th>...</th>\n",
       "      <th>T9</th>\n",
       "      <th>RH_9</th>\n",
       "      <th>T_out</th>\n",
       "      <th>Press_mm_hg</th>\n",
       "      <th>RH_out</th>\n",
       "      <th>Windspeed</th>\n",
       "      <th>Visibility</th>\n",
       "      <th>Tdewpoint</th>\n",
       "      <th>rv1</th>\n",
       "      <th>rv2</th>\n",
       "    </tr>\n",
       "  </thead>\n",
       "  <tbody>\n",
       "    <tr>\n",
       "      <th>0</th>\n",
       "      <td>2016-01-11 17:00:00</td>\n",
       "      <td>60</td>\n",
       "      <td>30</td>\n",
       "      <td>19.9</td>\n",
       "      <td>47.6</td>\n",
       "      <td>19.2</td>\n",
       "      <td>44.8</td>\n",
       "      <td>19.8</td>\n",
       "      <td>44.7</td>\n",
       "      <td>19.0</td>\n",
       "      <td>...</td>\n",
       "      <td>17.0</td>\n",
       "      <td>45.5</td>\n",
       "      <td>6.6</td>\n",
       "      <td>733.5</td>\n",
       "      <td>92.0</td>\n",
       "      <td>7.0</td>\n",
       "      <td>63.0</td>\n",
       "      <td>5.3</td>\n",
       "      <td>13.3</td>\n",
       "      <td>13.3</td>\n",
       "    </tr>\n",
       "    <tr>\n",
       "      <th>1</th>\n",
       "      <td>2016-01-11 17:10:00</td>\n",
       "      <td>60</td>\n",
       "      <td>30</td>\n",
       "      <td>19.9</td>\n",
       "      <td>46.7</td>\n",
       "      <td>19.2</td>\n",
       "      <td>44.7</td>\n",
       "      <td>19.8</td>\n",
       "      <td>44.8</td>\n",
       "      <td>19.0</td>\n",
       "      <td>...</td>\n",
       "      <td>17.1</td>\n",
       "      <td>45.6</td>\n",
       "      <td>6.5</td>\n",
       "      <td>733.6</td>\n",
       "      <td>92.0</td>\n",
       "      <td>6.7</td>\n",
       "      <td>59.2</td>\n",
       "      <td>5.2</td>\n",
       "      <td>18.6</td>\n",
       "      <td>18.6</td>\n",
       "    </tr>\n",
       "    <tr>\n",
       "      <th>2</th>\n",
       "      <td>2016-01-11 17:20:00</td>\n",
       "      <td>50</td>\n",
       "      <td>30</td>\n",
       "      <td>19.9</td>\n",
       "      <td>46.3</td>\n",
       "      <td>19.2</td>\n",
       "      <td>44.6</td>\n",
       "      <td>19.8</td>\n",
       "      <td>44.9</td>\n",
       "      <td>18.9</td>\n",
       "      <td>...</td>\n",
       "      <td>17.0</td>\n",
       "      <td>45.5</td>\n",
       "      <td>6.4</td>\n",
       "      <td>733.7</td>\n",
       "      <td>92.0</td>\n",
       "      <td>6.3</td>\n",
       "      <td>55.3</td>\n",
       "      <td>5.1</td>\n",
       "      <td>28.6</td>\n",
       "      <td>28.6</td>\n",
       "    </tr>\n",
       "    <tr>\n",
       "      <th>3</th>\n",
       "      <td>2016-01-11 17:30:00</td>\n",
       "      <td>50</td>\n",
       "      <td>40</td>\n",
       "      <td>19.9</td>\n",
       "      <td>46.1</td>\n",
       "      <td>19.2</td>\n",
       "      <td>44.6</td>\n",
       "      <td>19.8</td>\n",
       "      <td>45.0</td>\n",
       "      <td>18.9</td>\n",
       "      <td>...</td>\n",
       "      <td>17.0</td>\n",
       "      <td>45.4</td>\n",
       "      <td>6.2</td>\n",
       "      <td>733.8</td>\n",
       "      <td>92.0</td>\n",
       "      <td>6.0</td>\n",
       "      <td>51.5</td>\n",
       "      <td>5.0</td>\n",
       "      <td>45.4</td>\n",
       "      <td>45.4</td>\n",
       "    </tr>\n",
       "    <tr>\n",
       "      <th>4</th>\n",
       "      <td>2016-01-11 17:40:00</td>\n",
       "      <td>60</td>\n",
       "      <td>40</td>\n",
       "      <td>19.9</td>\n",
       "      <td>46.3</td>\n",
       "      <td>19.2</td>\n",
       "      <td>44.5</td>\n",
       "      <td>19.8</td>\n",
       "      <td>45.0</td>\n",
       "      <td>18.9</td>\n",
       "      <td>...</td>\n",
       "      <td>17.0</td>\n",
       "      <td>45.4</td>\n",
       "      <td>6.1</td>\n",
       "      <td>733.9</td>\n",
       "      <td>92.0</td>\n",
       "      <td>5.7</td>\n",
       "      <td>47.7</td>\n",
       "      <td>4.9</td>\n",
       "      <td>10.1</td>\n",
       "      <td>10.1</td>\n",
       "    </tr>\n",
       "  </tbody>\n",
       "</table>\n",
       "<p>5 rows × 29 columns</p>\n",
       "</div>"
      ],
      "text/plain": [
       "                  date  Appliances  lights    T1  RH_1    T2  RH_2    T3  \\\n",
       "0  2016-01-11 17:00:00          60      30  19.9  47.6  19.2  44.8  19.8   \n",
       "1  2016-01-11 17:10:00          60      30  19.9  46.7  19.2  44.7  19.8   \n",
       "2  2016-01-11 17:20:00          50      30  19.9  46.3  19.2  44.6  19.8   \n",
       "3  2016-01-11 17:30:00          50      40  19.9  46.1  19.2  44.6  19.8   \n",
       "4  2016-01-11 17:40:00          60      40  19.9  46.3  19.2  44.5  19.8   \n",
       "\n",
       "   RH_3    T4  ...    T9  RH_9  T_out  Press_mm_hg  RH_out  Windspeed  \\\n",
       "0  44.7  19.0  ...  17.0  45.5    6.6        733.5    92.0        7.0   \n",
       "1  44.8  19.0  ...  17.1  45.6    6.5        733.6    92.0        6.7   \n",
       "2  44.9  18.9  ...  17.0  45.5    6.4        733.7    92.0        6.3   \n",
       "3  45.0  18.9  ...  17.0  45.4    6.2        733.8    92.0        6.0   \n",
       "4  45.0  18.9  ...  17.0  45.4    6.1        733.9    92.0        5.7   \n",
       "\n",
       "   Visibility  Tdewpoint   rv1   rv2  \n",
       "0        63.0        5.3  13.3  13.3  \n",
       "1        59.2        5.2  18.6  18.6  \n",
       "2        55.3        5.1  28.6  28.6  \n",
       "3        51.5        5.0  45.4  45.4  \n",
       "4        47.7        4.9  10.1  10.1  \n",
       "\n",
       "[5 rows x 29 columns]"
      ]
     },
     "execution_count": 21,
     "metadata": {},
     "output_type": "execute_result"
    }
   ],
   "source": [
    "df.head().round(1)"
   ]
  },
  {
   "cell_type": "markdown",
   "id": "a5b9bc1e-dd3a-405f-8bc4-acf83d3a0034",
   "metadata": {
    "tags": []
   },
   "source": [
    "# 2. Analyze and Preprocess the dataset"
   ]
  },
  {
   "cell_type": "markdown",
   "id": "9582ff0e-a91b-467a-a99b-32f549387447",
   "metadata": {
    "tags": []
   },
   "source": [
    "## - rows (records), columns (feature(s) and target(s))"
   ]
  },
  {
   "cell_type": "code",
   "execution_count": 22,
   "id": "fec14992-24f1-4447-9895-0314e4a99f9e",
   "metadata": {},
   "outputs": [
    {
     "name": "stdout",
     "output_type": "stream",
     "text": [
      "\n",
      "Dataset contains\n",
      " - Rows:\t19735\n",
      " - Columns:\t29\n",
      "   -  \"date\", \"Appliances\", \"lights\", \"T1\", \"RH_1\", \"T2\", \"RH_2\", \"T3\"\n",
      "   -  \"RH_3\", \"T4\", \"RH_4\", \"T5\", \"RH_5\", \"T6\", \"RH_6\", \"T7\"\n",
      "   -  \"RH_7\", \"T8\", \"RH_8\", \"T9\", \"RH_9\", \"T_out\", \"Press_mm_hg\", \"RH_out\"\n",
      "   -  \"Windspeed\", \"Visibility\", \"Tdewpoint\", \"rv1\", \"rv2\"\n"
     ]
    }
   ],
   "source": [
    "print (\n",
    "    \"\\nDataset contains\\n - Rows:\\t{:}\\n - Columns:\\t{:}\".format(df.shape[0], df.shape[1])\n",
    ")\n",
    "for i in range(0, len(df.columns), 8):\n",
    "    print (\"   - \", \", \".join([\"\\\"{:}\\\"\".format(i) for i in df.columns[i:i+8]]))"
   ]
  },
  {
   "cell_type": "markdown",
   "id": "a04467e0-a0e0-4678-859c-a3ef9db4a7f7",
   "metadata": {},
   "source": [
    "## - analyze/check the number of nulls"
   ]
  },
  {
   "cell_type": "code",
   "execution_count": 23,
   "id": "15dcbf8f-0ff8-4e50-90e2-0c279c8d8dd9",
   "metadata": {},
   "outputs": [
    {
     "name": "stdout",
     "output_type": "stream",
     "text": [
      "date           0\n",
      "Tdewpoint      0\n",
      "Visibility     0\n",
      "Windspeed      0\n",
      "RH_out         0\n",
      "Press_mm_hg    0\n",
      "T_out          0\n",
      "RH_9           0\n",
      "T9             0\n",
      "RH_8           0\n",
      "T8             0\n",
      "RH_7           0\n",
      "T7             0\n",
      "rv1            0\n",
      "RH_6           0\n",
      "RH_5           0\n",
      "T5             0\n",
      "RH_4           0\n",
      "T4             0\n",
      "RH_3           0\n",
      "T3             0\n",
      "RH_2           0\n",
      "T2             0\n",
      "RH_1           0\n",
      "T1             0\n",
      "lights         0\n",
      "Appliances     0\n",
      "T6             0\n",
      "rv2            0\n",
      "dtype: int64\n"
     ]
    }
   ],
   "source": [
    "print (df.isnull().sum().sort_values(ascending = True))"
   ]
  },
  {
   "cell_type": "markdown",
   "id": "dd4f13d1-85da-4af1-8ee7-c57cdd4199cc",
   "metadata": {},
   "source": [
    "## - preprocess (fill in) the number of nulls"
   ]
  },
  {
   "cell_type": "markdown",
   "id": "92144e2b-663d-45b4-bba2-d9aa5071165a",
   "metadata": {},
   "source": [
    "    - From the analysis of nulls in the feature set, we found out that there are no nulls in the dataset. So, by this analysis, we conclude that the data has no gaps. Hence, referring to continuous data."
   ]
  },
  {
   "cell_type": "code",
   "execution_count": 24,
   "id": "fe8dfae8-9be2-4bec-ae3d-e9d87390d8be",
   "metadata": {},
   "outputs": [
    {
     "name": "stdout",
     "output_type": "stream",
     "text": [
      "\n",
      "No nulls (no need to remove nulls)!\n",
      "\n"
     ]
    }
   ],
   "source": [
    "if(\n",
    "    df.isnull().sum().sort_values(ascending = True).min() == 0\n",
    "    and df.isnull().sum().sort_values(ascending = True).max() == 0\n",
    "):\n",
    "    print (\"\\nNo nulls (no need to remove nulls)!\\n\")\n",
    "else:\n",
    "    print (\"\\nNulls exist (need to remove nulls)!\\n\")"
   ]
  },
  {
   "cell_type": "markdown",
   "id": "bb9b82f5-55fa-4be6-8ea1-303ef43af619",
   "metadata": {},
   "source": [
    "## - analyze/check the number of zeros (column value counts)"
   ]
  },
  {
   "cell_type": "markdown",
   "id": "9be223bb-50ea-4b53-8c6b-adbcd3fe24b0",
   "metadata": {},
   "source": [
    "    - From the analysis of zero valued counts in the feature set, we found out that the feature 'lights' has '15252' zeros in the data which is a very much number, and needs to be removed from the feature set. This analysis shows that the feature 'light' has no impact on the appliance energy consumption. So, it needs to be dropped from the feature set."
   ]
  },
  {
   "cell_type": "code",
   "execution_count": 25,
   "id": "118a2020-c59e-48ae-8d9c-454ac5056eff",
   "metadata": {},
   "outputs": [
    {
     "name": "stdout",
     "output_type": "stream",
     "text": [
      " - Too many \"19735\" value counts in column \"date\".\n",
      " - Too many \"92\" value counts in column \"Appliances\".\n",
      "\n",
      " - column \"lights\" has a few value counts, unique items, i.e., \"8 <= 26\".\n",
      "   - So, the \"lights\" column has:\n",
      "     - 15252\t0's\n",
      "     - 2212\t10's\n",
      "     - 1624\t20's\n",
      "     - 559\t30's\n",
      "     - 77\t40's\n",
      "     - 9\t50's\n",
      "     - 1\t70's\n",
      "     - 1\t60's\n",
      "\n",
      " - Too many \"722\" value counts in column \"T1\".\n",
      " - Too many \"2547\" value counts in column \"RH_1\".\n",
      " - Too many \"1650\" value counts in column \"T2\".\n",
      " - Too many \"3376\" value counts in column \"RH_2\".\n",
      " - Too many \"1426\" value counts in column \"T3\".\n",
      " - Too many \"2618\" value counts in column \"RH_3\".\n",
      " - Too many \"1390\" value counts in column \"T4\".\n",
      " - Too many \"2987\" value counts in column \"RH_4\".\n",
      " - Too many \"2263\" value counts in column \"T5\".\n",
      " - Too many \"7571\" value counts in column \"RH_5\".\n",
      " - Too many \"4446\" value counts in column \"T6\".\n",
      " - Too many \"9709\" value counts in column \"RH_6\".\n",
      " - Too many \"1955\" value counts in column \"T7\".\n",
      " - Too many \"5891\" value counts in column \"RH_7\".\n",
      " - Too many \"2228\" value counts in column \"T8\".\n",
      " - Too many \"6649\" value counts in column \"RH_8\".\n",
      " - Too many \"924\" value counts in column \"T9\".\n",
      " - Too many \"3388\" value counts in column \"RH_9\".\n",
      " - Too many \"1730\" value counts in column \"T_out\".\n",
      " - Too many \"2189\" value counts in column \"Press_mm_hg\".\n",
      " - Too many \"566\" value counts in column \"RH_out\".\n",
      " - Too many \"189\" value counts in column \"Windspeed\".\n",
      " - Too many \"413\" value counts in column \"Visibility\".\n",
      " - Too many \"1409\" value counts in column \"Tdewpoint\".\n",
      " - Too many \"19735\" value counts in column \"rv1\".\n",
      " - Too many \"19735\" value counts in column \"rv2\".\n"
     ]
    }
   ],
   "source": [
    "max_unique_vals_allowed = 26\n",
    "for col in df.columns:\n",
    "    value_counts = df[col].value_counts()\n",
    "    if (len(value_counts) <= max_unique_vals_allowed):\n",
    "        print (\"\\n - column \\\"{:}\\\" has a few value counts, unique items, i.e., \\\"{:} <= {:}\\\".\\n   - So, the \\\"{:}\\\" column has:\".format(\n",
    "            col, len(value_counts), max_unique_vals_allowed, col\n",
    "        ))\n",
    "        print (\"\\n\".join([\"     - {:}\\t{:}'s\".format(v, i) for i, v in df[col].value_counts().iteritems()]))\n",
    "        print (\"\")\n",
    "    else:\n",
    "        print (\" - Too many \\\"{:}\\\" value counts in column \\\"{:}\\\".\".format(len(value_counts), col, max_unique_vals_allowed))"
   ]
  },
  {
   "cell_type": "markdown",
   "id": "e06cafa9-0918-42ff-9c75-ee0c9a03dce1",
   "metadata": {},
   "source": [
    "## - preprocess (drop) the number of zeros (i.e., unnecessary columns: lights)"
   ]
  },
  {
   "cell_type": "code",
   "execution_count": 26,
   "id": "4688fdf2-edc4-4ae2-8842-546b4b825f45",
   "metadata": {},
   "outputs": [
    {
     "name": "stdout",
     "output_type": "stream",
     "text": [
      "\n",
      "Dropping column(s):\n",
      " - \"lights\" ...\n",
      "\n",
      "Done!\n",
      "\n"
     ]
    }
   ],
   "source": [
    "columns_to_drop_now = [\"lights\"]\n",
    "\n",
    "print (\"\\nDropping column(s):\")\n",
    "for col in columns_to_drop_now:\n",
    "    print (\" - \\\"{:}\\\" ...\".format(col))\n",
    "    df.drop([col], axis=1 , inplace= True)\n",
    "print (\"\\nDone!\\n\")"
   ]
  },
  {
   "cell_type": "code",
   "execution_count": 27,
   "id": "1c60a944-e732-4238-9fd1-d3337cf6549b",
   "metadata": {},
   "outputs": [
    {
     "data": {
      "text/html": [
       "<div>\n",
       "<style scoped>\n",
       "    .dataframe tbody tr th:only-of-type {\n",
       "        vertical-align: middle;\n",
       "    }\n",
       "\n",
       "    .dataframe tbody tr th {\n",
       "        vertical-align: top;\n",
       "    }\n",
       "\n",
       "    .dataframe thead th {\n",
       "        text-align: right;\n",
       "    }\n",
       "</style>\n",
       "<table border=\"1\" class=\"dataframe\">\n",
       "  <thead>\n",
       "    <tr style=\"text-align: right;\">\n",
       "      <th></th>\n",
       "      <th>date</th>\n",
       "      <th>Appliances</th>\n",
       "      <th>T1</th>\n",
       "      <th>RH_1</th>\n",
       "      <th>T2</th>\n",
       "      <th>RH_2</th>\n",
       "      <th>T3</th>\n",
       "      <th>RH_3</th>\n",
       "      <th>T4</th>\n",
       "      <th>RH_4</th>\n",
       "      <th>...</th>\n",
       "      <th>T9</th>\n",
       "      <th>RH_9</th>\n",
       "      <th>T_out</th>\n",
       "      <th>Press_mm_hg</th>\n",
       "      <th>RH_out</th>\n",
       "      <th>Windspeed</th>\n",
       "      <th>Visibility</th>\n",
       "      <th>Tdewpoint</th>\n",
       "      <th>rv1</th>\n",
       "      <th>rv2</th>\n",
       "    </tr>\n",
       "  </thead>\n",
       "  <tbody>\n",
       "    <tr>\n",
       "      <th>0</th>\n",
       "      <td>2016-01-11 17:00:00</td>\n",
       "      <td>60</td>\n",
       "      <td>19.9</td>\n",
       "      <td>47.6</td>\n",
       "      <td>19.2</td>\n",
       "      <td>44.8</td>\n",
       "      <td>19.8</td>\n",
       "      <td>44.7</td>\n",
       "      <td>19.0</td>\n",
       "      <td>45.6</td>\n",
       "      <td>...</td>\n",
       "      <td>17.0</td>\n",
       "      <td>45.5</td>\n",
       "      <td>6.6</td>\n",
       "      <td>733.5</td>\n",
       "      <td>92.0</td>\n",
       "      <td>7.0</td>\n",
       "      <td>63.0</td>\n",
       "      <td>5.3</td>\n",
       "      <td>13.3</td>\n",
       "      <td>13.3</td>\n",
       "    </tr>\n",
       "    <tr>\n",
       "      <th>1</th>\n",
       "      <td>2016-01-11 17:10:00</td>\n",
       "      <td>60</td>\n",
       "      <td>19.9</td>\n",
       "      <td>46.7</td>\n",
       "      <td>19.2</td>\n",
       "      <td>44.7</td>\n",
       "      <td>19.8</td>\n",
       "      <td>44.8</td>\n",
       "      <td>19.0</td>\n",
       "      <td>46.0</td>\n",
       "      <td>...</td>\n",
       "      <td>17.1</td>\n",
       "      <td>45.6</td>\n",
       "      <td>6.5</td>\n",
       "      <td>733.6</td>\n",
       "      <td>92.0</td>\n",
       "      <td>6.7</td>\n",
       "      <td>59.2</td>\n",
       "      <td>5.2</td>\n",
       "      <td>18.6</td>\n",
       "      <td>18.6</td>\n",
       "    </tr>\n",
       "    <tr>\n",
       "      <th>2</th>\n",
       "      <td>2016-01-11 17:20:00</td>\n",
       "      <td>50</td>\n",
       "      <td>19.9</td>\n",
       "      <td>46.3</td>\n",
       "      <td>19.2</td>\n",
       "      <td>44.6</td>\n",
       "      <td>19.8</td>\n",
       "      <td>44.9</td>\n",
       "      <td>18.9</td>\n",
       "      <td>45.9</td>\n",
       "      <td>...</td>\n",
       "      <td>17.0</td>\n",
       "      <td>45.5</td>\n",
       "      <td>6.4</td>\n",
       "      <td>733.7</td>\n",
       "      <td>92.0</td>\n",
       "      <td>6.3</td>\n",
       "      <td>55.3</td>\n",
       "      <td>5.1</td>\n",
       "      <td>28.6</td>\n",
       "      <td>28.6</td>\n",
       "    </tr>\n",
       "    <tr>\n",
       "      <th>3</th>\n",
       "      <td>2016-01-11 17:30:00</td>\n",
       "      <td>50</td>\n",
       "      <td>19.9</td>\n",
       "      <td>46.1</td>\n",
       "      <td>19.2</td>\n",
       "      <td>44.6</td>\n",
       "      <td>19.8</td>\n",
       "      <td>45.0</td>\n",
       "      <td>18.9</td>\n",
       "      <td>45.7</td>\n",
       "      <td>...</td>\n",
       "      <td>17.0</td>\n",
       "      <td>45.4</td>\n",
       "      <td>6.2</td>\n",
       "      <td>733.8</td>\n",
       "      <td>92.0</td>\n",
       "      <td>6.0</td>\n",
       "      <td>51.5</td>\n",
       "      <td>5.0</td>\n",
       "      <td>45.4</td>\n",
       "      <td>45.4</td>\n",
       "    </tr>\n",
       "    <tr>\n",
       "      <th>4</th>\n",
       "      <td>2016-01-11 17:40:00</td>\n",
       "      <td>60</td>\n",
       "      <td>19.9</td>\n",
       "      <td>46.3</td>\n",
       "      <td>19.2</td>\n",
       "      <td>44.5</td>\n",
       "      <td>19.8</td>\n",
       "      <td>45.0</td>\n",
       "      <td>18.9</td>\n",
       "      <td>45.5</td>\n",
       "      <td>...</td>\n",
       "      <td>17.0</td>\n",
       "      <td>45.4</td>\n",
       "      <td>6.1</td>\n",
       "      <td>733.9</td>\n",
       "      <td>92.0</td>\n",
       "      <td>5.7</td>\n",
       "      <td>47.7</td>\n",
       "      <td>4.9</td>\n",
       "      <td>10.1</td>\n",
       "      <td>10.1</td>\n",
       "    </tr>\n",
       "  </tbody>\n",
       "</table>\n",
       "<p>5 rows × 28 columns</p>\n",
       "</div>"
      ],
      "text/plain": [
       "                  date  Appliances    T1  RH_1    T2  RH_2    T3  RH_3    T4  \\\n",
       "0  2016-01-11 17:00:00          60  19.9  47.6  19.2  44.8  19.8  44.7  19.0   \n",
       "1  2016-01-11 17:10:00          60  19.9  46.7  19.2  44.7  19.8  44.8  19.0   \n",
       "2  2016-01-11 17:20:00          50  19.9  46.3  19.2  44.6  19.8  44.9  18.9   \n",
       "3  2016-01-11 17:30:00          50  19.9  46.1  19.2  44.6  19.8  45.0  18.9   \n",
       "4  2016-01-11 17:40:00          60  19.9  46.3  19.2  44.5  19.8  45.0  18.9   \n",
       "\n",
       "   RH_4  ...    T9  RH_9  T_out  Press_mm_hg  RH_out  Windspeed  Visibility  \\\n",
       "0  45.6  ...  17.0  45.5    6.6        733.5    92.0        7.0        63.0   \n",
       "1  46.0  ...  17.1  45.6    6.5        733.6    92.0        6.7        59.2   \n",
       "2  45.9  ...  17.0  45.5    6.4        733.7    92.0        6.3        55.3   \n",
       "3  45.7  ...  17.0  45.4    6.2        733.8    92.0        6.0        51.5   \n",
       "4  45.5  ...  17.0  45.4    6.1        733.9    92.0        5.7        47.7   \n",
       "\n",
       "   Tdewpoint   rv1   rv2  \n",
       "0        5.3  13.3  13.3  \n",
       "1        5.2  18.6  18.6  \n",
       "2        5.1  28.6  28.6  \n",
       "3        5.0  45.4  45.4  \n",
       "4        4.9  10.1  10.1  \n",
       "\n",
       "[5 rows x 28 columns]"
      ]
     },
     "execution_count": 27,
     "metadata": {},
     "output_type": "execute_result"
    }
   ],
   "source": [
    "df.head().round(1)"
   ]
  },
  {
   "cell_type": "markdown",
   "id": "37c9fec4-df9b-4215-88af-3e682280b3f5",
   "metadata": {},
   "source": [
    "## - analyze/check the correlation of dataset"
   ]
  },
  {
   "cell_type": "markdown",
   "id": "69e5b01c-c847-487d-b317-a5f66959522b",
   "metadata": {},
   "source": [
    "### > initializing features/targets"
   ]
  },
  {
   "cell_type": "code",
   "execution_count": 28,
   "id": "b79f8686-d10b-441d-8ef5-a8b522947056",
   "metadata": {},
   "outputs": [],
   "source": [
    "col_features = col_time + col_temp + col_hum + col_weather + col_randoms\n",
    "feature_vars = df[ col_features ].copy(deep = True)\n",
    "targets_vars = df[ col_target ].copy(deep = True)"
   ]
  },
  {
   "cell_type": "markdown",
   "id": "23fddf66-a8a5-43b1-8de9-5dd533d0ce8d",
   "metadata": {},
   "source": [
    "### > displaying features/targets details"
   ]
  },
  {
   "cell_type": "code",
   "execution_count": 29,
   "id": "0ea2ec08-d436-440c-9635-6650736fd774",
   "metadata": {},
   "outputs": [
    {
     "name": "stdout",
     "output_type": "stream",
     "text": [
      "\n",
      "Features:\n",
      " - Rows: 19735\n",
      " - Columns: 27\n",
      "   -  \"date\", \"T1\", \"T2\", \"T3\", \"T4\", \"T5\", \"T6\"\n",
      "   -  \"T7\", \"T8\", \"T9\", \"RH_1\", \"RH_2\", \"RH_3\", \"RH_4\"\n",
      "   -  \"RH_5\", \"RH_6\", \"RH_7\", \"RH_8\", \"RH_9\", \"T_out\", \"Tdewpoint\"\n",
      "   -  \"RH_out\", \"Press_mm_hg\", \"Windspeed\", \"Visibility\", \"rv1\", \"rv2\"\n",
      "\n",
      "Targets:\n",
      " - Rows: 19735\n",
      " - Columns: 1\n",
      "   -  \"Appliances\"\n",
      "\n"
     ]
    }
   ],
   "source": [
    "rec_features = len(feature_vars)\n",
    "num_features = len(col_features)\n",
    "print (\n",
    "    \"\\nFeatures:\\n - Rows: {:}\\n - Columns: {:}\".format(rec_features, num_features)\n",
    ")\n",
    "for i in range(0, num_features, 7):\n",
    "    print (\"   - \", \", \".join([\"\\\"{:}\\\"\".format(i) for i in col_features[i:i+7]]))\n",
    "\n",
    "rec_targets = len(targets_vars)\n",
    "num_targets = len(col_target)\n",
    "print (\n",
    "    \"\\nTargets:\\n - Rows: {:}\\n - Columns: {:}\".format(rec_targets, num_targets)\n",
    ")\n",
    "for i in range(0, num_targets, 5):\n",
    "    print (\"   - \", \", \".join([\"\\\"{:}\\\"\".format(i) for i in col_target[i:i+5]]))\n",
    "print (\"\")"
   ]
  },
  {
   "cell_type": "markdown",
   "id": "b20c99f7-866e-44f0-afa2-ead37e6e57a8",
   "metadata": {},
   "source": [
    "### > correltion analysis"
   ]
  },
  {
   "cell_type": "code",
   "execution_count": 30,
   "id": "9f3193de-37cf-4957-9cc1-f76a3ca7c6bb",
   "metadata": {},
   "outputs": [],
   "source": [
    "cols_corr = list(df.columns)\n",
    "cols_corr.remove(\"date\")\n",
    "cols_corr.insert(len(cols_corr), cols_corr.pop(cols_corr.index(\"Appliances\")))\n",
    "\n",
    "df_corr = df[ cols_corr ]\n",
    "corr = df_corr.corr()"
   ]
  },
  {
   "cell_type": "markdown",
   "id": "191b36ae-1da1-48ca-bb25-bd73ef97f30f",
   "metadata": {},
   "source": [
    "#### = low score features"
   ]
  },
  {
   "cell_type": "code",
   "execution_count": 31,
   "id": "ca92d411-8fae-44f8-9689-2bf5d176bc71",
   "metadata": {},
   "outputs": [],
   "source": [
    "corr_filter_min = 0.02\n",
    "corr_filtered_low = corr[[\"Appliances\"]].round(3).copy(deep = True)\n",
    "corr_filtered_low = corr_filtered_low[\n",
    "    abs(corr_filtered_low[\"Appliances\"]) < corr_filter_min\n",
    "]"
   ]
  },
  {
   "cell_type": "code",
   "execution_count": 32,
   "id": "080bd247-7fe9-4628-9603-9a153a76f99f",
   "metadata": {},
   "outputs": [
    {
     "name": "stdout",
     "output_type": "stream",
     "text": [
      "\n",
      "Below shown columns need to be dropped (due to low score)\n",
      "- ['RH_4', 'RH_5', 'T9', 'Visibility', 'Tdewpoint', 'rv1', 'rv2']\n"
     ]
    }
   ],
   "source": [
    "corr_filtered_low_to_del = list(corr_filtered_low.index)\n",
    "print (\"\\nBelow shown columns need to be dropped (due to low score)\")\n",
    "print (\"-\", corr_filtered_low_to_del)"
   ]
  },
  {
   "cell_type": "markdown",
   "id": "4dbb3975-b783-4971-8ba7-9f04eec43899",
   "metadata": {},
   "source": [
    "#### = redundant features"
   ]
  },
  {
   "cell_type": "code",
   "execution_count": 33,
   "id": "29aa87fc-b298-4db3-b3f0-f7be5680f7c1",
   "metadata": {},
   "outputs": [],
   "source": [
    "corr_filter_red = 0.95\n",
    "corr_filtered_red = corr.round(3).copy(deep = True)\n",
    "corr_filtered_red = corr_filtered_red[\n",
    "    (abs(corr_filtered_red) > corr_filter_red)\n",
    "]"
   ]
  },
  {
   "cell_type": "code",
   "execution_count": 34,
   "id": "66b5e17d-3c9e-4e19-9d3e-ace3a6f9550e",
   "metadata": {},
   "outputs": [
    {
     "name": "stdout",
     "output_type": "stream",
     "text": [
      "\n",
      "Either of these need to be dropped: ['T6', 'T_out', 'rv1', 'rv2']\n",
      "\n"
     ]
    }
   ],
   "source": [
    "corr_filter_red_list = []\n",
    "\n",
    "for corr_filtered_red_col in corr_filtered_red.columns:\n",
    "    corr_filter_red_drop = 0\n",
    "    for value in corr_filtered_red[corr_filtered_red_col]:\n",
    "        if (not math.isnan(value)):\n",
    "            corr_filter_red_drop += 1\n",
    "    if (corr_filter_red_drop > 1):\n",
    "        corr_filter_red_list.append(corr_filtered_red_col)\n",
    "print (\"\\nEither of these need to be dropped: {:}\\n\".format(corr_filter_red_list))"
   ]
  },
  {
   "cell_type": "code",
   "execution_count": 35,
   "id": "0a971898-3e9a-4812-8715-3c81c61b90be",
   "metadata": {},
   "outputs": [
    {
     "name": "stdout",
     "output_type": "stream",
     "text": [
      "\n",
      "Above statement says to:\n",
      "- delete either T6 or T_out\n",
      "- delete either rv1 or rv2\n",
      "\n",
      "As we are deleting rv1 and rv2 both due to their scores, just ignore them\n",
      "So, either delete 'T6' or 'T_out'.\n",
      "\n"
     ]
    }
   ],
   "source": [
    "print (\"\\nAbove statement says to:\\n- delete either T6 or T_out\\n- delete either rv1 or rv2\")\n",
    "print (\"\\nAs we are deleting rv1 and rv2 both due to their scores, just ignore them\")\n",
    "print (\"So, either delete 'T6' or 'T_out'.\")\n",
    "print (\"\")"
   ]
  },
  {
   "cell_type": "code",
   "execution_count": 36,
   "id": "33a8a20a-22c6-497d-9b08-9ee560478ea7",
   "metadata": {},
   "outputs": [
    {
     "name": "stdout",
     "output_type": "stream",
     "text": [
      "\n",
      "Below shown columns need to be dropped (due to redundancy)\n",
      "- ['T6']\n"
     ]
    }
   ],
   "source": [
    "corr_filtered_red_to_del = [\"T6\"]\n",
    "print (\"\\nBelow shown columns need to be dropped (due to redundancy)\")\n",
    "print (\"-\", corr_filtered_red_to_del)"
   ]
  },
  {
   "cell_type": "markdown",
   "id": "dab2c4d5-236f-472a-b1b5-de4ca6d07d11",
   "metadata": {},
   "source": [
    "#### = correlation graph - visualize low score and redundant features"
   ]
  },
  {
   "cell_type": "code",
   "execution_count": 37,
   "id": "6dbd11e4-d102-49f7-8d15-bdb8759f2e0b",
   "metadata": {},
   "outputs": [
    {
     "name": "stderr",
     "output_type": "stream",
     "text": [
      "/tmp/ipykernel_2777120/1999619302.py:4: DeprecationWarning: `np.bool` is a deprecated alias for the builtin `bool`. To silence this warning, use `bool` by itself. Doing this will not modify any behavior and is safe. If you specifically wanted the numpy scalar type, use `np.bool_` here.\n",
      "Deprecated in NumPy 1.20; for more details and guidance: https://numpy.org/devdocs/release/1.20.0-notes.html#deprecations\n",
      "  dtype = np.bool\n"
     ]
    },
    {
     "data": {
      "image/png": "[encoded data removed]",
      "text/plain": [
       "<Figure size 1600x1400 with 2 Axes>"
      ]
     },
     "metadata": {},
     "output_type": "display_data"
    }
   ],
   "source": [
    "# Mask the repeated values\n",
    "mask = np.zeros_like(\n",
    "    corr,\n",
    "    dtype = np.bool\n",
    ")\n",
    "mask[np.triu_indices_from(mask)] = True\n",
    "\n",
    "# plotting via matplotlib\n",
    "f, ax = plt.subplots(figsize=(16, 14))\n",
    "\n",
    "# Generate Heat Map, allow annotations and place floats in map\n",
    "heatmap(\n",
    "    corr,\n",
    "    annot = True,\n",
    "    fmt = \".2f\",\n",
    "    mask = mask,\n",
    "    cmap = \"Greens\"\n",
    ")\n",
    "\n",
    "# Apply xticks and yticks\n",
    "plt.xticks(\n",
    "    range(len(corr.columns)),\n",
    "    corr.columns\n",
    ")\n",
    "plt.yticks(\n",
    "    range(len(corr.columns)),\n",
    "    corr.columns\n",
    ")\n",
    "plt.show()"
   ]
  },
  {
   "cell_type": "markdown",
   "id": "f71f621a-be8d-4020-9f1f-1d28cf74db00",
   "metadata": {},
   "source": [
    "    - From the correlation analysis, it can be seen that the appliance relation to the feature set is given in the last row of this figure. It can be seen that the values having a very low impact over the appliance energy consumption are 'RH_4', 'RH_5', 'T9', 'Visibility', 'Tdewpoint', 'rv1', and 'rv2'. There are several reasons of these features having such a low impact on the appliance energy consumption.\n",
    "\n",
    "    - 'RH_4' and 'RH_5' refer to the humidity measures of office and bath room where the energy enhancement can not be made much at homes. So dropping this feature will not affect the energy forecast performance. In addition to this, as 'T9' is the parents room, and there is not much energy consumption in that room, so it can also be dropped. Similarly, 'Visibility' and 'Dew-point' are also dropped due to ther no impact over the appliance energy consumption.\n",
    "\n",
    "    - As the 'T6' and 'T_out' both refer to the outdoor temperature of that area. So, one of these features can be removed. It is numerically shown in the correlation graph where the 'T6' and 'T_out' cross each other to have a value of 0.97, which shows the similarity of both features. This is called redundancy, which is a necessary part of the preprocessing dataset."
   ]
  },
  {
   "cell_type": "markdown",
   "id": "f1ad3912-86f1-4f66-9f38-79740bf61429",
   "metadata": {},
   "source": [
    "## - preprocess (drop) columns based on correlation analysis"
   ]
  },
  {
   "cell_type": "code",
   "execution_count": 38,
   "id": "0589ca94-ac5c-42a7-8687-25e145740456",
   "metadata": {},
   "outputs": [
    {
     "name": "stdout",
     "output_type": "stream",
     "text": [
      "\n",
      "Columns that need to be removed are:\n",
      "- ['RH_4', 'RH_5', 'T9', 'Visibility', 'Tdewpoint', 'rv1', 'rv2']\n",
      "   - (due to low impact)\n",
      "- ['T6']\n",
      "   - (due to redundancy)\n"
     ]
    }
   ],
   "source": [
    "drop_cols_corr = corr_filtered_low_to_del + corr_filtered_red_to_del\n",
    "print (\"\\nColumns that need to be removed are:\")\n",
    "print (\"- {:}\\n   - (due to low impact)\".format(corr_filtered_low_to_del))\n",
    "print (\"- {:}\\n   - (due to redundancy)\".format(corr_filtered_red_to_del))"
   ]
  },
  {
   "cell_type": "markdown",
   "id": "48020bc4-6d2a-42e0-be41-7618109cee46",
   "metadata": {},
   "source": [
    "### > dropping both low impact and redundant columns"
   ]
  },
  {
   "cell_type": "code",
   "execution_count": 39,
   "id": "e76b558e-2b94-4da9-bf71-40e6b499c26c",
   "metadata": {},
   "outputs": [],
   "source": [
    "df.drop(\n",
    "    drop_cols_corr,\n",
    "    axis = 1,\n",
    "    inplace = True\n",
    ")"
   ]
  },
  {
   "cell_type": "code",
   "execution_count": 40,
   "id": "63f3779a-5b87-40a8-9b88-0a46f5d182ca",
   "metadata": {},
   "outputs": [
    {
     "data": {
      "text/html": [
       "<div>\n",
       "<style scoped>\n",
       "    .dataframe tbody tr th:only-of-type {\n",
       "        vertical-align: middle;\n",
       "    }\n",
       "\n",
       "    .dataframe tbody tr th {\n",
       "        vertical-align: top;\n",
       "    }\n",
       "\n",
       "    .dataframe thead th {\n",
       "        text-align: right;\n",
       "    }\n",
       "</style>\n",
       "<table border=\"1\" class=\"dataframe\">\n",
       "  <thead>\n",
       "    <tr style=\"text-align: right;\">\n",
       "      <th></th>\n",
       "      <th>date</th>\n",
       "      <th>Appliances</th>\n",
       "      <th>T1</th>\n",
       "      <th>RH_1</th>\n",
       "      <th>T2</th>\n",
       "      <th>RH_2</th>\n",
       "      <th>T3</th>\n",
       "      <th>RH_3</th>\n",
       "      <th>T4</th>\n",
       "      <th>T5</th>\n",
       "      <th>RH_6</th>\n",
       "      <th>T7</th>\n",
       "      <th>RH_7</th>\n",
       "      <th>T8</th>\n",
       "      <th>RH_8</th>\n",
       "      <th>RH_9</th>\n",
       "      <th>T_out</th>\n",
       "      <th>Press_mm_hg</th>\n",
       "      <th>RH_out</th>\n",
       "      <th>Windspeed</th>\n",
       "    </tr>\n",
       "  </thead>\n",
       "  <tbody>\n",
       "    <tr>\n",
       "      <th>0</th>\n",
       "      <td>2016-01-11 17:00:00</td>\n",
       "      <td>60</td>\n",
       "      <td>19.9</td>\n",
       "      <td>47.6</td>\n",
       "      <td>19.2</td>\n",
       "      <td>44.8</td>\n",
       "      <td>19.8</td>\n",
       "      <td>44.7</td>\n",
       "      <td>19.0</td>\n",
       "      <td>17.2</td>\n",
       "      <td>84.3</td>\n",
       "      <td>17.2</td>\n",
       "      <td>41.6</td>\n",
       "      <td>18.2</td>\n",
       "      <td>48.9</td>\n",
       "      <td>45.5</td>\n",
       "      <td>6.6</td>\n",
       "      <td>733.5</td>\n",
       "      <td>92.0</td>\n",
       "      <td>7.0</td>\n",
       "    </tr>\n",
       "    <tr>\n",
       "      <th>1</th>\n",
       "      <td>2016-01-11 17:10:00</td>\n",
       "      <td>60</td>\n",
       "      <td>19.9</td>\n",
       "      <td>46.7</td>\n",
       "      <td>19.2</td>\n",
       "      <td>44.7</td>\n",
       "      <td>19.8</td>\n",
       "      <td>44.8</td>\n",
       "      <td>19.0</td>\n",
       "      <td>17.2</td>\n",
       "      <td>84.1</td>\n",
       "      <td>17.2</td>\n",
       "      <td>41.6</td>\n",
       "      <td>18.2</td>\n",
       "      <td>48.9</td>\n",
       "      <td>45.6</td>\n",
       "      <td>6.5</td>\n",
       "      <td>733.6</td>\n",
       "      <td>92.0</td>\n",
       "      <td>6.7</td>\n",
       "    </tr>\n",
       "    <tr>\n",
       "      <th>2</th>\n",
       "      <td>2016-01-11 17:20:00</td>\n",
       "      <td>50</td>\n",
       "      <td>19.9</td>\n",
       "      <td>46.3</td>\n",
       "      <td>19.2</td>\n",
       "      <td>44.6</td>\n",
       "      <td>19.8</td>\n",
       "      <td>44.9</td>\n",
       "      <td>18.9</td>\n",
       "      <td>17.2</td>\n",
       "      <td>83.2</td>\n",
       "      <td>17.2</td>\n",
       "      <td>41.4</td>\n",
       "      <td>18.2</td>\n",
       "      <td>48.7</td>\n",
       "      <td>45.5</td>\n",
       "      <td>6.4</td>\n",
       "      <td>733.7</td>\n",
       "      <td>92.0</td>\n",
       "      <td>6.3</td>\n",
       "    </tr>\n",
       "    <tr>\n",
       "      <th>3</th>\n",
       "      <td>2016-01-11 17:30:00</td>\n",
       "      <td>50</td>\n",
       "      <td>19.9</td>\n",
       "      <td>46.1</td>\n",
       "      <td>19.2</td>\n",
       "      <td>44.6</td>\n",
       "      <td>19.8</td>\n",
       "      <td>45.0</td>\n",
       "      <td>18.9</td>\n",
       "      <td>17.2</td>\n",
       "      <td>83.4</td>\n",
       "      <td>17.1</td>\n",
       "      <td>41.3</td>\n",
       "      <td>18.1</td>\n",
       "      <td>48.6</td>\n",
       "      <td>45.4</td>\n",
       "      <td>6.2</td>\n",
       "      <td>733.8</td>\n",
       "      <td>92.0</td>\n",
       "      <td>6.0</td>\n",
       "    </tr>\n",
       "    <tr>\n",
       "      <th>4</th>\n",
       "      <td>2016-01-11 17:40:00</td>\n",
       "      <td>60</td>\n",
       "      <td>19.9</td>\n",
       "      <td>46.3</td>\n",
       "      <td>19.2</td>\n",
       "      <td>44.5</td>\n",
       "      <td>19.8</td>\n",
       "      <td>45.0</td>\n",
       "      <td>18.9</td>\n",
       "      <td>17.2</td>\n",
       "      <td>84.9</td>\n",
       "      <td>17.2</td>\n",
       "      <td>41.2</td>\n",
       "      <td>18.1</td>\n",
       "      <td>48.6</td>\n",
       "      <td>45.4</td>\n",
       "      <td>6.1</td>\n",
       "      <td>733.9</td>\n",
       "      <td>92.0</td>\n",
       "      <td>5.7</td>\n",
       "    </tr>\n",
       "  </tbody>\n",
       "</table>\n",
       "</div>"
      ],
      "text/plain": [
       "                  date  Appliances    T1  RH_1    T2  RH_2    T3  RH_3    T4  \\\n",
       "0  2016-01-11 17:00:00          60  19.9  47.6  19.2  44.8  19.8  44.7  19.0   \n",
       "1  2016-01-11 17:10:00          60  19.9  46.7  19.2  44.7  19.8  44.8  19.0   \n",
       "2  2016-01-11 17:20:00          50  19.9  46.3  19.2  44.6  19.8  44.9  18.9   \n",
       "3  2016-01-11 17:30:00          50  19.9  46.1  19.2  44.6  19.8  45.0  18.9   \n",
       "4  2016-01-11 17:40:00          60  19.9  46.3  19.2  44.5  19.8  45.0  18.9   \n",
       "\n",
       "     T5  RH_6    T7  RH_7    T8  RH_8  RH_9  T_out  Press_mm_hg  RH_out  \\\n",
       "0  17.2  84.3  17.2  41.6  18.2  48.9  45.5    6.6        733.5    92.0   \n",
       "1  17.2  84.1  17.2  41.6  18.2  48.9  45.6    6.5        733.6    92.0   \n",
       "2  17.2  83.2  17.2  41.4  18.2  48.7  45.5    6.4        733.7    92.0   \n",
       "3  17.2  83.4  17.1  41.3  18.1  48.6  45.4    6.2        733.8    92.0   \n",
       "4  17.2  84.9  17.2  41.2  18.1  48.6  45.4    6.1        733.9    92.0   \n",
       "\n",
       "   Windspeed  \n",
       "0        7.0  \n",
       "1        6.7  \n",
       "2        6.3  \n",
       "3        6.0  \n",
       "4        5.7  "
      ]
     },
     "execution_count": 40,
     "metadata": {},
     "output_type": "execute_result"
    }
   ],
   "source": [
    "df.head().round(1)"
   ]
  },
  {
   "cell_type": "markdown",
   "id": "9be892a0-2c82-4b1a-8879-e28f1ebb07e8",
   "metadata": {},
   "source": [
    "### > storing processed dataset"
   ]
  },
  {
   "cell_type": "code",
   "execution_count": 41,
   "id": "4d334f7c-193b-4e95-bde8-02898b2330a5",
   "metadata": {},
   "outputs": [],
   "source": [
    "df.to_csv(filename_prp_final, index = False)"
   ]
  },
  {
   "cell_type": "markdown",
   "id": "222b20dd-e539-4fca-beaf-9f8201a8318c",
   "metadata": {},
   "source": [
    "# 3. Preparing experiment data"
   ]
  },
  {
   "cell_type": "markdown",
   "id": "fb6ea321-3251-4ac0-90a5-dd840fb3e0e8",
   "metadata": {},
   "source": [
    "    - The 6 experiments are performed over the data. Each experiment uses a different perspective of the data, i.e., monthly, weekly, weekdays, weekend, daily, hourly. Analyzing these patterns enable us to view the appliance energy consumption over different perspectives, which leads us to get better results in terms of prediction or forecast of energy. In addition, it also can be used enable us the target the areas where the optimization of appliance energy needs to be enhanced.\n",
    "\n",
    "    - As it is known that the 'Winter' season starts in the month of December and ends in the end of February. From March, the 'Autumn' starts and ends in the month of May. So, based on the season aspect, there are low appliance energy consumption in 'Autumn' as compared to the 'Winter'. This shows that the energy optimization needs to be primarily/differently focused on 'Winter' data, and differently over the 'Autumn' season.\n",
    "\n",
    "    - Similarly, the patterns of moth-wise are found which reflect that the month of January, February, March, April, and May contains 2922, 4176, 4464, 4320, and 3853 records, respectively. The analysis over each month is made which shows that it has patterns of appliance energy utilization for the months of January and February are low as compared to the months of March, April, and May. This urges the need of another different approach of weighing the time-series models to get better performance of the model.\n",
    "\n",
    "    - Similarly, for the month of January and February, the weekly analysis is made where it shows that during the winter breaks and specially weekends, the the appliance energy consumption is found to be very high. Hence, focusing on the weekends of winter break may allow us save more energy by finding patterns of the data. The analysis each weekend during winter breaks, the energy patterns of appliance energy utilization can be reduced by the optimal control of temperature of temperature and humidity through actuators/devices.\n",
    "\n",
    "    - On hourly basis, the energy patterns are very high in the late night time in 'Winters' as compared to the night time in 'Autumn' season. This analysis shows the consumption to be very high in night time. So, on hourly basis, we can save energy at night time."
   ]
  },
  {
   "cell_type": "code",
   "execution_count": 42,
   "id": "615d5bc4-5902-4b32-861e-8cdaf2575b86",
   "metadata": {
    "tags": []
   },
   "outputs": [
    {
     "name": "stdout",
     "output_type": "stream",
     "text": [
      "\n",
      "Preparing experiment files?\n",
      "- N/A yet\n",
      "- 'March' month, day 1 data (yes)\n",
      "  - Hour '0':\tdatasets/aep/xps/hourly/ts/minmax/hourlysss-00.csv \n",
      "    - stored 6 records\n",
      "  - Hour '1':\tdatasets/aep/xps/hourly/ts/minmax/hourlysss-01.csv \n",
      "    - stored 6 records\n",
      "  - Hour '2':\tdatasets/aep/xps/hourly/ts/minmax/hourlysss-02.csv \n",
      "    - stored 6 records\n",
      "  - Hour '3':\tdatasets/aep/xps/hourly/ts/minmax/hourlysss-03.csv \n",
      "    - stored 6 records\n",
      "  - Hour '4':\tdatasets/aep/xps/hourly/ts/minmax/hourlysss-04.csv \n",
      "    - stored 6 records\n",
      "  - Hour '5':\tdatasets/aep/xps/hourly/ts/minmax/hourlysss-05.csv \n",
      "    - stored 6 records\n",
      "  - Hour '6':\tdatasets/aep/xps/hourly/ts/minmax/hourlysss-06.csv \n",
      "    - stored 6 records\n",
      "  - Hour '7':\tdatasets/aep/xps/hourly/ts/minmax/hourlysss-07.csv \n",
      "    - stored 6 records\n",
      "  - Hour '8':\tdatasets/aep/xps/hourly/ts/minmax/hourlysss-08.csv \n",
      "    - stored 6 records\n",
      "  - Hour '9':\tdatasets/aep/xps/hourly/ts/minmax/hourlysss-09.csv \n",
      "    - stored 6 records\n",
      "  - Hour '10':\tdatasets/aep/xps/hourly/ts/minmax/hourlysss-10.csv \n",
      "    - stored 6 records\n",
      "  - Hour '11':\tdatasets/aep/xps/hourly/ts/minmax/hourlysss-11.csv \n",
      "    - stored 6 records\n",
      "  - Hour '12':\tdatasets/aep/xps/hourly/ts/minmax/hourlysss-12.csv \n",
      "    - stored 6 records\n",
      "  - Hour '13':\tdatasets/aep/xps/hourly/ts/minmax/hourlysss-13.csv \n",
      "    - stored 6 records\n",
      "  - Hour '14':\tdatasets/aep/xps/hourly/ts/minmax/hourlysss-14.csv \n",
      "    - stored 6 records\n",
      "  - Hour '15':\tdatasets/aep/xps/hourly/ts/minmax/hourlysss-15.csv \n",
      "    - stored 6 records\n",
      "  - Hour '16':\tdatasets/aep/xps/hourly/ts/minmax/hourlysss-16.csv \n",
      "    - stored 6 records\n",
      "  - Hour '17':\tdatasets/aep/xps/hourly/ts/minmax/hourlysss-17.csv \n",
      "    - stored 6 records\n",
      "  - Hour '18':\tdatasets/aep/xps/hourly/ts/minmax/hourlysss-18.csv \n",
      "    - stored 6 records\n",
      "  - Hour '19':\tdatasets/aep/xps/hourly/ts/minmax/hourlysss-19.csv \n",
      "    - stored 6 records\n",
      "  - Hour '20':\tdatasets/aep/xps/hourly/ts/minmax/hourlysss-20.csv \n",
      "    - stored 6 records\n",
      "  - Hour '21':\tdatasets/aep/xps/hourly/ts/minmax/hourlysss-21.csv \n",
      "    - stored 6 records\n",
      "  - Hour '22':\tdatasets/aep/xps/hourly/ts/minmax/hourlysss-22.csv \n",
      "    - stored 6 records\n",
      "  - Hour '23':\tdatasets/aep/xps/hourly/ts/minmax/hourlysss-23.csv \n",
      "    - stored 6 records\n",
      "\n",
      "Done (stored 144)!\n"
     ]
    }
   ],
   "source": [
    "print (\"\\nPreparing experiment files?\")\n",
    "if (is_data_ts):\n",
    "    if (experiment == experiments[0]): #alldata\n",
    "        print (\"- {:} yet\".format(\"N/A\"))\n",
    "    elif (experiment == experiments[1]): #monthly:\n",
    "        print (\"- {:} month data (yes)\".format(exp_month))\n",
    "        df_exp_len_all = 0\n",
    "        for exp_month in range(exp_months_start, exp_months_end+1):\n",
    "            df_exp = df.copy(deep = True)\n",
    "            df_exp.set_index([\"date\"], inplace = True)\n",
    "            df_exp.index = to_datetime(df_exp.index)\n",
    "            df_exp = df_exp[\n",
    "                df_exp.index.month == exp_month\n",
    "            ]\n",
    "            df_exp.to_csv(filenames_exp_final[exp_month-1], index = True)\n",
    "            df_exp_len = len(df_exp)\n",
    "            df_exp_len_all += df_exp_len\n",
    "            print (\"  - Month '{:}':\\t{:} \".format(calendar.month_name[exp_month], filenames_exp_final[exp_month-1]))\n",
    "            print (\"    - stored {:} records\".format(df_exp_len))\n",
    "    elif (experiment == experiments[2]): # weekly\n",
    "        print (\"- {:} yet\".format(\"N/A\"))\n",
    "    elif (experiment == experiments[3]): # weekday\n",
    "        print (\"- {:} yet\".format(\"N/A\"))\n",
    "    elif (experiment == experiments[4]): # weekend\n",
    "        print (\"- {:} yet\".format(\"N/A\"))\n",
    "    elif (experiment == experiments[5]): # daily\n",
    "        print (\"- {:} yet\".format(\"N/A\"))\n",
    "    elif (experiment == experiments[6]): # hourly\n",
    "        print (\"- {:} yet\".format(\"N/A\"))\n",
    "        print (\"- '{:}' month, day {:} data (yes)\".format(calendar.month_name[exp_hours_month], exp_hours_day))\n",
    "        df_exp_len_all = 0\n",
    "        for exp_hour in range(exp_hours_start, exp_hours_end+1):\n",
    "            df_exp = df.copy(deep = True)\n",
    "            df_exp.set_index([\"date\"], inplace = True)\n",
    "            df_exp.index = to_datetime(df_exp.index)\n",
    "            df_exp = df_exp[\n",
    "                (df_exp.index.month == exp_hours_month)\n",
    "                & (df_exp.index.day == exp_hours_day)\n",
    "                & (df_exp.index.hour == exp_hour)\n",
    "            ]\n",
    "            df_exp.to_csv(filenames_exp_final[exp_hour], index = True)\n",
    "            df_exp_len = len(df_exp)\n",
    "            df_exp_len_all += df_exp_len\n",
    "            print (\"  - Hour '{:}':\\t{:} \".format(exp_hour, filenames_exp_final[exp_hour]))\n",
    "            print (\"    - stored {:} records\".format(df_exp_len))\n",
    "    elif (experiment == experiments[7]): # seasonal\n",
    "        print (\"- {:} yet\".format(\"N/A\"))\n",
    "    print (\"\\nDone (stored {:})!\".format(df_exp_len_all))\n",
    "elif (not is_data_ts):\n",
    "    print (\"- Need not\".format(\"\"))"
   ]
  },
  {
   "cell_type": "markdown",
   "id": "32f24979-8971-4430-93cb-1a565e5c2d47",
   "metadata": {
    "tags": []
   },
   "source": [
    "# 3. LSTM (allinone)\n",
    "    - Time-series (TS)\n",
    "        - Scaling\n",
    "        - Train, Test\n",
    "    - Not-time-series (NTS)\n",
    "        - Scaling\n",
    "        - Train, Test"
   ]
  },
  {
   "cell_type": "markdown",
   "id": "2af58008-44fa-410e-98f8-69c8babfd171",
   "metadata": {
    "tags": []
   },
   "source": [
    "## - functions for training"
   ]
  },
  {
   "cell_type": "code",
   "execution_count": 43,
   "id": "8bad6bae-1c25-4a65-ac9d-65efb00eed67",
   "metadata": {},
   "outputs": [],
   "source": [
    "def timeseries_to_supervised(data, lag=1):\n",
    "    df = DataFrame(data)\n",
    "    columns = [df.shift(i) for i in range(1, lag+1)]\n",
    "    columns.append(df)\n",
    "    df = concat(columns, axis=1)\n",
    "    df.fillna(0, inplace=True)\n",
    "    return df\n",
    "\n",
    "# create a differenced series\n",
    "def difference(dataset, interval=1):\n",
    "    diff = list()\n",
    "    for i in range(interval, len(dataset)):\n",
    "        value = dataset[i] - dataset[i - interval]\n",
    "        diff.append(value)\n",
    "    return Series(diff)\n",
    "\n",
    "# invert differenced value\n",
    "def inverse_difference(history, yhat, interval=1):\n",
    "    return yhat + history[-interval]\n",
    "\n",
    "# scale train and test data to [-1, 1]\n",
    "def scale(train, test):\n",
    "    # fit scaler\n",
    "    scaler = MinMaxScaler(feature_range=(sc_min, sc_max))\n",
    "    scaler = scaler.fit(train)\n",
    "    # transform train\n",
    "    train = train.reshape(train.shape[0], train.shape[1])\n",
    "    train_scaled = scaler.transform(train)\n",
    "    # transform test\n",
    "    test = test.reshape(test.shape[0], test.shape[1])\n",
    "    test_scaled = scaler.transform(test)\n",
    "    return scaler, train_scaled, test_scaled\n",
    "\n",
    "# inverse scaling for a forecasted value\n",
    "def invert_scale(scaler, X, value):\n",
    "    new_row = [x for x in X] + [value]\n",
    "    array = np.array(new_row)\n",
    "    array = array.reshape(1, len(array))\n",
    "    inverted = scaler.inverse_transform(array)\n",
    "    return inverted[0, -1]\n",
    "\n",
    "# fit an LSTM network to training data\n",
    "def fit_lstm(train, batch_size, nb_epoch, neurons):\n",
    "    X, y = train[:, 0:-1], train[:, -1]\n",
    "    X = X.reshape(X.shape[0], 1, X.shape[1])\n",
    "    model = Sequential()\n",
    "    # print (\"X.shape[1]: {:}\", X.shape[1])\n",
    "    # print (\"X.shape[2]: {:}\", X.shape[2])\n",
    "    model.add(LSTM(neurons, batch_input_shape=(batch_size, X.shape[1], X.shape[2]), stateful=True))\n",
    "    model.add(Dense(1))\n",
    "    model.compile(loss='mean_squared_error', optimizer='adam')\n",
    "    for i in range(nb_epoch):\n",
    "        model.fit(X, y, epochs=1, batch_size=batch_size, verbose=0, shuffle=False)\n",
    "        model.reset_states()\n",
    "    return model\n",
    "\n",
    "# make a one-step forecast\n",
    "def forecast_lstm(model, batch_size, X):\n",
    "    X = X.reshape(1, 1, len(X))\n",
    "    yhat = model.predict(X, batch_size=batch_size)\n",
    "    return yhat[0,0]"
   ]
  },
  {
   "cell_type": "markdown",
   "id": "47697579-8501-4981-b989-7e1a65b01176",
   "metadata": {
    "tags": []
   },
   "source": [
    "## - loading experiment data"
   ]
  },
  {
   "cell_type": "code",
   "execution_count": 44,
   "id": "bc2c5596-6a26-4f3d-9cf7-d617ef50dbaa",
   "metadata": {},
   "outputs": [],
   "source": [
    "exp_month = 0\n",
    "\n",
    "exp_day   = 0"
   ]
  },
  {
   "cell_type": "code",
   "execution_count": 45,
   "id": "e1c371a2-5e48-40ec-9ba1-37994e67706f",
   "metadata": {},
   "outputs": [],
   "source": [
    "df_exp = None"
   ]
  },
  {
   "cell_type": "code",
   "execution_count": 46,
   "id": "2ee2332b-39be-4c96-8fde-e018946e8254",
   "metadata": {},
   "outputs": [
    {
     "name": "stdout",
     "output_type": "stream",
     "text": [
      "\n",
      "Experimenting on 'March', day 1 data\n",
      "\n"
     ]
    }
   ],
   "source": [
    "if (experiment == experiments[0]): # alldata\n",
    "    print (\"- {:} yet\".format(\"N/A\"))\n",
    "elif (experiment == experiments[1]): # monthly\n",
    "    exp_month = 2\n",
    "    print (\"\\nExperimenting on '{:}' data\\n\".format(calendar.month_name[exp_month]))\n",
    "    df_exp = read_csv(filenames_exp_final[exp_month-1])\n",
    "elif (experiment == experiments[2]): # weekly\n",
    "    print (\"- {:} yet\".format(\"N/A\"))\n",
    "elif (experiment == experiments[3]): # weekday\n",
    "    print (\"- {:} yet\".format(\"N/A\"))\n",
    "elif (experiment == experiments[4]): # weekend\n",
    "    print (\"- {:} yet\".format(\"N/A\"))\n",
    "elif (experiment == experiments[5]): # daily\n",
    "    print (\"- {:} yet\".format(\"N/A\"))\n",
    "elif (experiment == experiments[6]): # hourly\n",
    "    exp_month = exp_hours_month\n",
    "    exp_day   = exp_hours_day\n",
    "    print (\"\\nExperimenting on '{:}', day {:} data\\n\".format(calendar.month_name[exp_month], exp_day))\n",
    "    exp_li = []\n",
    "    for exp_hour in range(exp_hours_start, exp_hours_end+1):\n",
    "        df_exp = read_csv(filenames_exp_final[exp_hour], index_col=None, header=0)\n",
    "        exp_li.append(df_exp)\n",
    "    df_exp = concat(exp_li, axis=0, ignore_index=True)\n",
    "elif (experiment == experiments[7]): # seasonal\n",
    "    print (\"- {:} yet\".format(\"N/A\"))"
   ]
  },
  {
   "cell_type": "code",
   "execution_count": 47,
   "id": "b439324b-8c6e-43c6-af82-817a491e0263",
   "metadata": {},
   "outputs": [
    {
     "data": {
      "text/html": [
       "<div>\n",
       "<style scoped>\n",
       "    .dataframe tbody tr th:only-of-type {\n",
       "        vertical-align: middle;\n",
       "    }\n",
       "\n",
       "    .dataframe tbody tr th {\n",
       "        vertical-align: top;\n",
       "    }\n",
       "\n",
       "    .dataframe thead th {\n",
       "        text-align: right;\n",
       "    }\n",
       "</style>\n",
       "<table border=\"1\" class=\"dataframe\">\n",
       "  <thead>\n",
       "    <tr style=\"text-align: right;\">\n",
       "      <th></th>\n",
       "      <th>date</th>\n",
       "      <th>Appliances</th>\n",
       "      <th>T1</th>\n",
       "      <th>RH_1</th>\n",
       "      <th>T2</th>\n",
       "      <th>RH_2</th>\n",
       "      <th>T3</th>\n",
       "      <th>RH_3</th>\n",
       "      <th>T4</th>\n",
       "      <th>T5</th>\n",
       "      <th>RH_6</th>\n",
       "      <th>T7</th>\n",
       "      <th>RH_7</th>\n",
       "      <th>T8</th>\n",
       "      <th>RH_8</th>\n",
       "      <th>RH_9</th>\n",
       "      <th>T_out</th>\n",
       "      <th>Press_mm_hg</th>\n",
       "      <th>RH_out</th>\n",
       "      <th>Windspeed</th>\n",
       "    </tr>\n",
       "  </thead>\n",
       "  <tbody>\n",
       "    <tr>\n",
       "      <th>0</th>\n",
       "      <td>2016-03-01 00:00:00</td>\n",
       "      <td>70</td>\n",
       "      <td>21.8</td>\n",
       "      <td>35.1</td>\n",
       "      <td>19.4</td>\n",
       "      <td>37.1</td>\n",
       "      <td>21.2</td>\n",
       "      <td>35.1</td>\n",
       "      <td>21.9</td>\n",
       "      <td>19.0</td>\n",
       "      <td>68.4</td>\n",
       "      <td>20.2</td>\n",
       "      <td>27.5</td>\n",
       "      <td>22.5</td>\n",
       "      <td>39.1</td>\n",
       "      <td>38.9</td>\n",
       "      <td>-1.0</td>\n",
       "      <td>763.6</td>\n",
       "      <td>92.0</td>\n",
       "      <td>1.0</td>\n",
       "    </tr>\n",
       "    <tr>\n",
       "      <th>1</th>\n",
       "      <td>2016-03-01 00:10:00</td>\n",
       "      <td>60</td>\n",
       "      <td>21.8</td>\n",
       "      <td>35.3</td>\n",
       "      <td>19.3</td>\n",
       "      <td>37.2</td>\n",
       "      <td>21.1</td>\n",
       "      <td>35.2</td>\n",
       "      <td>21.8</td>\n",
       "      <td>19.0</td>\n",
       "      <td>69.0</td>\n",
       "      <td>20.2</td>\n",
       "      <td>27.6</td>\n",
       "      <td>22.4</td>\n",
       "      <td>39.4</td>\n",
       "      <td>38.9</td>\n",
       "      <td>-1.1</td>\n",
       "      <td>763.5</td>\n",
       "      <td>92.7</td>\n",
       "      <td>1.0</td>\n",
       "    </tr>\n",
       "    <tr>\n",
       "      <th>2</th>\n",
       "      <td>2016-03-01 00:20:00</td>\n",
       "      <td>60</td>\n",
       "      <td>21.7</td>\n",
       "      <td>35.4</td>\n",
       "      <td>19.3</td>\n",
       "      <td>37.3</td>\n",
       "      <td>21.1</td>\n",
       "      <td>35.3</td>\n",
       "      <td>21.8</td>\n",
       "      <td>18.9</td>\n",
       "      <td>69.7</td>\n",
       "      <td>20.2</td>\n",
       "      <td>27.7</td>\n",
       "      <td>22.4</td>\n",
       "      <td>39.5</td>\n",
       "      <td>38.9</td>\n",
       "      <td>-1.2</td>\n",
       "      <td>763.5</td>\n",
       "      <td>93.3</td>\n",
       "      <td>1.0</td>\n",
       "    </tr>\n",
       "    <tr>\n",
       "      <th>3</th>\n",
       "      <td>2016-03-01 00:30:00</td>\n",
       "      <td>60</td>\n",
       "      <td>21.7</td>\n",
       "      <td>35.4</td>\n",
       "      <td>19.2</td>\n",
       "      <td>37.3</td>\n",
       "      <td>21.1</td>\n",
       "      <td>35.3</td>\n",
       "      <td>21.7</td>\n",
       "      <td>19.0</td>\n",
       "      <td>69.6</td>\n",
       "      <td>20.2</td>\n",
       "      <td>27.9</td>\n",
       "      <td>22.3</td>\n",
       "      <td>39.6</td>\n",
       "      <td>39.0</td>\n",
       "      <td>-1.4</td>\n",
       "      <td>763.4</td>\n",
       "      <td>94.0</td>\n",
       "      <td>1.0</td>\n",
       "    </tr>\n",
       "    <tr>\n",
       "      <th>4</th>\n",
       "      <td>2016-03-01 00:40:00</td>\n",
       "      <td>60</td>\n",
       "      <td>21.6</td>\n",
       "      <td>35.3</td>\n",
       "      <td>19.2</td>\n",
       "      <td>37.3</td>\n",
       "      <td>21.1</td>\n",
       "      <td>35.3</td>\n",
       "      <td>21.7</td>\n",
       "      <td>19.0</td>\n",
       "      <td>70.1</td>\n",
       "      <td>20.2</td>\n",
       "      <td>27.9</td>\n",
       "      <td>22.3</td>\n",
       "      <td>39.6</td>\n",
       "      <td>38.9</td>\n",
       "      <td>-1.5</td>\n",
       "      <td>763.4</td>\n",
       "      <td>94.7</td>\n",
       "      <td>1.0</td>\n",
       "    </tr>\n",
       "    <tr>\n",
       "      <th>...</th>\n",
       "      <td>...</td>\n",
       "      <td>...</td>\n",
       "      <td>...</td>\n",
       "      <td>...</td>\n",
       "      <td>...</td>\n",
       "      <td>...</td>\n",
       "      <td>...</td>\n",
       "      <td>...</td>\n",
       "      <td>...</td>\n",
       "      <td>...</td>\n",
       "      <td>...</td>\n",
       "      <td>...</td>\n",
       "      <td>...</td>\n",
       "      <td>...</td>\n",
       "      <td>...</td>\n",
       "      <td>...</td>\n",
       "      <td>...</td>\n",
       "      <td>...</td>\n",
       "      <td>...</td>\n",
       "      <td>...</td>\n",
       "    </tr>\n",
       "    <tr>\n",
       "      <th>139</th>\n",
       "      <td>2016-03-01 23:10:00</td>\n",
       "      <td>60</td>\n",
       "      <td>21.2</td>\n",
       "      <td>39.9</td>\n",
       "      <td>19.6</td>\n",
       "      <td>41.4</td>\n",
       "      <td>20.7</td>\n",
       "      <td>38.4</td>\n",
       "      <td>19.9</td>\n",
       "      <td>19.4</td>\n",
       "      <td>86.9</td>\n",
       "      <td>18.5</td>\n",
       "      <td>35.9</td>\n",
       "      <td>21.0</td>\n",
       "      <td>46.3</td>\n",
       "      <td>40.2</td>\n",
       "      <td>8.2</td>\n",
       "      <td>750.5</td>\n",
       "      <td>96.5</td>\n",
       "      <td>7.3</td>\n",
       "    </tr>\n",
       "    <tr>\n",
       "      <th>140</th>\n",
       "      <td>2016-03-01 23:20:00</td>\n",
       "      <td>50</td>\n",
       "      <td>21.2</td>\n",
       "      <td>40.0</td>\n",
       "      <td>19.5</td>\n",
       "      <td>41.6</td>\n",
       "      <td>20.7</td>\n",
       "      <td>38.4</td>\n",
       "      <td>19.9</td>\n",
       "      <td>19.3</td>\n",
       "      <td>86.8</td>\n",
       "      <td>18.5</td>\n",
       "      <td>35.8</td>\n",
       "      <td>21.1</td>\n",
       "      <td>46.5</td>\n",
       "      <td>40.2</td>\n",
       "      <td>8.2</td>\n",
       "      <td>750.5</td>\n",
       "      <td>96.0</td>\n",
       "      <td>7.7</td>\n",
       "    </tr>\n",
       "    <tr>\n",
       "      <th>141</th>\n",
       "      <td>2016-03-01 23:30:00</td>\n",
       "      <td>40</td>\n",
       "      <td>21.1</td>\n",
       "      <td>40.1</td>\n",
       "      <td>19.5</td>\n",
       "      <td>41.6</td>\n",
       "      <td>20.7</td>\n",
       "      <td>38.4</td>\n",
       "      <td>19.8</td>\n",
       "      <td>19.3</td>\n",
       "      <td>87.0</td>\n",
       "      <td>18.5</td>\n",
       "      <td>35.8</td>\n",
       "      <td>21.0</td>\n",
       "      <td>46.6</td>\n",
       "      <td>40.3</td>\n",
       "      <td>8.3</td>\n",
       "      <td>750.4</td>\n",
       "      <td>95.5</td>\n",
       "      <td>8.0</td>\n",
       "    </tr>\n",
       "    <tr>\n",
       "      <th>142</th>\n",
       "      <td>2016-03-01 23:40:00</td>\n",
       "      <td>20</td>\n",
       "      <td>21.1</td>\n",
       "      <td>40.1</td>\n",
       "      <td>19.5</td>\n",
       "      <td>41.7</td>\n",
       "      <td>20.7</td>\n",
       "      <td>38.4</td>\n",
       "      <td>19.7</td>\n",
       "      <td>19.3</td>\n",
       "      <td>86.9</td>\n",
       "      <td>18.5</td>\n",
       "      <td>35.8</td>\n",
       "      <td>20.9</td>\n",
       "      <td>46.7</td>\n",
       "      <td>40.3</td>\n",
       "      <td>8.4</td>\n",
       "      <td>750.3</td>\n",
       "      <td>95.0</td>\n",
       "      <td>8.3</td>\n",
       "    </tr>\n",
       "    <tr>\n",
       "      <th>143</th>\n",
       "      <td>2016-03-01 23:50:00</td>\n",
       "      <td>20</td>\n",
       "      <td>21.1</td>\n",
       "      <td>40.2</td>\n",
       "      <td>19.5</td>\n",
       "      <td>41.8</td>\n",
       "      <td>20.6</td>\n",
       "      <td>38.3</td>\n",
       "      <td>19.7</td>\n",
       "      <td>19.2</td>\n",
       "      <td>86.9</td>\n",
       "      <td>18.5</td>\n",
       "      <td>35.8</td>\n",
       "      <td>20.9</td>\n",
       "      <td>46.7</td>\n",
       "      <td>40.4</td>\n",
       "      <td>8.4</td>\n",
       "      <td>750.3</td>\n",
       "      <td>94.5</td>\n",
       "      <td>8.7</td>\n",
       "    </tr>\n",
       "  </tbody>\n",
       "</table>\n",
       "<p>144 rows × 20 columns</p>\n",
       "</div>"
      ],
      "text/plain": [
       "                    date  Appliances    T1  RH_1    T2  RH_2    T3  RH_3  \\\n",
       "0    2016-03-01 00:00:00          70  21.8  35.1  19.4  37.1  21.2  35.1   \n",
       "1    2016-03-01 00:10:00          60  21.8  35.3  19.3  37.2  21.1  35.2   \n",
       "2    2016-03-01 00:20:00          60  21.7  35.4  19.3  37.3  21.1  35.3   \n",
       "3    2016-03-01 00:30:00          60  21.7  35.4  19.2  37.3  21.1  35.3   \n",
       "4    2016-03-01 00:40:00          60  21.6  35.3  19.2  37.3  21.1  35.3   \n",
       "..                   ...         ...   ...   ...   ...   ...   ...   ...   \n",
       "139  2016-03-01 23:10:00          60  21.2  39.9  19.6  41.4  20.7  38.4   \n",
       "140  2016-03-01 23:20:00          50  21.2  40.0  19.5  41.6  20.7  38.4   \n",
       "141  2016-03-01 23:30:00          40  21.1  40.1  19.5  41.6  20.7  38.4   \n",
       "142  2016-03-01 23:40:00          20  21.1  40.1  19.5  41.7  20.7  38.4   \n",
       "143  2016-03-01 23:50:00          20  21.1  40.2  19.5  41.8  20.6  38.3   \n",
       "\n",
       "       T4    T5  RH_6    T7  RH_7    T8  RH_8  RH_9  T_out  Press_mm_hg  \\\n",
       "0    21.9  19.0  68.4  20.2  27.5  22.5  39.1  38.9   -1.0        763.6   \n",
       "1    21.8  19.0  69.0  20.2  27.6  22.4  39.4  38.9   -1.1        763.5   \n",
       "2    21.8  18.9  69.7  20.2  27.7  22.4  39.5  38.9   -1.2        763.5   \n",
       "3    21.7  19.0  69.6  20.2  27.9  22.3  39.6  39.0   -1.4        763.4   \n",
       "4    21.7  19.0  70.1  20.2  27.9  22.3  39.6  38.9   -1.5        763.4   \n",
       "..    ...   ...   ...   ...   ...   ...   ...   ...    ...          ...   \n",
       "139  19.9  19.4  86.9  18.5  35.9  21.0  46.3  40.2    8.2        750.5   \n",
       "140  19.9  19.3  86.8  18.5  35.8  21.1  46.5  40.2    8.2        750.5   \n",
       "141  19.8  19.3  87.0  18.5  35.8  21.0  46.6  40.3    8.3        750.4   \n",
       "142  19.7  19.3  86.9  18.5  35.8  20.9  46.7  40.3    8.4        750.3   \n",
       "143  19.7  19.2  86.9  18.5  35.8  20.9  46.7  40.4    8.4        750.3   \n",
       "\n",
       "     RH_out  Windspeed  \n",
       "0      92.0        1.0  \n",
       "1      92.7        1.0  \n",
       "2      93.3        1.0  \n",
       "3      94.0        1.0  \n",
       "4      94.7        1.0  \n",
       "..      ...        ...  \n",
       "139    96.5        7.3  \n",
       "140    96.0        7.7  \n",
       "141    95.5        8.0  \n",
       "142    95.0        8.3  \n",
       "143    94.5        8.7  \n",
       "\n",
       "[144 rows x 20 columns]"
      ]
     },
     "execution_count": 47,
     "metadata": {},
     "output_type": "execute_result"
    }
   ],
   "source": [
    "df_exp.round(1)"
   ]
  },
  {
   "cell_type": "code",
   "execution_count": 48,
   "id": "728e321e-5ee5-437d-be77-7678a763434b",
   "metadata": {},
   "outputs": [],
   "source": [
    "if (df_exp.index.name != \"date\"):\n",
    "    df_exp = df_exp.set_index(\"date\")"
   ]
  },
  {
   "cell_type": "code",
   "execution_count": 49,
   "id": "4c48573a-9660-458b-a05f-121a23a61312",
   "metadata": {},
   "outputs": [
    {
     "data": {
      "text/html": [
       "<div>\n",
       "<style scoped>\n",
       "    .dataframe tbody tr th:only-of-type {\n",
       "        vertical-align: middle;\n",
       "    }\n",
       "\n",
       "    .dataframe tbody tr th {\n",
       "        vertical-align: top;\n",
       "    }\n",
       "\n",
       "    .dataframe thead th {\n",
       "        text-align: right;\n",
       "    }\n",
       "</style>\n",
       "<table border=\"1\" class=\"dataframe\">\n",
       "  <thead>\n",
       "    <tr style=\"text-align: right;\">\n",
       "      <th></th>\n",
       "      <th>Appliances</th>\n",
       "      <th>T1</th>\n",
       "      <th>RH_1</th>\n",
       "      <th>T2</th>\n",
       "      <th>RH_2</th>\n",
       "      <th>T3</th>\n",
       "      <th>RH_3</th>\n",
       "      <th>T4</th>\n",
       "      <th>T5</th>\n",
       "      <th>RH_6</th>\n",
       "      <th>T7</th>\n",
       "      <th>RH_7</th>\n",
       "      <th>T8</th>\n",
       "      <th>RH_8</th>\n",
       "      <th>RH_9</th>\n",
       "      <th>T_out</th>\n",
       "      <th>Press_mm_hg</th>\n",
       "      <th>RH_out</th>\n",
       "      <th>Windspeed</th>\n",
       "    </tr>\n",
       "    <tr>\n",
       "      <th>date</th>\n",
       "      <th></th>\n",
       "      <th></th>\n",
       "      <th></th>\n",
       "      <th></th>\n",
       "      <th></th>\n",
       "      <th></th>\n",
       "      <th></th>\n",
       "      <th></th>\n",
       "      <th></th>\n",
       "      <th></th>\n",
       "      <th></th>\n",
       "      <th></th>\n",
       "      <th></th>\n",
       "      <th></th>\n",
       "      <th></th>\n",
       "      <th></th>\n",
       "      <th></th>\n",
       "      <th></th>\n",
       "      <th></th>\n",
       "    </tr>\n",
       "  </thead>\n",
       "  <tbody>\n",
       "    <tr>\n",
       "      <th>2016-03-01 00:00:00</th>\n",
       "      <td>70</td>\n",
       "      <td>21.8</td>\n",
       "      <td>35.1</td>\n",
       "      <td>19.4</td>\n",
       "      <td>37.1</td>\n",
       "      <td>21.2</td>\n",
       "      <td>35.1</td>\n",
       "      <td>21.9</td>\n",
       "      <td>19.0</td>\n",
       "      <td>68.4</td>\n",
       "      <td>20.2</td>\n",
       "      <td>27.5</td>\n",
       "      <td>22.5</td>\n",
       "      <td>39.1</td>\n",
       "      <td>38.9</td>\n",
       "      <td>-1.0</td>\n",
       "      <td>763.6</td>\n",
       "      <td>92.0</td>\n",
       "      <td>1.0</td>\n",
       "    </tr>\n",
       "    <tr>\n",
       "      <th>2016-03-01 00:10:00</th>\n",
       "      <td>60</td>\n",
       "      <td>21.8</td>\n",
       "      <td>35.3</td>\n",
       "      <td>19.3</td>\n",
       "      <td>37.2</td>\n",
       "      <td>21.1</td>\n",
       "      <td>35.2</td>\n",
       "      <td>21.8</td>\n",
       "      <td>19.0</td>\n",
       "      <td>69.0</td>\n",
       "      <td>20.2</td>\n",
       "      <td>27.6</td>\n",
       "      <td>22.4</td>\n",
       "      <td>39.4</td>\n",
       "      <td>38.9</td>\n",
       "      <td>-1.1</td>\n",
       "      <td>763.5</td>\n",
       "      <td>92.7</td>\n",
       "      <td>1.0</td>\n",
       "    </tr>\n",
       "    <tr>\n",
       "      <th>2016-03-01 00:20:00</th>\n",
       "      <td>60</td>\n",
       "      <td>21.7</td>\n",
       "      <td>35.4</td>\n",
       "      <td>19.3</td>\n",
       "      <td>37.3</td>\n",
       "      <td>21.1</td>\n",
       "      <td>35.3</td>\n",
       "      <td>21.8</td>\n",
       "      <td>18.9</td>\n",
       "      <td>69.7</td>\n",
       "      <td>20.2</td>\n",
       "      <td>27.7</td>\n",
       "      <td>22.4</td>\n",
       "      <td>39.5</td>\n",
       "      <td>38.9</td>\n",
       "      <td>-1.2</td>\n",
       "      <td>763.5</td>\n",
       "      <td>93.3</td>\n",
       "      <td>1.0</td>\n",
       "    </tr>\n",
       "    <tr>\n",
       "      <th>2016-03-01 00:30:00</th>\n",
       "      <td>60</td>\n",
       "      <td>21.7</td>\n",
       "      <td>35.4</td>\n",
       "      <td>19.2</td>\n",
       "      <td>37.3</td>\n",
       "      <td>21.1</td>\n",
       "      <td>35.3</td>\n",
       "      <td>21.7</td>\n",
       "      <td>19.0</td>\n",
       "      <td>69.6</td>\n",
       "      <td>20.2</td>\n",
       "      <td>27.9</td>\n",
       "      <td>22.3</td>\n",
       "      <td>39.6</td>\n",
       "      <td>39.0</td>\n",
       "      <td>-1.4</td>\n",
       "      <td>763.4</td>\n",
       "      <td>94.0</td>\n",
       "      <td>1.0</td>\n",
       "    </tr>\n",
       "    <tr>\n",
       "      <th>2016-03-01 00:40:00</th>\n",
       "      <td>60</td>\n",
       "      <td>21.6</td>\n",
       "      <td>35.3</td>\n",
       "      <td>19.2</td>\n",
       "      <td>37.3</td>\n",
       "      <td>21.1</td>\n",
       "      <td>35.3</td>\n",
       "      <td>21.7</td>\n",
       "      <td>19.0</td>\n",
       "      <td>70.1</td>\n",
       "      <td>20.2</td>\n",
       "      <td>27.9</td>\n",
       "      <td>22.3</td>\n",
       "      <td>39.6</td>\n",
       "      <td>38.9</td>\n",
       "      <td>-1.5</td>\n",
       "      <td>763.4</td>\n",
       "      <td>94.7</td>\n",
       "      <td>1.0</td>\n",
       "    </tr>\n",
       "  </tbody>\n",
       "</table>\n",
       "</div>"
      ],
      "text/plain": [
       "                     Appliances    T1  RH_1    T2  RH_2    T3  RH_3    T4  \\\n",
       "date                                                                        \n",
       "2016-03-01 00:00:00          70  21.8  35.1  19.4  37.1  21.2  35.1  21.9   \n",
       "2016-03-01 00:10:00          60  21.8  35.3  19.3  37.2  21.1  35.2  21.8   \n",
       "2016-03-01 00:20:00          60  21.7  35.4  19.3  37.3  21.1  35.3  21.8   \n",
       "2016-03-01 00:30:00          60  21.7  35.4  19.2  37.3  21.1  35.3  21.7   \n",
       "2016-03-01 00:40:00          60  21.6  35.3  19.2  37.3  21.1  35.3  21.7   \n",
       "\n",
       "                       T5  RH_6    T7  RH_7    T8  RH_8  RH_9  T_out  \\\n",
       "date                                                                   \n",
       "2016-03-01 00:00:00  19.0  68.4  20.2  27.5  22.5  39.1  38.9   -1.0   \n",
       "2016-03-01 00:10:00  19.0  69.0  20.2  27.6  22.4  39.4  38.9   -1.1   \n",
       "2016-03-01 00:20:00  18.9  69.7  20.2  27.7  22.4  39.5  38.9   -1.2   \n",
       "2016-03-01 00:30:00  19.0  69.6  20.2  27.9  22.3  39.6  39.0   -1.4   \n",
       "2016-03-01 00:40:00  19.0  70.1  20.2  27.9  22.3  39.6  38.9   -1.5   \n",
       "\n",
       "                     Press_mm_hg  RH_out  Windspeed  \n",
       "date                                                 \n",
       "2016-03-01 00:00:00        763.6    92.0        1.0  \n",
       "2016-03-01 00:10:00        763.5    92.7        1.0  \n",
       "2016-03-01 00:20:00        763.5    93.3        1.0  \n",
       "2016-03-01 00:30:00        763.4    94.0        1.0  \n",
       "2016-03-01 00:40:00        763.4    94.7        1.0  "
      ]
     },
     "execution_count": 49,
     "metadata": {},
     "output_type": "execute_result"
    }
   ],
   "source": [
    "df_exp.head().round(1)"
   ]
  },
  {
   "cell_type": "markdown",
   "id": "0d7a9c9d-fdd3-45a2-81ca-a9bf11bc23d3",
   "metadata": {
    "tags": []
   },
   "source": [
    "## - setting up experiment data"
   ]
  },
  {
   "cell_type": "code",
   "execution_count": null,
   "id": "e74deb11-bfbe-4bd3-a271-dc216c8f1c38",
   "metadata": {},
   "outputs": [],
   "source": [
    "df_sunspot = df_exp[[\"Appliances\"]].copy(deep = True)"
   ]
  },
  {
   "cell_type": "code",
   "execution_count": null,
   "id": "6ab6e2ed-7172-461a-a4f9-419a37f7ec59",
   "metadata": {},
   "outputs": [],
   "source": [
    "df_sunspot.head().round(1)"
   ]
  },
  {
   "cell_type": "code",
   "execution_count": null,
   "id": "f0ff3ea0-351e-4d1b-a8d8-2f5fc9387f1d",
   "metadata": {},
   "outputs": [],
   "source": [
    "df_sunspot_reduced = df_sunspot"
   ]
  },
  {
   "cell_type": "code",
   "execution_count": null,
   "id": "c43b2b55-1c88-49ba-860d-ebe9a6747627",
   "metadata": {},
   "outputs": [],
   "source": [
    "df_sunspot_reduced.head().round(1)"
   ]
  },
  {
   "cell_type": "code",
   "execution_count": null,
   "id": "87456cde-882a-4b73-9b7d-2f35d626255e",
   "metadata": {},
   "outputs": [],
   "source": [
    "X = df_sunspot.values"
   ]
  },
  {
   "cell_type": "code",
   "execution_count": null,
   "id": "bc63619f-dda4-4fb2-9bc5-d2bac3c6405c",
   "metadata": {},
   "outputs": [],
   "source": [
    "X[0:8]"
   ]
  },
  {
   "cell_type": "code",
   "execution_count": null,
   "id": "25f151cc-73b3-401a-b45c-29a4258ba77c",
   "metadata": {},
   "outputs": [],
   "source": [
    "tss = TimeSeriesSplit(n_splits = ts_n_splits)"
   ]
  },
  {
   "cell_type": "code",
   "execution_count": null,
   "id": "dbf97000-4645-424d-b887-032ebd813e40",
   "metadata": {},
   "outputs": [],
   "source": [
    "# transform data to be stationary\n",
    "raw_values = df_sunspot_reduced[\"Appliances\"].values\n",
    "diff_values = difference(raw_values, 1)"
   ]
  },
  {
   "cell_type": "code",
   "execution_count": null,
   "id": "62e52670-9cad-4e2d-9889-9ad01d64e6e7",
   "metadata": {},
   "outputs": [],
   "source": [
    "# transform data to be supervised learning\n",
    "supervised = timeseries_to_supervised(diff_values, 1)\n",
    "supervised_values = supervised.values"
   ]
  },
  {
   "cell_type": "markdown",
   "id": "f35c9eec-3ec7-4782-ba86-65bb3fd7d988",
   "metadata": {
    "tags": []
   },
   "source": [
    "## - plotting experiment data"
   ]
  },
  {
   "cell_type": "markdown",
   "id": "d05f1f90-c9da-4cc1-8da9-fbaa7a811cba",
   "metadata": {
    "tags": []
   },
   "source": [
    "### > plotting experiment data"
   ]
  },
  {
   "cell_type": "code",
   "execution_count": null,
   "id": "53c0dd9b-354d-4723-84ce-734f82f3ea34",
   "metadata": {},
   "outputs": [],
   "source": [
    "df_sunspot.plot(grid = True, figsize = (18,5))"
   ]
  },
  {
   "cell_type": "markdown",
   "id": "c46456e0-0ce1-4303-83eb-e39a39a449f8",
   "metadata": {
    "tags": []
   },
   "source": [
    "### > plotting (train /test) data, separately"
   ]
  },
  {
   "cell_type": "markdown",
   "id": "fe7e2e99-c528-487d-8671-eb97b8f8d714",
   "metadata": {},
   "source": [
    "    - Each experiment, was split into different number of splits due to the analysis explained above, i.e., variance in seasonal, monthly, weekday, weekend, day, and night time data. For this, we selected the data from different range of times for each experiment, which gave provides the better ability to learn from data patterns. So, this leads us to the conclusion of modeling different models for each perspective. This will further lead us design such a model, to get better performance.\n",
    "\n",
    "    - The figure below refers to a sample showing how the data is split into train and test data. The blue is train data, and orange is test data. Using different splits for training and tests gives us a set of RMSE values showing which split gives us better performance in terms of prediction of the ‘appliance’ energy consumption."
   ]
  },
  {
   "cell_type": "code",
   "execution_count": null,
   "id": "8c11d51a-23a6-4702-8793-5fce108d8c76",
   "metadata": {},
   "outputs": [],
   "source": [
    "print (\"\\nGoing to plot {:} split graphs:\\n\".format(ts_n_splits))\n",
    "\n",
    "plt.figure(1, figsize = (18, ts_n_splits * 3))\n",
    "index = 0\n",
    "for train_index, test_index in tss.split(X):\n",
    "    train = X[train_index]\n",
    "    test = X[test_index]\n",
    "    # print('Observations: %d' % (len(train) + len(test)))\n",
    "    # print('Training Observations: %d' % (len(train)))\n",
    "    # print('Testing Observations: %d' % (len(test)))\n",
    "    \n",
    "    how_many_share_x = 10\n",
    "    index_mod = index%how_many_share_x\n",
    "    if (index_mod == 0):\n",
    "        ax = plt.subplot2grid((ts_n_splits, 1), (index, 0))\n",
    "        ax.set_title(\"split # {:}\".format(index+1))\n",
    "    else:\n",
    "        axs = plt.subplot2grid((ts_n_splits, 1), (index, 0), sharex = ax)\n",
    "        axs.set_title(\"split # {:}\".format(index+1))\n",
    "    plt.plot(train)\n",
    "    plt.ylabel(\"appliances\".format(len(train)))\n",
    "    plt.plot([None for i in train] + [x for x in test])\n",
    "    index += 1\n",
    "plt.show()"
   ]
  },
  {
   "cell_type": "markdown",
   "id": "bf44b9b6-8729-4a0d-ad68-8326445cb299",
   "metadata": {
    "tags": []
   },
   "source": [
    "## - no-splits (manual-split) training and plotting"
   ]
  },
  {
   "cell_type": "code",
   "execution_count": null,
   "id": "4c0568e2-e8dd-4d53-8d38-58e06c4d12e1",
   "metadata": {},
   "outputs": [],
   "source": [
    "# sample_size_manual_split = 200 #len(df_sunspot_reduced)"
   ]
  },
  {
   "cell_type": "code",
   "execution_count": null,
   "id": "ad8bb9ca-c8f9-4570-95b8-1a0fd8dd8662",
   "metadata": {},
   "outputs": [],
   "source": [
    "# sample_size_manual_split"
   ]
  },
  {
   "cell_type": "code",
   "execution_count": null,
   "id": "af860033-dc1a-44f2-b720-96b2db399a0b",
   "metadata": {},
   "outputs": [],
   "source": [
    "# # split data into train and test-sets\n",
    "# train, test = supervised_values[0:-sample_size_manual_split], supervised_values[-sample_size_manual_split:]"
   ]
  },
  {
   "cell_type": "code",
   "execution_count": null,
   "id": "9ca4f9d6-b6d5-4eda-84ce-fbbee234e1db",
   "metadata": {},
   "outputs": [],
   "source": [
    "# # transform the scale of the data\n",
    "# scaler, train_scaled, test_scaled = scale(train, test)"
   ]
  },
  {
   "cell_type": "code",
   "execution_count": null,
   "id": "7e912a2c-d270-499d-86da-489000de45b4",
   "metadata": {},
   "outputs": [],
   "source": [
    "# # fit the model\n",
    "# lstm_model = fit_lstm(train_scaled, 1, 100, 4)\n",
    "# # forecast the entire training dataset to build up state for forecasting\n",
    "# train_reshaped = train_scaled[:, 0].reshape(len(train_scaled), 1, 1)\n",
    "# lstm_model.predict(train_reshaped, batch_size=1)"
   ]
  },
  {
   "cell_type": "code",
   "execution_count": null,
   "id": "970d4655-3abb-4fc5-9bc3-7582e18f7915",
   "metadata": {},
   "outputs": [],
   "source": [
    "# # walk-forward validation on the test data\n",
    "# predictions = list()\n",
    "# for i in range(len(test_scaled)):\n",
    "#     # make one-step forecast\n",
    "#     X, y = test_scaled[i, 0:-1], test_scaled[i, -1]\n",
    "#     yhat = forecast_lstm(lstm_model, 1, X)\n",
    "#     # invert scaling\n",
    "#     yhat = invert_scale(scaler, X, yhat)\n",
    "#     # invert differencing\n",
    "#     yhat = inverse_difference(raw_values, yhat, len(test_scaled)+1-i)\n",
    "#     # store forecast\n",
    "#     predictions.append(yhat)\n",
    "#     expected = raw_values[len(train) + i + 1]\n",
    "#     print('Month=%d, Predicted=%f, Expected=%f' % (i+1, yhat, expected))"
   ]
  },
  {
   "cell_type": "code",
   "execution_count": null,
   "id": "851fa9e4-d7d3-4b44-a2b6-e3726551b5b9",
   "metadata": {},
   "outputs": [],
   "source": [
    "# # report performance\n",
    "# rmse = sqrt(mean_squared_error(raw_values[-sample_size_manual_split:], predictions))\n",
    "# print('Test RMSE: %.3f' % rmse)\n",
    "# # line plot of observed vs predicted\n",
    "# plt.plot(raw_values[-sample_size_manual_split:])\n",
    "# plt.plot(predictions)\n",
    "# plt.show()"
   ]
  },
  {
   "cell_type": "code",
   "execution_count": null,
   "id": "9a9219d8-196e-44c3-bd0d-4d249a512c32",
   "metadata": {},
   "outputs": [],
   "source": [
    "# rmse"
   ]
  },
  {
   "cell_type": "markdown",
   "id": "411e3e55-33b4-418e-a45a-4426ed922dbd",
   "metadata": {
    "tags": []
   },
   "source": [
    "## - n-splits (auto-split) training and plotting"
   ]
  },
  {
   "cell_type": "code",
   "execution_count": null,
   "id": "0e6d3b57-0358-42e8-aebe-d1b0df458657",
   "metadata": {},
   "outputs": [],
   "source": [
    "rmse_list = []\n",
    "\n",
    "index = 0\n",
    "for train_index, test_index in tss.split(supervised_values):\n",
    "    train = supervised_values[train_index]\n",
    "    test = supervised_values[test_index]\n",
    "    # print('Observations: %d' % (len(train) + len(test)))\n",
    "    # print('Training Observations: %d' % (len(train)))\n",
    "    # print('Testing Observations: %d' % (len(test)))\n",
    "    index += 1\n",
    "    print (\"Training Split # {:}\".format(index))\n",
    "    \n",
    "    # transform the scale of the data\n",
    "    scaler, train_scaled, test_scaled = scale(train, test)\n",
    "    \n",
    "    # fit the model\n",
    "    lstm_model = fit_lstm(train_scaled, 1, 500, 4)\n",
    "    # forecast the entire training dataset to build up state for forecasting\n",
    "    train_reshaped = train_scaled[:, 0].reshape(len(train_scaled), 1, 1)\n",
    "    lstm_model.predict(train_reshaped, batch_size = 1)\n",
    "    \n",
    "    # walk-forward validation on the test data\n",
    "    predictions = list()\n",
    "    for i in range(len(test_scaled)):\n",
    "        # make one-step forecast\n",
    "        X, y = test_scaled[i, 0:-1], test_scaled[i, -1]\n",
    "        yhat = forecast_lstm(lstm_model, 1, X)\n",
    "        # invert scaling\n",
    "        yhat = invert_scale(scaler, X, yhat)\n",
    "        # invert differencing\n",
    "        yhat = inverse_difference(raw_values, yhat, len(test_scaled)+1-i)\n",
    "        # store forecast\n",
    "        predictions.append(yhat)\n",
    "        expected = raw_values[len(train) + i + 1]\n",
    "        #print('Month=%d, Predicted=%f, Expected=%f' % (i+1, yhat, expected))\n",
    "\n",
    "    # report performance\n",
    "    rmse = sqrt(mean_squared_error(raw_values[test_index], predictions))\n",
    "    rmse_list.append(rmse)\n",
    "    print('Test RMSE: %.3f' % rmse)\n",
    "    # line plot of observed vs predicted\n",
    "    plt.figure(1, figsize = (15, 8))\n",
    "    plt.plot(raw_values[test_index])\n",
    "    plt.plot(predictions)\n",
    "    # plt.xlabel(\"\")\n",
    "    # plt.ylabel(\"\")\n",
    "    plt.legend()\n",
    "    plt.show()"
   ]
  },
  {
   "cell_type": "code",
   "execution_count": null,
   "id": "9f3db683-b6b4-4dd2-9f71-b99ac68a6f21",
   "metadata": {},
   "outputs": [],
   "source": []
  },
  {
   "cell_type": "code",
   "execution_count": null,
   "id": "41aa90ef-f6c7-472d-b934-7f81313a3123",
   "metadata": {},
   "outputs": [],
   "source": [
    "# rmse_list = [\n",
    "#     279.228, 245.598, 257.809, 194.741, 282.895, 212.299, 269.099, 250.998,\n",
    "#     590.115, 240.803, 234.638, 320.768, 204.092, 245.958, 1444.502, 247.185,\n",
    "#     248.730, 205.860, 294.099, 214.635, 260.509, 229.227, 236.318, 237.040,\n",
    "#     275.123, 287.826, 250.276, 241.982, 236.289, 251.206, 240.920, 242.704,\n",
    "#     265.947, 195.833, 248.302, 212.744, 256.414, 230.499, 238.936, 282.888,\n",
    "#     235.308\n",
    "# ]"
   ]
  },
  {
   "cell_type": "code",
   "execution_count": null,
   "id": "91fa0b25-4638-4725-a1c8-d682345cdf3c",
   "metadata": {},
   "outputs": [],
   "source": [
    "rmse_list[0:8]"
   ]
  },
  {
   "cell_type": "markdown",
   "id": "76ebd122-4ae7-447b-a36b-e0e4fef248c6",
   "metadata": {
    "tags": []
   },
   "source": [
    "## - n-splits (auto-split) plotting RMSE enhancement"
   ]
  },
  {
   "cell_type": "code",
   "execution_count": null,
   "id": "7b0acb0e-a0da-48ba-9027-302fb38fe5f0",
   "metadata": {},
   "outputs": [],
   "source": [
    "rmse_df = DataFrame(data = rmse_list, columns = [\"rmse\"])\n",
    "rmse_df[\"split\"] = rmse_df.index+1\n",
    "# rmse_df[\"split\"] = \"split#\" + rmse_df[\"split\"].astype(str)\n",
    "rmse_df_cols = [\"split\", \"rmse\"]\n",
    "rmse_df = rmse_df[rmse_df_cols]\n",
    "rmse_df.set_index(\"split\", drop = True, inplace = True)"
   ]
  },
  {
   "cell_type": "code",
   "execution_count": null,
   "id": "97bc958e-deb6-4b21-ad4b-8ea0c48b7e77",
   "metadata": {},
   "outputs": [],
   "source": [
    "rmse_df.sort_values(\"rmse\", inplace = True)"
   ]
  },
  {
   "cell_type": "code",
   "execution_count": null,
   "id": "e671b95b-f60b-4c01-8f8c-e58c441caa71",
   "metadata": {},
   "outputs": [],
   "source": [
    "rmse_df.min()"
   ]
  },
  {
   "cell_type": "code",
   "execution_count": null,
   "id": "a0f90488-cccf-49e5-86ad-9cdcab756bb7",
   "metadata": {},
   "outputs": [],
   "source": [
    "print (\"'{:}' month, day {:} (RMSE values)\".format(calendar.month_name[exp_hours_month], exp_hours_day))"
   ]
  },
  {
   "cell_type": "code",
   "execution_count": null,
   "id": "bc81d49e-0964-4bc1-a195-dd9fd8bf8a8e",
   "metadata": {},
   "outputs": [],
   "source": [
    "rmse_df.round(2)"
   ]
  },
  {
   "cell_type": "code",
   "execution_count": null,
   "id": "ab20c95d-eb3d-440b-a9d3-2a50529670ea",
   "metadata": {},
   "outputs": [],
   "source": [
    "print (\"'{:}' month, day {:} (RMSE graph)\".format(calendar.month_name[exp_hours_month], exp_hours_day))"
   ]
  },
  {
   "cell_type": "code",
   "execution_count": null,
   "id": "64548cd7-d4d8-49cb-8587-a30353cbdbbf",
   "metadata": {},
   "outputs": [],
   "source": [
    "rmse_df.sort_values(\n",
    "    \"rmse\",\n",
    "    ascending = False\n",
    ").reset_index().reset_index().plot(\n",
    "    x = \"index\",\n",
    "    y = \"rmse\"\n",
    ")\n",
    "plt.xlabel(\"splits\")\n",
    "plt.ylabel(\"RMSE\")"
   ]
  },
  {
   "cell_type": "code",
   "execution_count": null,
   "id": "4400b08c-c09f-49cf-a495-892f0200cef3",
   "metadata": {},
   "outputs": [],
   "source": [
    "for audioloop in range(1,11):\n",
    "    print (\"{:}.\\tplaying audio ...\".format(audioloop), end = \" \")\n",
    "    playsound(\"audios/Samsung j7 prime basic bell.mp3\")\n",
    "    print (\"(done)\")"
   ]
  },
  {
   "cell_type": "code",
   "execution_count": null,
   "id": "81c2d72d-9b3c-4b51-b3bf-09227ff662f4",
   "metadata": {},
   "outputs": [],
   "source": []
  },
  {
   "cell_type": "code",
   "execution_count": null,
   "id": "b95bab42-185f-41b7-b40a-931b2229dc0f",
   "metadata": {},
   "outputs": [],
   "source": []
  },
  {
   "cell_type": "code",
   "execution_count": null,
   "id": "33096c39-295d-4cd1-86be-84aaef4295a4",
   "metadata": {},
   "outputs": [],
   "source": []
  },
  {
   "cell_type": "markdown",
   "id": "a5746e92-d6da-41a8-9e1b-a96aa02a6b09",
   "metadata": {
    "jp-MarkdownHeadingCollapsed": true,
    "tags": []
   },
   "source": [
    "# X. OLD SPLIT (TS)"
   ]
  },
  {
   "cell_type": "markdown",
   "id": "fd6d72f1-fbf3-4932-99b3-251d945ee50c",
   "metadata": {
    "tags": []
   },
   "source": [
    "## - splitting train and test data, separating features and targets, and then storing them all"
   ]
  },
  {
   "cell_type": "code",
   "execution_count": null,
   "id": "aff012dc-8c55-4edc-b9d7-8decbf1cab53",
   "metadata": {},
   "outputs": [],
   "source": [
    "# col_time_series_default = \"date\"\n",
    "# col_index_default = col_time_series_default\n",
    "\n",
    "# if (is_data_time_series):\n",
    "#     col_time_series = \"date\"\n",
    "#     tmp_data_original = data_original.copy(deep = True)\n",
    "\n",
    "#     if (col_time_series != col_time_series_default):\n",
    "#         tmp_data_original.rename(\n",
    "#             columns = { col_time_series_default : col_time_series },\n",
    "#             inplace = True\n",
    "#         )\n",
    "\n",
    "#     if (col_time_series == \"date:yyyy\"):\n",
    "#         tmp_data_original[col_time_series] = to_datetime(tmp_data_original[col_time_series]).dt.year\n",
    "#     elif (col_time_series == \"date:yyyymm\"):\n",
    "#         tmp_data_original[col_time_series] = to_datetime(tmp_data_original[col_time_series]).dt.month\n",
    "#     elif (col_time_series == \"date:yyyymmdd\"):\n",
    "#         tmp_data_original[col_time_series] = to_datetime(tmp_data_original[col_time_series]).dt.date\n",
    "#     elif (col_time_series == \"date\" or col_time_series == \"datetime\"):\n",
    "#         tmp_data_original[col_time_series] = to_datetime(tmp_data_original[col_time_series])\n",
    "\n",
    "#     tmp_tss = TimeSeriesSplit(n_splits = tmp_n_splits)\n",
    "#     # tmp_data_original.set_index(col_time_series, inplace = True)\n",
    "#     tmp_data_original.sort_index(inplace = True)\n",
    "#     tmp_X = tmp_data_original.drop(labels = [\"Appliances\"], axis=1)\n",
    "#     tmp_y = tmp_data_original[\"Appliances\"].copy(deep = True)\n",
    "    \n",
    "#     tmp_separator_loop = \"---------------------------------------------------\"\n",
    "    \n",
    "#     tmp_counter = 0\n",
    "#     for tmp_train_index, tmp_test_index in tmp_tss.split(tmp_X):\n",
    "#         print (tmp_separator_loop)\n",
    "\n",
    "#         feature_vars, tmp_X_test = tmp_X.iloc[tmp_train_index, :], tmp_X.iloc[tmp_test_index, :]\n",
    "#         target_vars, tmp_y_test = tmp_y.iloc[tmp_train_index], tmp_y.iloc[tmp_test_index]\n",
    "        \n",
    "#         train_start_index = tmp_X_train.index.min()\n",
    "#         train_end_index = tmp_y_train.index.max()\n",
    "#         test_start_index = tmp_X_test.index.min()\n",
    "#         test_end_index = tmp_y_test.index.max()\n",
    "        \n",
    "#         train = tmp_data_original.iloc[tmp_train_index, :]\n",
    "#         test = tmp_data_original.iloc[tmp_test_index, :]\n",
    "\n",
    "#         print (\"Split # {:}, Indices (min~max):\\n - Train:\\t{:} ~ {:}\\n - Test:\\t{:} ~ {:}\".format(\n",
    "#             tmp_counter,\n",
    "#             train_start_index,\n",
    "#             train_end_index,\n",
    "#             test_start_index,\n",
    "#             test_end_index\n",
    "#         ))\n",
    "\n",
    "#         # - storing files timestamped\n",
    "#         train.to_csv(dataset_train_files[tmp_counter], index = False)\n",
    "#         feature_vars.to_csv(dataset_train_features_files[tmp_counter], index = False)\n",
    "#         target_vars.to_csv(dataset_train_targets_files[tmp_counter], index = False)\n",
    "#         test.to_csv(dataset_test_files[tmp_counter], index = False)\n",
    "#         # - storing files not-timestamped\n",
    "#         train.to_csv(dataset_train_files_noprefix[tmp_counter], index = False)\n",
    "#         feature_vars.to_csv(dataset_train_features_files_noprefix[tmp_counter], index = False)\n",
    "#         target_vars.to_csv(dataset_train_targets_files_noprefix[tmp_counter], index = False)\n",
    "#         test.to_csv(dataset_test_files_noprefix[tmp_counter], index = False)\n",
    "\n",
    "#         print (\"\")\n",
    "#         tmp_counter += 1\n",
    "#     print (tmp_separator_loop)\n",
    "    \n",
    "# elif (not is_data_time_series):\n",
    "#     # - splitting train/test data\n",
    "#     train, test = train_test_split(\n",
    "#         data_original,\n",
    "#         test_size = 0.25,\n",
    "#         random_state = 40\n",
    "#     )\n",
    "#     # - separating features from target column\n",
    "#     feature_vars = train[ col_features ]\n",
    "#     target_vars = train[ col_target ]\n",
    "#     # - storing files timestamped\n",
    "#     train.to_csv(dataset_train_file, index = False)\n",
    "#     feature_vars.to_csv(dataset_train_features_file, index = False)\n",
    "#     target_vars.to_csv(dataset_train_targets_file, index = False)\n",
    "#     test.to_csv(dataset_test_file, index = False)\n",
    "#     # - storing files not-timestamped\n",
    "#     train.to_csv(dataset_train_file_noprefix, index = False)\n",
    "#     feature_vars.to_csv(dataset_train_features_file_noprefix, index = False)\n",
    "#     target_vars.to_csv(dataset_train_targets_file_noprefix, index = False)\n",
    "#     test.to_csv(dataset_test_file_noprefix, index = False)"
   ]
  },
  {
   "cell_type": "markdown",
   "id": "3861f4aa-f5c2-4619-876e-b81450f3ffa1",
   "metadata": {
    "tags": []
   },
   "source": [
    "## &nbsp;&nbsp;- verifying (all data)"
   ]
  },
  {
   "cell_type": "markdown",
   "id": "b5832551-3a3c-4bdd-9674-4d30d7184193",
   "metadata": {},
   "source": [
    "### &nbsp;&nbsp;&nbsp;&nbsp;> verifying train data"
   ]
  },
  {
   "cell_type": "code",
   "execution_count": null,
   "id": "75eb0ea5-f9c0-484d-b239-54af5403ac62",
   "metadata": {},
   "outputs": [],
   "source": [
    "# train = read_csv(dataset_train_files_noprefix[0])"
   ]
  },
  {
   "cell_type": "code",
   "execution_count": null,
   "id": "ed7c8610-daa1-4e1e-9272-f411c2e407e8",
   "metadata": {},
   "outputs": [],
   "source": [
    "# train.head().round(1)"
   ]
  },
  {
   "cell_type": "markdown",
   "id": "1e71e7a9-60e2-458b-ad1e-b20ea20b398e",
   "metadata": {},
   "source": [
    "### &nbsp;&nbsp;&nbsp;&nbsp;> verifying train features data"
   ]
  },
  {
   "cell_type": "code",
   "execution_count": null,
   "id": "a5a8dad2-c93d-4d7f-a839-9f5ca9c7d8d2",
   "metadata": {},
   "outputs": [],
   "source": [
    "# feature_vars = read_csv(dataset_train_features_files_noprefix[0])"
   ]
  },
  {
   "cell_type": "code",
   "execution_count": null,
   "id": "b643ed0a-37c0-45ad-afea-c0125918872a",
   "metadata": {},
   "outputs": [],
   "source": [
    "# feature_vars.head().round(1)"
   ]
  },
  {
   "cell_type": "markdown",
   "id": "bcf5c6b1-d46d-4d66-9477-d8c0adc0aebf",
   "metadata": {},
   "source": [
    "### &nbsp;&nbsp;&nbsp;&nbsp;> verifying train targets data"
   ]
  },
  {
   "cell_type": "code",
   "execution_count": null,
   "id": "516feac3-38cb-4cc0-9196-cd53dd6576b7",
   "metadata": {},
   "outputs": [],
   "source": [
    "# target_vars = read_csv(dataset_train_targets_files_noprefix[0])"
   ]
  },
  {
   "cell_type": "code",
   "execution_count": null,
   "id": "de3bb3bc-6b8a-4ee7-ac2b-8d201d34783d",
   "metadata": {},
   "outputs": [],
   "source": [
    "# target_vars.head().round(1)"
   ]
  },
  {
   "cell_type": "markdown",
   "id": "567bf4ba-0f90-4ffa-ac42-ccfe4517c144",
   "metadata": {
    "tags": []
   },
   "source": [
    "### &nbsp;&nbsp;&nbsp;&nbsp;> verifying test data"
   ]
  },
  {
   "cell_type": "code",
   "execution_count": null,
   "id": "4dbc2e7d-e6ae-44b1-bb47-fdb6d314240f",
   "metadata": {},
   "outputs": [],
   "source": [
    "# test = read_csv(dataset_test_files_noprefix[0])"
   ]
  },
  {
   "cell_type": "code",
   "execution_count": null,
   "id": "073e84e7-fd7e-4b43-bca7-e47269c0331e",
   "metadata": {},
   "outputs": [],
   "source": [
    "# test.head().round(1)"
   ]
  },
  {
   "cell_type": "markdown",
   "id": "4a33a9cd-aad8-409b-bae8-2791967b4967",
   "metadata": {
    "jp-MarkdownHeadingCollapsed": true,
    "tags": []
   },
   "source": [
    "# X. Xtra"
   ]
  },
  {
   "cell_type": "code",
   "execution_count": null,
   "id": "5d1a49b2-78be-4c73-a00d-6f3f2fa713f9",
   "metadata": {},
   "outputs": [],
   "source": [
    "# plt.figure(0)\n",
    "# for i in range(5):\n",
    "#     plt.subplot2grid((5,1), (i,0))\n",
    "# plt.show()"
   ]
  }
 ],
 "metadata": {
  "kernelspec": {
   "display_name": "Python 3 (ipykernel)",
   "language": "python",
   "name": "python3"
  },
  "language_info": {
   "codemirror_mode": {
    "name": "ipython",
    "version": 3
   },
   "file_extension": ".py",
   "mimetype": "text/x-python",
   "name": "python",
   "nbconvert_exporter": "python",
   "pygments_lexer": "ipython3",
   "version": "3.10.6"
  }
 },
 "nbformat": 4,
 "nbformat_minor": 5
}
