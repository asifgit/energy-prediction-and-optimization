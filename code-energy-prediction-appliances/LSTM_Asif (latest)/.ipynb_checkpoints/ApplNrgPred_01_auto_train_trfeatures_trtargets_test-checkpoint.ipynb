{
 "cells": [
  {
   "cell_type": "markdown",
   "id": "a25efeda-491c-4293-9b41-c1874a96a64e",
   "metadata": {
    "tags": []
   },
   "source": [
    "# Import Libraries"
   ]
  },
  {
   "cell_type": "code",
   "execution_count": 1,
   "id": "11c0c8eb-105b-4034-ba2d-902e6fc23171",
   "metadata": {},
   "outputs": [
    {
     "name": "stderr",
     "output_type": "stream",
     "text": [
      "/home/xsif/anaconda3/envs/env005_energypredappliances/lib/python3.10/site-packages/scipy/__init__.py:146: UserWarning: A NumPy version >=1.16.5 and <1.23.0 is required for this version of SciPy (detected version 1.23.4\n",
      "  warnings.warn(f\"A NumPy version >={np_minversion} and <{np_maxversion}\"\n",
      "playsound is relying on another python subprocess. Please use `pip install pygobject` if you want playsound to run more efficiently.\n"
     ]
    }
   ],
   "source": [
    "# OTHERS\n",
    "import os\n",
    "import math\n",
    "import calendar\n",
    "from math import sqrt\n",
    "# from datetime import datetime\n",
    "from heapq import nsmallest\n",
    "\n",
    "\n",
    "\n",
    "# PANDAS LIBRARIES\n",
    "from pandas import read_csv\n",
    "from pandas import Series\n",
    "from pandas import DataFrame\n",
    "from pandas import concat\n",
    "from pandas import to_datetime\n",
    "\n",
    "\n",
    "\n",
    "# NUMPY LIBRARIES\n",
    "import numpy as np\n",
    "\n",
    "\n",
    "\n",
    "# MATPLOTLIB LIBRARIES\n",
    "from matplotlib import pyplot as plt\n",
    "\n",
    "\n",
    "\n",
    "# SKLEARN LIBRARIES\n",
    "# from sklearn.model_selection import train_test_split\n",
    "from sklearn.model_selection import TimeSeriesSplit\n",
    "from sklearn.preprocessing import StandardScaler\n",
    "from sklearn.preprocessing import MinMaxScaler\n",
    "from sklearn.metrics import mean_squared_error\n",
    "\n",
    "\n",
    "\n",
    "# KERAS LIBRARIES\n",
    "from keras.models import Sequential\n",
    "from keras.layers import LSTM\n",
    "from keras.layers import Dense\n",
    "\n",
    "\n",
    "\n",
    "# SEABORN LIBRARIES\n",
    "from seaborn import heatmap\n",
    "\n",
    "\n",
    "\n",
    "# PLAYSOUND LIBRARIES\n",
    "from playsound import playsound"
   ]
  },
  {
   "cell_type": "code",
   "execution_count": 2,
   "id": "6fa2fcd3-8982-4e04-8948-c8ff5309a13e",
   "metadata": {},
   "outputs": [],
   "source": [
    "from sklearn.metrics import mean_squared_error"
   ]
  },
  {
   "cell_type": "code",
   "execution_count": null,
   "id": "5d77291b-4890-4b88-93a8-96f22be69e1b",
   "metadata": {},
   "outputs": [],
   "source": []
  },
  {
   "cell_type": "markdown",
   "id": "2fa7f245-1131-43cd-864f-26109793c7a2",
   "metadata": {
    "tags": []
   },
   "source": [
    "# Initialize\n",
    "    - general\n",
    "    - experiment type?\n",
    "        - experiment type parameters?\n",
    "    - dataset type?\n",
    "        - dataset type parameters?\n",
    "    - scale type?\n",
    "        - scale type parameters?\n",
    "    - categorize features/targets?\n",
    "    - directories\n",
    "    - filenames"
   ]
  },
  {
   "cell_type": "markdown",
   "id": "677a6d6c-9eb6-4147-a526-93d8b3dac56d",
   "metadata": {},
   "source": [
    "## - general"
   ]
  },
  {
   "cell_type": "code",
   "execution_count": 3,
   "id": "e796a852-bca7-4111-b39f-8ac101ceb358",
   "metadata": {},
   "outputs": [],
   "source": [
    "monthname_to_monthnumber_mapping = {month: index for index, month in enumerate(calendar.month_abbr) if month}"
   ]
  },
  {
   "cell_type": "markdown",
   "id": "60637ab1-3f6d-49ed-a3b5-a6ee7e73cd78",
   "metadata": {},
   "source": [
    "## - experiment type - alldata, monthly, weekly, weekday, weekend, daily, hourly?"
   ]
  },
  {
   "cell_type": "markdown",
   "id": "d07a1e89-8a3b-4c36-8eea-2220722a43cb",
   "metadata": {},
   "source": [
    "    - We use 6 types of experiments which are performed over the period of 5 months differently. Each experiment differs with other(s) in its data patterns, duration, analysis, preprocessing. Firstly, we analyze the patterns over each month, week, weekdays and weekend of week, and day. After finding the patterns over separate experiments held, basic preprocessing filters are applied such as dropping the unnecessary features of the data. This is done by evaluating each feature's correlation with the target variable, i.e., appliance energy. In addition, the data is labeled as either a weekday or weekend. This enables the model to learn the energy pattern over weekdays and weekends, and perform better."
   ]
  },
  {
   "cell_type": "code",
   "execution_count": 4,
   "id": "73c88805-40ae-4d03-ac5a-2b7401cb76ae",
   "metadata": {},
   "outputs": [],
   "source": [
    "main_experiment = \"alldata\""
   ]
  },
  {
   "cell_type": "code",
   "execution_count": 5,
   "id": "52981a44-72b5-43c7-81f8-fb40f828f91c",
   "metadata": {},
   "outputs": [],
   "source": [
    "experiments = [main_experiment, \"monthly\", \"weekly\", \"weekday\", \"weekend\", \"daily\", \"hourly\", \"seasonal\"]\n",
    "# experiment = experiments[0]\n",
    "# experiment = experiments[1]\n",
    "# experiment = experiments[2]\n",
    "# experiment = experiments[3]\n",
    "# experiment = experiments[4]\n",
    "# experiment = experiments[5]\n",
    "experiment = experiments[6]\n",
    "# experiment = experiments[7]"
   ]
  },
  {
   "cell_type": "markdown",
   "id": "38d530ca-a708-4e63-9dbf-5f3d282639c7",
   "metadata": {},
   "source": [
    "### > experiment type parameters"
   ]
  },
  {
   "cell_type": "code",
   "execution_count": 6,
   "id": "5d632b9a-19a0-40a0-b0f7-a81d92c06544",
   "metadata": {},
   "outputs": [],
   "source": [
    "exp_months       = 0\n",
    "exp_months_start = 0\n",
    "exp_months_end   = 0\n",
    "\n",
    "exp_hours       = 0\n",
    "exp_hours_start = 0\n",
    "exp_hours_end   = 0\n",
    "exp_hours_month = 0\n",
    "exp_hours_day   = 0\n",
    "exp_hours_day_c = 0"
   ]
  },
  {
   "cell_type": "code",
   "execution_count": 7,
   "id": "fd17717c-ac70-4401-9d91-88630622fbe5",
   "metadata": {},
   "outputs": [
    {
     "name": "stdout",
     "output_type": "stream",
     "text": [
      "\n",
      "Experiment (hourly) parameters:\n",
      "- 24 hours data\n",
      "- 0 start hour\n",
      "- 23 end hour\n",
      "- 'February' month, days 18-29 data\n"
     ]
    }
   ],
   "source": [
    "print (\"\\nExperiment ({:}) parameters:\".format(experiment))\n",
    "if (experiment == experiments[0]): # alldata\n",
    "    print (\"- {:} yet\".format(\"N/A\"))\n",
    "elif (experiment == experiments[1]): # monthly\n",
    "    exp_months       = 2\n",
    "    exp_months_start = 2\n",
    "    exp_months_end   = ((exp_months_start + exp_months) - 1)\n",
    "    print (\"- {:} months data\".format(exp_months))\n",
    "    print (\"- '{:}' start month\".format(calendar.month_name[exp_months_start]))\n",
    "    print (\"- '{:}' end month\".format(calendar.month_name[exp_months_end]))\n",
    "elif (experiment == experiments[2]): # weekly\n",
    "    print (\"- {:} yet\".format(\"N/A\"))\n",
    "elif (experiment == experiments[3]): # weekday\n",
    "    print (\"- {:} yet\".format(\"N/A\"))\n",
    "elif (experiment == experiments[4]): # weekend\n",
    "    print (\"- {:} yet\".format(\"N/A\"))\n",
    "elif (experiment == experiments[5]): # daily\n",
    "    print (\"- {:} yet\".format(\"N/A\"))\n",
    "elif (experiment == experiments[6]): # hourly\n",
    "    exp_hours        = 24\n",
    "    exp_hours_start  = 0\n",
    "    exp_hours_end  = ((exp_hours_start + exp_hours) - 1)\n",
    "    exp_hours_month  = 2\n",
    "    exp_hours_day    = 18\n",
    "    exp_hours_day_c  = 29\n",
    "    print (\"- {:} hours data\".format(exp_hours))\n",
    "    print (\"- {:} start hour\".format(exp_hours_start))\n",
    "    print (\"- {:} end hour\".format(exp_hours_end))\n",
    "    print (\"- '{:}' month, days {:}-{:} data\".format(calendar.month_name[exp_hours_month], exp_hours_day, exp_hours_day_c))\n",
    "    # print (\"- {:} yet\".format(\"N/A\"))\n",
    "elif (experiment == experiments[7]): # seasonal\n",
    "    print (\"- {:} yet\".format(\"N/A\"))"
   ]
  },
  {
   "cell_type": "markdown",
   "id": "358e5e4d-ca2b-4361-ba5a-3a0b95ca0c43",
   "metadata": {},
   "source": [
    "## - dataset type - time-series (TS) or not-time-series (NTS)?"
   ]
  },
  {
   "cell_type": "markdown",
   "id": "8438f1b2-f366-4f5d-8ae2-0c2455c4592b",
   "metadata": {},
   "source": [
    "    - As this problem is a time-series, the training and testing is split into different sets, each set necessarily having the past data as training and remaining data as testing data. This is a very important consideration in time-series problem domain as it may have a huge impact on the performance of the model to be trained. For this, we used '50' number of splits over each experiment."
   ]
  },
  {
   "cell_type": "code",
   "execution_count": 8,
   "id": "b037ff88-af06-4450-bbb1-9b2bc7d272cf",
   "metadata": {},
   "outputs": [],
   "source": [
    "is_data_ts = True"
   ]
  },
  {
   "cell_type": "markdown",
   "id": "4eb2e95a-80e9-41fc-9f25-2d3fe5554410",
   "metadata": {},
   "source": [
    "### > dataset type parameters"
   ]
  },
  {
   "cell_type": "code",
   "execution_count": 9,
   "id": "f8317a82-78d0-42e1-a236-aea6564e40ca",
   "metadata": {},
   "outputs": [],
   "source": [
    "ts_n_splits = 0"
   ]
  },
  {
   "cell_type": "code",
   "execution_count": 10,
   "id": "ca6889ab-8f72-4c42-98c8-137fcf0233b4",
   "metadata": {},
   "outputs": [
    {
     "name": "stdout",
     "output_type": "stream",
     "text": [
      "\n",
      "Time-series (TS) parameters:\n",
      "- 10 splits\n"
     ]
    }
   ],
   "source": [
    "if (is_data_ts):\n",
    "    ts_n_splits = 10\n",
    "    print (\"\\nTime-series (TS) parameters:\")\n",
    "    print (\"- {:} splits\".format(ts_n_splits))\n",
    "elif (not is_data_ts):\n",
    "    print (\"\\nNot-time-series (NTS) parameters:\")"
   ]
  },
  {
   "cell_type": "markdown",
   "id": "e37cfec4-9775-4bf4-ba68-9b48680784b5",
   "metadata": {},
   "source": [
    "## - scale type - standard, minmax, none?"
   ]
  },
  {
   "cell_type": "markdown",
   "id": "693299c7-579a-410c-bf7b-f5de78af60f0",
   "metadata": {},
   "source": [
    "    - Scaling the feature is necessary, as the learning process may get affected. There are two widely scaling methods used, which are Standard and MinMax. We chose the MinMax for scaling the data features because it gives us better results. We configured the minimum and maximum value to be '-1' and '1', respectively."
   ]
  },
  {
   "cell_type": "code",
   "execution_count": 11,
   "id": "3e159b00-eb01-4d5d-9dc3-6d4160b3f0ad",
   "metadata": {},
   "outputs": [],
   "source": [
    "scalers = [\"standard\", \"minmax\", None]\n",
    "scaler = scalers[0]\n",
    "scaler = scalers[1] # do not change this\n",
    "# scaler = scalers[2] # you can another scaler in the array above and use this line to set it up for use"
   ]
  },
  {
   "cell_type": "markdown",
   "id": "0daa26ff-8c5d-476d-be92-12be2c032f25",
   "metadata": {},
   "source": [
    "### > scale type parameters?"
   ]
  },
  {
   "cell_type": "code",
   "execution_count": 12,
   "id": "ce367762-6da7-4fd5-a71a-c3c17ea8ab51",
   "metadata": {},
   "outputs": [],
   "source": [
    "sc_min = 0\n",
    "sc_max = 0"
   ]
  },
  {
   "cell_type": "code",
   "execution_count": 13,
   "id": "9dfa6d42-5f6d-4050-9815-12d1abab3704",
   "metadata": {},
   "outputs": [
    {
     "name": "stdout",
     "output_type": "stream",
     "text": [
      "\n",
      "Scaling (MinMax) parameters:\n",
      "- -1 minimum\n",
      "- 1 minimum\n"
     ]
    }
   ],
   "source": [
    "if (scaler == \"standard\"):\n",
    "    print (\"\\nScaling (Standard) parameters:\")\n",
    "    print (\"- {:} yet\".format(\"N/A\"))\n",
    "elif (scaler == \"minmax\"):\n",
    "    sc_min = -1\n",
    "    sc_max = 1\n",
    "    print (\"\\nScaling (MinMax) parameters:\")\n",
    "    print (\"- {:} minimum\".format(sc_min))\n",
    "    print (\"- {:} minimum\".format(sc_max))\n",
    "elif (scaler == None):\n",
    "    print (\"\\nScaling (None) parameters:\")\n",
    "    print (\"- {:} yet\".format(\"N/A\"))"
   ]
  },
  {
   "cell_type": "markdown",
   "id": "a9d0af70-e9b4-410d-be3b-c60c09781542",
   "metadata": {},
   "source": [
    "## - categorize features/targets?"
   ]
  },
  {
   "cell_type": "markdown",
   "id": "626d954f-06fe-4d9c-83fe-e3f2717c662d",
   "metadata": {},
   "source": [
    "    - Within the data, we chose the attribute 'Appliances' as the target variable because it refers to the prediction output, i.e., appliance energy consumption, in the forecast. As the attributes associated with temperature, humidity, and weather conditions are known to have an impact on the energy consumption, So, we select these attributes from the dataset as the features"
   ]
  },
  {
   "cell_type": "code",
   "execution_count": 14,
   "id": "63ccace7-340c-4043-96ee-30ce5921e847",
   "metadata": {},
   "outputs": [],
   "source": [
    "col_time    = [\"time\"]\n",
    "\n",
    "col_temp    = [\"temp\"]\n",
    "\n",
    "col_hum     = [\"reh\"]\n",
    "\n",
    "col_lights  = [\"sky\"]\n",
    "\n",
    "col_weather = [\"wd\", \"ws\"] \n",
    "\n",
    "# col_randoms = []\n",
    "\n",
    "col_target  = [\"appl\"]"
   ]
  },
  {
   "cell_type": "markdown",
   "id": "4bd2cd41-9321-4d95-980d-d5d38150bc8d",
   "metadata": {},
   "source": [
    "## - directories - dataset, scale"
   ]
  },
  {
   "cell_type": "markdown",
   "id": "d999570d-85d0-46c9-8d19-e35e586620dc",
   "metadata": {},
   "source": [
    "### > set directory/subdirectory names"
   ]
  },
  {
   "cell_type": "code",
   "execution_count": 15,
   "id": "69b67b16-bcbf-4920-930f-542df1c9e804",
   "metadata": {},
   "outputs": [],
   "source": [
    "directory_mn = \"datasets/\"\n",
    "directory_ds = \"aep/\"\n",
    "directory_xp = \"xps/\"\n",
    "directory_x1 = \"{:}/\".format(experiment)\n",
    "directory_ts = \"\"\n",
    "directory_sc = \"\"\n",
    "directory_m1 = \"{:}/\".format(exp_hours_month)\n",
    "directory_d1 = exp_hours_day\n",
    "directory_d2 = exp_hours_day_c\n",
    "\n",
    "if (is_data_ts):\n",
    "    directory_ts = \"ts/\"\n",
    "elif (not is_data_ts):\n",
    "    directory_ts = \"nts/\"\n",
    "\n",
    "if (scaler == \"standard\"):\n",
    "    directory_sc = \"standard/\"\n",
    "elif (scaler == \"minmax\"):\n",
    "    directory_sc = \"minmax/\"\n",
    "elif (True):\n",
    "    directory_sc = \"none/\""
   ]
  },
  {
   "cell_type": "code",
   "execution_count": 16,
   "id": "8216e690-3558-4e11-8b4a-e81c224f794c",
   "metadata": {},
   "outputs": [
    {
     "name": "stdout",
     "output_type": "stream",
     "text": [
      "- datasets/\n",
      "  - aep/\n",
      "    - xps/\n",
      "      - hourly/\n",
      "        - ts/\n",
      "          - minmax/\n",
      "            - 2/\n"
     ]
    }
   ],
   "source": [
    "print (\"-\", directory_mn)\n",
    "print (\"  -\", directory_ds)\n",
    "print (\"    -\", directory_xp)\n",
    "print (\"      -\", directory_x1)\n",
    "print (\"        -\", directory_ts)\n",
    "print (\"          -\", directory_sc)\n",
    "if (experiment == experiments[0]): # alldata\n",
    "    print (\"            - (no subfolders for alldata)\")\n",
    "elif (experiment == experiments[1]): # monthly\n",
    "    print (\"            - (no subfolders for monthly)\")\n",
    "elif (experiment == experiments[2]): # weekly\n",
    "    print (\"            - (no subfolders for weekly)\")\n",
    "elif (experiment == experiments[3]): # weekday\n",
    "    print (\"            - (no subfolders for weekday)\")\n",
    "elif (experiment == experiments[4]): # weekend\n",
    "    print (\"            - (no subfolders for weekend)\")\n",
    "elif (experiment == experiments[5]): # daily\n",
    "    print (\"            - (no subfolders for daily)\")\n",
    "elif (experiment == experiments[6]): # hourly\n",
    "    print (\"            -\", directory_m1)\n",
    "elif (experiment == experiments[7]): # seasonal\n",
    "    print (\"            - (no subfolders for seasonal)\")"
   ]
  },
  {
   "cell_type": "markdown",
   "id": "f8f0f8b9-00cd-4185-a1be-59176077e6c6",
   "metadata": {},
   "source": [
    "### > create directories/subdirectories"
   ]
  },
  {
   "cell_type": "code",
   "execution_count": 17,
   "id": "1926a270-57f0-4273-a4a6-d4f6e42b687b",
   "metadata": {},
   "outputs": [
    {
     "name": "stdout",
     "output_type": "stream",
     "text": [
      "\n",
      "'datasets/aep/xps/hourly/ts/minmax/2/' directory is available now!\n",
      "\n",
      "'18-29' subdirectories are bing prepared!\n",
      "- 'datasets/aep/xps/hourly/ts/minmax/2/18/' subdirectory prepared\n",
      "- 'datasets/aep/xps/hourly/ts/minmax/2/19/' subdirectory prepared\n",
      "- 'datasets/aep/xps/hourly/ts/minmax/2/20/' subdirectory prepared\n",
      "- 'datasets/aep/xps/hourly/ts/minmax/2/21/' subdirectory prepared\n",
      "- 'datasets/aep/xps/hourly/ts/minmax/2/22/' subdirectory prepared\n",
      "- 'datasets/aep/xps/hourly/ts/minmax/2/23/' subdirectory prepared\n",
      "- 'datasets/aep/xps/hourly/ts/minmax/2/24/' subdirectory prepared\n",
      "- 'datasets/aep/xps/hourly/ts/minmax/2/25/' subdirectory prepared\n",
      "- 'datasets/aep/xps/hourly/ts/minmax/2/26/' subdirectory prepared\n",
      "- 'datasets/aep/xps/hourly/ts/minmax/2/27/' subdirectory prepared\n",
      "- 'datasets/aep/xps/hourly/ts/minmax/2/28/' subdirectory prepared\n",
      "- 'datasets/aep/xps/hourly/ts/minmax/2/29/' subdirectory prepared\n"
     ]
    }
   ],
   "source": [
    "directory_final = \"\"\n",
    "\n",
    "if (experiment == experiments[0]): # alldata\n",
    "    print (\"- {:} yet\".format(\"N/A\"))\n",
    "elif (experiment == experiments[1]): # monthly\n",
    "    directory_final = \"{:}{:}{:}{:}{:}{:}\".format(\n",
    "        directory_mn,\n",
    "        directory_ds,\n",
    "        directory_xp,\n",
    "        directory_x1,\n",
    "        directory_ts,\n",
    "        directory_sc,\n",
    "    )\n",
    "    os.makedirs(directory_final, exist_ok = True)\n",
    "    print (\"\\n'{:}' directory is available now!\\n\".format(directory_final))\n",
    "elif (experiment == experiments[2]): # weekly\n",
    "    print (\"- {:} yet\".format(\"N/A\"))\n",
    "elif (experiment == experiments[3]): # weekday\n",
    "    print (\"- {:} yet\".format(\"N/A\"))\n",
    "elif (experiment == experiments[4]): # weekend\n",
    "    print (\"- {:} yet\".format(\"N/A\"))\n",
    "elif (experiment == experiments[5]): # daily\n",
    "    print (\"- {:} yet\".format(\"N/A\"))\n",
    "elif (experiment == experiments[6]): # hourly\n",
    "    directory_final = \"{:}{:}{:}{:}{:}{:}{:}\".format(\n",
    "        directory_mn,\n",
    "        directory_ds,\n",
    "        directory_xp,\n",
    "        directory_x1,\n",
    "        directory_ts,\n",
    "        directory_sc,\n",
    "        directory_m1,\n",
    "    )\n",
    "    os.makedirs(directory_final, exist_ok = True)\n",
    "    print (\"\\n'{:}' directory is available now!\".format(directory_final))\n",
    "    print (\"\\n'{:}-{:}' subdirectories are bing prepared!\".format(directory_d1, directory_d2))\n",
    "    for dayyy in range(directory_d1, directory_d2+1):\n",
    "        directory_final_hours_sub = \"{:}{:}/\".format(directory_final, dayyy)\n",
    "        os.makedirs(directory_final_hours_sub, exist_ok = True)\n",
    "        print (\"- '{:}' subdirectory prepared\".format(directory_final_hours_sub))\n",
    "elif (experiment == experiments[7]): # seasonal\n",
    "    print (\"- {:} yet\".format(\"N/A\"))"
   ]
  },
  {
   "cell_type": "markdown",
   "id": "4f7e51bc-8cdc-4d8b-a627-fd8e70ebb82a",
   "metadata": {},
   "source": [
    "## - filenames - load, store"
   ]
  },
  {
   "cell_type": "code",
   "execution_count": 18,
   "id": "c6590f4f-ee6f-4325-8bc0-f80576ed75cc",
   "metadata": {},
   "outputs": [],
   "source": [
    "filename_extension = \".csv\""
   ]
  },
  {
   "cell_type": "markdown",
   "id": "f86a3173-747d-4ce9-b948-09fc4e91cd39",
   "metadata": {},
   "source": [
    "### > set filename (to load)"
   ]
  },
  {
   "cell_type": "code",
   "execution_count": 19,
   "id": "6329c130-c955-4a2a-b3bf-d5750a2f71cc",
   "metadata": {},
   "outputs": [
    {
     "name": "stdout",
     "output_type": "stream",
     "text": [
      "\n",
      "'datasets/aep/dataset_a_alldata.csv' filename will be used for loading the dataset and preprocess it!\n",
      "\n"
     ]
    }
   ],
   "source": [
    "filename_ds = \"{:}{:}dataset_a_{:}.csv\".format(directory_mn, directory_ds, main_experiment)\n",
    "\n",
    "print (\"\\n'{:}' filename will be used for loading the dataset and preprocess it!\\n\".format(filename_ds))"
   ]
  },
  {
   "cell_type": "markdown",
   "id": "5a18a273-c3dd-427b-8305-845b3ede7d01",
   "metadata": {},
   "source": [
    "### > set filenames (to process/store)"
   ]
  },
  {
   "cell_type": "code",
   "execution_count": 20,
   "id": "8af62762-b619-425a-b934-b7e0956ff657",
   "metadata": {},
   "outputs": [
    {
     "name": "stdout",
     "output_type": "stream",
     "text": [
      "datasets/aep/xps/hourly/ts/minmax/2/18/hourlysssA2Z\n"
     ]
    }
   ],
   "source": [
    "filename_prp      = \"{:}preprocessed\".format(directory_final)\n",
    "filename_rmse     = \"{:}rmse\".format(directory_final)\n",
    "filename_rmse_top = \"{:}rmsetop\".format(directory_final)\n",
    "\n",
    "filename_exp  = \"\"\n",
    "if (experiment == experiments[0]): # alldata\n",
    "    print (\"- {:} yet\".format(\"N/A\"))\n",
    "elif (experiment == experiments[1]): # monthly\n",
    "    filename_exp  = \"{:}monthlyss{:}\".format(directory_final, \"A2Z\")\n",
    "elif (experiment == experiments[2]): # weekly\n",
    "    print (\"- {:} yet\".format(\"N/A\"))\n",
    "elif (experiment == experiments[3]): # weekday\n",
    "    print (\"- {:} yet\".format(\"N/A\"))\n",
    "elif (experiment == experiments[4]): # weekend\n",
    "    print (\"- {:} yet\".format(\"N/A\"))\n",
    "elif (experiment == experiments[5]): # daily\n",
    "    print (\"- {:} yet\".format(\"N/A\"))\n",
    "elif (experiment == experiments[6]): # hourly\n",
    "    filename_exp  = \"{:}{:}/hourlysss{:}\".format(directory_final, directory_d1, \"A2Z\")\n",
    "    print (filename_exp)\n",
    "elif (experiment == experiments[7]): # seasonal\n",
    "    print (\"- {:} yet\".format(\"N/A\"))\n",
    "\n",
    "filename_trn = \"{:}trainsssssss\".format(directory_final)\n",
    "filename_tst = \"{:}testssssssss\".format(directory_final)\n",
    "filename_ftr = \"{:}featuresssss\".format(directory_final)\n",
    "filename_trg = \"{:}targetssssss\".format(directory_final)\n",
    "\n",
    "filenames_trn = []\n",
    "filenames_tst = []\n",
    "filenames_ftr = []\n",
    "filenames_trg = []"
   ]
  },
  {
   "cell_type": "code",
   "execution_count": 21,
   "id": "fd13385c-08b8-49f9-9895-34ad98ad33b9",
   "metadata": {},
   "outputs": [
    {
     "name": "stdout",
     "output_type": "stream",
     "text": [
      "\n",
      "Filenames (TS):\n",
      "- Split # 1:\n",
      "  - datasets/aep/xps/hourly/ts/minmax/2/trainsssssss-1.csv\n",
      "  - datasets/aep/xps/hourly/ts/minmax/2/testssssssss-1.csv\n",
      "  - datasets/aep/xps/hourly/ts/minmax/2/featuresssss-1.csv\n",
      "  - datasets/aep/xps/hourly/ts/minmax/2/targetssssss-1.csv\n",
      "- Split # 2:\n",
      "  - datasets/aep/xps/hourly/ts/minmax/2/trainsssssss-2.csv\n",
      "  - datasets/aep/xps/hourly/ts/minmax/2/testssssssss-2.csv\n",
      "  - datasets/aep/xps/hourly/ts/minmax/2/featuresssss-2.csv\n",
      "  - datasets/aep/xps/hourly/ts/minmax/2/targetssssss-2.csv\n",
      "- Split # 3:\n",
      "  - datasets/aep/xps/hourly/ts/minmax/2/trainsssssss-3.csv\n",
      "  - datasets/aep/xps/hourly/ts/minmax/2/testssssssss-3.csv\n",
      "  - datasets/aep/xps/hourly/ts/minmax/2/featuresssss-3.csv\n",
      "  - datasets/aep/xps/hourly/ts/minmax/2/targetssssss-3.csv\n",
      "- Split # 4:\n",
      "  - datasets/aep/xps/hourly/ts/minmax/2/trainsssssss-4.csv\n",
      "  - datasets/aep/xps/hourly/ts/minmax/2/testssssssss-4.csv\n",
      "  - datasets/aep/xps/hourly/ts/minmax/2/featuresssss-4.csv\n",
      "  - datasets/aep/xps/hourly/ts/minmax/2/targetssssss-4.csv\n",
      "- Split # 5:\n",
      "  - datasets/aep/xps/hourly/ts/minmax/2/trainsssssss-5.csv\n",
      "  - datasets/aep/xps/hourly/ts/minmax/2/testssssssss-5.csv\n",
      "  - datasets/aep/xps/hourly/ts/minmax/2/featuresssss-5.csv\n",
      "  - datasets/aep/xps/hourly/ts/minmax/2/targetssssss-5.csv\n",
      "- Split # 6:\n",
      "  - datasets/aep/xps/hourly/ts/minmax/2/trainsssssss-6.csv\n",
      "  - datasets/aep/xps/hourly/ts/minmax/2/testssssssss-6.csv\n",
      "  - datasets/aep/xps/hourly/ts/minmax/2/featuresssss-6.csv\n",
      "  - datasets/aep/xps/hourly/ts/minmax/2/targetssssss-6.csv\n",
      "- Split # 7:\n",
      "  - datasets/aep/xps/hourly/ts/minmax/2/trainsssssss-7.csv\n",
      "  - datasets/aep/xps/hourly/ts/minmax/2/testssssssss-7.csv\n",
      "  - datasets/aep/xps/hourly/ts/minmax/2/featuresssss-7.csv\n",
      "  - datasets/aep/xps/hourly/ts/minmax/2/targetssssss-7.csv\n",
      "- Split # 8:\n",
      "  - datasets/aep/xps/hourly/ts/minmax/2/trainsssssss-8.csv\n",
      "  - datasets/aep/xps/hourly/ts/minmax/2/testssssssss-8.csv\n",
      "  - datasets/aep/xps/hourly/ts/minmax/2/featuresssss-8.csv\n",
      "  - datasets/aep/xps/hourly/ts/minmax/2/targetssssss-8.csv\n",
      "- Split # 9:\n",
      "  - datasets/aep/xps/hourly/ts/minmax/2/trainsssssss-9.csv\n",
      "  - datasets/aep/xps/hourly/ts/minmax/2/testssssssss-9.csv\n",
      "  - datasets/aep/xps/hourly/ts/minmax/2/featuresssss-9.csv\n",
      "  - datasets/aep/xps/hourly/ts/minmax/2/targetssssss-9.csv\n",
      "- Split # 10:\n",
      "  - datasets/aep/xps/hourly/ts/minmax/2/trainsssssss-10.csv\n",
      "  - datasets/aep/xps/hourly/ts/minmax/2/testssssssss-10.csv\n",
      "  - datasets/aep/xps/hourly/ts/minmax/2/featuresssss-10.csv\n",
      "  - datasets/aep/xps/hourly/ts/minmax/2/targetssssss-10.csv\n",
      "\n",
      "Prepare experiment filenames?\n",
      "- 'February' month, days 18-29 data (yes)\n",
      "\n",
      "Other filenames (TS/NTS):\n",
      "- preprocessed filename:\n",
      "  - datasets/aep/xps/hourly/ts/minmax/2/preprocessed.csv\n",
      "- rmse filename:\n",
      "  - datasets/aep/xps/hourly/ts/minmax/2/rmse.csv\n",
      "- rmse-top filename:\n",
      "  - datasets/aep/xps/hourly/ts/minmax/2/rmsetop.csv\n",
      "- experimental filenames:\n",
      "  - datasets/aep/xps/hourly/ts/minmax/2/18/hourlysss-00.csv\n",
      "  - datasets/aep/xps/hourly/ts/minmax/2/18/hourlysss-01.csv\n",
      "  - datasets/aep/xps/hourly/ts/minmax/2/18/hourlysss-02.csv\n",
      "  - datasets/aep/xps/hourly/ts/minmax/2/18/hourlysss-03.csv\n",
      "  - datasets/aep/xps/hourly/ts/minmax/2/18/hourlysss-04.csv\n",
      "  - datasets/aep/xps/hourly/ts/minmax/2/18/hourlysss-05.csv\n",
      "  - datasets/aep/xps/hourly/ts/minmax/2/18/hourlysss-06.csv\n",
      "  - datasets/aep/xps/hourly/ts/minmax/2/18/hourlysss-07.csv\n",
      "  - datasets/aep/xps/hourly/ts/minmax/2/18/hourlysss-08.csv\n",
      "  - datasets/aep/xps/hourly/ts/minmax/2/18/hourlysss-09.csv\n",
      "  - datasets/aep/xps/hourly/ts/minmax/2/18/hourlysss-10.csv\n",
      "  - datasets/aep/xps/hourly/ts/minmax/2/18/hourlysss-11.csv\n",
      "  - datasets/aep/xps/hourly/ts/minmax/2/18/hourlysss-12.csv\n",
      "  - datasets/aep/xps/hourly/ts/minmax/2/18/hourlysss-13.csv\n",
      "  - datasets/aep/xps/hourly/ts/minmax/2/18/hourlysss-14.csv\n",
      "  - datasets/aep/xps/hourly/ts/minmax/2/18/hourlysss-15.csv\n",
      "  - datasets/aep/xps/hourly/ts/minmax/2/18/hourlysss-16.csv\n",
      "  - datasets/aep/xps/hourly/ts/minmax/2/18/hourlysss-17.csv\n",
      "  - datasets/aep/xps/hourly/ts/minmax/2/18/hourlysss-18.csv\n",
      "  - datasets/aep/xps/hourly/ts/minmax/2/18/hourlysss-19.csv\n",
      "  - datasets/aep/xps/hourly/ts/minmax/2/18/hourlysss-20.csv\n",
      "  - datasets/aep/xps/hourly/ts/minmax/2/18/hourlysss-21.csv\n",
      "  - datasets/aep/xps/hourly/ts/minmax/2/18/hourlysss-22.csv\n",
      "  - datasets/aep/xps/hourly/ts/minmax/2/18/hourlysss-23.csv\n"
     ]
    }
   ],
   "source": [
    "if (is_data_ts):\n",
    "    print (\"\\nFilenames (TS):\")\n",
    "    for split in range(1, ts_n_splits+1):\n",
    "        split_filename_trn = \"{:}-{:}{:}\".format(filename_trn, split, filename_extension)\n",
    "        split_filename_tst = \"{:}-{:}{:}\".format(filename_tst, split, filename_extension)\n",
    "        split_filename_ftr = \"{:}-{:}{:}\".format(filename_ftr, split, filename_extension)\n",
    "        split_filename_trg = \"{:}-{:}{:}\".format(filename_trg, split, filename_extension)\n",
    "        \n",
    "        filenames_trn.append(split_filename_trn)\n",
    "        filenames_tst.append(split_filename_tst)\n",
    "        filenames_ftr.append(split_filename_ftr)\n",
    "        filenames_trg.append(split_filename_trg)\n",
    "        \n",
    "        print (\"- Split # {:}:\".format(split))\n",
    "        print (\"  - {:}\".format(split_filename_trn))\n",
    "        print (\"  - {:}\".format(split_filename_tst))\n",
    "        print (\"  - {:}\".format(split_filename_ftr))\n",
    "        print (\"  - {:}\".format(split_filename_trg))\n",
    "elif (not is_data_ts):\n",
    "    print (\"\\nFilenames (NTS):\")\n",
    "    split_filename_trn = \"{:}{:}\".format(filename_trn, filename_extension)\n",
    "    split_filename_tst = \"{:}{:}\".format(filename_tst, filename_extension)\n",
    "    split_filename_ftr = \"{:}{:}\".format(filename_ftr, filename_extension)\n",
    "    split_filename_trg = \"{:}{:}\".format(filename_trg, filename_extension)\n",
    "    print (\" - {:}\".format(split_filename_trn))\n",
    "    print (\" - {:}\".format(split_filename_tst))\n",
    "    print (\" - {:}\".format(split_filename_ftr))\n",
    "    print (\" - {:}\".format(split_filename_trg))\n",
    "\n",
    "filename_prp_final      = \"{:}{:}\".format(filename_prp, filename_extension)\n",
    "filename_rmse_final     = \"{:}{:}\".format(filename_rmse, filename_extension)\n",
    "filename_rmse_final_top = \"{:}{:}\".format(filename_rmse_top, filename_extension)\n",
    "filenames_exp_final = []\n",
    "\n",
    "print (\"\\nPrepare experiment filenames?\")\n",
    "if (experiment == experiments[0]): #alldata\n",
    "    print (\"- {:} yet\".format(\"N/A\"))\n",
    "elif (experiment == experiments[1]): #monthly:\n",
    "    print (\"- {:} month data (yes)\".format(exp_months))\n",
    "    for exp_month in range(exp_months_start, exp_months_end+1):\n",
    "        filename_exp_postfix = \"-\" + str(exp_month).zfill(2)\n",
    "        filename_exp_final   = \"{:}{:}\".format(filename_exp, filename_extension).replace(\"A2Z\", filename_exp_postfix)\n",
    "        filenames_exp_final.append(filename_exp_final)\n",
    "elif (experiment == experiments[2]): # weekly\n",
    "    print (\"- {:} yet\".format(\"N/A\"))\n",
    "elif (experiment == experiments[3]): # weekday\n",
    "    print (\"- {:} yet\".format(\"N/A\"))\n",
    "elif (experiment == experiments[4]): # weekend\n",
    "    print (\"- {:} yet\".format(\"N/A\"))\n",
    "elif (experiment == experiments[5]): # daily\n",
    "    print (\"- {:} yet\".format(\"N/A\"))\n",
    "elif (experiment == experiments[6]): # hourly\n",
    "    print (\"- '{:}' month, days {:}-{:} data (yes)\".format(calendar.month_name[exp_hours_month], exp_hours_day, exp_hours_day_c))\n",
    "    for exp_hour in range(exp_hours_start, exp_hours_end+1):\n",
    "        filename_exp_postfix = \"-\" + str(exp_hour).zfill(2)\n",
    "        # filename_exp_final   = \"{:}{:}\".format(filename_exp, filename_extension).replace(\"A2Z\", filename_exp_postfix)\n",
    "        filename_exp_final   = \"{:}{:}\".format(filename_exp, filename_extension).replace(\"A2Z\", filename_exp_postfix)\n",
    "        filenames_exp_final.append(filename_exp_final)\n",
    "elif (experiment == experiments[7]): # seasonal\n",
    "    print (\"- {:} yet\".format(\"N/A\"))\n",
    "    \n",
    "print (\"\\nOther filenames (TS/NTS):\")\n",
    "print (\"- preprocessed filename:\")\n",
    "print (\"  - {:}\".format(filename_prp_final))\n",
    "print (\"- rmse filename:\")\n",
    "print (\"  - {:}\".format(filename_rmse_final))\n",
    "print (\"- rmse-top filename:\")\n",
    "print (\"  - {:}\".format(filename_rmse_final_top))\n",
    "print (\"- experimental filenames:\\n  - \", end = \"\")\n",
    "print (\"\\n  - \".join(filenames_exp_final))"
   ]
  },
  {
   "cell_type": "markdown",
   "id": "ac4a0784-9f22-4a21-908c-7ec1f9f94a66",
   "metadata": {
    "tags": []
   },
   "source": [
    "# 1. Load the dataset"
   ]
  },
  {
   "cell_type": "code",
   "execution_count": 22,
   "id": "6b1dc8d8-36eb-4e4b-9281-650ed7ceba67",
   "metadata": {},
   "outputs": [],
   "source": [
    "df = read_csv(filename_ds)"
   ]
  },
  {
   "cell_type": "code",
   "execution_count": 23,
   "id": "b3c13aa0-1612-464f-b1c2-eea7c2fed86b",
   "metadata": {},
   "outputs": [
    {
     "data": {
      "text/html": [
       "<div>\n",
       "<style scoped>\n",
       "    .dataframe tbody tr th:only-of-type {\n",
       "        vertical-align: middle;\n",
       "    }\n",
       "\n",
       "    .dataframe tbody tr th {\n",
       "        vertical-align: top;\n",
       "    }\n",
       "\n",
       "    .dataframe thead th {\n",
       "        text-align: right;\n",
       "    }\n",
       "</style>\n",
       "<table border=\"1\" class=\"dataframe\">\n",
       "  <thead>\n",
       "    <tr style=\"text-align: right;\">\n",
       "      <th></th>\n",
       "      <th>time</th>\n",
       "      <th>temp</th>\n",
       "      <th>sky</th>\n",
       "      <th>ws</th>\n",
       "      <th>wd</th>\n",
       "      <th>wdEn</th>\n",
       "      <th>reh</th>\n",
       "      <th>appl</th>\n",
       "    </tr>\n",
       "  </thead>\n",
       "  <tbody>\n",
       "    <tr>\n",
       "      <th>0</th>\n",
       "      <td>2023-02-25 18:00:00</td>\n",
       "      <td>3.0</td>\n",
       "      <td>1</td>\n",
       "      <td>2.1</td>\n",
       "      <td>7</td>\n",
       "      <td>NW</td>\n",
       "      <td>30</td>\n",
       "      <td>45</td>\n",
       "    </tr>\n",
       "    <tr>\n",
       "      <th>1</th>\n",
       "      <td>2023-02-25 21:00:00</td>\n",
       "      <td>-1.0</td>\n",
       "      <td>1</td>\n",
       "      <td>2.1</td>\n",
       "      <td>7</td>\n",
       "      <td>NW</td>\n",
       "      <td>45</td>\n",
       "      <td>60</td>\n",
       "    </tr>\n",
       "    <tr>\n",
       "      <th>2</th>\n",
       "      <td>2023-02-25 00:00:00</td>\n",
       "      <td>-3.0</td>\n",
       "      <td>1</td>\n",
       "      <td>1.8</td>\n",
       "      <td>7</td>\n",
       "      <td>NW</td>\n",
       "      <td>60</td>\n",
       "      <td>40</td>\n",
       "    </tr>\n",
       "    <tr>\n",
       "      <th>3</th>\n",
       "      <td>2023-02-26 03:00:00</td>\n",
       "      <td>-4.0</td>\n",
       "      <td>1</td>\n",
       "      <td>1.1</td>\n",
       "      <td>7</td>\n",
       "      <td>NW</td>\n",
       "      <td>75</td>\n",
       "      <td>30</td>\n",
       "    </tr>\n",
       "    <tr>\n",
       "      <th>4</th>\n",
       "      <td>2023-02-26 06:00:00</td>\n",
       "      <td>-5.0</td>\n",
       "      <td>1</td>\n",
       "      <td>1.8</td>\n",
       "      <td>7</td>\n",
       "      <td>NW</td>\n",
       "      <td>80</td>\n",
       "      <td>40</td>\n",
       "    </tr>\n",
       "  </tbody>\n",
       "</table>\n",
       "</div>"
      ],
      "text/plain": [
       "                  time  temp  sky   ws  wd wdEn  reh  appl\n",
       "0  2023-02-25 18:00:00   3.0    1  2.1   7   NW   30    45\n",
       "1  2023-02-25 21:00:00  -1.0    1  2.1   7   NW   45    60\n",
       "2  2023-02-25 00:00:00  -3.0    1  1.8   7   NW   60    40\n",
       "3  2023-02-26 03:00:00  -4.0    1  1.1   7   NW   75    30\n",
       "4  2023-02-26 06:00:00  -5.0    1  1.8   7   NW   80    40"
      ]
     },
     "execution_count": 23,
     "metadata": {},
     "output_type": "execute_result"
    }
   ],
   "source": [
    "df.head().round(1)"
   ]
  },
  {
   "cell_type": "markdown",
   "id": "a5b9bc1e-dd3a-405f-8bc4-acf83d3a0034",
   "metadata": {
    "tags": []
   },
   "source": [
    "# 2. Analyze and Preprocess the dataset"
   ]
  },
  {
   "cell_type": "markdown",
   "id": "9582ff0e-a91b-467a-a99b-32f549387447",
   "metadata": {
    "tags": []
   },
   "source": [
    "## - rows (records), columns (feature(s) and target(s))"
   ]
  },
  {
   "cell_type": "code",
   "execution_count": 24,
   "id": "fec14992-24f1-4447-9895-0314e4a99f9e",
   "metadata": {},
   "outputs": [
    {
     "name": "stdout",
     "output_type": "stream",
     "text": [
      "\n",
      "Dataset contains\n",
      " - Rows:\t123\n",
      " - Columns:\t8\n",
      "   -  \"time\", \"temp\", \"sky\", \"ws\", \"wd\", \"wdEn\", \"reh\", \"appl\"\n"
     ]
    }
   ],
   "source": [
    "print (\n",
    "    \"\\nDataset contains\\n - Rows:\\t{:}\\n - Columns:\\t{:}\".format(df.shape[0], df.shape[1])\n",
    ")\n",
    "for i in range(0, len(df.columns), 8):\n",
    "    print (\"   - \", \", \".join([\"\\\"{:}\\\"\".format(i) for i in df.columns[i:i+8]]))"
   ]
  },
  {
   "cell_type": "markdown",
   "id": "a04467e0-a0e0-4678-859c-a3ef9db4a7f7",
   "metadata": {},
   "source": [
    "## - analyze/check the number of nulls"
   ]
  },
  {
   "cell_type": "code",
   "execution_count": 25,
   "id": "15dcbf8f-0ff8-4e50-90e2-0c279c8d8dd9",
   "metadata": {},
   "outputs": [
    {
     "name": "stdout",
     "output_type": "stream",
     "text": [
      "time    0\n",
      "temp    0\n",
      "sky     0\n",
      "ws      0\n",
      "wd      0\n",
      "wdEn    0\n",
      "reh     0\n",
      "appl    0\n",
      "dtype: int64\n"
     ]
    }
   ],
   "source": [
    "print (df.isnull().sum().sort_values(ascending = True))"
   ]
  },
  {
   "cell_type": "markdown",
   "id": "dd4f13d1-85da-4af1-8ee7-c57cdd4199cc",
   "metadata": {},
   "source": [
    "## - preprocess (fill in) the number of nulls"
   ]
  },
  {
   "cell_type": "markdown",
   "id": "92144e2b-663d-45b4-bba2-d9aa5071165a",
   "metadata": {},
   "source": [
    "    - From the analysis of nulls in the feature set, we found out that there are no nulls in the dataset. So, by this analysis, we conclude that the data has no gaps. Hence, referring to continuous data."
   ]
  },
  {
   "cell_type": "code",
   "execution_count": 26,
   "id": "fe8dfae8-9be2-4bec-ae3d-e9d87390d8be",
   "metadata": {},
   "outputs": [
    {
     "name": "stdout",
     "output_type": "stream",
     "text": [
      "\n",
      "No nulls (no need to remove nulls)!\n",
      "\n"
     ]
    }
   ],
   "source": [
    "if(\n",
    "    df.isnull().sum().sort_values(ascending = True).min() == 0\n",
    "    and df.isnull().sum().sort_values(ascending = True).max() == 0\n",
    "):\n",
    "    print (\"\\nNo nulls (no need to remove nulls)!\\n\")\n",
    "else:\n",
    "    print (\"\\nNulls exist (need to remove nulls)!\\n\")"
   ]
  },
  {
   "cell_type": "markdown",
   "id": "bb9b82f5-55fa-4be6-8ea1-303ef43af619",
   "metadata": {},
   "source": [
    "## - analyze/check the number of zeros (column value counts)"
   ]
  },
  {
   "cell_type": "markdown",
   "id": "9be223bb-50ea-4b53-8c6b-adbcd3fe24b0",
   "metadata": {},
   "source": [
    "    - From the analysis of zero valued counts in the feature set, we found out that the feature 'lights' has '15252' zeros in the data which is a very much number, and needs to be removed from the feature set. This analysis shows that the feature 'light' has no impact on the appliance energy consumption. So, it needs to be dropped from the feature set."
   ]
  },
  {
   "cell_type": "code",
   "execution_count": 27,
   "id": "118a2020-c59e-48ae-8d9c-454ac5056eff",
   "metadata": {},
   "outputs": [
    {
     "name": "stdout",
     "output_type": "stream",
     "text": [
      " - Too many \"123\" value counts in column \"time\".\n",
      "\n",
      " - column \"temp\" has a few value counts, unique items, i.e., \"26 <= 26\".\n",
      "   - So, the \"temp\" column has:\n",
      "     - 11\t4.0's\n",
      "     - 9\t-1.0's\n",
      "     - 8\t10.0's\n",
      "     - 8\t5.0's\n",
      "     - 8\t8.0's\n",
      "     - 8\t0.0's\n",
      "     - 7\t6.0's\n",
      "     - 6\t9.0's\n",
      "     - 6\t-3.0's\n",
      "     - 5\t3.0's\n",
      "     - 5\t1.0's\n",
      "     - 5\t7.0's\n",
      "     - 5\t11.0's\n",
      "     - 4\t2.0's\n",
      "     - 4\t-2.0's\n",
      "     - 4\t12.0's\n",
      "     - 4\t13.0's\n",
      "     - 3\t18.0's\n",
      "     - 3\t15.0's\n",
      "     - 3\t14.0's\n",
      "     - 2\t17.0's\n",
      "     - 1\t-5.0's\n",
      "     - 1\t-4.0's\n",
      "     - 1\t22.0's\n",
      "     - 1\t21.0's\n",
      "     - 1\t23.0's\n",
      "\n",
      "\n",
      " - column \"sky\" has a few value counts, unique items, i.e., \"3 <= 26\".\n",
      "   - So, the \"sky\" column has:\n",
      "     - 66\t1's\n",
      "     - 29\t3's\n",
      "     - 28\t4's\n",
      "\n",
      " - Too many \"49\" value counts in column \"ws\".\n",
      "\n",
      " - column \"wd\" has a few value counts, unique items, i.e., \"6 <= 26\".\n",
      "   - So, the \"wd\" column has:\n",
      "     - 43\t7's\n",
      "     - 28\t5's\n",
      "     - 19\t4's\n",
      "     - 18\t6's\n",
      "     - 8\t0's\n",
      "     - 7\t3's\n",
      "\n",
      "\n",
      " - column \"wdEn\" has a few value counts, unique items, i.e., \"6 <= 26\".\n",
      "   - So, the \"wdEn\" column has:\n",
      "     - 43\tNW's\n",
      "     - 28\tSW's\n",
      "     - 19\tS's\n",
      "     - 18\tW's\n",
      "     - 8\tN's\n",
      "     - 7\tSE's\n",
      "\n",
      "\n",
      " - column \"reh\" has a few value counts, unique items, i.e., \"17 <= 26\".\n",
      "   - So, the \"reh\" column has:\n",
      "     - 13\t55's\n",
      "     - 11\t30's\n",
      "     - 10\t45's\n",
      "     - 9\t60's\n",
      "     - 9\t90's\n",
      "     - 8\t85's\n",
      "     - 8\t70's\n",
      "     - 8\t65's\n",
      "     - 7\t40's\n",
      "     - 7\t80's\n",
      "     - 7\t95's\n",
      "     - 7\t50's\n",
      "     - 6\t75's\n",
      "     - 4\t35's\n",
      "     - 3\t100's\n",
      "     - 3\t25's\n",
      "     - 3\t20's\n",
      "\n",
      "\n",
      " - column \"appl\" has a few value counts, unique items, i.e., \"6 <= 26\".\n",
      "   - So, the \"appl\" column has:\n",
      "     - 31\t60's\n",
      "     - 31\t40's\n",
      "     - 16\t45's\n",
      "     - 15\t30's\n",
      "     - 15\t10's\n",
      "     - 15\t20's\n",
      "\n"
     ]
    }
   ],
   "source": [
    "max_unique_vals_allowed = 26\n",
    "for col in df.columns:\n",
    "    value_counts = df[col].value_counts()\n",
    "    if (len(value_counts) <= max_unique_vals_allowed):\n",
    "        print (\"\\n - column \\\"{:}\\\" has a few value counts, unique items, i.e., \\\"{:} <= {:}\\\".\\n   - So, the \\\"{:}\\\" column has:\".format(\n",
    "            col, len(value_counts), max_unique_vals_allowed, col\n",
    "        ))\n",
    "        print (\"\\n\".join([\"     - {:}\\t{:}'s\".format(v, i) for i, v in df[col].value_counts().iteritems()]))\n",
    "        print (\"\")\n",
    "    else:\n",
    "        print (\" - Too many \\\"{:}\\\" value counts in column \\\"{:}\\\".\".format(len(value_counts), col, max_unique_vals_allowed))"
   ]
  },
  {
   "cell_type": "markdown",
   "id": "e06cafa9-0918-42ff-9c75-ee0c9a03dce1",
   "metadata": {},
   "source": [
    "## - preprocess (drop) the number of zeros (i.e., unnecessary columns: lights)"
   ]
  },
  {
   "cell_type": "code",
   "execution_count": 28,
   "id": "4688fdf2-edc4-4ae2-8842-546b4b825f45",
   "metadata": {},
   "outputs": [
    {
     "name": "stdout",
     "output_type": "stream",
     "text": [
      "\n",
      "Dropping column(s):\n",
      "\n",
      "Done!\n",
      "\n"
     ]
    }
   ],
   "source": [
    "columns_to_drop_now = []\n",
    "\n",
    "print (\"\\nDropping column(s):\")\n",
    "for col in columns_to_drop_now:\n",
    "    print (\" - \\\"{:}\\\" ...\".format(col))\n",
    "    df.drop([col], axis=1 , inplace= True)\n",
    "print (\"\\nDone!\\n\")"
   ]
  },
  {
   "cell_type": "code",
   "execution_count": 29,
   "id": "1c60a944-e732-4238-9fd1-d3337cf6549b",
   "metadata": {},
   "outputs": [
    {
     "data": {
      "text/html": [
       "<div>\n",
       "<style scoped>\n",
       "    .dataframe tbody tr th:only-of-type {\n",
       "        vertical-align: middle;\n",
       "    }\n",
       "\n",
       "    .dataframe tbody tr th {\n",
       "        vertical-align: top;\n",
       "    }\n",
       "\n",
       "    .dataframe thead th {\n",
       "        text-align: right;\n",
       "    }\n",
       "</style>\n",
       "<table border=\"1\" class=\"dataframe\">\n",
       "  <thead>\n",
       "    <tr style=\"text-align: right;\">\n",
       "      <th></th>\n",
       "      <th>time</th>\n",
       "      <th>temp</th>\n",
       "      <th>sky</th>\n",
       "      <th>ws</th>\n",
       "      <th>wd</th>\n",
       "      <th>wdEn</th>\n",
       "      <th>reh</th>\n",
       "      <th>appl</th>\n",
       "    </tr>\n",
       "  </thead>\n",
       "  <tbody>\n",
       "    <tr>\n",
       "      <th>0</th>\n",
       "      <td>2023-02-25 18:00:00</td>\n",
       "      <td>3.0</td>\n",
       "      <td>1</td>\n",
       "      <td>2.1</td>\n",
       "      <td>7</td>\n",
       "      <td>NW</td>\n",
       "      <td>30</td>\n",
       "      <td>45</td>\n",
       "    </tr>\n",
       "    <tr>\n",
       "      <th>1</th>\n",
       "      <td>2023-02-25 21:00:00</td>\n",
       "      <td>-1.0</td>\n",
       "      <td>1</td>\n",
       "      <td>2.1</td>\n",
       "      <td>7</td>\n",
       "      <td>NW</td>\n",
       "      <td>45</td>\n",
       "      <td>60</td>\n",
       "    </tr>\n",
       "    <tr>\n",
       "      <th>2</th>\n",
       "      <td>2023-02-25 00:00:00</td>\n",
       "      <td>-3.0</td>\n",
       "      <td>1</td>\n",
       "      <td>1.8</td>\n",
       "      <td>7</td>\n",
       "      <td>NW</td>\n",
       "      <td>60</td>\n",
       "      <td>40</td>\n",
       "    </tr>\n",
       "    <tr>\n",
       "      <th>3</th>\n",
       "      <td>2023-02-26 03:00:00</td>\n",
       "      <td>-4.0</td>\n",
       "      <td>1</td>\n",
       "      <td>1.1</td>\n",
       "      <td>7</td>\n",
       "      <td>NW</td>\n",
       "      <td>75</td>\n",
       "      <td>30</td>\n",
       "    </tr>\n",
       "    <tr>\n",
       "      <th>4</th>\n",
       "      <td>2023-02-26 06:00:00</td>\n",
       "      <td>-5.0</td>\n",
       "      <td>1</td>\n",
       "      <td>1.8</td>\n",
       "      <td>7</td>\n",
       "      <td>NW</td>\n",
       "      <td>80</td>\n",
       "      <td>40</td>\n",
       "    </tr>\n",
       "  </tbody>\n",
       "</table>\n",
       "</div>"
      ],
      "text/plain": [
       "                  time  temp  sky   ws  wd wdEn  reh  appl\n",
       "0  2023-02-25 18:00:00   3.0    1  2.1   7   NW   30    45\n",
       "1  2023-02-25 21:00:00  -1.0    1  2.1   7   NW   45    60\n",
       "2  2023-02-25 00:00:00  -3.0    1  1.8   7   NW   60    40\n",
       "3  2023-02-26 03:00:00  -4.0    1  1.1   7   NW   75    30\n",
       "4  2023-02-26 06:00:00  -5.0    1  1.8   7   NW   80    40"
      ]
     },
     "execution_count": 29,
     "metadata": {},
     "output_type": "execute_result"
    }
   ],
   "source": [
    "df.head().round(1)"
   ]
  },
  {
   "cell_type": "markdown",
   "id": "37c9fec4-df9b-4215-88af-3e682280b3f5",
   "metadata": {},
   "source": [
    "## - analyze/check the correlation of dataset"
   ]
  },
  {
   "cell_type": "markdown",
   "id": "69e5b01c-c847-487d-b317-a5f66959522b",
   "metadata": {},
   "source": [
    "### > initializing features/targets"
   ]
  },
  {
   "cell_type": "code",
   "execution_count": 30,
   "id": "b79f8686-d10b-441d-8ef5-a8b522947056",
   "metadata": {},
   "outputs": [],
   "source": [
    "col_features = col_time + col_temp + col_hum + col_weather\n",
    "feature_vars = df[ col_features ].copy(deep = True)\n",
    "targets_vars = df[ col_target ].copy(deep = True)"
   ]
  },
  {
   "cell_type": "markdown",
   "id": "23fddf66-a8a5-43b1-8de9-5dd533d0ce8d",
   "metadata": {},
   "source": [
    "### > displaying features/targets details"
   ]
  },
  {
   "cell_type": "code",
   "execution_count": 31,
   "id": "0ea2ec08-d436-440c-9635-6650736fd774",
   "metadata": {},
   "outputs": [
    {
     "name": "stdout",
     "output_type": "stream",
     "text": [
      "\n",
      "Features:\n",
      " - Rows: 123\n",
      " - Columns: 5\n",
      "   -  \"time\", \"temp\", \"reh\", \"wd\", \"ws\"\n",
      "\n",
      "Targets:\n",
      " - Rows: 123\n",
      " - Columns: 1\n",
      "   -  \"appl\"\n",
      "\n"
     ]
    }
   ],
   "source": [
    "rec_features = len(feature_vars)\n",
    "num_features = len(col_features)\n",
    "print (\n",
    "    \"\\nFeatures:\\n - Rows: {:}\\n - Columns: {:}\".format(rec_features, num_features)\n",
    ")\n",
    "for i in range(0, num_features, 7):\n",
    "    print (\"   - \", \", \".join([\"\\\"{:}\\\"\".format(i) for i in col_features[i:i+7]]))\n",
    "\n",
    "rec_targets = len(targets_vars)\n",
    "num_targets = len(col_target)\n",
    "print (\n",
    "    \"\\nTargets:\\n - Rows: {:}\\n - Columns: {:}\".format(rec_targets, num_targets)\n",
    ")\n",
    "for i in range(0, num_targets, 5):\n",
    "    print (\"   - \", \", \".join([\"\\\"{:}\\\"\".format(i) for i in col_target[i:i+5]]))\n",
    "print (\"\")"
   ]
  },
  {
   "cell_type": "markdown",
   "id": "b20c99f7-866e-44f0-afa2-ead37e6e57a8",
   "metadata": {},
   "source": [
    "### > correltion analysis"
   ]
  },
  {
   "cell_type": "code",
   "execution_count": 32,
   "id": "9f3193de-37cf-4957-9cc1-f76a3ca7c6bb",
   "metadata": {},
   "outputs": [],
   "source": [
    "cols_corr = list(df.columns)\n",
    "cols_corr.remove(\"time\")\n",
    "cols_corr.insert(len(cols_corr), cols_corr.pop(cols_corr.index(\"appl\")))\n",
    "\n",
    "df_corr = df[ cols_corr ]\n",
    "corr = df_corr.corr()"
   ]
  },
  {
   "cell_type": "markdown",
   "id": "191b36ae-1da1-48ca-bb25-bd73ef97f30f",
   "metadata": {},
   "source": [
    "#### = low score features"
   ]
  },
  {
   "cell_type": "code",
   "execution_count": 33,
   "id": "ca92d411-8fae-44f8-9689-2bf5d176bc71",
   "metadata": {},
   "outputs": [],
   "source": [
    "corr_filter_min = 0.02\n",
    "corr_filtered_low = corr[[\"appl\"]].round(3).copy(deep = True)\n",
    "corr_filtered_low = corr_filtered_low[\n",
    "    abs(corr_filtered_low[\"appl\"]) < corr_filter_min\n",
    "]"
   ]
  },
  {
   "cell_type": "code",
   "execution_count": 34,
   "id": "080bd247-7fe9-4628-9603-9a153a76f99f",
   "metadata": {},
   "outputs": [
    {
     "name": "stdout",
     "output_type": "stream",
     "text": [
      "\n",
      "Below shown columns need to be dropped (due to low score)\n",
      "- ['sky']\n"
     ]
    }
   ],
   "source": [
    "corr_filtered_low_to_del = list(corr_filtered_low.index)\n",
    "print (\"\\nBelow shown columns need to be dropped (due to low score)\")\n",
    "print (\"-\", corr_filtered_low_to_del)"
   ]
  },
  {
   "cell_type": "markdown",
   "id": "4dbb3975-b783-4971-8ba7-9f04eec43899",
   "metadata": {},
   "source": [
    "#### = redundant features"
   ]
  },
  {
   "cell_type": "code",
   "execution_count": 35,
   "id": "29aa87fc-b298-4db3-b3f0-f7be5680f7c1",
   "metadata": {},
   "outputs": [],
   "source": [
    "corr_filter_red = 0.95\n",
    "corr_filtered_red = corr.round(3).copy(deep = True)\n",
    "corr_filtered_red = corr_filtered_red[\n",
    "    (abs(corr_filtered_red) > corr_filter_red)\n",
    "]"
   ]
  },
  {
   "cell_type": "code",
   "execution_count": 36,
   "id": "66b5e17d-3c9e-4e19-9d3e-ace3a6f9550e",
   "metadata": {},
   "outputs": [
    {
     "name": "stdout",
     "output_type": "stream",
     "text": [
      "\n",
      "Either of these need to be dropped: []\n",
      "\n"
     ]
    }
   ],
   "source": [
    "corr_filter_red_list = []\n",
    "\n",
    "for corr_filtered_red_col in corr_filtered_red.columns:\n",
    "    corr_filter_red_drop = 0\n",
    "    for value in corr_filtered_red[corr_filtered_red_col]:\n",
    "        if (not math.isnan(value)):\n",
    "            corr_filter_red_drop += 1\n",
    "    if (corr_filter_red_drop > 1):\n",
    "        corr_filter_red_list.append(corr_filtered_red_col)\n",
    "print (\"\\nEither of these need to be dropped: {:}\\n\".format(corr_filter_red_list))"
   ]
  },
  {
   "cell_type": "code",
   "execution_count": 37,
   "id": "0a971898-3e9a-4812-8715-3c81c61b90be",
   "metadata": {},
   "outputs": [
    {
     "name": "stdout",
     "output_type": "stream",
     "text": [
      "\n",
      "Above statement says to:\n",
      "- delete either None\n",
      "\n"
     ]
    }
   ],
   "source": [
    "print (\"\\nAbove statement says to:\\n- delete either None\")\n",
    "# print (\"\\nAs we are deleting rv1 and rv2 both due to their scores, just ignore them\")\n",
    "# print (\"So, either delete 'T6' or 'T_out'.\")\n",
    "print (\"\")"
   ]
  },
  {
   "cell_type": "code",
   "execution_count": 38,
   "id": "33a8a20a-22c6-497d-9b08-9ee560478ea7",
   "metadata": {},
   "outputs": [
    {
     "name": "stdout",
     "output_type": "stream",
     "text": [
      "\n",
      "Below shown columns need to be dropped (due to redundancy)\n",
      "- []\n"
     ]
    }
   ],
   "source": [
    "corr_filtered_red_to_del = []\n",
    "print (\"\\nBelow shown columns need to be dropped (due to redundancy)\")\n",
    "print (\"-\", corr_filtered_red_to_del)"
   ]
  },
  {
   "cell_type": "markdown",
   "id": "dab2c4d5-236f-472a-b1b5-de4ca6d07d11",
   "metadata": {},
   "source": [
    "#### = correlation graph - visualize low score and redundant features"
   ]
  },
  {
   "cell_type": "code",
   "execution_count": 39,
   "id": "6dbd11e4-d102-49f7-8d15-bdb8759f2e0b",
   "metadata": {},
   "outputs": [
    {
     "name": "stderr",
     "output_type": "stream",
     "text": [
      "/tmp/ipykernel_168247/1999619302.py:4: DeprecationWarning: `np.bool` is a deprecated alias for the builtin `bool`. To silence this warning, use `bool` by itself. Doing this will not modify any behavior and is safe. If you specifically wanted the numpy scalar type, use `np.bool_` here.\n",
      "Deprecated in NumPy 1.20; for more details and guidance: https://numpy.org/devdocs/release/1.20.0-notes.html#deprecations\n",
      "  dtype = np.bool\n"
     ]
    },
    {
     "data": {
      "image/png": "[encoded data removed]",
      "text/plain": [
       "<Figure size 1600x1400 with 2 Axes>"
      ]
     },
     "metadata": {},
     "output_type": "display_data"
    }
   ],
   "source": [
    "# Mask the repeated values\n",
    "mask = np.zeros_like(\n",
    "    corr,\n",
    "    dtype = np.bool\n",
    ")\n",
    "mask[np.triu_indices_from(mask)] = True\n",
    "\n",
    "# plotting via matplotlib\n",
    "f, ax = plt.subplots(figsize=(16, 14))\n",
    "\n",
    "# Generate Heat Map, allow annotations and place floats in map\n",
    "heatmap(\n",
    "    corr,\n",
    "    annot = True,\n",
    "    fmt = \".2f\",\n",
    "    mask = mask,\n",
    "    cmap = \"Greens\"\n",
    ")\n",
    "\n",
    "# Apply xticks and yticks\n",
    "plt.xticks(\n",
    "    range(len(corr.columns)),\n",
    "    corr.columns\n",
    ")\n",
    "plt.yticks(\n",
    "    range(len(corr.columns)),\n",
    "    corr.columns\n",
    ")\n",
    "plt.show()"
   ]
  },
  {
   "cell_type": "markdown",
   "id": "f71f621a-be8d-4020-9f1f-1d28cf74db00",
   "metadata": {},
   "source": [
    "    - From the correlation analysis, it can be seen that the appliance relation to the feature set is given in the last row of this figure. It can be seen that the values having a very low impact over the appliance energy consumption are 'RH_4', 'RH_5', 'T9', 'Visibility', 'Tdewpoint', 'rv1', and 'rv2'. There are several reasons of these features having such a low impact on the appliance energy consumption.\n",
    "\n",
    "    - 'RH_4' and 'RH_5' refer to the humidity measures of office and bath room where the energy enhancement can not be made much at homes. So dropping this feature will not affect the energy forecast performance. In addition to this, as 'T9' is the parents room, and there is not much energy consumption in that room, so it can also be dropped. Similarly, 'Visibility' and 'Dew-point' are also dropped due to ther no impact over the appliance energy consumption.\n",
    "\n",
    "    - As the 'T6' and 'T_out' both refer to the outdoor temperature of that area. So, one of these features can be removed. It is numerically shown in the correlation graph where the 'T6' and 'T_out' cross each other to have a value of 0.97, which shows the similarity of both features. This is called redundancy, which is a necessary part of the preprocessing dataset."
   ]
  },
  {
   "cell_type": "markdown",
   "id": "f1ad3912-86f1-4f66-9f38-79740bf61429",
   "metadata": {},
   "source": [
    "## - preprocess (drop) columns based on correlation analysis"
   ]
  },
  {
   "cell_type": "code",
   "execution_count": 40,
   "id": "0589ca94-ac5c-42a7-8687-25e145740456",
   "metadata": {},
   "outputs": [
    {
     "name": "stdout",
     "output_type": "stream",
     "text": [
      "\n",
      "Columns that need to be removed are:\n",
      "- ['sky']\n",
      "   - (due to low impact)\n",
      "- []\n",
      "   - (due to redundancy)\n"
     ]
    }
   ],
   "source": [
    "drop_cols_corr = corr_filtered_low_to_del + corr_filtered_red_to_del\n",
    "print (\"\\nColumns that need to be removed are:\")\n",
    "print (\"- {:}\\n   - (due to low impact)\".format(corr_filtered_low_to_del))\n",
    "print (\"- {:}\\n   - (due to redundancy)\".format(corr_filtered_red_to_del))"
   ]
  },
  {
   "cell_type": "markdown",
   "id": "48020bc4-6d2a-42e0-be41-7618109cee46",
   "metadata": {},
   "source": [
    "### > dropping both low impact and redundant columns"
   ]
  },
  {
   "cell_type": "code",
   "execution_count": 41,
   "id": "e76b558e-2b94-4da9-bf71-40e6b499c26c",
   "metadata": {},
   "outputs": [],
   "source": [
    "df.drop(\n",
    "    drop_cols_corr,\n",
    "    axis = 1,\n",
    "    inplace = True\n",
    ")"
   ]
  },
  {
   "cell_type": "code",
   "execution_count": 42,
   "id": "63f3779a-5b87-40a8-9b88-0a46f5d182ca",
   "metadata": {},
   "outputs": [
    {
     "data": {
      "text/html": [
       "<div>\n",
       "<style scoped>\n",
       "    .dataframe tbody tr th:only-of-type {\n",
       "        vertical-align: middle;\n",
       "    }\n",
       "\n",
       "    .dataframe tbody tr th {\n",
       "        vertical-align: top;\n",
       "    }\n",
       "\n",
       "    .dataframe thead th {\n",
       "        text-align: right;\n",
       "    }\n",
       "</style>\n",
       "<table border=\"1\" class=\"dataframe\">\n",
       "  <thead>\n",
       "    <tr style=\"text-align: right;\">\n",
       "      <th></th>\n",
       "      <th>time</th>\n",
       "      <th>temp</th>\n",
       "      <th>ws</th>\n",
       "      <th>wd</th>\n",
       "      <th>wdEn</th>\n",
       "      <th>reh</th>\n",
       "      <th>appl</th>\n",
       "    </tr>\n",
       "  </thead>\n",
       "  <tbody>\n",
       "    <tr>\n",
       "      <th>0</th>\n",
       "      <td>2023-02-25 18:00:00</td>\n",
       "      <td>3.0</td>\n",
       "      <td>2.1</td>\n",
       "      <td>7</td>\n",
       "      <td>NW</td>\n",
       "      <td>30</td>\n",
       "      <td>45</td>\n",
       "    </tr>\n",
       "    <tr>\n",
       "      <th>1</th>\n",
       "      <td>2023-02-25 21:00:00</td>\n",
       "      <td>-1.0</td>\n",
       "      <td>2.1</td>\n",
       "      <td>7</td>\n",
       "      <td>NW</td>\n",
       "      <td>45</td>\n",
       "      <td>60</td>\n",
       "    </tr>\n",
       "    <tr>\n",
       "      <th>2</th>\n",
       "      <td>2023-02-25 00:00:00</td>\n",
       "      <td>-3.0</td>\n",
       "      <td>1.8</td>\n",
       "      <td>7</td>\n",
       "      <td>NW</td>\n",
       "      <td>60</td>\n",
       "      <td>40</td>\n",
       "    </tr>\n",
       "    <tr>\n",
       "      <th>3</th>\n",
       "      <td>2023-02-26 03:00:00</td>\n",
       "      <td>-4.0</td>\n",
       "      <td>1.1</td>\n",
       "      <td>7</td>\n",
       "      <td>NW</td>\n",
       "      <td>75</td>\n",
       "      <td>30</td>\n",
       "    </tr>\n",
       "    <tr>\n",
       "      <th>4</th>\n",
       "      <td>2023-02-26 06:00:00</td>\n",
       "      <td>-5.0</td>\n",
       "      <td>1.8</td>\n",
       "      <td>7</td>\n",
       "      <td>NW</td>\n",
       "      <td>80</td>\n",
       "      <td>40</td>\n",
       "    </tr>\n",
       "  </tbody>\n",
       "</table>\n",
       "</div>"
      ],
      "text/plain": [
       "                  time  temp   ws  wd wdEn  reh  appl\n",
       "0  2023-02-25 18:00:00   3.0  2.1   7   NW   30    45\n",
       "1  2023-02-25 21:00:00  -1.0  2.1   7   NW   45    60\n",
       "2  2023-02-25 00:00:00  -3.0  1.8   7   NW   60    40\n",
       "3  2023-02-26 03:00:00  -4.0  1.1   7   NW   75    30\n",
       "4  2023-02-26 06:00:00  -5.0  1.8   7   NW   80    40"
      ]
     },
     "execution_count": 42,
     "metadata": {},
     "output_type": "execute_result"
    }
   ],
   "source": [
    "df.head().round(1)"
   ]
  },
  {
   "cell_type": "markdown",
   "id": "9be892a0-2c82-4b1a-8879-e28f1ebb07e8",
   "metadata": {},
   "source": [
    "### > storing processed dataset"
   ]
  },
  {
   "cell_type": "code",
   "execution_count": 43,
   "id": "4d334f7c-193b-4e95-bde8-02898b2330a5",
   "metadata": {},
   "outputs": [],
   "source": [
    "df.to_csv(filename_prp_final, index = False)"
   ]
  },
  {
   "cell_type": "code",
   "execution_count": 44,
   "id": "64d50dc8-ea81-4c3f-84cd-7b3ef48e5e1a",
   "metadata": {},
   "outputs": [
    {
     "name": "stdout",
     "output_type": "stream",
     "text": [
      "Saved the preprocessed dataset in: datasets/aep/xps/hourly/ts/minmax/2/preprocessed.csv\n"
     ]
    }
   ],
   "source": [
    "print (\"Saved the preprocessed dataset in:\", filename_prp_final)"
   ]
  },
  {
   "cell_type": "markdown",
   "id": "222b20dd-e539-4fca-beaf-9f8201a8318c",
   "metadata": {},
   "source": [
    "# 3. Preparing experiment data"
   ]
  },
  {
   "cell_type": "markdown",
   "id": "fb6ea321-3251-4ac0-90a5-dd840fb3e0e8",
   "metadata": {},
   "source": [
    "    - The 6 experiments are performed over the data. Each experiment uses a different perspective of the data, i.e., monthly, weekly, weekdays, weekend, daily, hourly. Analyzing these patterns enable us to view the appliance energy consumption over different perspectives, which leads us to get better results in terms of prediction or forecast of energy. In addition, it also can be used enable us the target the areas where the optimization of appliance energy needs to be enhanced.\n",
    "\n",
    "    - As it is known that the 'Winter' season starts in the month of December and ends in the end of February. From March, the 'Autumn' starts and ends in the month of May. So, based on the season aspect, there are low appliance energy consumption in 'Autumn' as compared to the 'Winter'. This shows that the energy optimization needs to be primarily/differently focused on 'Winter' data, and differently over the 'Autumn' season.\n",
    "\n",
    "    - Similarly, the patterns of moth-wise are found which reflect that the month of January, February, March, April, and May contains 2922, 4176, 4464, 4320, and 3853 records, respectively. The analysis over each month is made which shows that it has patterns of appliance energy utilization for the months of January and February are low as compared to the months of March, April, and May. This urges the need of another different approach of weighing the time-series models to get better performance of the model.\n",
    "\n",
    "    - Similarly, for the month of January and February, the weekly analysis is made where it shows that during the winter breaks and specially weekends, the the appliance energy consumption is found to be very high. Hence, focusing on the weekends of winter break may allow us save more energy by finding patterns of the data. The analysis each weekend during winter breaks, the energy patterns of appliance energy utilization can be reduced by the optimal control of temperature of temperature and humidity through actuators/devices.\n",
    "\n",
    "    - On hourly basis, the energy patterns are very high in the late night time in 'Winters' as compared to the night time in 'Autumn' season. This analysis shows the consumption to be very high in night time. So, on hourly basis, we can save energy at night time."
   ]
  },
  {
   "cell_type": "code",
   "execution_count": 45,
   "id": "190d2c9c-8b0d-41ee-8554-887a16d79a3c",
   "metadata": {},
   "outputs": [],
   "source": [
    "# filenames_exp_final\n",
    "df_exp_len_all = 0"
   ]
  },
  {
   "cell_type": "code",
   "execution_count": 46,
   "id": "22293a99",
   "metadata": {},
   "outputs": [
    {
     "name": "stdout",
     "output_type": "stream",
     "text": [
      "0\n"
     ]
    }
   ],
   "source": [
    "for exp_month in range(exp_months_start, exp_months_end+1):\n",
    "    print (exp_month)"
   ]
  },
  {
   "cell_type": "code",
   "execution_count": 47,
   "id": "f8568e1f",
   "metadata": {},
   "outputs": [
    {
     "data": {
      "text/plain": [
       "['datasets/aep/xps/hourly/ts/minmax/2/18/hourlysss-00.csv',\n",
       " 'datasets/aep/xps/hourly/ts/minmax/2/18/hourlysss-01.csv',\n",
       " 'datasets/aep/xps/hourly/ts/minmax/2/18/hourlysss-02.csv',\n",
       " 'datasets/aep/xps/hourly/ts/minmax/2/18/hourlysss-03.csv',\n",
       " 'datasets/aep/xps/hourly/ts/minmax/2/18/hourlysss-04.csv',\n",
       " 'datasets/aep/xps/hourly/ts/minmax/2/18/hourlysss-05.csv',\n",
       " 'datasets/aep/xps/hourly/ts/minmax/2/18/hourlysss-06.csv',\n",
       " 'datasets/aep/xps/hourly/ts/minmax/2/18/hourlysss-07.csv',\n",
       " 'datasets/aep/xps/hourly/ts/minmax/2/18/hourlysss-08.csv',\n",
       " 'datasets/aep/xps/hourly/ts/minmax/2/18/hourlysss-09.csv',\n",
       " 'datasets/aep/xps/hourly/ts/minmax/2/18/hourlysss-10.csv',\n",
       " 'datasets/aep/xps/hourly/ts/minmax/2/18/hourlysss-11.csv',\n",
       " 'datasets/aep/xps/hourly/ts/minmax/2/18/hourlysss-12.csv',\n",
       " 'datasets/aep/xps/hourly/ts/minmax/2/18/hourlysss-13.csv',\n",
       " 'datasets/aep/xps/hourly/ts/minmax/2/18/hourlysss-14.csv',\n",
       " 'datasets/aep/xps/hourly/ts/minmax/2/18/hourlysss-15.csv',\n",
       " 'datasets/aep/xps/hourly/ts/minmax/2/18/hourlysss-16.csv',\n",
       " 'datasets/aep/xps/hourly/ts/minmax/2/18/hourlysss-17.csv',\n",
       " 'datasets/aep/xps/hourly/ts/minmax/2/18/hourlysss-18.csv',\n",
       " 'datasets/aep/xps/hourly/ts/minmax/2/18/hourlysss-19.csv',\n",
       " 'datasets/aep/xps/hourly/ts/minmax/2/18/hourlysss-20.csv',\n",
       " 'datasets/aep/xps/hourly/ts/minmax/2/18/hourlysss-21.csv',\n",
       " 'datasets/aep/xps/hourly/ts/minmax/2/18/hourlysss-22.csv',\n",
       " 'datasets/aep/xps/hourly/ts/minmax/2/18/hourlysss-23.csv']"
      ]
     },
     "execution_count": 47,
     "metadata": {},
     "output_type": "execute_result"
    }
   ],
   "source": [
    "filenames_exp_final"
   ]
  },
  {
   "cell_type": "code",
   "execution_count": 48,
   "id": "615d5bc4-5902-4b32-861e-8cdaf2575b86",
   "metadata": {
    "tags": []
   },
   "outputs": [
    {
     "name": "stdout",
     "output_type": "stream",
     "text": [
      "\n",
      "Preparing experiment files?\n",
      "- 'February' month, day 18 data (yes)\n",
      "\t - befor: datasets/aep/xps/hourly/ts/minmax/2/18/hourlysss-07.csv\n",
      "\t - replacing 2/18/ by 2/18/ ...\n",
      "\t - after: datasets/aep/xps/hourly/ts/minmax/2/18/hourlysss-07.csv\n",
      "\n",
      "- 'February' month, day 19 data (yes)\n",
      "\t - befor: datasets/aep/xps/hourly/ts/minmax/2/18/hourlysss-07.csv\n",
      "\t - replacing 2/18/ by 2/19/ ...\n",
      "\t - after: datasets/aep/xps/hourly/ts/minmax/2/19/hourlysss-07.csv\n",
      "\n",
      "- 'February' month, day 20 data (yes)\n",
      "\t - befor: datasets/aep/xps/hourly/ts/minmax/2/19/hourlysss-07.csv\n",
      "\t - replacing 2/19/ by 2/20/ ...\n",
      "\t - after: datasets/aep/xps/hourly/ts/minmax/2/20/hourlysss-07.csv\n",
      "\n",
      "- 'February' month, day 21 data (yes)\n",
      "\t - befor: datasets/aep/xps/hourly/ts/minmax/2/20/hourlysss-07.csv\n",
      "\t - replacing 2/20/ by 2/21/ ...\n",
      "\t - after: datasets/aep/xps/hourly/ts/minmax/2/21/hourlysss-07.csv\n",
      "\n",
      "- 'February' month, day 22 data (yes)\n",
      "\t - befor: datasets/aep/xps/hourly/ts/minmax/2/21/hourlysss-07.csv\n",
      "\t - replacing 2/21/ by 2/22/ ...\n",
      "\t - after: datasets/aep/xps/hourly/ts/minmax/2/22/hourlysss-07.csv\n",
      "\n",
      "- 'February' month, day 23 data (yes)\n",
      "\t - befor: datasets/aep/xps/hourly/ts/minmax/2/22/hourlysss-07.csv\n",
      "\t - replacing 2/22/ by 2/23/ ...\n",
      "\t - after: datasets/aep/xps/hourly/ts/minmax/2/23/hourlysss-07.csv\n",
      "\n",
      "- 'February' month, day 24 data (yes)\n",
      "\t - befor: datasets/aep/xps/hourly/ts/minmax/2/23/hourlysss-07.csv\n",
      "\t - replacing 2/23/ by 2/24/ ...\n",
      "\t - after: datasets/aep/xps/hourly/ts/minmax/2/24/hourlysss-07.csv\n",
      "\n",
      "- 'February' month, day 25 data (yes)\n",
      "\t - befor: datasets/aep/xps/hourly/ts/minmax/2/24/hourlysss-07.csv\n",
      "\t - replacing 2/24/ by 2/25/ ...\n",
      "\t - after: datasets/aep/xps/hourly/ts/minmax/2/25/hourlysss-07.csv\n",
      "\n",
      "- 'February' month, day 26 data (yes)\n",
      "\t - befor: datasets/aep/xps/hourly/ts/minmax/2/25/hourlysss-07.csv\n",
      "\t - replacing 2/25/ by 2/26/ ...\n",
      "\t - after: datasets/aep/xps/hourly/ts/minmax/2/26/hourlysss-07.csv\n",
      "\n",
      "- 'February' month, day 27 data (yes)\n",
      "\t - befor: datasets/aep/xps/hourly/ts/minmax/2/26/hourlysss-07.csv\n",
      "\t - replacing 2/26/ by 2/27/ ...\n",
      "\t - after: datasets/aep/xps/hourly/ts/minmax/2/27/hourlysss-07.csv\n",
      "\n",
      "- 'February' month, day 28 data (yes)\n",
      "\t - befor: datasets/aep/xps/hourly/ts/minmax/2/27/hourlysss-07.csv\n",
      "\t - replacing 2/27/ by 2/28/ ...\n",
      "\t - after: datasets/aep/xps/hourly/ts/minmax/2/28/hourlysss-07.csv\n",
      "\n",
      "- 'February' month, day 29 data (yes)\n",
      "\t - befor: datasets/aep/xps/hourly/ts/minmax/2/28/hourlysss-07.csv\n",
      "\t - replacing 2/28/ by 2/29/ ...\n",
      "\t - after: datasets/aep/xps/hourly/ts/minmax/2/29/hourlysss-07.csv\n",
      "\n",
      "\n",
      "Done (stored 0)!\n"
     ]
    }
   ],
   "source": [
    "print (\"\\nPreparing experiment files?\")\n",
    "if (is_data_ts):\n",
    "    if (experiment == experiments[0]): #alldata\n",
    "        print (\"- {:} yet\".format(\"N/A\"))\n",
    "    elif (experiment == experiments[1]): #monthly:\n",
    "        print (\"- {:} month data (yes)\".format(exp_month))\n",
    "        df_exp_len_all = 0\n",
    "        for exp_month in range(exp_months_start, exp_months_end+1):\n",
    "            df_exp = df.copy(deep = True)\n",
    "            df_exp.set_index([\"time\"], inplace = True)\n",
    "            df_exp.index = to_datetime(df_exp.index)\n",
    "            df_exp = df_exp[\n",
    "                df_exp.index.month == exp_month\n",
    "            ]\n",
    "            df_exp.to_csv(filenames_exp_final[exp_month-2], index = True)\n",
    "            df_exp_len = len(df_exp)\n",
    "            df_exp_len_all += df_exp_len\n",
    "            print (\"  - Month '{:}':\\t{:} \".format(calendar.month_name[exp_month], filenames_exp_final[exp_month-2]))\n",
    "            print (\"    - stored {:} records\".format(df_exp_len))\n",
    "    elif (experiment == experiments[2]): # weekly\n",
    "        print (\"- {:} yet\".format(\"N/A\"))\n",
    "    elif (experiment == experiments[3]): # weekday\n",
    "        print (\"- {:} yet\".format(\"N/A\"))\n",
    "    elif (experiment == experiments[4]): # weekend\n",
    "        print (\"- {:} yet\".format(\"N/A\"))\n",
    "    elif (experiment == experiments[5]): # daily\n",
    "        print (\"- {:} yet\".format(\"N/A\"))\n",
    "    elif (experiment == experiments[6]): # hourly\n",
    "        exp_hours_day_current = directory_d1\n",
    "        for dayyy in range(directory_d1, directory_d2+1):\n",
    "            print (\"- '{:}' month, day {:} data (yes)\".format(calendar.month_name[exp_hours_month], dayyy))\n",
    "            print (\"\\t - befor:\", filenames_exp_final[7])\n",
    "            tmp_replace    = \"{:}/{:}/\".format(exp_hours_month, exp_hours_day_current)\n",
    "            tmp_replace_by = \"{:}/{:}/\".format(exp_hours_month, dayyy)\n",
    "            print (\"\\t - replacing {:} by {:} ...\".format(tmp_replace, tmp_replace_by))\n",
    "            filenames_exp_final = [tmp_file_tmp.replace(tmp_replace, tmp_replace_by) for tmp_file_tmp in filenames_exp_final]\n",
    "            print (\"\\t - after:\", filenames_exp_final[7])\n",
    "            \n",
    "            df_exp_len_all = 0\n",
    "            for exp_hour in range(exp_hours_start, exp_hours_end+1):\n",
    "                df_exp = df.copy(deep = True)\n",
    "                df_exp.set_index([\"time\"], inplace = True)\n",
    "                df_exp.index = to_datetime(df_exp.index)\n",
    "                # print (\"\\t\\t - exp_hours_month: {:}, exp_hours_day_current: {:}, exp_hour: {:}, dayyy: {:},\".format(\n",
    "                #     exp_hours_month,\n",
    "                #     exp_hours_day_current,\n",
    "                #     exp_hour,\n",
    "                #     dayyy,\n",
    "                # ))\n",
    "                df_exp = df_exp[\n",
    "                    (df_exp.index.month == exp_hours_month)\n",
    "                    & (df_exp.index.day == dayyy)\n",
    "                    & (df_exp.index.hour == exp_hour)\n",
    "                ]\n",
    "                df_exp.to_csv(filenames_exp_final[exp_hour], index = True)\n",
    "                df_exp_len = len(df_exp)\n",
    "                df_exp_len_all += df_exp_len\n",
    "                # print (\"  - Hour '{:}':\\t{:} \".format(exp_hour, filenames_exp_final[exp_hour]))\n",
    "                # print (\"    - stored {:} records\".format(df_exp_len))\n",
    "                filenames_exp_final = [\n",
    "                    tmp_file_tmp.replace(\n",
    "                        \"{:}/{:}\".format(exp_hours_month, exp_hours_day_current),\n",
    "                        \"{:}/{:}\".format(exp_hours_month, exp_hours_day),\n",
    "                    ) for tmp_file_tmp in filenames_exp_final\n",
    "                ]\n",
    "            exp_hours_day_current = dayyy\n",
    "            print (\"\")\n",
    "        filenames_exp_final = [\n",
    "            tmp_file_tmp.replace(\n",
    "                \"{:}/{:}\".format(exp_hours_month, directory_d2),\n",
    "                \"{:}/{:}\".format(exp_hours_month, directory_d1),\n",
    "            ) for tmp_file_tmp in filenames_exp_final\n",
    "        ]\n",
    "    elif (experiment == experiments[7]): # seasonal\n",
    "        print (\"- {:} yet\".format(\"N/A\"))\n",
    "    print (\"\\nDone (stored {:})!\".format(df_exp_len_all))\n",
    "elif (not is_data_ts):\n",
    "    print (\"- Need not\".format(\"\"))"
   ]
  },
  {
   "cell_type": "code",
   "execution_count": 49,
   "id": "59eb25e5",
   "metadata": {},
   "outputs": [
    {
     "data": {
      "text/plain": [
       "['datasets/aep/xps/hourly/ts/minmax/2/18/hourlysss-00.csv',\n",
       " 'datasets/aep/xps/hourly/ts/minmax/2/18/hourlysss-01.csv',\n",
       " 'datasets/aep/xps/hourly/ts/minmax/2/18/hourlysss-02.csv',\n",
       " 'datasets/aep/xps/hourly/ts/minmax/2/18/hourlysss-03.csv',\n",
       " 'datasets/aep/xps/hourly/ts/minmax/2/18/hourlysss-04.csv',\n",
       " 'datasets/aep/xps/hourly/ts/minmax/2/18/hourlysss-05.csv',\n",
       " 'datasets/aep/xps/hourly/ts/minmax/2/18/hourlysss-06.csv',\n",
       " 'datasets/aep/xps/hourly/ts/minmax/2/18/hourlysss-07.csv',\n",
       " 'datasets/aep/xps/hourly/ts/minmax/2/18/hourlysss-08.csv',\n",
       " 'datasets/aep/xps/hourly/ts/minmax/2/18/hourlysss-09.csv',\n",
       " 'datasets/aep/xps/hourly/ts/minmax/2/18/hourlysss-10.csv',\n",
       " 'datasets/aep/xps/hourly/ts/minmax/2/18/hourlysss-11.csv',\n",
       " 'datasets/aep/xps/hourly/ts/minmax/2/18/hourlysss-12.csv',\n",
       " 'datasets/aep/xps/hourly/ts/minmax/2/18/hourlysss-13.csv',\n",
       " 'datasets/aep/xps/hourly/ts/minmax/2/18/hourlysss-14.csv',\n",
       " 'datasets/aep/xps/hourly/ts/minmax/2/18/hourlysss-15.csv',\n",
       " 'datasets/aep/xps/hourly/ts/minmax/2/18/hourlysss-16.csv',\n",
       " 'datasets/aep/xps/hourly/ts/minmax/2/18/hourlysss-17.csv',\n",
       " 'datasets/aep/xps/hourly/ts/minmax/2/18/hourlysss-18.csv',\n",
       " 'datasets/aep/xps/hourly/ts/minmax/2/18/hourlysss-19.csv',\n",
       " 'datasets/aep/xps/hourly/ts/minmax/2/18/hourlysss-20.csv',\n",
       " 'datasets/aep/xps/hourly/ts/minmax/2/18/hourlysss-21.csv',\n",
       " 'datasets/aep/xps/hourly/ts/minmax/2/18/hourlysss-22.csv',\n",
       " 'datasets/aep/xps/hourly/ts/minmax/2/18/hourlysss-23.csv']"
      ]
     },
     "execution_count": 49,
     "metadata": {},
     "output_type": "execute_result"
    }
   ],
   "source": [
    "filenames_exp_final"
   ]
  },
  {
   "cell_type": "code",
   "execution_count": 50,
   "id": "53432757-3b27-4c49-b99f-392ffa87e55b",
   "metadata": {},
   "outputs": [
    {
     "data": {
      "text/plain": [
       "['datasets/aep/xps/hourly/ts/minmax/2/18/hourlysss-00.csv',\n",
       " 'datasets/aep/xps/hourly/ts/minmax/2/18/hourlysss-01.csv',\n",
       " 'datasets/aep/xps/hourly/ts/minmax/2/18/hourlysss-02.csv',\n",
       " 'datasets/aep/xps/hourly/ts/minmax/2/18/hourlysss-03.csv',\n",
       " 'datasets/aep/xps/hourly/ts/minmax/2/18/hourlysss-04.csv']"
      ]
     },
     "execution_count": 50,
     "metadata": {},
     "output_type": "execute_result"
    }
   ],
   "source": [
    "filenames_exp_final[0:5]"
   ]
  },
  {
   "cell_type": "code",
   "execution_count": null,
   "id": "edd6dc82-bc88-4de3-8524-67be7e9be5b2",
   "metadata": {},
   "outputs": [],
   "source": []
  },
  {
   "cell_type": "markdown",
   "id": "32f24979-8971-4430-93cb-1a565e5c2d47",
   "metadata": {
    "tags": []
   },
   "source": [
    "# 3. LSTM (allinone)\n",
    "    - Time-series (TS)\n",
    "        - Scaling\n",
    "        - Train, Test\n",
    "    - Not-time-series (NTS)\n",
    "        - Scaling\n",
    "        - Train, Test"
   ]
  },
  {
   "cell_type": "markdown",
   "id": "2af58008-44fa-410e-98f8-69c8babfd171",
   "metadata": {
    "tags": []
   },
   "source": [
    "## - functions for training"
   ]
  },
  {
   "cell_type": "code",
   "execution_count": 51,
   "id": "8bad6bae-1c25-4a65-ac9d-65efb00eed67",
   "metadata": {},
   "outputs": [],
   "source": [
    "def timeseries_to_supervised(data, lag=1):\n",
    "    df = DataFrame(data)\n",
    "    columns = [df.shift(i) for i in range(1, lag+1)]\n",
    "    columns.append(df)\n",
    "    df = concat(columns, axis=1)\n",
    "    df.fillna(0, inplace=True)\n",
    "    return df\n",
    "\n",
    "# create a differenced series\n",
    "def difference(dataset, interval=1):\n",
    "    diff = list()\n",
    "    for i in range(interval, len(dataset)):\n",
    "        value = dataset[i] - dataset[i - interval]\n",
    "        diff.append(value)\n",
    "    return Series(diff)\n",
    "\n",
    "# invert differenced value\n",
    "def inverse_difference(history, yhat, interval=1):\n",
    "    return yhat + history[-interval]\n",
    "\n",
    "# scale train and test data to [-1, 1]\n",
    "def scale(train, test):\n",
    "    # fit scaler\n",
    "    scaler = MinMaxScaler(feature_range=(sc_min, sc_max))\n",
    "    scaler = scaler.fit(train)\n",
    "    # transform train\n",
    "    train = train.reshape(train.shape[0], train.shape[1])\n",
    "    train_scaled = scaler.transform(train)\n",
    "    # transform test\n",
    "    test = test.reshape(test.shape[0], test.shape[1])\n",
    "    test_scaled = scaler.transform(test)\n",
    "    return scaler, train_scaled, test_scaled\n",
    "\n",
    "# inverse scaling for a forecasted value\n",
    "def invert_scale(scaler, X, value):\n",
    "    new_row = [x for x in X] + [value]\n",
    "    array = np.array(new_row)\n",
    "    array = array.reshape(1, len(array))\n",
    "    inverted = scaler.inverse_transform(array)\n",
    "    return inverted[0, -1]\n",
    "\n",
    "# fit an LSTM network to training data\n",
    "def fit_lstm(train, batch_size, nb_epoch, neurons):\n",
    "    X, y = train[:, 0:-1], train[:, -1]\n",
    "    X = X.reshape(X.shape[0], 1, X.shape[1])\n",
    "    model = Sequential()\n",
    "    # print (\"X.shape[1]: {:}\", X.shape[1])\n",
    "    # print (\"X.shape[2]: {:}\", X.shape[2])\n",
    "    model.add(LSTM(neurons, batch_input_shape=(batch_size, X.shape[1], X.shape[2]), stateful=True))\n",
    "    model.add(Dense(1))\n",
    "    model.compile(loss='mean_squared_error', optimizer='adam')\n",
    "    for i in range(nb_epoch):\n",
    "        model.fit(X, y, epochs = 1, batch_size = batch_size, verbose = 0, shuffle = False)\n",
    "        model.reset_states()\n",
    "    return model\n",
    "\n",
    "# make a one-step forecast\n",
    "def forecast_lstm(model, batch_size, X):\n",
    "    X = X.reshape(1, 1, len(X))\n",
    "    yhat = model.predict(X, batch_size=batch_size)\n",
    "    return yhat[0,0]"
   ]
  },
  {
   "cell_type": "markdown",
   "id": "47697579-8501-4981-b989-7e1a65b01176",
   "metadata": {
    "tags": []
   },
   "source": [
    "## - loading experiment data"
   ]
  },
  {
   "cell_type": "code",
   "execution_count": 52,
   "id": "c26fe193-904c-42a2-ab28-23e9e9b86b17",
   "metadata": {},
   "outputs": [
    {
     "data": {
      "text/plain": [
       "['datasets/aep/xps/hourly/ts/minmax/2/18/hourlysss-00.csv',\n",
       " 'datasets/aep/xps/hourly/ts/minmax/2/18/hourlysss-01.csv',\n",
       " 'datasets/aep/xps/hourly/ts/minmax/2/18/hourlysss-02.csv',\n",
       " 'datasets/aep/xps/hourly/ts/minmax/2/18/hourlysss-03.csv',\n",
       " 'datasets/aep/xps/hourly/ts/minmax/2/18/hourlysss-04.csv',\n",
       " 'datasets/aep/xps/hourly/ts/minmax/2/18/hourlysss-05.csv',\n",
       " 'datasets/aep/xps/hourly/ts/minmax/2/18/hourlysss-06.csv',\n",
       " 'datasets/aep/xps/hourly/ts/minmax/2/18/hourlysss-07.csv',\n",
       " 'datasets/aep/xps/hourly/ts/minmax/2/18/hourlysss-08.csv',\n",
       " 'datasets/aep/xps/hourly/ts/minmax/2/18/hourlysss-09.csv',\n",
       " 'datasets/aep/xps/hourly/ts/minmax/2/18/hourlysss-10.csv',\n",
       " 'datasets/aep/xps/hourly/ts/minmax/2/18/hourlysss-11.csv',\n",
       " 'datasets/aep/xps/hourly/ts/minmax/2/18/hourlysss-12.csv',\n",
       " 'datasets/aep/xps/hourly/ts/minmax/2/18/hourlysss-13.csv',\n",
       " 'datasets/aep/xps/hourly/ts/minmax/2/18/hourlysss-14.csv',\n",
       " 'datasets/aep/xps/hourly/ts/minmax/2/18/hourlysss-15.csv',\n",
       " 'datasets/aep/xps/hourly/ts/minmax/2/18/hourlysss-16.csv',\n",
       " 'datasets/aep/xps/hourly/ts/minmax/2/18/hourlysss-17.csv',\n",
       " 'datasets/aep/xps/hourly/ts/minmax/2/18/hourlysss-18.csv',\n",
       " 'datasets/aep/xps/hourly/ts/minmax/2/18/hourlysss-19.csv',\n",
       " 'datasets/aep/xps/hourly/ts/minmax/2/18/hourlysss-20.csv',\n",
       " 'datasets/aep/xps/hourly/ts/minmax/2/18/hourlysss-21.csv',\n",
       " 'datasets/aep/xps/hourly/ts/minmax/2/18/hourlysss-22.csv',\n",
       " 'datasets/aep/xps/hourly/ts/minmax/2/18/hourlysss-23.csv']"
      ]
     },
     "execution_count": 52,
     "metadata": {},
     "output_type": "execute_result"
    }
   ],
   "source": [
    "filenames_exp_final"
   ]
  },
  {
   "cell_type": "code",
   "execution_count": 63,
   "id": "8188b57d",
   "metadata": {},
   "outputs": [
    {
     "name": "stdout",
     "output_type": "stream",
     "text": [
      "18\n",
      "- 0\n",
      "- 1\n",
      "- 2\n",
      "- 3\n",
      "- 4\n",
      "- 5\n",
      "- 6\n",
      "- 7\n",
      "- 8\n",
      "- 9\n",
      "- 10\n",
      "- 11\n",
      "- 12\n",
      "- 13\n",
      "- 14\n",
      "- 15\n",
      "- 16\n",
      "- 17\n",
      "- 18\n",
      "- 19\n",
      "- 20\n",
      "- 21\n",
      "- 22\n",
      "- 23\n",
      "19\n",
      "- 0\n",
      "- 1\n",
      "- 2\n",
      "- 3\n",
      "- 4\n",
      "- 5\n",
      "- 6\n",
      "- 7\n",
      "- 8\n",
      "- 9\n",
      "- 10\n",
      "- 11\n",
      "- 12\n",
      "- 13\n",
      "- 14\n",
      "- 15\n",
      "- 16\n",
      "- 17\n",
      "- 18\n",
      "- 19\n",
      "- 20\n",
      "- 21\n",
      "- 22\n",
      "- 23\n",
      "20\n",
      "- 0\n",
      "- 1\n",
      "- 2\n",
      "- 3\n",
      "- 4\n",
      "- 5\n",
      "- 6\n",
      "- 7\n",
      "- 8\n",
      "- 9\n",
      "- 10\n",
      "- 11\n",
      "- 12\n",
      "- 13\n",
      "- 14\n",
      "- 15\n",
      "- 16\n",
      "- 17\n",
      "- 18\n",
      "- 19\n",
      "- 20\n",
      "- 21\n",
      "- 22\n",
      "- 23\n",
      "21\n",
      "- 0\n",
      "- 1\n",
      "- 2\n",
      "- 3\n",
      "- 4\n",
      "- 5\n",
      "- 6\n",
      "- 7\n",
      "- 8\n",
      "- 9\n",
      "- 10\n",
      "- 11\n",
      "- 12\n",
      "- 13\n",
      "- 14\n",
      "- 15\n",
      "- 16\n",
      "- 17\n",
      "- 18\n",
      "- 19\n",
      "- 20\n",
      "- 21\n",
      "- 22\n",
      "- 23\n",
      "22\n",
      "- 0\n",
      "- 1\n",
      "- 2\n",
      "- 3\n",
      "- 4\n",
      "- 5\n",
      "- 6\n",
      "- 7\n",
      "- 8\n",
      "- 9\n",
      "- 10\n",
      "- 11\n",
      "- 12\n",
      "- 13\n",
      "- 14\n",
      "- 15\n",
      "- 16\n",
      "- 17\n",
      "- 18\n",
      "- 19\n",
      "- 20\n",
      "- 21\n",
      "- 22\n",
      "- 23\n",
      "23\n",
      "- 0\n",
      "- 1\n",
      "- 2\n",
      "- 3\n",
      "- 4\n",
      "- 5\n",
      "- 6\n",
      "- 7\n",
      "- 8\n",
      "- 9\n",
      "- 10\n",
      "- 11\n",
      "- 12\n",
      "- 13\n",
      "- 14\n",
      "- 15\n",
      "- 16\n",
      "- 17\n",
      "- 18\n",
      "- 19\n",
      "- 20\n",
      "- 21\n",
      "- 22\n",
      "- 23\n",
      "24\n",
      "- 0\n",
      "- 1\n",
      "- 2\n",
      "- 3\n",
      "- 4\n",
      "- 5\n",
      "- 6\n",
      "- 7\n",
      "- 8\n",
      "- 9\n",
      "- 10\n",
      "- 11\n",
      "- 12\n",
      "- 13\n",
      "- 14\n",
      "- 15\n",
      "- 16\n",
      "- 17\n",
      "- 18\n",
      "- 19\n",
      "- 20\n",
      "- 21\n",
      "- 22\n",
      "- 23\n",
      "25\n",
      "- 0\n",
      "- 1\n",
      "- 2\n",
      "- 3\n",
      "- 4\n",
      "- 5\n",
      "- 6\n",
      "- 7\n",
      "- 8\n",
      "- 9\n",
      "- 10\n",
      "- 11\n",
      "- 12\n",
      "- 13\n",
      "- 14\n",
      "- 15\n",
      "- 16\n",
      "- 17\n",
      "- 18\n",
      "- 19\n",
      "- 20\n",
      "- 21\n",
      "- 22\n",
      "- 23\n",
      "26\n",
      "- 0\n",
      "- 1\n",
      "- 2\n",
      "- 3\n",
      "- 4\n",
      "- 5\n",
      "- 6\n",
      "- 7\n",
      "- 8\n",
      "- 9\n",
      "- 10\n",
      "- 11\n",
      "- 12\n",
      "- 13\n",
      "- 14\n",
      "- 15\n",
      "- 16\n",
      "- 17\n",
      "- 18\n",
      "- 19\n",
      "- 20\n",
      "- 21\n",
      "- 22\n",
      "- 23\n",
      "27\n",
      "- 0\n",
      "- 1\n",
      "- 2\n",
      "- 3\n",
      "- 4\n",
      "- 5\n",
      "- 6\n",
      "- 7\n",
      "- 8\n",
      "- 9\n",
      "- 10\n",
      "- 11\n",
      "- 12\n",
      "- 13\n",
      "- 14\n",
      "- 15\n",
      "- 16\n",
      "- 17\n",
      "- 18\n",
      "- 19\n",
      "- 20\n",
      "- 21\n",
      "- 22\n",
      "- 23\n",
      "28\n",
      "- 0\n",
      "- 1\n",
      "- 2\n",
      "- 3\n",
      "- 4\n",
      "- 5\n",
      "- 6\n",
      "- 7\n",
      "- 8\n",
      "- 9\n",
      "- 10\n",
      "- 11\n",
      "- 12\n",
      "- 13\n",
      "- 14\n",
      "- 15\n",
      "- 16\n",
      "- 17\n",
      "- 18\n",
      "- 19\n",
      "- 20\n",
      "- 21\n",
      "- 22\n",
      "- 23\n",
      "29\n",
      "- 0\n",
      "- 1\n",
      "- 2\n",
      "- 3\n",
      "- 4\n",
      "- 5\n",
      "- 6\n",
      "- 7\n",
      "- 8\n",
      "- 9\n",
      "- 10\n",
      "- 11\n",
      "- 12\n",
      "- 13\n",
      "- 14\n",
      "- 15\n",
      "- 16\n",
      "- 17\n",
      "- 18\n",
      "- 19\n",
      "- 20\n",
      "- 21\n",
      "- 22\n",
      "- 23\n"
     ]
    }
   ],
   "source": [
    "for dayyy in range(directory_d1, directory_d2+1):\n",
    "    print (dayyy)\n",
    "    for exp_hour in range(exp_hours_start, exp_hours_end+1):\n",
    "        print (\"-\", exp_hour)"
   ]
  },
  {
   "cell_type": "code",
   "execution_count": null,
   "id": "78ecc3c1",
   "metadata": {},
   "outputs": [],
   "source": []
  },
  {
   "cell_type": "code",
   "execution_count": 58,
   "id": "2ee2332b-39be-4c96-8fde-e018946e8254",
   "metadata": {},
   "outputs": [
    {
     "name": "stdout",
     "output_type": "stream",
     "text": [
      "\n",
      "Experimenting on 'February'\n",
      "- Day 18 data\n"
     ]
    },
    {
     "ename": "ValueError",
     "evalue": "k-fold cross-validation requires at least one train/test split by setting n_splits=2 or more, got n_splits=1.",
     "output_type": "error",
     "traceback": [
      "\u001b[0;31m---------------------------------------------------------------------------\u001b[0m",
      "\u001b[0;31mValueError\u001b[0m                                Traceback (most recent call last)",
      "Cell \u001b[0;32mIn [58], line 49\u001b[0m\n\u001b[1;32m     46\u001b[0m ts_n_splits \u001b[38;5;241m=\u001b[39m \u001b[38;5;241m1\u001b[39m\n\u001b[1;32m     48\u001b[0m \u001b[38;5;66;03m####### 5 #######\u001b[39;00m\n\u001b[0;32m---> 49\u001b[0m tss \u001b[38;5;241m=\u001b[39m \u001b[43mTimeSeriesSplit\u001b[49m\u001b[43m(\u001b[49m\u001b[43mn_splits\u001b[49m\u001b[43m \u001b[49m\u001b[38;5;241;43m=\u001b[39;49m\u001b[43m \u001b[49m\u001b[43mts_n_splits\u001b[49m\u001b[43m)\u001b[49m\n\u001b[1;32m     50\u001b[0m \u001b[38;5;66;03m####### 6 #######\u001b[39;00m\n\u001b[1;32m     51\u001b[0m \u001b[38;5;66;03m# transform data to be stationary\u001b[39;00m\n\u001b[1;32m     52\u001b[0m raw_values \u001b[38;5;241m=\u001b[39m df_sunspot_reduced[\u001b[38;5;124m\"\u001b[39m\u001b[38;5;124mappl\u001b[39m\u001b[38;5;124m\"\u001b[39m]\u001b[38;5;241m.\u001b[39mvalues\n",
      "File \u001b[0;32m~/anaconda3/envs/env005_energypredappliances/lib/python3.10/site-packages/sklearn/model_selection/_split.py:1039\u001b[0m, in \u001b[0;36mTimeSeriesSplit.__init__\u001b[0;34m(self, n_splits, max_train_size, test_size, gap)\u001b[0m\n\u001b[1;32m   1038\u001b[0m \u001b[38;5;28;01mdef\u001b[39;00m \u001b[38;5;21m__init__\u001b[39m(\u001b[38;5;28mself\u001b[39m, n_splits\u001b[38;5;241m=\u001b[39m\u001b[38;5;241m5\u001b[39m, \u001b[38;5;241m*\u001b[39m, max_train_size\u001b[38;5;241m=\u001b[39m\u001b[38;5;28;01mNone\u001b[39;00m, test_size\u001b[38;5;241m=\u001b[39m\u001b[38;5;28;01mNone\u001b[39;00m, gap\u001b[38;5;241m=\u001b[39m\u001b[38;5;241m0\u001b[39m):\n\u001b[0;32m-> 1039\u001b[0m     \u001b[38;5;28;43msuper\u001b[39;49m\u001b[43m(\u001b[49m\u001b[43m)\u001b[49m\u001b[38;5;241;43m.\u001b[39;49m\u001b[38;5;21;43m__init__\u001b[39;49m\u001b[43m(\u001b[49m\u001b[43mn_splits\u001b[49m\u001b[43m,\u001b[49m\u001b[43m \u001b[49m\u001b[43mshuffle\u001b[49m\u001b[38;5;241;43m=\u001b[39;49m\u001b[38;5;28;43;01mFalse\u001b[39;49;00m\u001b[43m,\u001b[49m\u001b[43m \u001b[49m\u001b[43mrandom_state\u001b[49m\u001b[38;5;241;43m=\u001b[39;49m\u001b[38;5;28;43;01mNone\u001b[39;49;00m\u001b[43m)\u001b[49m\n\u001b[1;32m   1040\u001b[0m     \u001b[38;5;28mself\u001b[39m\u001b[38;5;241m.\u001b[39mmax_train_size \u001b[38;5;241m=\u001b[39m max_train_size\n\u001b[1;32m   1041\u001b[0m     \u001b[38;5;28mself\u001b[39m\u001b[38;5;241m.\u001b[39mtest_size \u001b[38;5;241m=\u001b[39m test_size\n",
      "File \u001b[0;32m~/anaconda3/envs/env005_energypredappliances/lib/python3.10/site-packages/sklearn/model_selection/_split.py:286\u001b[0m, in \u001b[0;36m_BaseKFold.__init__\u001b[0;34m(self, n_splits, shuffle, random_state)\u001b[0m\n\u001b[1;32m    283\u001b[0m n_splits \u001b[38;5;241m=\u001b[39m \u001b[38;5;28mint\u001b[39m(n_splits)\n\u001b[1;32m    285\u001b[0m \u001b[38;5;28;01mif\u001b[39;00m n_splits \u001b[38;5;241m<\u001b[39m\u001b[38;5;241m=\u001b[39m \u001b[38;5;241m1\u001b[39m:\n\u001b[0;32m--> 286\u001b[0m     \u001b[38;5;28;01mraise\u001b[39;00m \u001b[38;5;167;01mValueError\u001b[39;00m(\n\u001b[1;32m    287\u001b[0m         \u001b[38;5;124m\"\u001b[39m\u001b[38;5;124mk-fold cross-validation requires at least one\u001b[39m\u001b[38;5;124m\"\u001b[39m\n\u001b[1;32m    288\u001b[0m         \u001b[38;5;124m\"\u001b[39m\u001b[38;5;124m train/test split by setting n_splits=2 or more,\u001b[39m\u001b[38;5;124m\"\u001b[39m\n\u001b[1;32m    289\u001b[0m         \u001b[38;5;124m\"\u001b[39m\u001b[38;5;124m got n_splits=\u001b[39m\u001b[38;5;132;01m{0}\u001b[39;00m\u001b[38;5;124m.\u001b[39m\u001b[38;5;124m\"\u001b[39m\u001b[38;5;241m.\u001b[39mformat(n_splits)\n\u001b[1;32m    290\u001b[0m     )\n\u001b[1;32m    292\u001b[0m \u001b[38;5;28;01mif\u001b[39;00m \u001b[38;5;129;01mnot\u001b[39;00m \u001b[38;5;28misinstance\u001b[39m(shuffle, \u001b[38;5;28mbool\u001b[39m):\n\u001b[1;32m    293\u001b[0m     \u001b[38;5;28;01mraise\u001b[39;00m \u001b[38;5;167;01mTypeError\u001b[39;00m(\u001b[38;5;124m\"\u001b[39m\u001b[38;5;124mshuffle must be True or False; got \u001b[39m\u001b[38;5;132;01m{0}\u001b[39;00m\u001b[38;5;124m\"\u001b[39m\u001b[38;5;241m.\u001b[39mformat(shuffle))\n",
      "\u001b[0;31mValueError\u001b[0m: k-fold cross-validation requires at least one train/test split by setting n_splits=2 or more, got n_splits=1."
     ]
    }
   ],
   "source": [
    "if (experiment == experiments[0]): # alldata\n",
    "    print (\"- {:} yet\".format(\"N/A\"))\n",
    "elif (experiment == experiments[1]): # monthly\n",
    "    exp_month = 2\n",
    "    print (\"\\nExperimenting on '{:}' data\\n\".format(calendar.month_name[exp_month]))\n",
    "    df_exp = read_csv(filenames_exp_final[exp_month-1])\n",
    "elif (experiment == experiments[2]): # weekly\n",
    "    print (\"- {:} yet\".format(\"N/A\"))\n",
    "elif (experiment == experiments[3]): # weekday\n",
    "    print (\"- {:} yet\".format(\"N/A\"))\n",
    "elif (experiment == experiments[4]): # weekend\n",
    "    print (\"- {:} yet\".format(\"N/A\"))\n",
    "elif (experiment == experiments[5]): # daily\n",
    "    print (\"- {:} yet\".format(\"N/A\"))\n",
    "elif (experiment == experiments[6]): # hourly\n",
    "    df_exp = None\n",
    "    exp_hours_day_current = directory_d1\n",
    "    print (\"\\nExperimenting on '{:}'\".format(calendar.month_name[exp_hours_month]))\n",
    "    rmse_list_all = dict()\n",
    "    for dayyy in range(directory_d1, directory_d2+1):\n",
    "        tmp_replace    = \"{:}/{:}/\".format(exp_hours_month, exp_hours_day_current)\n",
    "        tmp_replace_by = \"{:}/{:}/\".format(exp_hours_month, dayyy)\n",
    "        filenames_exp_final_are = [\n",
    "            tmp_file_tmp.replace(\n",
    "                \"{:}\".format(tmp_replace),\n",
    "                \"{:}\".format(tmp_replace_by),\n",
    "            ) for tmp_file_tmp in filenames_exp_final\n",
    "        ]\n",
    "        print (\"- Day {:} data\".format(dayyy))\n",
    "        exp_li = []\n",
    "        for exp_hour in range(exp_hours_start, exp_hours_end+1):\n",
    "            df_exp = read_csv(filenames_exp_final_are[exp_hour], index_col=None, header=0)\n",
    "            exp_li.append(df_exp)\n",
    "        df_exp = concat(exp_li, axis=0, ignore_index=True)\n",
    "        ####### 1 #######\n",
    "        if (df_exp.index.name != \"time\"):\n",
    "            df_exp = df_exp.set_index(\"time\")\n",
    "        ####### 2 #######\n",
    "        df_sunspot = df_exp[[\"appl\"]].copy(deep = True)\n",
    "        ####### 3 #######\n",
    "        df_sunspot_reduced = df_sunspot\n",
    "        ####### 4 #######\n",
    "        X = df_sunspot.values\n",
    "        \n",
    "        ####### X #######\n",
    "        ts_n_splits = 10\n",
    "        \n",
    "        ####### 5 #######\n",
    "        tss = TimeSeriesSplit(n_splits = ts_n_splits)\n",
    "        ####### 6 #######\n",
    "        # transform data to be stationary\n",
    "        raw_values = df_sunspot_reduced[\"appl\"].values\n",
    "        diff_values = difference(raw_values, 1)\n",
    "        ####### 7 #######\n",
    "        # transform data to be supervised learning\n",
    "        supervised = timeseries_to_supervised(diff_values, 1)\n",
    "        supervised_values = supervised.values\n",
    "        ####### 8 #######\n",
    "        rmse_list = []\n",
    "        index = 0\n",
    "        for train_index, test_index in tss.split(supervised_values):\n",
    "            train = supervised_values[train_index]\n",
    "            test = supervised_values[test_index]\n",
    "            # print('Observations: %d' % (len(train) + len(test)))\n",
    "            # print('Training Observations: %d' % (len(train)))\n",
    "            # print('Testing Observations: %d' % (len(test)))\n",
    "            index += 1\n",
    "            print (\" - month: {:}, day: {:}, training-split: {:} ... \".format(exp_hours_month, dayyy, index))\n",
    "\n",
    "            # transform the scale of the data\n",
    "            scaler, train_scaled, test_scaled = scale(train, test)\n",
    "\n",
    "            # fit the model\n",
    "            lstm_model = fit_lstm(train_scaled, 1, 500, 4)\n",
    "            # forecast the entire training dataset to build up state for forecasting\n",
    "            train_reshaped = train_scaled[:, 0].reshape(len(train_scaled), 1, 1)\n",
    "            lstm_model.predict(train_reshaped, batch_size = 1)\n",
    "\n",
    "            # walk-forward validation on the test data\n",
    "            predictions = list()\n",
    "            for i in range(len(test_scaled)):\n",
    "                # make one-step forecast\n",
    "                X, y = test_scaled[i, 0:-1], test_scaled[i, -1]\n",
    "                yhat = forecast_lstm(lstm_model, 1, X)\n",
    "                # invert scaling\n",
    "                yhat = invert_scale(scaler, X, yhat)\n",
    "                # invert differencing\n",
    "                yhat = inverse_difference(raw_values, yhat, len(test_scaled)+1-i)\n",
    "                # store forecast\n",
    "                predictions.append(yhat)\n",
    "                expected = raw_values[len(train) + i + 1]\n",
    "                #print('Month=%d, Predicted=%f, Expected=%f' % (i+1, yhat, expected))\n",
    "\n",
    "            # report performance\n",
    "            rmse = sqrt(mean_squared_error(raw_values[test_index], predictions))\n",
    "            rmse_list.append(rmse)\n",
    "            print('Test RMSE: %.2f' % rmse)\n",
    "            # line plot of observed vs predicted\n",
    "            plt.figure(1, figsize = (15, 8))\n",
    "            plt.plot(raw_values[test_index])\n",
    "            plt.plot(predictions)\n",
    "            # plt.xlabel(\"\")\n",
    "            # plt.ylabel(\"\")\n",
    "            plt.legend()\n",
    "            # plt.show()\n",
    "            file_pred_name_month = calendar.month_name[exp_hours_month][0:3].lower()\n",
    "            plt.savefig(\"results/prediction/{:}/{:}\".format(\n",
    "                \"{:}. {:}\".format(exp_hours_month, file_pred_name_month),\n",
    "                \"{:} {:}-{:}-{:} prediction.png\".format(round(rmse, 2), file_pred_name_month, dayyy, index)\n",
    "            ))\n",
    "            plt.clf()\n",
    "        rmse_list_mmdd = \"{:},{:}\".format(exp_hours_month, dayyy)\n",
    "        rmse_list_all[rmse_list_mmdd] = rmse_list\n",
    "elif (experiment == experiments[7]): # seasonal\n",
    "    print (\"- {:} yet\".format(\"N/A\"))"
   ]
  },
  {
   "cell_type": "code",
   "execution_count": null,
   "id": "4ce51290-bc67-4e9b-8ba6-0a60db2454af",
   "metadata": {},
   "outputs": [],
   "source": []
  },
  {
   "cell_type": "code",
   "execution_count": null,
   "id": "8024238e-556d-4992-ad37-b86a9c321de7",
   "metadata": {},
   "outputs": [],
   "source": []
  },
  {
   "cell_type": "code",
   "execution_count": null,
   "id": "142ed042-9626-430d-bd7a-ce0cacd35611",
   "metadata": {},
   "outputs": [],
   "source": [
    "directory_d1 = 1"
   ]
  },
  {
   "cell_type": "code",
   "execution_count": null,
   "id": "f2baef2a-68e5-4fab-a924-355e2b8523a7",
   "metadata": {},
   "outputs": [],
   "source": []
  },
  {
   "cell_type": "code",
   "execution_count": null,
   "id": "a34ac2ba-42b1-489f-97ab-a42e172b45e5",
   "metadata": {},
   "outputs": [],
   "source": []
  },
  {
   "cell_type": "code",
   "execution_count": null,
   "id": "c11bd1d3-97b6-4d5b-b5a4-c85b2f83e6ce",
   "metadata": {},
   "outputs": [],
   "source": [
    "rmse_directory = \"results/prediction/{:}. {:}/\".format(exp_hours_month, file_pred_name_month)\n",
    "num_rmse_files = len(os.listdir(rmse_directory))\n",
    "rmse_files = os.listdir(rmse_directory)\n",
    "\n",
    "# print (\"Number of files:\", num_rmse_files)\n",
    "# print (\"Folder:\", rmse_directory)\n",
    "# print (\"Files:\")\n",
    "# print (\"\\n\".join(rmse_files[0:5]))\n",
    "\n",
    "rmse_list_all = dict()\n",
    "for dayyy in range(directory_d1, directory_d2+1):\n",
    "    rmse_list_all[\n",
    "        \"{:},{:}\".format(exp_hours_month, dayyy)\n",
    "    ] = [\n",
    "        0.0 for i in range(0, ts_n_splits)\n",
    "    ]\n",
    "\n",
    "print (\"\\nFile iteration:\")\n",
    "for rmse_loop_tmp in range(0, num_rmse_files):\n",
    "    print (\"- \", rmse_loop_tmp, \"'{:}'\".format(rmse_files[rmse_loop_tmp]), end = \"\\t\")\n",
    "    rmse_file_split_arr = rmse_files[rmse_loop_tmp].split()\n",
    "    \n",
    "    rmse_file_rmse = float(rmse_file_split_arr[0])\n",
    "    print (\"RMSE: {:}\".format(rmse_file_rmse), end = \"\\t\")\n",
    "    \n",
    "    rmse_file_rmse_second_part_arr = rmse_file_split_arr[1].split(\"-\")\n",
    "    rmse_file_month_name   = rmse_file_rmse_second_part_arr[0].title()\n",
    "    rmse_file_month_number = monthname_to_monthnumber_mapping[rmse_file_month_name]\n",
    "    rmse_file_day          = rmse_file_rmse_second_part_arr[1]\n",
    "    rmse_file_split        = int(rmse_file_rmse_second_part_arr[2])\n",
    "    print (\"Month: {:} ({:})\\tDay: {:}\\t Split: {:}\".format(\n",
    "        rmse_file_month_name, rmse_file_month_number,\n",
    "        rmse_file_day,\n",
    "        rmse_file_split,\n",
    "    ))\n",
    "    rmse_list_all[\n",
    "        \"{:},{:}\".format(rmse_file_month_number, rmse_file_day)\n",
    "    ][rmse_file_split-1] = rmse_file_rmse"
   ]
  },
  {
   "cell_type": "code",
   "execution_count": null,
   "id": "1d10073f-a305-4130-9028-772d17fc0fc7",
   "metadata": {},
   "outputs": [],
   "source": [
    "print (\"-------------------------------------------\")\n",
    "print (\"M,D \\t Items (index denotes split number)\")\n",
    "print (\"-------------------------------------------\")\n",
    "for i in rmse_list_all:\n",
    "    print (i, \"\\t\", [item for item in rmse_list_all[i]], \"...\")\n",
    "print (\"-------------------------------------------\")"
   ]
  },
  {
   "cell_type": "code",
   "execution_count": null,
   "id": "8186bcb6-ab87-4d5f-a05a-65f6f8886b14",
   "metadata": {},
   "outputs": [],
   "source": [
    "rmse_df_all = None\n",
    "rmse_list_df_all = []\n",
    "for rmse_key in rmse_list_all:\n",
    "    for rmse_index, rmse_current_rmse in enumerate(rmse_list_all[rmse_key]):\n",
    "        rmse_current_training_split  = rmse_index + 1\n",
    "        rmse_current_key_split       = rmse_key.split(\",\")\n",
    "        rmse_current_key_split_month = rmse_current_key_split[0]\n",
    "        rmse_current_key_split_day   = rmse_current_key_split[1]\n",
    "        rmse_list_df_all.append([\n",
    "            rmse_current_key_split_month, rmse_current_key_split_day, rmse_current_training_split, rmse_current_rmse\n",
    "        ])\n",
    "rmse_df_all = DataFrame(rmse_list_df_all, columns = [\"month\", \"day\", \"split\", \"rmse\"])"
   ]
  },
  {
   "cell_type": "code",
   "execution_count": null,
   "id": "e224a846-98d0-450b-9c05-d6c235474206",
   "metadata": {},
   "outputs": [],
   "source": [
    "rmse_df_all"
   ]
  },
  {
   "cell_type": "code",
   "execution_count": null,
   "id": "f2365db1-24ea-4af8-bc45-cdd8a8960e06",
   "metadata": {},
   "outputs": [],
   "source": [
    "rmse_df_all.to_csv(filename_rmse_final, index = False)"
   ]
  },
  {
   "cell_type": "code",
   "execution_count": null,
   "id": "c943f8df-3cdf-4c01-b1ab-8cae4236ea89",
   "metadata": {},
   "outputs": [],
   "source": [
    "rmse_df_all = read_csv(filename_rmse_final)"
   ]
  },
  {
   "cell_type": "code",
   "execution_count": null,
   "id": "954e5335-1085-4144-9490-4a42567dee52",
   "metadata": {},
   "outputs": [],
   "source": [
    "rmse_df_all"
   ]
  },
  {
   "cell_type": "code",
   "execution_count": null,
   "id": "e2941faf-a15b-4490-9c92-91490437d0a7",
   "metadata": {},
   "outputs": [],
   "source": [
    "rmse_df_all_top_6 = None\n",
    "print (\"Generating RMSE graph for the following dates:\")\n",
    "for dayyy in range(directory_d1, directory_d2+1):\n",
    "    print (\"- {:} {:} ...\\t\".format(calendar.month_name[exp_hours_month], dayyy), end = \"\")\n",
    "    rmse_df_one_month = rmse_df_all[\n",
    "        (rmse_df_all[\"month\"] == exp_hours_month)\n",
    "        & (rmse_df_all[\"day\"] == dayyy)\n",
    "    ].copy(deep = True)\n",
    "    rmse_df_one_month.sort_values(\"rmse\", ascending = False, inplace = True)\n",
    "    rmse_df_one_month.reset_index(inplace = True, drop = True)\n",
    "    rmse_df_one_month.reset_index().plot(\n",
    "        x = \"index\",\n",
    "        y = \"rmse\"\n",
    "    )\n",
    "    plt.xlabel(\"splits\")\n",
    "    plt.ylabel(\"RMSE\")\n",
    "    \n",
    "    file_pred_name_month = calendar.month_name[exp_hours_month][0:3].lower()\n",
    "    rmse_graph_filename = \"results/rmse/{:}/{:}\".format(\n",
    "        \"{:}. {:}\".format(exp_hours_month, file_pred_name_month),\n",
    "        \"{:} {:}-{:}-{:} rmse.png\".format(rmse_df_one_month.rmse.min(), file_pred_name_month, dayyy, 2)\n",
    "    )\n",
    "    plt.savefig(rmse_graph_filename)\n",
    "    plt.clf()\n",
    "    print (\"(graph plotted)\")\n",
    "    rmse_df_one_month.sort_values(by = [\"rmse\"], inplace = True)\n",
    "    rmse_df_all_top_6 = concat([rmse_df_all_top_6, rmse_df_one_month[0:6]])"
   ]
  },
  {
   "cell_type": "code",
   "execution_count": null,
   "id": "001cd7c7-9b02-401f-936c-824e825ef0f4",
   "metadata": {},
   "outputs": [],
   "source": [
    "rmse_df_all_top_6"
   ]
  },
  {
   "cell_type": "code",
   "execution_count": null,
   "id": "33096c39-295d-4cd1-86be-84aaef4295a4",
   "metadata": {},
   "outputs": [],
   "source": [
    "rmse_df_all_top_6.to_csv(filename_rmse_final_top, index = False)"
   ]
  },
  {
   "cell_type": "code",
   "execution_count": null,
   "id": "4ad738f5-eaa0-4220-aafc-48c0b4f651d8",
   "metadata": {},
   "outputs": [],
   "source": [
    "rmse_df_all_top_6 = read_csv(filename_rmse_final_top)"
   ]
  },
  {
   "cell_type": "code",
   "execution_count": null,
   "id": "1958c64c-9f8d-4a2b-80c4-64c16184392e",
   "metadata": {},
   "outputs": [],
   "source": [
    "rmse_df_all_top_6"
   ]
  },
  {
   "cell_type": "code",
   "execution_count": null,
   "id": "7a7d46cc-6722-49c2-8176-eb00993219b1",
   "metadata": {},
   "outputs": [],
   "source": []
  },
  {
   "cell_type": "code",
   "execution_count": null,
   "id": "c840535f-3e7a-4a99-bec6-73feab051b45",
   "metadata": {},
   "outputs": [],
   "source": []
  }
 ],
 "metadata": {
  "kernelspec": {
   "display_name": "Python 3 (ipykernel)",
   "language": "python",
   "name": "python3"
  },
  "language_info": {
   "codemirror_mode": {
    "name": "ipython",
    "version": 3
   },
   "file_extension": ".py",
   "mimetype": "text/x-python",
   "name": "python",
   "nbconvert_exporter": "python",
   "pygments_lexer": "ipython3",
   "version": "3.10.6"
  }
 },
 "nbformat": 4,
 "nbformat_minor": 5
}
