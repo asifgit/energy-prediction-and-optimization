{
 "cells": [
  {
   "cell_type": "markdown",
   "id": "a25efeda-491c-4293-9b41-c1874a96a64e",
   "metadata": {},
   "source": [
    "# Import Libraries"
   ]
  },
  {
   "cell_type": "code",
   "execution_count": 1,
   "id": "11c0c8eb-105b-4034-ba2d-902e6fc23171",
   "metadata": {},
   "outputs": [
    {
     "name": "stderr",
     "output_type": "stream",
     "text": [
      "/home/xsif/anaconda3/envs/env005_energypredappliances/lib/python3.10/site-packages/scipy/__init__.py:146: UserWarning: A NumPy version >=1.16.5 and <1.23.0 is required for this version of SciPy (detected version 1.23.4\n",
      "  warnings.warn(f\"A NumPy version >={np_minversion} and <{np_maxversion}\"\n"
     ]
    }
   ],
   "source": [
    "# NOT-USED LIBRARIES\n",
    "# import seaborn as sns\n",
    "# from math import sqrt\n",
    "\n",
    "\n",
    "\n",
    "# NUMPY LIBRARIES\n",
    "import numpy as np\n",
    "from numpy import concatenate\n",
    "\n",
    "\n",
    "\n",
    "# PANDAS LIBRARIES\n",
    "import pandas as pd\n",
    "from pandas import read_csv\n",
    "from pandas import DataFrame\n",
    "from pandas import concat\n",
    "from pandas import to_datetime\n",
    "\n",
    "\n",
    "\n",
    "# MATPLOTLIB LIBRARIES\n",
    "import matplotlib.pyplot as plt\n",
    "from matplotlib import pyplot\n",
    "\n",
    "\n",
    "\n",
    "# SKLEARN LIBRARIES\n",
    "from sklearn import preprocessing\n",
    "from sklearn.preprocessing import MinMaxScaler\n",
    "from sklearn.preprocessing import LabelEncoder\n",
    "\n",
    "from sklearn import model_selection\n",
    "from sklearn.model_selection import train_test_split\n",
    "\n",
    "from sklearn import metrics\n",
    "from sklearn.metrics import mean_squared_error\n",
    "from sklearn.metrics import r2_score\n",
    "\n",
    "\n",
    "\n",
    "# KERAS LIBRARIES\n",
    "import keras\n",
    "from keras.models import Sequential\n",
    "from keras.layers import LSTM\n",
    "from keras.layers import Dense"
   ]
  },
  {
   "cell_type": "markdown",
   "id": "ac4a0784-9f22-4a21-908c-7ec1f9f94a66",
   "metadata": {},
   "source": [
    "# Load the dataset"
   ]
  },
  {
   "cell_type": "code",
   "execution_count": 2,
   "id": "6b1dc8d8-36eb-4e4b-9281-650ed7ceba67",
   "metadata": {},
   "outputs": [],
   "source": [
    "#import the dataset in dataframe\n",
    "data = pd.read_csv(\"../datasets/01_KAG_energydata_complete/KAG_energydata_complete.csv\")"
   ]
  },
  {
   "cell_type": "code",
   "execution_count": 3,
   "id": "b3c13aa0-1612-464f-b1c2-eea7c2fed86b",
   "metadata": {},
   "outputs": [
    {
     "data": {
      "text/html": [
       "<div>\n",
       "<style scoped>\n",
       "    .dataframe tbody tr th:only-of-type {\n",
       "        vertical-align: middle;\n",
       "    }\n",
       "\n",
       "    .dataframe tbody tr th {\n",
       "        vertical-align: top;\n",
       "    }\n",
       "\n",
       "    .dataframe thead th {\n",
       "        text-align: right;\n",
       "    }\n",
       "</style>\n",
       "<table border=\"1\" class=\"dataframe\">\n",
       "  <thead>\n",
       "    <tr style=\"text-align: right;\">\n",
       "      <th></th>\n",
       "      <th>date</th>\n",
       "      <th>Appliances</th>\n",
       "      <th>lights</th>\n",
       "      <th>T1</th>\n",
       "      <th>RH_1</th>\n",
       "      <th>T2</th>\n",
       "      <th>RH_2</th>\n",
       "      <th>T3</th>\n",
       "      <th>RH_3</th>\n",
       "      <th>T4</th>\n",
       "      <th>...</th>\n",
       "      <th>T9</th>\n",
       "      <th>RH_9</th>\n",
       "      <th>T_out</th>\n",
       "      <th>Press_mm_hg</th>\n",
       "      <th>RH_out</th>\n",
       "      <th>Windspeed</th>\n",
       "      <th>Visibility</th>\n",
       "      <th>Tdewpoint</th>\n",
       "      <th>rv1</th>\n",
       "      <th>rv2</th>\n",
       "    </tr>\n",
       "  </thead>\n",
       "  <tbody>\n",
       "    <tr>\n",
       "      <th>0</th>\n",
       "      <td>2016-01-11 17:00:00</td>\n",
       "      <td>60</td>\n",
       "      <td>30</td>\n",
       "      <td>19.89</td>\n",
       "      <td>47.596667</td>\n",
       "      <td>19.2</td>\n",
       "      <td>44.790000</td>\n",
       "      <td>19.79</td>\n",
       "      <td>44.730000</td>\n",
       "      <td>19.000000</td>\n",
       "      <td>...</td>\n",
       "      <td>17.033333</td>\n",
       "      <td>45.53</td>\n",
       "      <td>6.600000</td>\n",
       "      <td>733.5</td>\n",
       "      <td>92.0</td>\n",
       "      <td>7.000000</td>\n",
       "      <td>63.000000</td>\n",
       "      <td>5.3</td>\n",
       "      <td>13.275433</td>\n",
       "      <td>13.275433</td>\n",
       "    </tr>\n",
       "    <tr>\n",
       "      <th>1</th>\n",
       "      <td>2016-01-11 17:10:00</td>\n",
       "      <td>60</td>\n",
       "      <td>30</td>\n",
       "      <td>19.89</td>\n",
       "      <td>46.693333</td>\n",
       "      <td>19.2</td>\n",
       "      <td>44.722500</td>\n",
       "      <td>19.79</td>\n",
       "      <td>44.790000</td>\n",
       "      <td>19.000000</td>\n",
       "      <td>...</td>\n",
       "      <td>17.066667</td>\n",
       "      <td>45.56</td>\n",
       "      <td>6.483333</td>\n",
       "      <td>733.6</td>\n",
       "      <td>92.0</td>\n",
       "      <td>6.666667</td>\n",
       "      <td>59.166667</td>\n",
       "      <td>5.2</td>\n",
       "      <td>18.606195</td>\n",
       "      <td>18.606195</td>\n",
       "    </tr>\n",
       "    <tr>\n",
       "      <th>2</th>\n",
       "      <td>2016-01-11 17:20:00</td>\n",
       "      <td>50</td>\n",
       "      <td>30</td>\n",
       "      <td>19.89</td>\n",
       "      <td>46.300000</td>\n",
       "      <td>19.2</td>\n",
       "      <td>44.626667</td>\n",
       "      <td>19.79</td>\n",
       "      <td>44.933333</td>\n",
       "      <td>18.926667</td>\n",
       "      <td>...</td>\n",
       "      <td>17.000000</td>\n",
       "      <td>45.50</td>\n",
       "      <td>6.366667</td>\n",
       "      <td>733.7</td>\n",
       "      <td>92.0</td>\n",
       "      <td>6.333333</td>\n",
       "      <td>55.333333</td>\n",
       "      <td>5.1</td>\n",
       "      <td>28.642668</td>\n",
       "      <td>28.642668</td>\n",
       "    </tr>\n",
       "    <tr>\n",
       "      <th>3</th>\n",
       "      <td>2016-01-11 17:30:00</td>\n",
       "      <td>50</td>\n",
       "      <td>40</td>\n",
       "      <td>19.89</td>\n",
       "      <td>46.066667</td>\n",
       "      <td>19.2</td>\n",
       "      <td>44.590000</td>\n",
       "      <td>19.79</td>\n",
       "      <td>45.000000</td>\n",
       "      <td>18.890000</td>\n",
       "      <td>...</td>\n",
       "      <td>17.000000</td>\n",
       "      <td>45.40</td>\n",
       "      <td>6.250000</td>\n",
       "      <td>733.8</td>\n",
       "      <td>92.0</td>\n",
       "      <td>6.000000</td>\n",
       "      <td>51.500000</td>\n",
       "      <td>5.0</td>\n",
       "      <td>45.410389</td>\n",
       "      <td>45.410389</td>\n",
       "    </tr>\n",
       "    <tr>\n",
       "      <th>4</th>\n",
       "      <td>2016-01-11 17:40:00</td>\n",
       "      <td>60</td>\n",
       "      <td>40</td>\n",
       "      <td>19.89</td>\n",
       "      <td>46.333333</td>\n",
       "      <td>19.2</td>\n",
       "      <td>44.530000</td>\n",
       "      <td>19.79</td>\n",
       "      <td>45.000000</td>\n",
       "      <td>18.890000</td>\n",
       "      <td>...</td>\n",
       "      <td>17.000000</td>\n",
       "      <td>45.40</td>\n",
       "      <td>6.133333</td>\n",
       "      <td>733.9</td>\n",
       "      <td>92.0</td>\n",
       "      <td>5.666667</td>\n",
       "      <td>47.666667</td>\n",
       "      <td>4.9</td>\n",
       "      <td>10.084097</td>\n",
       "      <td>10.084097</td>\n",
       "    </tr>\n",
       "  </tbody>\n",
       "</table>\n",
       "<p>5 rows × 29 columns</p>\n",
       "</div>"
      ],
      "text/plain": [
       "                  date  Appliances  lights     T1       RH_1    T2       RH_2  \\\n",
       "0  2016-01-11 17:00:00          60      30  19.89  47.596667  19.2  44.790000   \n",
       "1  2016-01-11 17:10:00          60      30  19.89  46.693333  19.2  44.722500   \n",
       "2  2016-01-11 17:20:00          50      30  19.89  46.300000  19.2  44.626667   \n",
       "3  2016-01-11 17:30:00          50      40  19.89  46.066667  19.2  44.590000   \n",
       "4  2016-01-11 17:40:00          60      40  19.89  46.333333  19.2  44.530000   \n",
       "\n",
       "      T3       RH_3         T4  ...         T9   RH_9     T_out  Press_mm_hg  \\\n",
       "0  19.79  44.730000  19.000000  ...  17.033333  45.53  6.600000        733.5   \n",
       "1  19.79  44.790000  19.000000  ...  17.066667  45.56  6.483333        733.6   \n",
       "2  19.79  44.933333  18.926667  ...  17.000000  45.50  6.366667        733.7   \n",
       "3  19.79  45.000000  18.890000  ...  17.000000  45.40  6.250000        733.8   \n",
       "4  19.79  45.000000  18.890000  ...  17.000000  45.40  6.133333        733.9   \n",
       "\n",
       "   RH_out  Windspeed  Visibility  Tdewpoint        rv1        rv2  \n",
       "0    92.0   7.000000   63.000000        5.3  13.275433  13.275433  \n",
       "1    92.0   6.666667   59.166667        5.2  18.606195  18.606195  \n",
       "2    92.0   6.333333   55.333333        5.1  28.642668  28.642668  \n",
       "3    92.0   6.000000   51.500000        5.0  45.410389  45.410389  \n",
       "4    92.0   5.666667   47.666667        4.9  10.084097  10.084097  \n",
       "\n",
       "[5 rows x 29 columns]"
      ]
     },
     "execution_count": 3,
     "metadata": {},
     "output_type": "execute_result"
    }
   ],
   "source": [
    "data.head()"
   ]
  },
  {
   "cell_type": "code",
   "execution_count": 4,
   "id": "fec14992-24f1-4447-9895-0314e4a99f9e",
   "metadata": {},
   "outputs": [
    {
     "name": "stdout",
     "output_type": "stream",
     "text": [
      "Number of columns: 29\n"
     ]
    }
   ],
   "source": [
    "print (\"Number of columns:\", len(data.columns))"
   ]
  },
  {
   "cell_type": "code",
   "execution_count": 5,
   "id": "15dcbf8f-0ff8-4e50-90e2-0c279c8d8dd9",
   "metadata": {},
   "outputs": [
    {
     "name": "stdout",
     "output_type": "stream",
     "text": [
      "Number of rows: 19735\n"
     ]
    }
   ],
   "source": [
    "print (\"Number of rows:\", len(data))"
   ]
  },
  {
   "cell_type": "markdown",
   "id": "d7b44339-26b6-43aa-acb8-585e99a5b5e7",
   "metadata": {},
   "source": [
    "# Initializing variables"
   ]
  },
  {
   "cell_type": "code",
   "execution_count": 6,
   "id": "379f6a98-d5af-46ac-bbc8-81720cea53ae",
   "metadata": {},
   "outputs": [
    {
     "data": {
      "text/plain": [
       "Index(['date', 'Appliances', 'lights', 'T1', 'RH_1', 'T2', 'RH_2', 'T3',\n",
       "       'RH_3', 'T4', 'RH_4', 'T5', 'RH_5', 'T6', 'RH_6', 'T7', 'RH_7', 'T8',\n",
       "       'RH_8', 'T9', 'RH_9', 'T_out', 'Press_mm_hg', 'RH_out', 'Windspeed',\n",
       "       'Visibility', 'Tdewpoint', 'rv1', 'rv2'],\n",
       "      dtype='object')"
      ]
     },
     "execution_count": 6,
     "metadata": {},
     "output_type": "execute_result"
    }
   ],
   "source": [
    "data.columns"
   ]
  },
  {
   "cell_type": "markdown",
   "id": "e860811b-8248-4a10-8e1b-c7ee75cc3815",
   "metadata": {},
   "source": [
    "## Based on analysis, we remove other columns and only keep the columns listed in 'features' variable"
   ]
  },
  {
   "cell_type": "code",
   "execution_count": 7,
   "id": "dcae9297-dea4-4bf7-93b9-3be0fc08cf88",
   "metadata": {},
   "outputs": [],
   "source": [
    "col_time=[\"date\"]\n",
    "\n",
    "feature=[\n",
    "    \"RH_out\",\n",
    "    \"RH_8\",\n",
    "    \"RH_1\",\n",
    "    \"T3\",\n",
    "    \"RH_3\",\n",
    "    \"T2\",\n",
    "    \"Press_mm_hg\",\n",
    "    \"RH_2\",\n",
    "    \"RH_7\",\n",
    "    \"T8\",\n",
    "    \"RH_6\",\n",
    "    \"RH_4\",\n",
    "    \"RH_5\",\n",
    "    \"T_out\",\n",
    "    \"RH_9\",\n",
    "    \"T4\",\n",
    "    \"T7\",\n",
    "    \"Tdewpoint\",\n",
    "    \"Windspeed\",\n",
    "    \"T1\",\n",
    "    \"T5\"\n",
    "]\n",
    "\n",
    "col_target = [\"Appliances\"]"
   ]
  },
  {
   "cell_type": "code",
   "execution_count": null,
   "id": "c20ed470-b85e-49a9-969e-0f6a18085924",
   "metadata": {},
   "outputs": [],
   "source": []
  },
  {
   "cell_type": "markdown",
   "id": "ed4a46af-735c-4145-b160-b1b615532499",
   "metadata": {},
   "source": [
    "# Predefined Functions"
   ]
  },
  {
   "cell_type": "code",
   "execution_count": null,
   "id": "38880443-39dc-4a11-9cb1-18ddce034a37",
   "metadata": {},
   "outputs": [],
   "source": []
  },
  {
   "cell_type": "code",
   "execution_count": null,
   "id": "8fa7381f-d3d0-464d-8ed7-2b2622472849",
   "metadata": {},
   "outputs": [],
   "source": []
  },
  {
   "cell_type": "code",
   "execution_count": null,
   "id": "624d1d6a-7c07-4106-88c1-c5288556461b",
   "metadata": {},
   "outputs": [],
   "source": []
  },
  {
   "cell_type": "code",
   "execution_count": 8,
   "id": "bab1bc18-909e-40ec-8bb9-e9c7bba19c17",
   "metadata": {},
   "outputs": [],
   "source": [
    "# tmp_num_vars = 1 if type(scaled) is list else scaled.shape[1]\n",
    "# tmp_dataframe = DataFrame(scaled)\n",
    "# tmp_cols, tmp_names = list(), list()\n",
    "# for tmp_i in range(1, 0, -1):\n",
    "#     tmp_cols.append(tmp_dataframe.shift(tmp_i))\n",
    "#     tmp_names += [('var%d(t-%d)' % (tmp_j+1, tmp_i)) for tmp_j in range(tmp_num_vars)]\n",
    "# print (tmp_names)\n",
    "# print (\"\\n\\n\\n\\n\\n\\n\\n\")\n",
    "# # print (tmp_cols)\n",
    "\n",
    "# for tmp_i in range(0, 1):\n",
    "#     tmp_cols.append(tmp_dataframe.shift(-tmp_i))\n",
    "#     if tmp_i == 0:\n",
    "#         tmp_names += [('var%d(t)' % (tmp_j+1)) for tmp_j in range(tmp_num_vars)]\n",
    "#     else:\n",
    "#         tmp_names += [('var%d(t+%d)' % (tmp_j+1, tmp_i)) for tmp_j in range(tmp_num_vars)]\n",
    "# print (tmp_names)\n",
    "# # print (\"\\n\\n\\n\\n\\n\\n\\n\")"
   ]
  },
  {
   "cell_type": "code",
   "execution_count": 9,
   "id": "ed91225a-ea02-4068-86a5-f8e2040e0348",
   "metadata": {},
   "outputs": [],
   "source": [
    "# del tmp_num_vars, tmp_dataframe, tmp_cols, tmp_names, tmp_i, tmp_j"
   ]
  },
  {
   "cell_type": "code",
   "execution_count": null,
   "id": "98d8aa0a-3bb1-486c-9767-36ec722bc530",
   "metadata": {},
   "outputs": [],
   "source": []
  },
  {
   "cell_type": "code",
   "execution_count": null,
   "id": "f2eadfbc-f920-4763-abd1-7a4c454cdb59",
   "metadata": {},
   "outputs": [],
   "source": []
  },
  {
   "cell_type": "code",
   "execution_count": 10,
   "id": "e487e26f-8410-42c0-91e9-20c08d1710b9",
   "metadata": {},
   "outputs": [],
   "source": [
    "# convert series to supervised learning\n",
    "def series_to_supervised(dataset, n_in=1, n_out=1, dropnan=True):\n",
    "    num_vars = 1 if type(dataset) is list else dataset.shape[1]\n",
    "    dataframe = DataFrame(dataset)\n",
    "    cols, names = list(), list()\n",
    "    \n",
    "    # print (\"\\n\\n\\n\\n\\n\\n\\n******start******\\ndataframe:\\n\")\n",
    "    # print (dataframe)\n",
    "    \n",
    "    # input sequence (t-n, ....t-1)\n",
    "    for i in range(n_in, 0, -1):\n",
    "        cols.append(dataframe.shift(i))\n",
    "        names += [('var%d(t-%d)' % (j+1, i)) for j in range(num_vars)]\n",
    "    # forecast sequence (t, t+1 .... t+n)\n",
    "    # print (\"******end******\\n\\n\\n\\n\\n\\n\\n******start******\\ncols[0] / (t) (after loop # 1):\\n\")\n",
    "    # print (cols[0])\n",
    "    \n",
    "    for i in range(0, n_out):\n",
    "        cols.append(dataframe.shift(-i))\n",
    "        if i == 0:\n",
    "            names += [('var%d(t)' % (j+1)) for j in range(num_vars)]\n",
    "        else:\n",
    "            names += [('var%d(t+%d)' % (j+1, i)) for j in range(num_vars)]\n",
    "    \n",
    "    # print (\"******end******\\n\\n\\n\\n\\n\\n\\n******start******\\ncols[1] (t-1) (after loop # 2):\\n\")\n",
    "    # print (cols[1])\n",
    "    \n",
    "    # put it all together\n",
    "    agg = concat(cols, axis=1)\n",
    "    agg.columns = names\n",
    "\n",
    "    # print (\"******end******\\n\\n\\n\\n\\n\\n\\n******start******\\nagg (i.e., aggregation of col[0] (t-1):\\n\")\n",
    "    # print (agg[\"var1(t-1)\"])\n",
    "    # print (\"(i.e., aggregation of col[1] (t)):\\n\")\n",
    "    # print (agg[\"var1(t)\"])\n",
    "    \n",
    "    # print (\"******end******\\n\\n\\n\\n\\n\\n\\n******start******\\ncolumn names of agg:\\n\")\n",
    "    # print (names)\n",
    "    \n",
    "    # drop rows with NaN values\n",
    "    if dropnan:\n",
    "        agg.dropna(inplace=True)\n",
    "    \n",
    "    # print (\"******end******\\n\\n\\n\\n\\n\\n\\n******start******\\nagg (i.e., aggregation of col[0] and col[1]):\\n\")\n",
    "    # print (agg)\n",
    "    \n",
    "    return agg"
   ]
  },
  {
   "cell_type": "code",
   "execution_count": null,
   "id": "67cc5911-c6b1-4933-bd36-c7db71e81edb",
   "metadata": {},
   "outputs": [],
   "source": []
  },
  {
   "cell_type": "code",
   "execution_count": null,
   "id": "29682b00-736e-4283-8e68-169bcc8e23d8",
   "metadata": {},
   "outputs": [],
   "source": []
  },
  {
   "cell_type": "code",
   "execution_count": 11,
   "id": "3507252e-ced3-44ef-853d-0f20480ec727",
   "metadata": {},
   "outputs": [],
   "source": [
    "# scaled[0]"
   ]
  },
  {
   "cell_type": "code",
   "execution_count": 12,
   "id": "b9d8dd57-c615-47d5-83bb-ef8b2b3650cc",
   "metadata": {},
   "outputs": [],
   "source": [
    "# values[0]"
   ]
  },
  {
   "cell_type": "code",
   "execution_count": 13,
   "id": "c03a859a-f92f-4eb0-87d3-c63ba883d923",
   "metadata": {},
   "outputs": [],
   "source": [
    "# tmp_reframed = series_to_supervised(scaled, 1, 1)"
   ]
  },
  {
   "cell_type": "code",
   "execution_count": 14,
   "id": "99bdf575-7fe5-4b06-8a4b-005bfbcfd26b",
   "metadata": {},
   "outputs": [],
   "source": [
    "# del tmp_reframed"
   ]
  },
  {
   "cell_type": "code",
   "execution_count": null,
   "id": "cc8ec277-28c1-4979-994b-8cddbb0ab52c",
   "metadata": {},
   "outputs": [],
   "source": []
  },
  {
   "cell_type": "code",
   "execution_count": null,
   "id": "7431bad9-4139-4fb6-b985-df835700f752",
   "metadata": {},
   "outputs": [],
   "source": []
  },
  {
   "cell_type": "markdown",
   "id": "91da5ea4-7019-424f-9d9b-e311e754babd",
   "metadata": {},
   "source": [
    "# Setting up train/test dataset"
   ]
  },
  {
   "cell_type": "markdown",
   "id": "27324966-46ef-4163-ba25-8f33e7bb3865",
   "metadata": {},
   "source": [
    "## cloning dataset into 'data1'"
   ]
  },
  {
   "cell_type": "code",
   "execution_count": 15,
   "id": "8477cb80-2bab-43b5-a663-06f7fc9f301d",
   "metadata": {},
   "outputs": [],
   "source": [
    "data1 = data[col_target + col_time + feature]"
   ]
  },
  {
   "cell_type": "code",
   "execution_count": 16,
   "id": "ca1cdf7e-d162-4b50-a66c-f56313b0e285",
   "metadata": {},
   "outputs": [
    {
     "data": {
      "text/html": [
       "<div>\n",
       "<style scoped>\n",
       "    .dataframe tbody tr th:only-of-type {\n",
       "        vertical-align: middle;\n",
       "    }\n",
       "\n",
       "    .dataframe tbody tr th {\n",
       "        vertical-align: top;\n",
       "    }\n",
       "\n",
       "    .dataframe thead th {\n",
       "        text-align: right;\n",
       "    }\n",
       "</style>\n",
       "<table border=\"1\" class=\"dataframe\">\n",
       "  <thead>\n",
       "    <tr style=\"text-align: right;\">\n",
       "      <th></th>\n",
       "      <th>Appliances</th>\n",
       "      <th>date</th>\n",
       "      <th>RH_out</th>\n",
       "      <th>RH_8</th>\n",
       "      <th>RH_1</th>\n",
       "      <th>T3</th>\n",
       "      <th>RH_3</th>\n",
       "      <th>T2</th>\n",
       "      <th>Press_mm_hg</th>\n",
       "      <th>RH_2</th>\n",
       "      <th>...</th>\n",
       "      <th>RH_4</th>\n",
       "      <th>RH_5</th>\n",
       "      <th>T_out</th>\n",
       "      <th>RH_9</th>\n",
       "      <th>T4</th>\n",
       "      <th>T7</th>\n",
       "      <th>Tdewpoint</th>\n",
       "      <th>Windspeed</th>\n",
       "      <th>T1</th>\n",
       "      <th>T5</th>\n",
       "    </tr>\n",
       "  </thead>\n",
       "  <tbody>\n",
       "    <tr>\n",
       "      <th>0</th>\n",
       "      <td>60</td>\n",
       "      <td>2016-01-11 17:00:00</td>\n",
       "      <td>92.0</td>\n",
       "      <td>48.900000</td>\n",
       "      <td>47.596667</td>\n",
       "      <td>19.79</td>\n",
       "      <td>44.730000</td>\n",
       "      <td>19.2</td>\n",
       "      <td>733.5</td>\n",
       "      <td>44.790000</td>\n",
       "      <td>...</td>\n",
       "      <td>45.566667</td>\n",
       "      <td>55.20</td>\n",
       "      <td>6.600000</td>\n",
       "      <td>45.53</td>\n",
       "      <td>19.000000</td>\n",
       "      <td>17.200000</td>\n",
       "      <td>5.3</td>\n",
       "      <td>7.000000</td>\n",
       "      <td>19.89</td>\n",
       "      <td>17.166667</td>\n",
       "    </tr>\n",
       "    <tr>\n",
       "      <th>1</th>\n",
       "      <td>60</td>\n",
       "      <td>2016-01-11 17:10:00</td>\n",
       "      <td>92.0</td>\n",
       "      <td>48.863333</td>\n",
       "      <td>46.693333</td>\n",
       "      <td>19.79</td>\n",
       "      <td>44.790000</td>\n",
       "      <td>19.2</td>\n",
       "      <td>733.6</td>\n",
       "      <td>44.722500</td>\n",
       "      <td>...</td>\n",
       "      <td>45.992500</td>\n",
       "      <td>55.20</td>\n",
       "      <td>6.483333</td>\n",
       "      <td>45.56</td>\n",
       "      <td>19.000000</td>\n",
       "      <td>17.200000</td>\n",
       "      <td>5.2</td>\n",
       "      <td>6.666667</td>\n",
       "      <td>19.89</td>\n",
       "      <td>17.166667</td>\n",
       "    </tr>\n",
       "    <tr>\n",
       "      <th>2</th>\n",
       "      <td>50</td>\n",
       "      <td>2016-01-11 17:20:00</td>\n",
       "      <td>92.0</td>\n",
       "      <td>48.730000</td>\n",
       "      <td>46.300000</td>\n",
       "      <td>19.79</td>\n",
       "      <td>44.933333</td>\n",
       "      <td>19.2</td>\n",
       "      <td>733.7</td>\n",
       "      <td>44.626667</td>\n",
       "      <td>...</td>\n",
       "      <td>45.890000</td>\n",
       "      <td>55.09</td>\n",
       "      <td>6.366667</td>\n",
       "      <td>45.50</td>\n",
       "      <td>18.926667</td>\n",
       "      <td>17.200000</td>\n",
       "      <td>5.1</td>\n",
       "      <td>6.333333</td>\n",
       "      <td>19.89</td>\n",
       "      <td>17.166667</td>\n",
       "    </tr>\n",
       "    <tr>\n",
       "      <th>3</th>\n",
       "      <td>50</td>\n",
       "      <td>2016-01-11 17:30:00</td>\n",
       "      <td>92.0</td>\n",
       "      <td>48.590000</td>\n",
       "      <td>46.066667</td>\n",
       "      <td>19.79</td>\n",
       "      <td>45.000000</td>\n",
       "      <td>19.2</td>\n",
       "      <td>733.8</td>\n",
       "      <td>44.590000</td>\n",
       "      <td>...</td>\n",
       "      <td>45.723333</td>\n",
       "      <td>55.09</td>\n",
       "      <td>6.250000</td>\n",
       "      <td>45.40</td>\n",
       "      <td>18.890000</td>\n",
       "      <td>17.133333</td>\n",
       "      <td>5.0</td>\n",
       "      <td>6.000000</td>\n",
       "      <td>19.89</td>\n",
       "      <td>17.166667</td>\n",
       "    </tr>\n",
       "    <tr>\n",
       "      <th>4</th>\n",
       "      <td>60</td>\n",
       "      <td>2016-01-11 17:40:00</td>\n",
       "      <td>92.0</td>\n",
       "      <td>48.590000</td>\n",
       "      <td>46.333333</td>\n",
       "      <td>19.79</td>\n",
       "      <td>45.000000</td>\n",
       "      <td>19.2</td>\n",
       "      <td>733.9</td>\n",
       "      <td>44.530000</td>\n",
       "      <td>...</td>\n",
       "      <td>45.530000</td>\n",
       "      <td>55.09</td>\n",
       "      <td>6.133333</td>\n",
       "      <td>45.40</td>\n",
       "      <td>18.890000</td>\n",
       "      <td>17.200000</td>\n",
       "      <td>4.9</td>\n",
       "      <td>5.666667</td>\n",
       "      <td>19.89</td>\n",
       "      <td>17.200000</td>\n",
       "    </tr>\n",
       "  </tbody>\n",
       "</table>\n",
       "<p>5 rows × 23 columns</p>\n",
       "</div>"
      ],
      "text/plain": [
       "   Appliances                 date  RH_out       RH_8       RH_1     T3  \\\n",
       "0          60  2016-01-11 17:00:00    92.0  48.900000  47.596667  19.79   \n",
       "1          60  2016-01-11 17:10:00    92.0  48.863333  46.693333  19.79   \n",
       "2          50  2016-01-11 17:20:00    92.0  48.730000  46.300000  19.79   \n",
       "3          50  2016-01-11 17:30:00    92.0  48.590000  46.066667  19.79   \n",
       "4          60  2016-01-11 17:40:00    92.0  48.590000  46.333333  19.79   \n",
       "\n",
       "        RH_3    T2  Press_mm_hg       RH_2  ...       RH_4   RH_5     T_out  \\\n",
       "0  44.730000  19.2        733.5  44.790000  ...  45.566667  55.20  6.600000   \n",
       "1  44.790000  19.2        733.6  44.722500  ...  45.992500  55.20  6.483333   \n",
       "2  44.933333  19.2        733.7  44.626667  ...  45.890000  55.09  6.366667   \n",
       "3  45.000000  19.2        733.8  44.590000  ...  45.723333  55.09  6.250000   \n",
       "4  45.000000  19.2        733.9  44.530000  ...  45.530000  55.09  6.133333   \n",
       "\n",
       "    RH_9         T4         T7  Tdewpoint  Windspeed     T1         T5  \n",
       "0  45.53  19.000000  17.200000        5.3   7.000000  19.89  17.166667  \n",
       "1  45.56  19.000000  17.200000        5.2   6.666667  19.89  17.166667  \n",
       "2  45.50  18.926667  17.200000        5.1   6.333333  19.89  17.166667  \n",
       "3  45.40  18.890000  17.133333        5.0   6.000000  19.89  17.166667  \n",
       "4  45.40  18.890000  17.200000        4.9   5.666667  19.89  17.200000  \n",
       "\n",
       "[5 rows x 23 columns]"
      ]
     },
     "execution_count": 16,
     "metadata": {},
     "output_type": "execute_result"
    }
   ],
   "source": [
    "data1.head()"
   ]
  },
  {
   "cell_type": "code",
   "execution_count": null,
   "id": "9b30fa9f-11df-4e42-a8fc-82a3a685b034",
   "metadata": {},
   "outputs": [],
   "source": []
  },
  {
   "cell_type": "markdown",
   "id": "f9cf1f23-62bb-4a7b-af09-a1149ded20f3",
   "metadata": {},
   "source": [
    "## indexing the dataset over the column 'date'"
   ]
  },
  {
   "cell_type": "code",
   "execution_count": 17,
   "id": "e6e4a210-a803-4d23-a644-311eb2a98792",
   "metadata": {},
   "outputs": [
    {
     "name": "stderr",
     "output_type": "stream",
     "text": [
      "/tmp/ipykernel_3988089/3224050610.py:1: SettingWithCopyWarning: \n",
      "A value is trying to be set on a copy of a slice from a DataFrame.\n",
      "Try using .loc[row_indexer,col_indexer] = value instead\n",
      "\n",
      "See the caveats in the documentation: https://pandas.pydata.org/pandas-docs/stable/user_guide/indexing.html#returning-a-view-versus-a-copy\n",
      "  data1[\"date\"]=pd.to_datetime(data1[\"date\"])\n"
     ]
    }
   ],
   "source": [
    "data1[\"date\"]=pd.to_datetime(data1[\"date\"])\n",
    "data1 = data1.set_index(['date'], drop=True)"
   ]
  },
  {
   "cell_type": "code",
   "execution_count": 18,
   "id": "b7c69650-ef18-4fbc-80f3-f41392c70b34",
   "metadata": {},
   "outputs": [
    {
     "data": {
      "text/html": [
       "<div>\n",
       "<style scoped>\n",
       "    .dataframe tbody tr th:only-of-type {\n",
       "        vertical-align: middle;\n",
       "    }\n",
       "\n",
       "    .dataframe tbody tr th {\n",
       "        vertical-align: top;\n",
       "    }\n",
       "\n",
       "    .dataframe thead th {\n",
       "        text-align: right;\n",
       "    }\n",
       "</style>\n",
       "<table border=\"1\" class=\"dataframe\">\n",
       "  <thead>\n",
       "    <tr style=\"text-align: right;\">\n",
       "      <th></th>\n",
       "      <th>Appliances</th>\n",
       "      <th>RH_out</th>\n",
       "      <th>RH_8</th>\n",
       "      <th>RH_1</th>\n",
       "      <th>T3</th>\n",
       "      <th>RH_3</th>\n",
       "      <th>T2</th>\n",
       "      <th>Press_mm_hg</th>\n",
       "      <th>RH_2</th>\n",
       "      <th>RH_7</th>\n",
       "      <th>...</th>\n",
       "      <th>RH_4</th>\n",
       "      <th>RH_5</th>\n",
       "      <th>T_out</th>\n",
       "      <th>RH_9</th>\n",
       "      <th>T4</th>\n",
       "      <th>T7</th>\n",
       "      <th>Tdewpoint</th>\n",
       "      <th>Windspeed</th>\n",
       "      <th>T1</th>\n",
       "      <th>T5</th>\n",
       "    </tr>\n",
       "    <tr>\n",
       "      <th>date</th>\n",
       "      <th></th>\n",
       "      <th></th>\n",
       "      <th></th>\n",
       "      <th></th>\n",
       "      <th></th>\n",
       "      <th></th>\n",
       "      <th></th>\n",
       "      <th></th>\n",
       "      <th></th>\n",
       "      <th></th>\n",
       "      <th></th>\n",
       "      <th></th>\n",
       "      <th></th>\n",
       "      <th></th>\n",
       "      <th></th>\n",
       "      <th></th>\n",
       "      <th></th>\n",
       "      <th></th>\n",
       "      <th></th>\n",
       "      <th></th>\n",
       "      <th></th>\n",
       "    </tr>\n",
       "  </thead>\n",
       "  <tbody>\n",
       "    <tr>\n",
       "      <th>2016-01-11 17:00:00</th>\n",
       "      <td>60</td>\n",
       "      <td>92.000000</td>\n",
       "      <td>48.900000</td>\n",
       "      <td>47.596667</td>\n",
       "      <td>19.790000</td>\n",
       "      <td>44.730000</td>\n",
       "      <td>19.200000</td>\n",
       "      <td>733.5</td>\n",
       "      <td>44.790000</td>\n",
       "      <td>41.626667</td>\n",
       "      <td>...</td>\n",
       "      <td>45.566667</td>\n",
       "      <td>55.200000</td>\n",
       "      <td>6.600000</td>\n",
       "      <td>45.5300</td>\n",
       "      <td>19.000000</td>\n",
       "      <td>17.200000</td>\n",
       "      <td>5.300000</td>\n",
       "      <td>7.000000</td>\n",
       "      <td>19.890000</td>\n",
       "      <td>17.166667</td>\n",
       "    </tr>\n",
       "    <tr>\n",
       "      <th>2016-01-11 17:10:00</th>\n",
       "      <td>60</td>\n",
       "      <td>92.000000</td>\n",
       "      <td>48.863333</td>\n",
       "      <td>46.693333</td>\n",
       "      <td>19.790000</td>\n",
       "      <td>44.790000</td>\n",
       "      <td>19.200000</td>\n",
       "      <td>733.6</td>\n",
       "      <td>44.722500</td>\n",
       "      <td>41.560000</td>\n",
       "      <td>...</td>\n",
       "      <td>45.992500</td>\n",
       "      <td>55.200000</td>\n",
       "      <td>6.483333</td>\n",
       "      <td>45.5600</td>\n",
       "      <td>19.000000</td>\n",
       "      <td>17.200000</td>\n",
       "      <td>5.200000</td>\n",
       "      <td>6.666667</td>\n",
       "      <td>19.890000</td>\n",
       "      <td>17.166667</td>\n",
       "    </tr>\n",
       "    <tr>\n",
       "      <th>2016-01-11 17:20:00</th>\n",
       "      <td>50</td>\n",
       "      <td>92.000000</td>\n",
       "      <td>48.730000</td>\n",
       "      <td>46.300000</td>\n",
       "      <td>19.790000</td>\n",
       "      <td>44.933333</td>\n",
       "      <td>19.200000</td>\n",
       "      <td>733.7</td>\n",
       "      <td>44.626667</td>\n",
       "      <td>41.433333</td>\n",
       "      <td>...</td>\n",
       "      <td>45.890000</td>\n",
       "      <td>55.090000</td>\n",
       "      <td>6.366667</td>\n",
       "      <td>45.5000</td>\n",
       "      <td>18.926667</td>\n",
       "      <td>17.200000</td>\n",
       "      <td>5.100000</td>\n",
       "      <td>6.333333</td>\n",
       "      <td>19.890000</td>\n",
       "      <td>17.166667</td>\n",
       "    </tr>\n",
       "    <tr>\n",
       "      <th>2016-01-11 17:30:00</th>\n",
       "      <td>50</td>\n",
       "      <td>92.000000</td>\n",
       "      <td>48.590000</td>\n",
       "      <td>46.066667</td>\n",
       "      <td>19.790000</td>\n",
       "      <td>45.000000</td>\n",
       "      <td>19.200000</td>\n",
       "      <td>733.8</td>\n",
       "      <td>44.590000</td>\n",
       "      <td>41.290000</td>\n",
       "      <td>...</td>\n",
       "      <td>45.723333</td>\n",
       "      <td>55.090000</td>\n",
       "      <td>6.250000</td>\n",
       "      <td>45.4000</td>\n",
       "      <td>18.890000</td>\n",
       "      <td>17.133333</td>\n",
       "      <td>5.000000</td>\n",
       "      <td>6.000000</td>\n",
       "      <td>19.890000</td>\n",
       "      <td>17.166667</td>\n",
       "    </tr>\n",
       "    <tr>\n",
       "      <th>2016-01-11 17:40:00</th>\n",
       "      <td>60</td>\n",
       "      <td>92.000000</td>\n",
       "      <td>48.590000</td>\n",
       "      <td>46.333333</td>\n",
       "      <td>19.790000</td>\n",
       "      <td>45.000000</td>\n",
       "      <td>19.200000</td>\n",
       "      <td>733.9</td>\n",
       "      <td>44.530000</td>\n",
       "      <td>41.230000</td>\n",
       "      <td>...</td>\n",
       "      <td>45.530000</td>\n",
       "      <td>55.090000</td>\n",
       "      <td>6.133333</td>\n",
       "      <td>45.4000</td>\n",
       "      <td>18.890000</td>\n",
       "      <td>17.200000</td>\n",
       "      <td>4.900000</td>\n",
       "      <td>5.666667</td>\n",
       "      <td>19.890000</td>\n",
       "      <td>17.200000</td>\n",
       "    </tr>\n",
       "    <tr>\n",
       "      <th>...</th>\n",
       "      <td>...</td>\n",
       "      <td>...</td>\n",
       "      <td>...</td>\n",
       "      <td>...</td>\n",
       "      <td>...</td>\n",
       "      <td>...</td>\n",
       "      <td>...</td>\n",
       "      <td>...</td>\n",
       "      <td>...</td>\n",
       "      <td>...</td>\n",
       "      <td>...</td>\n",
       "      <td>...</td>\n",
       "      <td>...</td>\n",
       "      <td>...</td>\n",
       "      <td>...</td>\n",
       "      <td>...</td>\n",
       "      <td>...</td>\n",
       "      <td>...</td>\n",
       "      <td>...</td>\n",
       "      <td>...</td>\n",
       "      <td>...</td>\n",
       "    </tr>\n",
       "    <tr>\n",
       "      <th>2016-05-27 17:20:00</th>\n",
       "      <td>100</td>\n",
       "      <td>55.666667</td>\n",
       "      <td>50.074000</td>\n",
       "      <td>46.560000</td>\n",
       "      <td>27.200000</td>\n",
       "      <td>41.163333</td>\n",
       "      <td>25.890000</td>\n",
       "      <td>755.2</td>\n",
       "      <td>42.025714</td>\n",
       "      <td>44.500000</td>\n",
       "      <td>...</td>\n",
       "      <td>45.590000</td>\n",
       "      <td>52.400000</td>\n",
       "      <td>22.733333</td>\n",
       "      <td>46.7900</td>\n",
       "      <td>24.700000</td>\n",
       "      <td>24.500000</td>\n",
       "      <td>13.333333</td>\n",
       "      <td>3.333333</td>\n",
       "      <td>25.566667</td>\n",
       "      <td>23.200000</td>\n",
       "    </tr>\n",
       "    <tr>\n",
       "      <th>2016-05-27 17:30:00</th>\n",
       "      <td>90</td>\n",
       "      <td>56.000000</td>\n",
       "      <td>49.790000</td>\n",
       "      <td>46.500000</td>\n",
       "      <td>27.133333</td>\n",
       "      <td>41.223333</td>\n",
       "      <td>25.754000</td>\n",
       "      <td>755.2</td>\n",
       "      <td>42.080000</td>\n",
       "      <td>44.414286</td>\n",
       "      <td>...</td>\n",
       "      <td>45.590000</td>\n",
       "      <td>52.326667</td>\n",
       "      <td>22.600000</td>\n",
       "      <td>46.7900</td>\n",
       "      <td>24.700000</td>\n",
       "      <td>24.557143</td>\n",
       "      <td>13.300000</td>\n",
       "      <td>3.500000</td>\n",
       "      <td>25.500000</td>\n",
       "      <td>23.230000</td>\n",
       "    </tr>\n",
       "    <tr>\n",
       "      <th>2016-05-27 17:40:00</th>\n",
       "      <td>270</td>\n",
       "      <td>56.333333</td>\n",
       "      <td>49.660000</td>\n",
       "      <td>46.596667</td>\n",
       "      <td>27.050000</td>\n",
       "      <td>41.690000</td>\n",
       "      <td>25.628571</td>\n",
       "      <td>755.2</td>\n",
       "      <td>42.768571</td>\n",
       "      <td>44.400000</td>\n",
       "      <td>...</td>\n",
       "      <td>45.730000</td>\n",
       "      <td>52.266667</td>\n",
       "      <td>22.466667</td>\n",
       "      <td>46.7900</td>\n",
       "      <td>24.700000</td>\n",
       "      <td>24.540000</td>\n",
       "      <td>13.266667</td>\n",
       "      <td>3.666667</td>\n",
       "      <td>25.500000</td>\n",
       "      <td>23.230000</td>\n",
       "    </tr>\n",
       "    <tr>\n",
       "      <th>2016-05-27 17:50:00</th>\n",
       "      <td>420</td>\n",
       "      <td>56.666667</td>\n",
       "      <td>49.518750</td>\n",
       "      <td>46.990000</td>\n",
       "      <td>26.890000</td>\n",
       "      <td>41.290000</td>\n",
       "      <td>25.414000</td>\n",
       "      <td>755.2</td>\n",
       "      <td>43.036000</td>\n",
       "      <td>44.295714</td>\n",
       "      <td>...</td>\n",
       "      <td>45.790000</td>\n",
       "      <td>52.200000</td>\n",
       "      <td>22.333333</td>\n",
       "      <td>46.8175</td>\n",
       "      <td>24.700000</td>\n",
       "      <td>24.500000</td>\n",
       "      <td>13.233333</td>\n",
       "      <td>3.833333</td>\n",
       "      <td>25.500000</td>\n",
       "      <td>23.200000</td>\n",
       "    </tr>\n",
       "    <tr>\n",
       "      <th>2016-05-27 18:00:00</th>\n",
       "      <td>430</td>\n",
       "      <td>57.000000</td>\n",
       "      <td>49.736000</td>\n",
       "      <td>46.600000</td>\n",
       "      <td>26.823333</td>\n",
       "      <td>41.156667</td>\n",
       "      <td>25.264286</td>\n",
       "      <td>755.2</td>\n",
       "      <td>42.971429</td>\n",
       "      <td>44.054000</td>\n",
       "      <td>...</td>\n",
       "      <td>45.963333</td>\n",
       "      <td>52.200000</td>\n",
       "      <td>22.200000</td>\n",
       "      <td>46.8450</td>\n",
       "      <td>24.700000</td>\n",
       "      <td>24.500000</td>\n",
       "      <td>13.200000</td>\n",
       "      <td>4.000000</td>\n",
       "      <td>25.500000</td>\n",
       "      <td>23.200000</td>\n",
       "    </tr>\n",
       "  </tbody>\n",
       "</table>\n",
       "<p>19735 rows × 22 columns</p>\n",
       "</div>"
      ],
      "text/plain": [
       "                     Appliances     RH_out       RH_8       RH_1         T3  \\\n",
       "date                                                                          \n",
       "2016-01-11 17:00:00          60  92.000000  48.900000  47.596667  19.790000   \n",
       "2016-01-11 17:10:00          60  92.000000  48.863333  46.693333  19.790000   \n",
       "2016-01-11 17:20:00          50  92.000000  48.730000  46.300000  19.790000   \n",
       "2016-01-11 17:30:00          50  92.000000  48.590000  46.066667  19.790000   \n",
       "2016-01-11 17:40:00          60  92.000000  48.590000  46.333333  19.790000   \n",
       "...                         ...        ...        ...        ...        ...   \n",
       "2016-05-27 17:20:00         100  55.666667  50.074000  46.560000  27.200000   \n",
       "2016-05-27 17:30:00          90  56.000000  49.790000  46.500000  27.133333   \n",
       "2016-05-27 17:40:00         270  56.333333  49.660000  46.596667  27.050000   \n",
       "2016-05-27 17:50:00         420  56.666667  49.518750  46.990000  26.890000   \n",
       "2016-05-27 18:00:00         430  57.000000  49.736000  46.600000  26.823333   \n",
       "\n",
       "                          RH_3         T2  Press_mm_hg       RH_2       RH_7  \\\n",
       "date                                                                           \n",
       "2016-01-11 17:00:00  44.730000  19.200000        733.5  44.790000  41.626667   \n",
       "2016-01-11 17:10:00  44.790000  19.200000        733.6  44.722500  41.560000   \n",
       "2016-01-11 17:20:00  44.933333  19.200000        733.7  44.626667  41.433333   \n",
       "2016-01-11 17:30:00  45.000000  19.200000        733.8  44.590000  41.290000   \n",
       "2016-01-11 17:40:00  45.000000  19.200000        733.9  44.530000  41.230000   \n",
       "...                        ...        ...          ...        ...        ...   \n",
       "2016-05-27 17:20:00  41.163333  25.890000        755.2  42.025714  44.500000   \n",
       "2016-05-27 17:30:00  41.223333  25.754000        755.2  42.080000  44.414286   \n",
       "2016-05-27 17:40:00  41.690000  25.628571        755.2  42.768571  44.400000   \n",
       "2016-05-27 17:50:00  41.290000  25.414000        755.2  43.036000  44.295714   \n",
       "2016-05-27 18:00:00  41.156667  25.264286        755.2  42.971429  44.054000   \n",
       "\n",
       "                     ...       RH_4       RH_5      T_out     RH_9         T4  \\\n",
       "date                 ...                                                        \n",
       "2016-01-11 17:00:00  ...  45.566667  55.200000   6.600000  45.5300  19.000000   \n",
       "2016-01-11 17:10:00  ...  45.992500  55.200000   6.483333  45.5600  19.000000   \n",
       "2016-01-11 17:20:00  ...  45.890000  55.090000   6.366667  45.5000  18.926667   \n",
       "2016-01-11 17:30:00  ...  45.723333  55.090000   6.250000  45.4000  18.890000   \n",
       "2016-01-11 17:40:00  ...  45.530000  55.090000   6.133333  45.4000  18.890000   \n",
       "...                  ...        ...        ...        ...      ...        ...   \n",
       "2016-05-27 17:20:00  ...  45.590000  52.400000  22.733333  46.7900  24.700000   \n",
       "2016-05-27 17:30:00  ...  45.590000  52.326667  22.600000  46.7900  24.700000   \n",
       "2016-05-27 17:40:00  ...  45.730000  52.266667  22.466667  46.7900  24.700000   \n",
       "2016-05-27 17:50:00  ...  45.790000  52.200000  22.333333  46.8175  24.700000   \n",
       "2016-05-27 18:00:00  ...  45.963333  52.200000  22.200000  46.8450  24.700000   \n",
       "\n",
       "                            T7  Tdewpoint  Windspeed         T1         T5  \n",
       "date                                                                        \n",
       "2016-01-11 17:00:00  17.200000   5.300000   7.000000  19.890000  17.166667  \n",
       "2016-01-11 17:10:00  17.200000   5.200000   6.666667  19.890000  17.166667  \n",
       "2016-01-11 17:20:00  17.200000   5.100000   6.333333  19.890000  17.166667  \n",
       "2016-01-11 17:30:00  17.133333   5.000000   6.000000  19.890000  17.166667  \n",
       "2016-01-11 17:40:00  17.200000   4.900000   5.666667  19.890000  17.200000  \n",
       "...                        ...        ...        ...        ...        ...  \n",
       "2016-05-27 17:20:00  24.500000  13.333333   3.333333  25.566667  23.200000  \n",
       "2016-05-27 17:30:00  24.557143  13.300000   3.500000  25.500000  23.230000  \n",
       "2016-05-27 17:40:00  24.540000  13.266667   3.666667  25.500000  23.230000  \n",
       "2016-05-27 17:50:00  24.500000  13.233333   3.833333  25.500000  23.200000  \n",
       "2016-05-27 18:00:00  24.500000  13.200000   4.000000  25.500000  23.200000  \n",
       "\n",
       "[19735 rows x 22 columns]"
      ]
     },
     "execution_count": 18,
     "metadata": {},
     "output_type": "execute_result"
    }
   ],
   "source": [
    "data1"
   ]
  },
  {
   "cell_type": "markdown",
   "id": "26253134-d491-4867-a458-edf4eab69134",
   "metadata": {},
   "source": [
    "### now, we can access the dataset rows using date as an 'index' in addition to '0-n'"
   ]
  },
  {
   "cell_type": "code",
   "execution_count": 19,
   "id": "505e5528-de85-48af-a0f0-86b5cc23c8ea",
   "metadata": {},
   "outputs": [
    {
     "data": {
      "text/plain": [
       "Index(['Appliances', 'RH_out', 'RH_8', 'RH_1', 'T3', 'RH_3', 'T2',\n",
       "       'Press_mm_hg', 'RH_2', 'RH_7', 'T8', 'RH_6', 'RH_4', 'RH_5', 'T_out',\n",
       "       'RH_9', 'T4', 'T7', 'Tdewpoint', 'Windspeed', 'T1', 'T5'],\n",
       "      dtype='object')"
      ]
     },
     "execution_count": 19,
     "metadata": {},
     "output_type": "execute_result"
    }
   ],
   "source": [
    "data1.columns"
   ]
  },
  {
   "cell_type": "code",
   "execution_count": 20,
   "id": "aefe3a57-877f-4c8a-838c-64dd8e7c9f8a",
   "metadata": {},
   "outputs": [
    {
     "data": {
      "text/plain": [
       "22"
      ]
     },
     "execution_count": 20,
     "metadata": {},
     "output_type": "execute_result"
    }
   ],
   "source": [
    "len(data1.columns)"
   ]
  },
  {
   "cell_type": "code",
   "execution_count": 21,
   "id": "da399161-0caf-4028-ac21-d540af801e53",
   "metadata": {},
   "outputs": [
    {
     "data": {
      "text/plain": [
       "60"
      ]
     },
     "execution_count": 21,
     "metadata": {},
     "output_type": "execute_result"
    }
   ],
   "source": [
    "data1[\"Appliances\"][\"2016-01-11 17:00:00\"]"
   ]
  },
  {
   "cell_type": "code",
   "execution_count": null,
   "id": "53a0b229-625f-4b2f-be7d-9b85a8be3363",
   "metadata": {},
   "outputs": [],
   "source": []
  },
  {
   "cell_type": "markdown",
   "id": "9c14ebcd-e7da-4185-9cf1-4546a3e5ec7e",
   "metadata": {
    "tags": []
   },
   "source": [
    "## converting/getting dataframe values into an 'numpy array'"
   ]
  },
  {
   "cell_type": "code",
   "execution_count": 22,
   "id": "b4d3d94a-934b-4cb0-8f49-917c67fe385f",
   "metadata": {},
   "outputs": [
    {
     "name": "stdout",
     "output_type": "stream",
     "text": [
      "Number of columns: 22\n"
     ]
    }
   ],
   "source": [
    "print (\"Number of columns:\", len(data1.columns))"
   ]
  },
  {
   "cell_type": "code",
   "execution_count": 23,
   "id": "5b1bfdd0-c192-4e9a-8237-fbeece44e542",
   "metadata": {},
   "outputs": [
    {
     "name": "stdout",
     "output_type": "stream",
     "text": [
      "Number of rows: 19735\n"
     ]
    }
   ],
   "source": [
    "print (\"Number of rows:\", len(data1))"
   ]
  },
  {
   "cell_type": "code",
   "execution_count": 24,
   "id": "99e0b402-bd60-4a49-a018-1ac14a94037e",
   "metadata": {},
   "outputs": [],
   "source": [
    "values=data1.values"
   ]
  },
  {
   "cell_type": "code",
   "execution_count": 25,
   "id": "5258e742-a04d-4977-a775-d0882ed54ff6",
   "metadata": {},
   "outputs": [
    {
     "data": {
      "text/plain": [
       "(19735, 22)"
      ]
     },
     "execution_count": 25,
     "metadata": {},
     "output_type": "execute_result"
    }
   ],
   "source": [
    "values.shape"
   ]
  },
  {
   "cell_type": "code",
   "execution_count": 26,
   "id": "9e61691a-6fc8-4bea-a38e-e2c5a52bac6f",
   "metadata": {},
   "outputs": [
    {
     "data": {
      "text/plain": [
       "23.2"
      ]
     },
     "execution_count": 26,
     "metadata": {},
     "output_type": "execute_result"
    }
   ],
   "source": [
    "values[19734][21] #last row and last colum's value"
   ]
  },
  {
   "cell_type": "code",
   "execution_count": null,
   "id": "8393a902-3e4f-4919-9ee9-db6987109f01",
   "metadata": {},
   "outputs": [],
   "source": []
  },
  {
   "cell_type": "markdown",
   "id": "0695954e-cf25-4e57-b491-40fb06881718",
   "metadata": {},
   "source": [
    "## scaling the dataset because LSTM can only interpret scalar values (not string/complex datatypes)"
   ]
  },
  {
   "cell_type": "code",
   "execution_count": 27,
   "id": "cb8ee644-b04e-4425-babd-b4f8d02f5bd1",
   "metadata": {},
   "outputs": [],
   "source": [
    "# normalize features\n",
    "scaler = MinMaxScaler(feature_range=(0,1))\n",
    "scaled = scaler.fit_transform(values)"
   ]
  },
  {
   "cell_type": "code",
   "execution_count": 28,
   "id": "e8f6a4e2-0e92-4f59-a446-38118a7efc70",
   "metadata": {},
   "outputs": [
    {
     "data": {
      "text/plain": [
       "(19735, 22)"
      ]
     },
     "execution_count": 28,
     "metadata": {},
     "output_type": "execute_result"
    }
   ],
   "source": [
    "scaled.shape"
   ]
  },
  {
   "cell_type": "code",
   "execution_count": 29,
   "id": "1953a8f0-4754-43a0-a487-66f262d0cf8b",
   "metadata": {},
   "outputs": [
    {
     "data": {
      "text/plain": [
       "numpy.ndarray"
      ]
     },
     "execution_count": 29,
     "metadata": {},
     "output_type": "execute_result"
    }
   ],
   "source": [
    "type(scaled)"
   ]
  },
  {
   "cell_type": "code",
   "execution_count": null,
   "id": "611e526f-a11c-4cf9-8670-e3daed01b8a7",
   "metadata": {},
   "outputs": [],
   "source": []
  },
  {
   "cell_type": "markdown",
   "id": "e68ee10a-2523-4879-bb5d-4818518c13c2",
   "metadata": {},
   "source": [
    "## getting the scaled values back into a 'dataframe' against the time 't-1' and 't'"
   ]
  },
  {
   "cell_type": "code",
   "execution_count": 30,
   "id": "2b886095-84f3-49e5-bf84-85f2561268c9",
   "metadata": {},
   "outputs": [],
   "source": [
    "reframed = series_to_supervised(scaled, 1, 1)"
   ]
  },
  {
   "cell_type": "code",
   "execution_count": 31,
   "id": "7346db38-fcfc-4620-b96a-0782ef2b75e4",
   "metadata": {},
   "outputs": [
    {
     "data": {
      "text/html": [
       "<div>\n",
       "<style scoped>\n",
       "    .dataframe tbody tr th:only-of-type {\n",
       "        vertical-align: middle;\n",
       "    }\n",
       "\n",
       "    .dataframe tbody tr th {\n",
       "        vertical-align: top;\n",
       "    }\n",
       "\n",
       "    .dataframe thead th {\n",
       "        text-align: right;\n",
       "    }\n",
       "</style>\n",
       "<table border=\"1\" class=\"dataframe\">\n",
       "  <thead>\n",
       "    <tr style=\"text-align: right;\">\n",
       "      <th></th>\n",
       "      <th>var1(t-1)</th>\n",
       "      <th>var2(t-1)</th>\n",
       "      <th>var3(t-1)</th>\n",
       "      <th>var4(t-1)</th>\n",
       "      <th>var5(t-1)</th>\n",
       "      <th>var6(t-1)</th>\n",
       "      <th>var7(t-1)</th>\n",
       "      <th>var8(t-1)</th>\n",
       "      <th>var9(t-1)</th>\n",
       "      <th>var10(t-1)</th>\n",
       "      <th>...</th>\n",
       "      <th>var13(t)</th>\n",
       "      <th>var14(t)</th>\n",
       "      <th>var15(t)</th>\n",
       "      <th>var16(t)</th>\n",
       "      <th>var17(t)</th>\n",
       "      <th>var18(t)</th>\n",
       "      <th>var19(t)</th>\n",
       "      <th>var20(t)</th>\n",
       "      <th>var21(t)</th>\n",
       "      <th>var22(t)</th>\n",
       "    </tr>\n",
       "  </thead>\n",
       "  <tbody>\n",
       "    <tr>\n",
       "      <th>1</th>\n",
       "      <td>0.046729</td>\n",
       "      <td>0.894737</td>\n",
       "      <td>0.661412</td>\n",
       "      <td>0.566187</td>\n",
       "      <td>0.215188</td>\n",
       "      <td>0.746066</td>\n",
       "      <td>0.225345</td>\n",
       "      <td>0.097674</td>\n",
       "      <td>0.684038</td>\n",
       "      <td>0.653428</td>\n",
       "      <td>...</td>\n",
       "      <td>0.782437</td>\n",
       "      <td>0.381691</td>\n",
       "      <td>0.369239</td>\n",
       "      <td>0.678532</td>\n",
       "      <td>0.351351</td>\n",
       "      <td>0.170594</td>\n",
       "      <td>0.533937</td>\n",
       "      <td>0.476190</td>\n",
       "      <td>0.327350</td>\n",
       "      <td>0.175506</td>\n",
       "    </tr>\n",
       "    <tr>\n",
       "      <th>2</th>\n",
       "      <td>0.046729</td>\n",
       "      <td>0.894737</td>\n",
       "      <td>0.660155</td>\n",
       "      <td>0.541326</td>\n",
       "      <td>0.215188</td>\n",
       "      <td>0.748871</td>\n",
       "      <td>0.225345</td>\n",
       "      <td>0.100000</td>\n",
       "      <td>0.682140</td>\n",
       "      <td>0.651064</td>\n",
       "      <td>...</td>\n",
       "      <td>0.778062</td>\n",
       "      <td>0.380037</td>\n",
       "      <td>0.365488</td>\n",
       "      <td>0.676049</td>\n",
       "      <td>0.344745</td>\n",
       "      <td>0.170594</td>\n",
       "      <td>0.529412</td>\n",
       "      <td>0.452381</td>\n",
       "      <td>0.327350</td>\n",
       "      <td>0.175506</td>\n",
       "    </tr>\n",
       "    <tr>\n",
       "      <th>3</th>\n",
       "      <td>0.037383</td>\n",
       "      <td>0.894737</td>\n",
       "      <td>0.655586</td>\n",
       "      <td>0.530502</td>\n",
       "      <td>0.215188</td>\n",
       "      <td>0.755569</td>\n",
       "      <td>0.225345</td>\n",
       "      <td>0.102326</td>\n",
       "      <td>0.679445</td>\n",
       "      <td>0.646572</td>\n",
       "      <td>...</td>\n",
       "      <td>0.770949</td>\n",
       "      <td>0.380037</td>\n",
       "      <td>0.361736</td>\n",
       "      <td>0.671909</td>\n",
       "      <td>0.341441</td>\n",
       "      <td>0.164310</td>\n",
       "      <td>0.524887</td>\n",
       "      <td>0.428571</td>\n",
       "      <td>0.327350</td>\n",
       "      <td>0.175506</td>\n",
       "    </tr>\n",
       "    <tr>\n",
       "      <th>4</th>\n",
       "      <td>0.037383</td>\n",
       "      <td>0.894737</td>\n",
       "      <td>0.650788</td>\n",
       "      <td>0.524080</td>\n",
       "      <td>0.215188</td>\n",
       "      <td>0.758685</td>\n",
       "      <td>0.225345</td>\n",
       "      <td>0.104651</td>\n",
       "      <td>0.678414</td>\n",
       "      <td>0.641489</td>\n",
       "      <td>...</td>\n",
       "      <td>0.762697</td>\n",
       "      <td>0.380037</td>\n",
       "      <td>0.357985</td>\n",
       "      <td>0.671909</td>\n",
       "      <td>0.341441</td>\n",
       "      <td>0.170594</td>\n",
       "      <td>0.520362</td>\n",
       "      <td>0.404762</td>\n",
       "      <td>0.327350</td>\n",
       "      <td>0.178691</td>\n",
       "    </tr>\n",
       "    <tr>\n",
       "      <th>5</th>\n",
       "      <td>0.046729</td>\n",
       "      <td>0.894737</td>\n",
       "      <td>0.650788</td>\n",
       "      <td>0.531419</td>\n",
       "      <td>0.215188</td>\n",
       "      <td>0.758685</td>\n",
       "      <td>0.225345</td>\n",
       "      <td>0.106977</td>\n",
       "      <td>0.676727</td>\n",
       "      <td>0.639362</td>\n",
       "      <td>...</td>\n",
       "      <td>0.771233</td>\n",
       "      <td>0.379135</td>\n",
       "      <td>0.354234</td>\n",
       "      <td>0.667357</td>\n",
       "      <td>0.341441</td>\n",
       "      <td>0.164310</td>\n",
       "      <td>0.515837</td>\n",
       "      <td>0.380952</td>\n",
       "      <td>0.327350</td>\n",
       "      <td>0.172320</td>\n",
       "    </tr>\n",
       "    <tr>\n",
       "      <th>...</th>\n",
       "      <td>...</td>\n",
       "      <td>...</td>\n",
       "      <td>...</td>\n",
       "      <td>...</td>\n",
       "      <td>...</td>\n",
       "      <td>...</td>\n",
       "      <td>...</td>\n",
       "      <td>...</td>\n",
       "      <td>...</td>\n",
       "      <td>...</td>\n",
       "      <td>...</td>\n",
       "      <td>...</td>\n",
       "      <td>...</td>\n",
       "      <td>...</td>\n",
       "      <td>...</td>\n",
       "      <td>...</td>\n",
       "      <td>...</td>\n",
       "      <td>...</td>\n",
       "      <td>...</td>\n",
       "      <td>...</td>\n",
       "      <td>...</td>\n",
       "    </tr>\n",
       "    <tr>\n",
       "      <th>19730</th>\n",
       "      <td>0.074766</td>\n",
       "      <td>0.412281</td>\n",
       "      <td>0.714359</td>\n",
       "      <td>0.545913</td>\n",
       "      <td>0.841088</td>\n",
       "      <td>0.575946</td>\n",
       "      <td>0.718052</td>\n",
       "      <td>0.602326</td>\n",
       "      <td>0.620602</td>\n",
       "      <td>0.764691</td>\n",
       "      <td>...</td>\n",
       "      <td>0.765258</td>\n",
       "      <td>0.339590</td>\n",
       "      <td>0.891747</td>\n",
       "      <td>0.729443</td>\n",
       "      <td>0.864865</td>\n",
       "      <td>0.858624</td>\n",
       "      <td>0.901961</td>\n",
       "      <td>0.238095</td>\n",
       "      <td>0.926786</td>\n",
       "      <td>0.752031</td>\n",
       "    </tr>\n",
       "    <tr>\n",
       "      <th>19731</th>\n",
       "      <td>0.084112</td>\n",
       "      <td>0.416667</td>\n",
       "      <td>0.701645</td>\n",
       "      <td>0.537657</td>\n",
       "      <td>0.830841</td>\n",
       "      <td>0.579374</td>\n",
       "      <td>0.711655</td>\n",
       "      <td>0.602326</td>\n",
       "      <td>0.606309</td>\n",
       "      <td>0.755319</td>\n",
       "      <td>...</td>\n",
       "      <td>0.765258</td>\n",
       "      <td>0.338487</td>\n",
       "      <td>0.887460</td>\n",
       "      <td>0.729443</td>\n",
       "      <td>0.864865</td>\n",
       "      <td>0.864010</td>\n",
       "      <td>0.900452</td>\n",
       "      <td>0.250000</td>\n",
       "      <td>0.919747</td>\n",
       "      <td>0.754897</td>\n",
       "    </tr>\n",
       "    <tr>\n",
       "      <th>19732</th>\n",
       "      <td>0.074766</td>\n",
       "      <td>0.421053</td>\n",
       "      <td>0.691912</td>\n",
       "      <td>0.536006</td>\n",
       "      <td>0.825302</td>\n",
       "      <td>0.582178</td>\n",
       "      <td>0.701769</td>\n",
       "      <td>0.602326</td>\n",
       "      <td>0.607836</td>\n",
       "      <td>0.752280</td>\n",
       "      <td>...</td>\n",
       "      <td>0.771233</td>\n",
       "      <td>0.337585</td>\n",
       "      <td>0.883173</td>\n",
       "      <td>0.729443</td>\n",
       "      <td>0.864865</td>\n",
       "      <td>0.862394</td>\n",
       "      <td>0.898944</td>\n",
       "      <td>0.261905</td>\n",
       "      <td>0.919747</td>\n",
       "      <td>0.754897</td>\n",
       "    </tr>\n",
       "    <tr>\n",
       "      <th>19733</th>\n",
       "      <td>0.242991</td>\n",
       "      <td>0.425439</td>\n",
       "      <td>0.687457</td>\n",
       "      <td>0.538666</td>\n",
       "      <td>0.818378</td>\n",
       "      <td>0.603988</td>\n",
       "      <td>0.692651</td>\n",
       "      <td>0.602326</td>\n",
       "      <td>0.627198</td>\n",
       "      <td>0.751773</td>\n",
       "      <td>...</td>\n",
       "      <td>0.773794</td>\n",
       "      <td>0.336583</td>\n",
       "      <td>0.878885</td>\n",
       "      <td>0.730581</td>\n",
       "      <td>0.864865</td>\n",
       "      <td>0.858624</td>\n",
       "      <td>0.897436</td>\n",
       "      <td>0.273810</td>\n",
       "      <td>0.919747</td>\n",
       "      <td>0.752031</td>\n",
       "    </tr>\n",
       "    <tr>\n",
       "      <th>19734</th>\n",
       "      <td>0.383178</td>\n",
       "      <td>0.429825</td>\n",
       "      <td>0.682617</td>\n",
       "      <td>0.549491</td>\n",
       "      <td>0.805085</td>\n",
       "      <td>0.585294</td>\n",
       "      <td>0.677054</td>\n",
       "      <td>0.602326</td>\n",
       "      <td>0.634717</td>\n",
       "      <td>0.748075</td>\n",
       "      <td>...</td>\n",
       "      <td>0.781192</td>\n",
       "      <td>0.336583</td>\n",
       "      <td>0.874598</td>\n",
       "      <td>0.731719</td>\n",
       "      <td>0.864865</td>\n",
       "      <td>0.858624</td>\n",
       "      <td>0.895928</td>\n",
       "      <td>0.285714</td>\n",
       "      <td>0.919747</td>\n",
       "      <td>0.752031</td>\n",
       "    </tr>\n",
       "  </tbody>\n",
       "</table>\n",
       "<p>19734 rows × 44 columns</p>\n",
       "</div>"
      ],
      "text/plain": [
       "       var1(t-1)  var2(t-1)  var3(t-1)  var4(t-1)  var5(t-1)  var6(t-1)  \\\n",
       "1       0.046729   0.894737   0.661412   0.566187   0.215188   0.746066   \n",
       "2       0.046729   0.894737   0.660155   0.541326   0.215188   0.748871   \n",
       "3       0.037383   0.894737   0.655586   0.530502   0.215188   0.755569   \n",
       "4       0.037383   0.894737   0.650788   0.524080   0.215188   0.758685   \n",
       "5       0.046729   0.894737   0.650788   0.531419   0.215188   0.758685   \n",
       "...          ...        ...        ...        ...        ...        ...   \n",
       "19730   0.074766   0.412281   0.714359   0.545913   0.841088   0.575946   \n",
       "19731   0.084112   0.416667   0.701645   0.537657   0.830841   0.579374   \n",
       "19732   0.074766   0.421053   0.691912   0.536006   0.825302   0.582178   \n",
       "19733   0.242991   0.425439   0.687457   0.538666   0.818378   0.603988   \n",
       "19734   0.383178   0.429825   0.682617   0.549491   0.805085   0.585294   \n",
       "\n",
       "       var7(t-1)  var8(t-1)  var9(t-1)  var10(t-1)  ...  var13(t)  var14(t)  \\\n",
       "1       0.225345   0.097674   0.684038    0.653428  ...  0.782437  0.381691   \n",
       "2       0.225345   0.100000   0.682140    0.651064  ...  0.778062  0.380037   \n",
       "3       0.225345   0.102326   0.679445    0.646572  ...  0.770949  0.380037   \n",
       "4       0.225345   0.104651   0.678414    0.641489  ...  0.762697  0.380037   \n",
       "5       0.225345   0.106977   0.676727    0.639362  ...  0.771233  0.379135   \n",
       "...          ...        ...        ...         ...  ...       ...       ...   \n",
       "19730   0.718052   0.602326   0.620602    0.764691  ...  0.765258  0.339590   \n",
       "19731   0.711655   0.602326   0.606309    0.755319  ...  0.765258  0.338487   \n",
       "19732   0.701769   0.602326   0.607836    0.752280  ...  0.771233  0.337585   \n",
       "19733   0.692651   0.602326   0.627198    0.751773  ...  0.773794  0.336583   \n",
       "19734   0.677054   0.602326   0.634717    0.748075  ...  0.781192  0.336583   \n",
       "\n",
       "       var15(t)  var16(t)  var17(t)  var18(t)  var19(t)  var20(t)  var21(t)  \\\n",
       "1      0.369239  0.678532  0.351351  0.170594  0.533937  0.476190  0.327350   \n",
       "2      0.365488  0.676049  0.344745  0.170594  0.529412  0.452381  0.327350   \n",
       "3      0.361736  0.671909  0.341441  0.164310  0.524887  0.428571  0.327350   \n",
       "4      0.357985  0.671909  0.341441  0.170594  0.520362  0.404762  0.327350   \n",
       "5      0.354234  0.667357  0.341441  0.164310  0.515837  0.380952  0.327350   \n",
       "...         ...       ...       ...       ...       ...       ...       ...   \n",
       "19730  0.891747  0.729443  0.864865  0.858624  0.901961  0.238095  0.926786   \n",
       "19731  0.887460  0.729443  0.864865  0.864010  0.900452  0.250000  0.919747   \n",
       "19732  0.883173  0.729443  0.864865  0.862394  0.898944  0.261905  0.919747   \n",
       "19733  0.878885  0.730581  0.864865  0.858624  0.897436  0.273810  0.919747   \n",
       "19734  0.874598  0.731719  0.864865  0.858624  0.895928  0.285714  0.919747   \n",
       "\n",
       "       var22(t)  \n",
       "1      0.175506  \n",
       "2      0.175506  \n",
       "3      0.175506  \n",
       "4      0.178691  \n",
       "5      0.172320  \n",
       "...         ...  \n",
       "19730  0.752031  \n",
       "19731  0.754897  \n",
       "19732  0.754897  \n",
       "19733  0.752031  \n",
       "19734  0.752031  \n",
       "\n",
       "[19734 rows x 44 columns]"
      ]
     },
     "execution_count": 31,
     "metadata": {},
     "output_type": "execute_result"
    }
   ],
   "source": [
    "reframed"
   ]
  },
  {
   "cell_type": "markdown",
   "id": "65ee6319-28bf-44e8-bfcd-d5e77f6d3975",
   "metadata": {},
   "source": [
    "### displaying 't-1' and 't' timestamped data"
   ]
  },
  {
   "cell_type": "code",
   "execution_count": 32,
   "id": "fb441794-9086-4b77-8dbd-22b87efd1e32",
   "metadata": {},
   "outputs": [],
   "source": [
    "# This copy two columns is a deep copy so any change in this copy does not affect the original dataframe\n",
    "reframed_var_t_1_and_t = reframed[[\"var1(t-1)\", \"var1(t)\"]].copy(deep=True)"
   ]
  },
  {
   "cell_type": "code",
   "execution_count": 33,
   "id": "0c282086-5174-4de6-92f8-a621bf43ffa2",
   "metadata": {},
   "outputs": [
    {
     "data": {
      "text/html": [
       "<div>\n",
       "<style scoped>\n",
       "    .dataframe tbody tr th:only-of-type {\n",
       "        vertical-align: middle;\n",
       "    }\n",
       "\n",
       "    .dataframe tbody tr th {\n",
       "        vertical-align: top;\n",
       "    }\n",
       "\n",
       "    .dataframe thead th {\n",
       "        text-align: right;\n",
       "    }\n",
       "</style>\n",
       "<table border=\"1\" class=\"dataframe\">\n",
       "  <thead>\n",
       "    <tr style=\"text-align: right;\">\n",
       "      <th></th>\n",
       "      <th>var1(t-1)</th>\n",
       "      <th>var1(t)</th>\n",
       "    </tr>\n",
       "  </thead>\n",
       "  <tbody>\n",
       "    <tr>\n",
       "      <th>1</th>\n",
       "      <td>0.046729</td>\n",
       "      <td>0.046729</td>\n",
       "    </tr>\n",
       "    <tr>\n",
       "      <th>2</th>\n",
       "      <td>0.046729</td>\n",
       "      <td>0.037383</td>\n",
       "    </tr>\n",
       "    <tr>\n",
       "      <th>3</th>\n",
       "      <td>0.037383</td>\n",
       "      <td>0.037383</td>\n",
       "    </tr>\n",
       "    <tr>\n",
       "      <th>4</th>\n",
       "      <td>0.037383</td>\n",
       "      <td>0.046729</td>\n",
       "    </tr>\n",
       "    <tr>\n",
       "      <th>5</th>\n",
       "      <td>0.046729</td>\n",
       "      <td>0.037383</td>\n",
       "    </tr>\n",
       "    <tr>\n",
       "      <th>...</th>\n",
       "      <td>...</td>\n",
       "      <td>...</td>\n",
       "    </tr>\n",
       "    <tr>\n",
       "      <th>19730</th>\n",
       "      <td>0.074766</td>\n",
       "      <td>0.084112</td>\n",
       "    </tr>\n",
       "    <tr>\n",
       "      <th>19731</th>\n",
       "      <td>0.084112</td>\n",
       "      <td>0.074766</td>\n",
       "    </tr>\n",
       "    <tr>\n",
       "      <th>19732</th>\n",
       "      <td>0.074766</td>\n",
       "      <td>0.242991</td>\n",
       "    </tr>\n",
       "    <tr>\n",
       "      <th>19733</th>\n",
       "      <td>0.242991</td>\n",
       "      <td>0.383178</td>\n",
       "    </tr>\n",
       "    <tr>\n",
       "      <th>19734</th>\n",
       "      <td>0.383178</td>\n",
       "      <td>0.392523</td>\n",
       "    </tr>\n",
       "  </tbody>\n",
       "</table>\n",
       "<p>19734 rows × 2 columns</p>\n",
       "</div>"
      ],
      "text/plain": [
       "       var1(t-1)   var1(t)\n",
       "1       0.046729  0.046729\n",
       "2       0.046729  0.037383\n",
       "3       0.037383  0.037383\n",
       "4       0.037383  0.046729\n",
       "5       0.046729  0.037383\n",
       "...          ...       ...\n",
       "19730   0.074766  0.084112\n",
       "19731   0.084112  0.074766\n",
       "19732   0.074766  0.242991\n",
       "19733   0.242991  0.383178\n",
       "19734   0.383178  0.392523\n",
       "\n",
       "[19734 rows x 2 columns]"
      ]
     },
     "execution_count": 33,
     "metadata": {},
     "output_type": "execute_result"
    }
   ],
   "source": [
    "reframed_var_t_1_and_t"
   ]
  },
  {
   "cell_type": "code",
   "execution_count": 34,
   "id": "41d5230c-43c9-4e94-9ae4-4bab5a6505c9",
   "metadata": {},
   "outputs": [],
   "source": [
    "del reframed_var_t_1_and_t"
   ]
  },
  {
   "cell_type": "code",
   "execution_count": null,
   "id": "9f595295-f1c2-4b89-be73-1d2d4afddc92",
   "metadata": {},
   "outputs": [],
   "source": []
  },
  {
   "cell_type": "markdown",
   "id": "b8897807-49f5-4f26-93d9-03181cd4459e",
   "metadata": {},
   "source": [
    "## 'reframed' dataframe returned contains 44 columns, so we need to remove the remaining 22 extra columns"
   ]
  },
  {
   "cell_type": "code",
   "execution_count": 35,
   "id": "f1ee655d-8866-46fa-b134-6d874acae1ab",
   "metadata": {},
   "outputs": [],
   "source": [
    "reframed.drop(reframed.columns[[22,23,24,25,26,27,28,29,30,31,32,33,34,35,36,37,38,39,40,41,42,43]], axis=1, inplace=True)"
   ]
  },
  {
   "cell_type": "code",
   "execution_count": 36,
   "id": "15dc7a17-7961-49a1-8693-95d6d9486545",
   "metadata": {},
   "outputs": [
    {
     "data": {
      "text/html": [
       "<div>\n",
       "<style scoped>\n",
       "    .dataframe tbody tr th:only-of-type {\n",
       "        vertical-align: middle;\n",
       "    }\n",
       "\n",
       "    .dataframe tbody tr th {\n",
       "        vertical-align: top;\n",
       "    }\n",
       "\n",
       "    .dataframe thead th {\n",
       "        text-align: right;\n",
       "    }\n",
       "</style>\n",
       "<table border=\"1\" class=\"dataframe\">\n",
       "  <thead>\n",
       "    <tr style=\"text-align: right;\">\n",
       "      <th></th>\n",
       "      <th>var1(t-1)</th>\n",
       "      <th>var2(t-1)</th>\n",
       "      <th>var3(t-1)</th>\n",
       "      <th>var4(t-1)</th>\n",
       "      <th>var5(t-1)</th>\n",
       "      <th>var6(t-1)</th>\n",
       "      <th>var7(t-1)</th>\n",
       "      <th>var8(t-1)</th>\n",
       "      <th>var9(t-1)</th>\n",
       "      <th>var10(t-1)</th>\n",
       "      <th>...</th>\n",
       "      <th>var13(t-1)</th>\n",
       "      <th>var14(t-1)</th>\n",
       "      <th>var15(t-1)</th>\n",
       "      <th>var16(t-1)</th>\n",
       "      <th>var17(t-1)</th>\n",
       "      <th>var18(t-1)</th>\n",
       "      <th>var19(t-1)</th>\n",
       "      <th>var20(t-1)</th>\n",
       "      <th>var21(t-1)</th>\n",
       "      <th>var22(t-1)</th>\n",
       "    </tr>\n",
       "  </thead>\n",
       "  <tbody>\n",
       "    <tr>\n",
       "      <th>1</th>\n",
       "      <td>0.046729</td>\n",
       "      <td>0.894737</td>\n",
       "      <td>0.661412</td>\n",
       "      <td>0.566187</td>\n",
       "      <td>0.215188</td>\n",
       "      <td>0.746066</td>\n",
       "      <td>0.225345</td>\n",
       "      <td>0.097674</td>\n",
       "      <td>0.684038</td>\n",
       "      <td>0.653428</td>\n",
       "      <td>...</td>\n",
       "      <td>0.764262</td>\n",
       "      <td>0.381691</td>\n",
       "      <td>0.372990</td>\n",
       "      <td>0.677290</td>\n",
       "      <td>0.351351</td>\n",
       "      <td>0.170594</td>\n",
       "      <td>0.538462</td>\n",
       "      <td>0.500000</td>\n",
       "      <td>0.327350</td>\n",
       "      <td>0.175506</td>\n",
       "    </tr>\n",
       "    <tr>\n",
       "      <th>2</th>\n",
       "      <td>0.046729</td>\n",
       "      <td>0.894737</td>\n",
       "      <td>0.660155</td>\n",
       "      <td>0.541326</td>\n",
       "      <td>0.215188</td>\n",
       "      <td>0.748871</td>\n",
       "      <td>0.225345</td>\n",
       "      <td>0.100000</td>\n",
       "      <td>0.682140</td>\n",
       "      <td>0.651064</td>\n",
       "      <td>...</td>\n",
       "      <td>0.782437</td>\n",
       "      <td>0.381691</td>\n",
       "      <td>0.369239</td>\n",
       "      <td>0.678532</td>\n",
       "      <td>0.351351</td>\n",
       "      <td>0.170594</td>\n",
       "      <td>0.533937</td>\n",
       "      <td>0.476190</td>\n",
       "      <td>0.327350</td>\n",
       "      <td>0.175506</td>\n",
       "    </tr>\n",
       "    <tr>\n",
       "      <th>3</th>\n",
       "      <td>0.037383</td>\n",
       "      <td>0.894737</td>\n",
       "      <td>0.655586</td>\n",
       "      <td>0.530502</td>\n",
       "      <td>0.215188</td>\n",
       "      <td>0.755569</td>\n",
       "      <td>0.225345</td>\n",
       "      <td>0.102326</td>\n",
       "      <td>0.679445</td>\n",
       "      <td>0.646572</td>\n",
       "      <td>...</td>\n",
       "      <td>0.778062</td>\n",
       "      <td>0.380037</td>\n",
       "      <td>0.365488</td>\n",
       "      <td>0.676049</td>\n",
       "      <td>0.344745</td>\n",
       "      <td>0.170594</td>\n",
       "      <td>0.529412</td>\n",
       "      <td>0.452381</td>\n",
       "      <td>0.327350</td>\n",
       "      <td>0.175506</td>\n",
       "    </tr>\n",
       "    <tr>\n",
       "      <th>4</th>\n",
       "      <td>0.037383</td>\n",
       "      <td>0.894737</td>\n",
       "      <td>0.650788</td>\n",
       "      <td>0.524080</td>\n",
       "      <td>0.215188</td>\n",
       "      <td>0.758685</td>\n",
       "      <td>0.225345</td>\n",
       "      <td>0.104651</td>\n",
       "      <td>0.678414</td>\n",
       "      <td>0.641489</td>\n",
       "      <td>...</td>\n",
       "      <td>0.770949</td>\n",
       "      <td>0.380037</td>\n",
       "      <td>0.361736</td>\n",
       "      <td>0.671909</td>\n",
       "      <td>0.341441</td>\n",
       "      <td>0.164310</td>\n",
       "      <td>0.524887</td>\n",
       "      <td>0.428571</td>\n",
       "      <td>0.327350</td>\n",
       "      <td>0.175506</td>\n",
       "    </tr>\n",
       "    <tr>\n",
       "      <th>5</th>\n",
       "      <td>0.046729</td>\n",
       "      <td>0.894737</td>\n",
       "      <td>0.650788</td>\n",
       "      <td>0.531419</td>\n",
       "      <td>0.215188</td>\n",
       "      <td>0.758685</td>\n",
       "      <td>0.225345</td>\n",
       "      <td>0.106977</td>\n",
       "      <td>0.676727</td>\n",
       "      <td>0.639362</td>\n",
       "      <td>...</td>\n",
       "      <td>0.762697</td>\n",
       "      <td>0.380037</td>\n",
       "      <td>0.357985</td>\n",
       "      <td>0.671909</td>\n",
       "      <td>0.341441</td>\n",
       "      <td>0.170594</td>\n",
       "      <td>0.520362</td>\n",
       "      <td>0.404762</td>\n",
       "      <td>0.327350</td>\n",
       "      <td>0.178691</td>\n",
       "    </tr>\n",
       "    <tr>\n",
       "      <th>...</th>\n",
       "      <td>...</td>\n",
       "      <td>...</td>\n",
       "      <td>...</td>\n",
       "      <td>...</td>\n",
       "      <td>...</td>\n",
       "      <td>...</td>\n",
       "      <td>...</td>\n",
       "      <td>...</td>\n",
       "      <td>...</td>\n",
       "      <td>...</td>\n",
       "      <td>...</td>\n",
       "      <td>...</td>\n",
       "      <td>...</td>\n",
       "      <td>...</td>\n",
       "      <td>...</td>\n",
       "      <td>...</td>\n",
       "      <td>...</td>\n",
       "      <td>...</td>\n",
       "      <td>...</td>\n",
       "      <td>...</td>\n",
       "      <td>...</td>\n",
       "    </tr>\n",
       "    <tr>\n",
       "      <th>19730</th>\n",
       "      <td>0.074766</td>\n",
       "      <td>0.412281</td>\n",
       "      <td>0.714359</td>\n",
       "      <td>0.545913</td>\n",
       "      <td>0.841088</td>\n",
       "      <td>0.575946</td>\n",
       "      <td>0.718052</td>\n",
       "      <td>0.602326</td>\n",
       "      <td>0.620602</td>\n",
       "      <td>0.764691</td>\n",
       "      <td>...</td>\n",
       "      <td>0.766823</td>\n",
       "      <td>0.338487</td>\n",
       "      <td>0.896034</td>\n",
       "      <td>0.727580</td>\n",
       "      <td>0.864865</td>\n",
       "      <td>0.858624</td>\n",
       "      <td>0.903469</td>\n",
       "      <td>0.226190</td>\n",
       "      <td>0.923266</td>\n",
       "      <td>0.752031</td>\n",
       "    </tr>\n",
       "    <tr>\n",
       "      <th>19731</th>\n",
       "      <td>0.084112</td>\n",
       "      <td>0.416667</td>\n",
       "      <td>0.701645</td>\n",
       "      <td>0.537657</td>\n",
       "      <td>0.830841</td>\n",
       "      <td>0.579374</td>\n",
       "      <td>0.711655</td>\n",
       "      <td>0.602326</td>\n",
       "      <td>0.606309</td>\n",
       "      <td>0.755319</td>\n",
       "      <td>...</td>\n",
       "      <td>0.765258</td>\n",
       "      <td>0.339590</td>\n",
       "      <td>0.891747</td>\n",
       "      <td>0.729443</td>\n",
       "      <td>0.864865</td>\n",
       "      <td>0.858624</td>\n",
       "      <td>0.901961</td>\n",
       "      <td>0.238095</td>\n",
       "      <td>0.926786</td>\n",
       "      <td>0.752031</td>\n",
       "    </tr>\n",
       "    <tr>\n",
       "      <th>19732</th>\n",
       "      <td>0.074766</td>\n",
       "      <td>0.421053</td>\n",
       "      <td>0.691912</td>\n",
       "      <td>0.536006</td>\n",
       "      <td>0.825302</td>\n",
       "      <td>0.582178</td>\n",
       "      <td>0.701769</td>\n",
       "      <td>0.602326</td>\n",
       "      <td>0.607836</td>\n",
       "      <td>0.752280</td>\n",
       "      <td>...</td>\n",
       "      <td>0.765258</td>\n",
       "      <td>0.338487</td>\n",
       "      <td>0.887460</td>\n",
       "      <td>0.729443</td>\n",
       "      <td>0.864865</td>\n",
       "      <td>0.864010</td>\n",
       "      <td>0.900452</td>\n",
       "      <td>0.250000</td>\n",
       "      <td>0.919747</td>\n",
       "      <td>0.754897</td>\n",
       "    </tr>\n",
       "    <tr>\n",
       "      <th>19733</th>\n",
       "      <td>0.242991</td>\n",
       "      <td>0.425439</td>\n",
       "      <td>0.687457</td>\n",
       "      <td>0.538666</td>\n",
       "      <td>0.818378</td>\n",
       "      <td>0.603988</td>\n",
       "      <td>0.692651</td>\n",
       "      <td>0.602326</td>\n",
       "      <td>0.627198</td>\n",
       "      <td>0.751773</td>\n",
       "      <td>...</td>\n",
       "      <td>0.771233</td>\n",
       "      <td>0.337585</td>\n",
       "      <td>0.883173</td>\n",
       "      <td>0.729443</td>\n",
       "      <td>0.864865</td>\n",
       "      <td>0.862394</td>\n",
       "      <td>0.898944</td>\n",
       "      <td>0.261905</td>\n",
       "      <td>0.919747</td>\n",
       "      <td>0.754897</td>\n",
       "    </tr>\n",
       "    <tr>\n",
       "      <th>19734</th>\n",
       "      <td>0.383178</td>\n",
       "      <td>0.429825</td>\n",
       "      <td>0.682617</td>\n",
       "      <td>0.549491</td>\n",
       "      <td>0.805085</td>\n",
       "      <td>0.585294</td>\n",
       "      <td>0.677054</td>\n",
       "      <td>0.602326</td>\n",
       "      <td>0.634717</td>\n",
       "      <td>0.748075</td>\n",
       "      <td>...</td>\n",
       "      <td>0.773794</td>\n",
       "      <td>0.336583</td>\n",
       "      <td>0.878885</td>\n",
       "      <td>0.730581</td>\n",
       "      <td>0.864865</td>\n",
       "      <td>0.858624</td>\n",
       "      <td>0.897436</td>\n",
       "      <td>0.273810</td>\n",
       "      <td>0.919747</td>\n",
       "      <td>0.752031</td>\n",
       "    </tr>\n",
       "  </tbody>\n",
       "</table>\n",
       "<p>19734 rows × 22 columns</p>\n",
       "</div>"
      ],
      "text/plain": [
       "       var1(t-1)  var2(t-1)  var3(t-1)  var4(t-1)  var5(t-1)  var6(t-1)  \\\n",
       "1       0.046729   0.894737   0.661412   0.566187   0.215188   0.746066   \n",
       "2       0.046729   0.894737   0.660155   0.541326   0.215188   0.748871   \n",
       "3       0.037383   0.894737   0.655586   0.530502   0.215188   0.755569   \n",
       "4       0.037383   0.894737   0.650788   0.524080   0.215188   0.758685   \n",
       "5       0.046729   0.894737   0.650788   0.531419   0.215188   0.758685   \n",
       "...          ...        ...        ...        ...        ...        ...   \n",
       "19730   0.074766   0.412281   0.714359   0.545913   0.841088   0.575946   \n",
       "19731   0.084112   0.416667   0.701645   0.537657   0.830841   0.579374   \n",
       "19732   0.074766   0.421053   0.691912   0.536006   0.825302   0.582178   \n",
       "19733   0.242991   0.425439   0.687457   0.538666   0.818378   0.603988   \n",
       "19734   0.383178   0.429825   0.682617   0.549491   0.805085   0.585294   \n",
       "\n",
       "       var7(t-1)  var8(t-1)  var9(t-1)  var10(t-1)  ...  var13(t-1)  \\\n",
       "1       0.225345   0.097674   0.684038    0.653428  ...    0.764262   \n",
       "2       0.225345   0.100000   0.682140    0.651064  ...    0.782437   \n",
       "3       0.225345   0.102326   0.679445    0.646572  ...    0.778062   \n",
       "4       0.225345   0.104651   0.678414    0.641489  ...    0.770949   \n",
       "5       0.225345   0.106977   0.676727    0.639362  ...    0.762697   \n",
       "...          ...        ...        ...         ...  ...         ...   \n",
       "19730   0.718052   0.602326   0.620602    0.764691  ...    0.766823   \n",
       "19731   0.711655   0.602326   0.606309    0.755319  ...    0.765258   \n",
       "19732   0.701769   0.602326   0.607836    0.752280  ...    0.765258   \n",
       "19733   0.692651   0.602326   0.627198    0.751773  ...    0.771233   \n",
       "19734   0.677054   0.602326   0.634717    0.748075  ...    0.773794   \n",
       "\n",
       "       var14(t-1)  var15(t-1)  var16(t-1)  var17(t-1)  var18(t-1)  var19(t-1)  \\\n",
       "1        0.381691    0.372990    0.677290    0.351351    0.170594    0.538462   \n",
       "2        0.381691    0.369239    0.678532    0.351351    0.170594    0.533937   \n",
       "3        0.380037    0.365488    0.676049    0.344745    0.170594    0.529412   \n",
       "4        0.380037    0.361736    0.671909    0.341441    0.164310    0.524887   \n",
       "5        0.380037    0.357985    0.671909    0.341441    0.170594    0.520362   \n",
       "...           ...         ...         ...         ...         ...         ...   \n",
       "19730    0.338487    0.896034    0.727580    0.864865    0.858624    0.903469   \n",
       "19731    0.339590    0.891747    0.729443    0.864865    0.858624    0.901961   \n",
       "19732    0.338487    0.887460    0.729443    0.864865    0.864010    0.900452   \n",
       "19733    0.337585    0.883173    0.729443    0.864865    0.862394    0.898944   \n",
       "19734    0.336583    0.878885    0.730581    0.864865    0.858624    0.897436   \n",
       "\n",
       "       var20(t-1)  var21(t-1)  var22(t-1)  \n",
       "1        0.500000    0.327350    0.175506  \n",
       "2        0.476190    0.327350    0.175506  \n",
       "3        0.452381    0.327350    0.175506  \n",
       "4        0.428571    0.327350    0.175506  \n",
       "5        0.404762    0.327350    0.178691  \n",
       "...           ...         ...         ...  \n",
       "19730    0.226190    0.923266    0.752031  \n",
       "19731    0.238095    0.926786    0.752031  \n",
       "19732    0.250000    0.919747    0.754897  \n",
       "19733    0.261905    0.919747    0.754897  \n",
       "19734    0.273810    0.919747    0.752031  \n",
       "\n",
       "[19734 rows x 22 columns]"
      ]
     },
     "execution_count": 36,
     "metadata": {},
     "output_type": "execute_result"
    }
   ],
   "source": [
    "reframed"
   ]
  },
  {
   "cell_type": "code",
   "execution_count": null,
   "id": "28ffd344-de70-4fe5-9cd2-ba4db81136e4",
   "metadata": {},
   "outputs": [],
   "source": []
  },
  {
   "cell_type": "markdown",
   "id": "2dd2c54f-0526-4738-901f-c43dba73407b",
   "metadata": {},
   "source": [
    "## overwriting 'values' variable (previously it contained real values, now it has values in the range of 0-1)"
   ]
  },
  {
   "cell_type": "code",
   "execution_count": 37,
   "id": "3f34abf0-b377-4f1d-b8a2-c7e063710129",
   "metadata": {},
   "outputs": [],
   "source": [
    "values = reframed.values"
   ]
  },
  {
   "cell_type": "code",
   "execution_count": 38,
   "id": "5163193e-ab54-448b-a72a-c503c8457dd2",
   "metadata": {},
   "outputs": [
    {
     "data": {
      "text/plain": [
       "array([0.04672897, 0.89473684, 0.66141193, 0.56618659, 0.21518777,\n",
       "       0.74606637, 0.22534529, 0.09767442, 0.68403787, 0.6534279 ,\n",
       "       0.17332926, 0.84182676, 0.76426234, 0.38169106, 0.37299035,\n",
       "       0.67729029, 0.35135135, 0.17059378, 0.53846154, 0.5       ,\n",
       "       0.32734952, 0.17550565])"
      ]
     },
     "execution_count": 38,
     "metadata": {},
     "output_type": "execute_result"
    }
   ],
   "source": [
    "values[0]"
   ]
  },
  {
   "cell_type": "code",
   "execution_count": 39,
   "id": "de0f794b-d365-49a8-9f23-ed8229751e37",
   "metadata": {},
   "outputs": [
    {
     "name": "stdout",
     "output_type": "stream",
     "text": [
      "Shape of 'values': (19734, 22)\n",
      "\t- Rows in 'values': 22\n",
      "\t- Columns in 'values': 19734\n"
     ]
    }
   ],
   "source": [
    "print(\n",
    "    \"Shape of 'values': {:}\\n\\t- Rows in 'values': {:}\\n\\t- Columns in 'values': {:}\".format(\n",
    "        values.shape, values.shape[1], values.shape[0]\n",
    "    )\n",
    ")"
   ]
  },
  {
   "cell_type": "markdown",
   "id": "2b24c61e-9dcc-439b-9ec0-357bd3d162fe",
   "metadata": {},
   "source": [
    "## 'X' contains all inputs whereas 'Y' contains all outputs"
   ]
  },
  {
   "cell_type": "code",
   "execution_count": 40,
   "id": "879803f9-0a5e-4311-acaf-f9a0e8bad7be",
   "metadata": {},
   "outputs": [],
   "source": [
    "# before X and Y\n",
    "# X = values[:,:21]\n",
    "# Y = values[:,21]\n",
    "\n",
    "# mine X and Y\n",
    "X = values[:,1:22]\n",
    "Y = values[:,0]"
   ]
  },
  {
   "cell_type": "code",
   "execution_count": 41,
   "id": "c9d7e087-b3b2-4b01-97fe-52599129b9f1",
   "metadata": {},
   "outputs": [
    {
     "data": {
      "text/plain": [
       "(19734, 21)"
      ]
     },
     "execution_count": 41,
     "metadata": {},
     "output_type": "execute_result"
    }
   ],
   "source": [
    "X.shape"
   ]
  },
  {
   "cell_type": "code",
   "execution_count": 42,
   "id": "15c53284-84e1-4484-8eb4-ff2e032492a9",
   "metadata": {},
   "outputs": [
    {
     "data": {
      "text/plain": [
       "(19734,)"
      ]
     },
     "execution_count": 42,
     "metadata": {},
     "output_type": "execute_result"
    }
   ],
   "source": [
    "Y.shape"
   ]
  },
  {
   "cell_type": "code",
   "execution_count": 43,
   "id": "11d9a786-20fe-4b3c-b93d-2c2176df6cc8",
   "metadata": {},
   "outputs": [
    {
     "name": "stdout",
     "output_type": "stream",
     "text": [
      "training data[0]:\n",
      "  [0.04672897 0.89473684 0.66141193 0.56618659 0.21518777 0.74606637\n",
      " 0.22534529 0.09767442 0.68403787 0.6534279  0.17332926 0.84182676\n",
      " 0.76426234 0.38169106 0.37299035 0.67729029 0.35135135 0.17059378\n",
      " 0.53846154 0.5        0.32734952 0.17550565]\n",
      "\n",
      "training input[0]:\n",
      "  [0.89473684 0.66141193 0.56618659 0.21518777 0.74606637 0.22534529\n",
      " 0.09767442 0.68403787 0.6534279  0.17332926 0.84182676 0.76426234\n",
      " 0.38169106 0.37299035 0.67729029 0.35135135 0.17059378 0.53846154\n",
      " 0.5        0.32734952 0.17550565]\n",
      "\n",
      "training output[0]: 0.04672897196261682\n"
     ]
    }
   ],
   "source": [
    "input_row_number = 0\n",
    "print (\"training data[{:}]:\\n  {:}\".format(input_row_number, values[input_row_number]))\n",
    "print (\"\\ntraining input[{:}]:\\n  {:}\".format(input_row_number, X[input_row_number]))\n",
    "print (\"\\ntraining output[{:}]: {:}\".format(input_row_number, Y[input_row_number]))"
   ]
  },
  {
   "cell_type": "code",
   "execution_count": null,
   "id": "73ee1b86-8db6-4dde-84b1-4106843bc677",
   "metadata": {},
   "outputs": [],
   "source": []
  },
  {
   "cell_type": "markdown",
   "id": "92f9daff-df89-4833-857d-6a61628ad85d",
   "metadata": {},
   "source": [
    "## Splitting up training/test data"
   ]
  },
  {
   "cell_type": "code",
   "execution_count": 44,
   "id": "4ec04c53-84d0-48d4-98b7-e4756a93ad12",
   "metadata": {},
   "outputs": [],
   "source": [
    "X_Train, X_Test, Y_Train, Y_Test = train_test_split(X, Y, test_size=0.3)\n",
    "\n",
    "# reshape input to be 3D [samples, timesteps, features]\n",
    "X_Train = X_Train.reshape((X_Train.shape[0], 1, X_Train.shape[1]))\n",
    "X_Test = X_Test.reshape((X_Test.shape[0], 1, X_Test.shape[1]))"
   ]
  },
  {
   "cell_type": "code",
   "execution_count": 45,
   "id": "fc01de4e-444a-46ce-a716-ca48282b1f7a",
   "metadata": {},
   "outputs": [
    {
     "data": {
      "text/plain": [
       "(13813, 1, 21)"
      ]
     },
     "execution_count": 45,
     "metadata": {},
     "output_type": "execute_result"
    }
   ],
   "source": [
    "X_Train.shape"
   ]
  },
  {
   "cell_type": "code",
   "execution_count": 46,
   "id": "388e7696-c34c-429c-b8c6-910fd206a8ec",
   "metadata": {},
   "outputs": [
    {
     "data": {
      "text/plain": [
       "21"
      ]
     },
     "execution_count": 46,
     "metadata": {},
     "output_type": "execute_result"
    }
   ],
   "source": [
    "X_Train.shape[2]"
   ]
  },
  {
   "cell_type": "code",
   "execution_count": null,
   "id": "d4db06f4-5fe6-4737-b553-107f503e8328",
   "metadata": {},
   "outputs": [],
   "source": []
  },
  {
   "cell_type": "code",
   "execution_count": 47,
   "id": "450433ec-38ff-425b-b45c-15d438043709",
   "metadata": {},
   "outputs": [
    {
     "data": {
      "text/plain": [
       "(13813,)"
      ]
     },
     "execution_count": 47,
     "metadata": {},
     "output_type": "execute_result"
    }
   ],
   "source": [
    "Y_Train.shape"
   ]
  },
  {
   "cell_type": "code",
   "execution_count": 48,
   "id": "c5d54e87-6556-449e-a403-6522448bb192",
   "metadata": {},
   "outputs": [
    {
     "data": {
      "text/plain": [
       "(5921, 1, 21)"
      ]
     },
     "execution_count": 48,
     "metadata": {},
     "output_type": "execute_result"
    }
   ],
   "source": [
    "X_Test.shape"
   ]
  },
  {
   "cell_type": "code",
   "execution_count": 49,
   "id": "b9ed6c9f-3112-46a2-9376-dd8cf56c43a2",
   "metadata": {},
   "outputs": [
    {
     "data": {
      "text/plain": [
       "(5921,)"
      ]
     },
     "execution_count": 49,
     "metadata": {},
     "output_type": "execute_result"
    }
   ],
   "source": [
    "Y_Test.shape"
   ]
  },
  {
   "cell_type": "markdown",
   "id": "73249328-45fa-49a7-9cae-68c5a89b42db",
   "metadata": {},
   "source": [
    "## LSTM condiguration"
   ]
  },
  {
   "cell_type": "code",
   "execution_count": 2,
   "id": "ff80ba09-679a-4438-97ea-a3630226f9d5",
   "metadata": {},
   "outputs": [],
   "source": [
    "# from mealpy.swarm_based import GWO"
   ]
  },
  {
   "cell_type": "code",
   "execution_count": 50,
   "id": "19188aa6-5bcf-468a-a097-d05484baeb29",
   "metadata": {},
   "outputs": [
    {
     "name": "stderr",
     "output_type": "stream",
     "text": [
      "2022-10-28 12:08:52.309695: I tensorflow/core/platform/cpu_feature_guard.cc:193] This TensorFlow binary is optimized with oneAPI Deep Neural Network Library (oneDNN) to use the following CPU instructions in performance-critical operations:  SSE4.1 SSE4.2 AVX AVX2 FMA\n",
      "To enable them in other operations, rebuild TensorFlow with the appropriate compiler flags.\n",
      "2022-10-28 12:08:52.310432: I tensorflow/core/common_runtime/process_util.cc:146] Creating new thread pool with default inter op setting: 2. Tune using inter_op_parallelism_threads for best performance.\n"
     ]
    },
    {
     "name": "stdout",
     "output_type": "stream",
     "text": [
      "Epoch 1/70\n",
      "1382/1382 - 3s - loss: 0.0086 - val_loss: 0.0087 - 3s/epoch - 2ms/step\n",
      "Epoch 2/70\n",
      "1382/1382 - 2s - loss: 0.0082 - val_loss: 0.0086 - 2s/epoch - 1ms/step\n",
      "Epoch 3/70\n",
      "1382/1382 - 2s - loss: 0.0081 - val_loss: 0.0085 - 2s/epoch - 1ms/step\n",
      "Epoch 4/70\n",
      "1382/1382 - 2s - loss: 0.0080 - val_loss: 0.0085 - 2s/epoch - 1ms/step\n",
      "Epoch 5/70\n",
      "1382/1382 - 2s - loss: 0.0080 - val_loss: 0.0084 - 2s/epoch - 1ms/step\n",
      "Epoch 6/70\n",
      "1382/1382 - 2s - loss: 0.0079 - val_loss: 0.0084 - 2s/epoch - 1ms/step\n",
      "Epoch 7/70\n",
      "1382/1382 - 2s - loss: 0.0079 - val_loss: 0.0084 - 2s/epoch - 1ms/step\n",
      "Epoch 8/70\n",
      "1382/1382 - 2s - loss: 0.0079 - val_loss: 0.0083 - 2s/epoch - 1ms/step\n",
      "Epoch 9/70\n",
      "1382/1382 - 2s - loss: 0.0078 - val_loss: 0.0083 - 2s/epoch - 1ms/step\n",
      "Epoch 10/70\n",
      "1382/1382 - 2s - loss: 0.0078 - val_loss: 0.0083 - 2s/epoch - 1ms/step\n",
      "Epoch 11/70\n",
      "1382/1382 - 2s - loss: 0.0078 - val_loss: 0.0082 - 2s/epoch - 1ms/step\n",
      "Epoch 12/70\n",
      "1382/1382 - 2s - loss: 0.0077 - val_loss: 0.0082 - 2s/epoch - 1ms/step\n",
      "Epoch 13/70\n",
      "1382/1382 - 2s - loss: 0.0077 - val_loss: 0.0082 - 2s/epoch - 1ms/step\n",
      "Epoch 14/70\n",
      "1382/1382 - 2s - loss: 0.0077 - val_loss: 0.0082 - 2s/epoch - 1ms/step\n",
      "Epoch 15/70\n",
      "1382/1382 - 2s - loss: 0.0077 - val_loss: 0.0081 - 2s/epoch - 1ms/step\n",
      "Epoch 16/70\n",
      "1382/1382 - 2s - loss: 0.0077 - val_loss: 0.0081 - 2s/epoch - 1ms/step\n",
      "Epoch 17/70\n",
      "1382/1382 - 2s - loss: 0.0076 - val_loss: 0.0081 - 2s/epoch - 1ms/step\n",
      "Epoch 18/70\n",
      "1382/1382 - 2s - loss: 0.0076 - val_loss: 0.0081 - 2s/epoch - 1ms/step\n",
      "Epoch 19/70\n",
      "1382/1382 - 2s - loss: 0.0076 - val_loss: 0.0081 - 2s/epoch - 1ms/step\n",
      "Epoch 20/70\n",
      "1382/1382 - 2s - loss: 0.0076 - val_loss: 0.0080 - 2s/epoch - 1ms/step\n",
      "Epoch 21/70\n",
      "1382/1382 - 2s - loss: 0.0076 - val_loss: 0.0080 - 2s/epoch - 1ms/step\n",
      "Epoch 22/70\n",
      "1382/1382 - 2s - loss: 0.0075 - val_loss: 0.0080 - 2s/epoch - 1ms/step\n",
      "Epoch 23/70\n",
      "1382/1382 - 2s - loss: 0.0075 - val_loss: 0.0080 - 2s/epoch - 1ms/step\n",
      "Epoch 24/70\n",
      "1382/1382 - 2s - loss: 0.0075 - val_loss: 0.0079 - 2s/epoch - 1ms/step\n",
      "Epoch 25/70\n",
      "1382/1382 - 2s - loss: 0.0075 - val_loss: 0.0079 - 2s/epoch - 1ms/step\n",
      "Epoch 26/70\n",
      "1382/1382 - 2s - loss: 0.0075 - val_loss: 0.0079 - 2s/epoch - 1ms/step\n",
      "Epoch 27/70\n",
      "1382/1382 - 2s - loss: 0.0074 - val_loss: 0.0079 - 2s/epoch - 1ms/step\n",
      "Epoch 28/70\n",
      "1382/1382 - 2s - loss: 0.0074 - val_loss: 0.0079 - 2s/epoch - 1ms/step\n",
      "Epoch 29/70\n",
      "1382/1382 - 2s - loss: 0.0074 - val_loss: 0.0078 - 2s/epoch - 1ms/step\n",
      "Epoch 30/70\n",
      "1382/1382 - 2s - loss: 0.0074 - val_loss: 0.0078 - 2s/epoch - 1ms/step\n",
      "Epoch 31/70\n",
      "1382/1382 - 2s - loss: 0.0074 - val_loss: 0.0078 - 2s/epoch - 1ms/step\n",
      "Epoch 32/70\n",
      "1382/1382 - 2s - loss: 0.0074 - val_loss: 0.0078 - 2s/epoch - 1ms/step\n",
      "Epoch 33/70\n",
      "1382/1382 - 2s - loss: 0.0073 - val_loss: 0.0078 - 2s/epoch - 1ms/step\n",
      "Epoch 34/70\n",
      "1382/1382 - 2s - loss: 0.0073 - val_loss: 0.0077 - 2s/epoch - 1ms/step\n",
      "Epoch 35/70\n",
      "1382/1382 - 2s - loss: 0.0073 - val_loss: 0.0077 - 2s/epoch - 1ms/step\n",
      "Epoch 36/70\n",
      "1382/1382 - 2s - loss: 0.0073 - val_loss: 0.0077 - 2s/epoch - 1ms/step\n",
      "Epoch 37/70\n",
      "1382/1382 - 2s - loss: 0.0073 - val_loss: 0.0077 - 2s/epoch - 1ms/step\n",
      "Epoch 38/70\n",
      "1382/1382 - 2s - loss: 0.0073 - val_loss: 0.0077 - 2s/epoch - 1ms/step\n",
      "Epoch 39/70\n",
      "1382/1382 - 2s - loss: 0.0073 - val_loss: 0.0077 - 2s/epoch - 1ms/step\n",
      "Epoch 40/70\n",
      "1382/1382 - 2s - loss: 0.0072 - val_loss: 0.0077 - 2s/epoch - 1ms/step\n",
      "Epoch 41/70\n",
      "1382/1382 - 2s - loss: 0.0072 - val_loss: 0.0076 - 2s/epoch - 1ms/step\n",
      "Epoch 42/70\n",
      "1382/1382 - 2s - loss: 0.0072 - val_loss: 0.0076 - 2s/epoch - 1ms/step\n",
      "Epoch 43/70\n",
      "1382/1382 - 2s - loss: 0.0072 - val_loss: 0.0076 - 2s/epoch - 1ms/step\n",
      "Epoch 44/70\n",
      "1382/1382 - 2s - loss: 0.0072 - val_loss: 0.0076 - 2s/epoch - 1ms/step\n",
      "Epoch 45/70\n",
      "1382/1382 - 2s - loss: 0.0072 - val_loss: 0.0076 - 2s/epoch - 1ms/step\n",
      "Epoch 46/70\n",
      "1382/1382 - 2s - loss: 0.0072 - val_loss: 0.0076 - 2s/epoch - 1ms/step\n",
      "Epoch 47/70\n",
      "1382/1382 - 2s - loss: 0.0072 - val_loss: 0.0076 - 2s/epoch - 1ms/step\n",
      "Epoch 48/70\n",
      "1382/1382 - 2s - loss: 0.0071 - val_loss: 0.0076 - 2s/epoch - 1ms/step\n",
      "Epoch 49/70\n",
      "1382/1382 - 2s - loss: 0.0071 - val_loss: 0.0076 - 2s/epoch - 1ms/step\n",
      "Epoch 50/70\n",
      "1382/1382 - 2s - loss: 0.0071 - val_loss: 0.0076 - 2s/epoch - 1ms/step\n",
      "Epoch 51/70\n",
      "1382/1382 - 2s - loss: 0.0071 - val_loss: 0.0076 - 2s/epoch - 1ms/step\n",
      "Epoch 52/70\n",
      "1382/1382 - 2s - loss: 0.0071 - val_loss: 0.0075 - 2s/epoch - 1ms/step\n",
      "Epoch 53/70\n",
      "1382/1382 - 2s - loss: 0.0071 - val_loss: 0.0075 - 2s/epoch - 1ms/step\n",
      "Epoch 54/70\n",
      "1382/1382 - 2s - loss: 0.0071 - val_loss: 0.0075 - 2s/epoch - 1ms/step\n",
      "Epoch 55/70\n",
      "1382/1382 - 2s - loss: 0.0071 - val_loss: 0.0075 - 2s/epoch - 1ms/step\n",
      "Epoch 56/70\n",
      "1382/1382 - 2s - loss: 0.0071 - val_loss: 0.0075 - 2s/epoch - 1ms/step\n",
      "Epoch 57/70\n",
      "1382/1382 - 2s - loss: 0.0071 - val_loss: 0.0075 - 2s/epoch - 1ms/step\n",
      "Epoch 58/70\n",
      "1382/1382 - 2s - loss: 0.0070 - val_loss: 0.0075 - 2s/epoch - 1ms/step\n",
      "Epoch 59/70\n",
      "1382/1382 - 2s - loss: 0.0070 - val_loss: 0.0075 - 2s/epoch - 1ms/step\n",
      "Epoch 60/70\n",
      "1382/1382 - 2s - loss: 0.0070 - val_loss: 0.0075 - 2s/epoch - 1ms/step\n",
      "Epoch 61/70\n",
      "1382/1382 - 2s - loss: 0.0070 - val_loss: 0.0075 - 2s/epoch - 1ms/step\n",
      "Epoch 62/70\n",
      "1382/1382 - 2s - loss: 0.0070 - val_loss: 0.0075 - 2s/epoch - 1ms/step\n",
      "Epoch 63/70\n",
      "1382/1382 - 2s - loss: 0.0070 - val_loss: 0.0075 - 2s/epoch - 1ms/step\n",
      "Epoch 64/70\n",
      "1382/1382 - 2s - loss: 0.0070 - val_loss: 0.0074 - 2s/epoch - 1ms/step\n",
      "Epoch 65/70\n",
      "1382/1382 - 2s - loss: 0.0070 - val_loss: 0.0074 - 2s/epoch - 1ms/step\n",
      "Epoch 66/70\n",
      "1382/1382 - 2s - loss: 0.0070 - val_loss: 0.0074 - 2s/epoch - 1ms/step\n",
      "Epoch 67/70\n",
      "1382/1382 - 2s - loss: 0.0070 - val_loss: 0.0074 - 2s/epoch - 1ms/step\n",
      "Epoch 68/70\n",
      "1382/1382 - 2s - loss: 0.0070 - val_loss: 0.0074 - 2s/epoch - 1ms/step\n",
      "Epoch 69/70\n",
      "1382/1382 - 2s - loss: 0.0069 - val_loss: 0.0074 - 2s/epoch - 1ms/step\n",
      "Epoch 70/70\n",
      "1382/1382 - 2s - loss: 0.0069 - val_loss: 0.0074 - 2s/epoch - 1ms/step\n"
     ]
    }
   ],
   "source": [
    "model = Sequential()\n",
    "model.add(LSTM(\n",
    "    50, #units\n",
    "    input_shape=(# (1, 21)\n",
    "        X_Train.shape[1],# 1 row\n",
    "        X_Train.shape[2]# 21 columns\n",
    "    )\n",
    "))\n",
    "model.add(Dense(1))\n",
    "model.compile(loss='mse', optimizer='adam')\n",
    "\n",
    "# fit\n",
    "history = model.fit(\n",
    "    X_Train,\n",
    "    Y_Train,\n",
    "    epochs=70,\n",
    "    batch_size=10,\n",
    "    validation_data=(X_Test, Y_Test),\n",
    "    verbose=2,\n",
    "    shuffle=False\n",
    ")"
   ]
  },
  {
   "cell_type": "code",
   "execution_count": null,
   "id": "5ff053c5-b8ff-4c23-a1ce-3da04b965675",
   "metadata": {},
   "outputs": [],
   "source": []
  },
  {
   "cell_type": "code",
   "execution_count": null,
   "id": "7393bab1-ed2a-48bb-9593-5919f44c33d9",
   "metadata": {},
   "outputs": [],
   "source": []
  },
  {
   "cell_type": "code",
   "execution_count": null,
   "id": "6d93a750-7b8a-4032-a239-09c0cbb52ac6",
   "metadata": {},
   "outputs": [],
   "source": []
  },
  {
   "cell_type": "markdown",
   "id": "fd751965-b112-448d-a30a-d2f6c2d6c90c",
   "metadata": {},
   "source": [
    "## Plotting training history to show training progress"
   ]
  },
  {
   "cell_type": "code",
   "execution_count": 51,
   "id": "bb93d40c-dbb0-4221-8c1b-d43b1bf8d738",
   "metadata": {},
   "outputs": [
    {
     "data": {
      "image/png": "[encoded data removed]",
      "text/plain": [
       "<Figure size 640x480 with 1 Axes>"
      ]
     },
     "metadata": {},
     "output_type": "display_data"
    }
   ],
   "source": [
    "pyplot.plot(history.history['loss'], label='Train')\n",
    "pyplot.plot(history.history['val_loss'], label='Test')\n",
    "pyplot.legend()\n",
    "pyplot.show()"
   ]
  },
  {
   "cell_type": "markdown",
   "id": "2f809a09-5811-41ac-9039-25ba4dec4899",
   "metadata": {},
   "source": [
    "## Converting 'scaled' array into a dataframe (we did not use it but just printed for visualizing the data)"
   ]
  },
  {
   "cell_type": "code",
   "execution_count": 52,
   "id": "4b1c9b37-cc39-45f0-a948-cf4152ebe78f",
   "metadata": {},
   "outputs": [
    {
     "data": {
      "text/plain": [
       "(19735, 22)"
      ]
     },
     "execution_count": 52,
     "metadata": {},
     "output_type": "execute_result"
    }
   ],
   "source": [
    "scaled.shape"
   ]
  },
  {
   "cell_type": "code",
   "execution_count": 53,
   "id": "a28b0396-6d37-471c-9360-0186a2404c7a",
   "metadata": {},
   "outputs": [
    {
     "data": {
      "text/html": [
       "<div>\n",
       "<style scoped>\n",
       "    .dataframe tbody tr th:only-of-type {\n",
       "        vertical-align: middle;\n",
       "    }\n",
       "\n",
       "    .dataframe tbody tr th {\n",
       "        vertical-align: top;\n",
       "    }\n",
       "\n",
       "    .dataframe thead th {\n",
       "        text-align: right;\n",
       "    }\n",
       "</style>\n",
       "<table border=\"1\" class=\"dataframe\">\n",
       "  <thead>\n",
       "    <tr style=\"text-align: right;\">\n",
       "      <th></th>\n",
       "      <th>0</th>\n",
       "      <th>1</th>\n",
       "      <th>2</th>\n",
       "      <th>3</th>\n",
       "      <th>4</th>\n",
       "      <th>5</th>\n",
       "      <th>6</th>\n",
       "      <th>7</th>\n",
       "      <th>8</th>\n",
       "      <th>9</th>\n",
       "      <th>...</th>\n",
       "      <th>12</th>\n",
       "      <th>13</th>\n",
       "      <th>14</th>\n",
       "      <th>15</th>\n",
       "      <th>16</th>\n",
       "      <th>17</th>\n",
       "      <th>18</th>\n",
       "      <th>19</th>\n",
       "      <th>20</th>\n",
       "      <th>21</th>\n",
       "    </tr>\n",
       "  </thead>\n",
       "  <tbody>\n",
       "    <tr>\n",
       "      <th>0</th>\n",
       "      <td>0.046729</td>\n",
       "      <td>0.894737</td>\n",
       "      <td>0.661412</td>\n",
       "      <td>0.566187</td>\n",
       "      <td>0.215188</td>\n",
       "      <td>0.746066</td>\n",
       "      <td>0.225345</td>\n",
       "      <td>0.097674</td>\n",
       "      <td>0.684038</td>\n",
       "      <td>0.653428</td>\n",
       "      <td>...</td>\n",
       "      <td>0.764262</td>\n",
       "      <td>0.381691</td>\n",
       "      <td>0.372990</td>\n",
       "      <td>0.677290</td>\n",
       "      <td>0.351351</td>\n",
       "      <td>0.170594</td>\n",
       "      <td>0.538462</td>\n",
       "      <td>0.500000</td>\n",
       "      <td>0.32735</td>\n",
       "      <td>0.175506</td>\n",
       "    </tr>\n",
       "    <tr>\n",
       "      <th>1</th>\n",
       "      <td>0.046729</td>\n",
       "      <td>0.894737</td>\n",
       "      <td>0.660155</td>\n",
       "      <td>0.541326</td>\n",
       "      <td>0.215188</td>\n",
       "      <td>0.748871</td>\n",
       "      <td>0.225345</td>\n",
       "      <td>0.100000</td>\n",
       "      <td>0.682140</td>\n",
       "      <td>0.651064</td>\n",
       "      <td>...</td>\n",
       "      <td>0.782437</td>\n",
       "      <td>0.381691</td>\n",
       "      <td>0.369239</td>\n",
       "      <td>0.678532</td>\n",
       "      <td>0.351351</td>\n",
       "      <td>0.170594</td>\n",
       "      <td>0.533937</td>\n",
       "      <td>0.476190</td>\n",
       "      <td>0.32735</td>\n",
       "      <td>0.175506</td>\n",
       "    </tr>\n",
       "    <tr>\n",
       "      <th>2</th>\n",
       "      <td>0.037383</td>\n",
       "      <td>0.894737</td>\n",
       "      <td>0.655586</td>\n",
       "      <td>0.530502</td>\n",
       "      <td>0.215188</td>\n",
       "      <td>0.755569</td>\n",
       "      <td>0.225345</td>\n",
       "      <td>0.102326</td>\n",
       "      <td>0.679445</td>\n",
       "      <td>0.646572</td>\n",
       "      <td>...</td>\n",
       "      <td>0.778062</td>\n",
       "      <td>0.380037</td>\n",
       "      <td>0.365488</td>\n",
       "      <td>0.676049</td>\n",
       "      <td>0.344745</td>\n",
       "      <td>0.170594</td>\n",
       "      <td>0.529412</td>\n",
       "      <td>0.452381</td>\n",
       "      <td>0.32735</td>\n",
       "      <td>0.175506</td>\n",
       "    </tr>\n",
       "    <tr>\n",
       "      <th>3</th>\n",
       "      <td>0.037383</td>\n",
       "      <td>0.894737</td>\n",
       "      <td>0.650788</td>\n",
       "      <td>0.524080</td>\n",
       "      <td>0.215188</td>\n",
       "      <td>0.758685</td>\n",
       "      <td>0.225345</td>\n",
       "      <td>0.104651</td>\n",
       "      <td>0.678414</td>\n",
       "      <td>0.641489</td>\n",
       "      <td>...</td>\n",
       "      <td>0.770949</td>\n",
       "      <td>0.380037</td>\n",
       "      <td>0.361736</td>\n",
       "      <td>0.671909</td>\n",
       "      <td>0.341441</td>\n",
       "      <td>0.164310</td>\n",
       "      <td>0.524887</td>\n",
       "      <td>0.428571</td>\n",
       "      <td>0.32735</td>\n",
       "      <td>0.175506</td>\n",
       "    </tr>\n",
       "    <tr>\n",
       "      <th>4</th>\n",
       "      <td>0.046729</td>\n",
       "      <td>0.894737</td>\n",
       "      <td>0.650788</td>\n",
       "      <td>0.531419</td>\n",
       "      <td>0.215188</td>\n",
       "      <td>0.758685</td>\n",
       "      <td>0.225345</td>\n",
       "      <td>0.106977</td>\n",
       "      <td>0.676727</td>\n",
       "      <td>0.639362</td>\n",
       "      <td>...</td>\n",
       "      <td>0.762697</td>\n",
       "      <td>0.380037</td>\n",
       "      <td>0.357985</td>\n",
       "      <td>0.671909</td>\n",
       "      <td>0.341441</td>\n",
       "      <td>0.170594</td>\n",
       "      <td>0.520362</td>\n",
       "      <td>0.404762</td>\n",
       "      <td>0.32735</td>\n",
       "      <td>0.178691</td>\n",
       "    </tr>\n",
       "  </tbody>\n",
       "</table>\n",
       "<p>5 rows × 22 columns</p>\n",
       "</div>"
      ],
      "text/plain": [
       "         0         1         2         3         4         5         6   \\\n",
       "0  0.046729  0.894737  0.661412  0.566187  0.215188  0.746066  0.225345   \n",
       "1  0.046729  0.894737  0.660155  0.541326  0.215188  0.748871  0.225345   \n",
       "2  0.037383  0.894737  0.655586  0.530502  0.215188  0.755569  0.225345   \n",
       "3  0.037383  0.894737  0.650788  0.524080  0.215188  0.758685  0.225345   \n",
       "4  0.046729  0.894737  0.650788  0.531419  0.215188  0.758685  0.225345   \n",
       "\n",
       "         7         8         9   ...        12        13        14        15  \\\n",
       "0  0.097674  0.684038  0.653428  ...  0.764262  0.381691  0.372990  0.677290   \n",
       "1  0.100000  0.682140  0.651064  ...  0.782437  0.381691  0.369239  0.678532   \n",
       "2  0.102326  0.679445  0.646572  ...  0.778062  0.380037  0.365488  0.676049   \n",
       "3  0.104651  0.678414  0.641489  ...  0.770949  0.380037  0.361736  0.671909   \n",
       "4  0.106977  0.676727  0.639362  ...  0.762697  0.380037  0.357985  0.671909   \n",
       "\n",
       "         16        17        18        19       20        21  \n",
       "0  0.351351  0.170594  0.538462  0.500000  0.32735  0.175506  \n",
       "1  0.351351  0.170594  0.533937  0.476190  0.32735  0.175506  \n",
       "2  0.344745  0.170594  0.529412  0.452381  0.32735  0.175506  \n",
       "3  0.341441  0.164310  0.524887  0.428571  0.32735  0.175506  \n",
       "4  0.341441  0.170594  0.520362  0.404762  0.32735  0.178691  \n",
       "\n",
       "[5 rows x 22 columns]"
      ]
     },
     "execution_count": 53,
     "metadata": {},
     "output_type": "execute_result"
    }
   ],
   "source": [
    "sca=DataFrame(scaled)\n",
    "sca.head()"
   ]
  },
  {
   "cell_type": "code",
   "execution_count": 54,
   "id": "0065a8cb-0335-4f52-94b2-3d54fc621329",
   "metadata": {},
   "outputs": [
    {
     "data": {
      "text/plain": [
       "(19735, 22)"
      ]
     },
     "execution_count": 54,
     "metadata": {},
     "output_type": "execute_result"
    }
   ],
   "source": [
    "sca.shape"
   ]
  },
  {
   "cell_type": "markdown",
   "id": "46ab8d2b-97f5-4bdd-9406-f5dd50b7e303",
   "metadata": {},
   "source": [
    "## Evaluating the LSTM model"
   ]
  },
  {
   "cell_type": "markdown",
   "id": "10f2238b-841f-48d5-aca7-c7d1411fe23b",
   "metadata": {},
   "source": [
    "### - MSE"
   ]
  },
  {
   "cell_type": "code",
   "execution_count": 55,
   "id": "8d9f702d-9806-4b34-8b16-3c8cbede8582",
   "metadata": {},
   "outputs": [
    {
     "name": "stdout",
     "output_type": "stream",
     "text": [
      "5921/5921 [==============================] - 11s 2ms/step - loss: 0.0074\n",
      "Test MSE: 0.007396\n"
     ]
    }
   ],
   "source": [
    "lstm_test_mse = model.evaluate(X_Test, Y_Test, batch_size=1)\n",
    "print('Test MSE: %f'%lstm_test_mse)"
   ]
  },
  {
   "cell_type": "markdown",
   "id": "f810cf81-6232-4a79-8392-fc287f0feb30",
   "metadata": {},
   "source": [
    "### - R2 Score"
   ]
  },
  {
   "cell_type": "code",
   "execution_count": 56,
   "id": "37e367f0-b420-4546-81d7-6b1d52bf0fca",
   "metadata": {},
   "outputs": [
    {
     "name": "stdout",
     "output_type": "stream",
     "text": [
      "186/186 [==============================] - 1s 1ms/step\n",
      "432/432 [==============================] - 1s 2ms/step\n",
      "The R2 score on the Train set is:\t0.243\n",
      "The R2 score on the Test set is:\t0.235\n"
     ]
    }
   ],
   "source": [
    "y_pred_test_lstm = model.predict(X_Test)\n",
    "y_train_pred_lstm = model.predict(X_Train)\n",
    "print(\"The R2 score on the Train set is:\\t{:0.3f}\".format(r2_score(Y_Train, y_train_pred_lstm)))\n",
    "print(\"The R2 score on the Test set is:\\t{:0.3f}\".format(r2_score(Y_Test, y_pred_test_lstm)))"
   ]
  },
  {
   "cell_type": "markdown",
   "id": "e9fef605-44e0-4726-9b97-93435bf5d12d",
   "metadata": {},
   "source": [
    "## Plotting LSTM forecast, in comparison to the actual"
   ]
  },
  {
   "cell_type": "code",
   "execution_count": 57,
   "id": "38a96abf-033b-43ab-abd5-ba69787c1051",
   "metadata": {},
   "outputs": [
    {
     "name": "stdout",
     "output_type": "stream",
     "text": [
      "186/186 [==============================] - 0s 1ms/step\n"
     ]
    },
    {
     "data": {
      "image/png": "[encoded data removed]",
      "text/plain": [
       "<Figure size 2000x600 with 1 Axes>"
      ]
     },
     "metadata": {},
     "output_type": "display_data"
    }
   ],
   "source": [
    "lstm_y_pred_test = model.predict(X_Test)\n",
    "plt.figure(figsize=(20, 6))\n",
    "plt.plot(Y_Test, label='True')\n",
    "plt.plot(y_pred_test_lstm, label='LSTM')\n",
    "plt.title(\"LSTM's Prediction\")\n",
    "plt.xlabel('Observation')\n",
    "plt.ylabel('Appliances scaled')\n",
    "plt.legend()\n",
    "plt.show();"
   ]
  },
  {
   "cell_type": "code",
   "execution_count": null,
   "id": "bd5ccad4-0dc7-4f6f-af63-64ca37394ddc",
   "metadata": {},
   "outputs": [],
   "source": []
  },
  {
   "cell_type": "markdown",
   "id": "4022d8fc-77fc-4433-b335-3ddd9ef0e6bb",
   "metadata": {},
   "source": [
    "### - RMSE"
   ]
  },
  {
   "cell_type": "code",
   "execution_count": 58,
   "id": "581ad90b-c611-4b45-abbe-a2575289bd96",
   "metadata": {},
   "outputs": [
    {
     "name": "stdout",
     "output_type": "stream",
     "text": [
      "186/186 [==============================] - 0s 2ms/step\n",
      "Test RMSE: 92.020\n"
     ]
    }
   ],
   "source": [
    "# make a prediction\n",
    "yhat = model.predict(X_Test)\n",
    "X_Test = X_Test.reshape((X_Test.shape[0], 21))\n",
    "# invert scaling for forecast\n",
    "inv_yhat = np.concatenate((yhat, X_Test[:, -21:]), axis=1)\n",
    "inv_yhat = scaler.inverse_transform(inv_yhat)\n",
    "inv_yhat = inv_yhat[:,0]\n",
    "# invert scaling for actual\n",
    "Y_Test = Y_Test.reshape((len(Y_Test), 1))\n",
    "inv_y = np.concatenate((Y_Test, X_Test[:, -21:]), axis=1)\n",
    "inv_y = scaler.inverse_transform(inv_y)\n",
    "inv_y = inv_y[:,0]\n",
    "# calculate RMSE\n",
    "rmse = np.sqrt(mean_squared_error(inv_y, inv_yhat))\n",
    "print('Test RMSE: %.3f' % rmse)"
   ]
  },
  {
   "cell_type": "code",
   "execution_count": null,
   "id": "acf39016-7f6c-4231-9305-6c76a288e754",
   "metadata": {},
   "outputs": [],
   "source": []
  },
  {
   "cell_type": "code",
   "execution_count": null,
   "id": "2f2b6ca2-7085-4db7-9084-f45b2cd4143f",
   "metadata": {},
   "outputs": [],
   "source": []
  },
  {
   "cell_type": "code",
   "execution_count": null,
   "id": "f82b45ff-55d0-4d88-b765-a10e9e10d265",
   "metadata": {},
   "outputs": [],
   "source": []
  },
  {
   "cell_type": "code",
   "execution_count": null,
   "id": "c53557f0-fab9-49f3-9224-c5bf7a530925",
   "metadata": {},
   "outputs": [],
   "source": []
  },
  {
   "cell_type": "code",
   "execution_count": null,
   "id": "0a716b07-1668-4f1b-a650-f791142c2429",
   "metadata": {},
   "outputs": [],
   "source": []
  },
  {
   "cell_type": "code",
   "execution_count": null,
   "id": "20ce2889-ca0d-4434-b947-90f59fc0ebb0",
   "metadata": {},
   "outputs": [],
   "source": []
  },
  {
   "cell_type": "code",
   "execution_count": null,
   "id": "12d9678d-6fdb-4897-9b23-eda6cc894508",
   "metadata": {},
   "outputs": [],
   "source": []
  },
  {
   "cell_type": "markdown",
   "id": "f17a9026-89bc-421e-a691-0bc357346c41",
   "metadata": {},
   "source": [
    "# Testing"
   ]
  },
  {
   "cell_type": "code",
   "execution_count": 70,
   "id": "5a438937-2948-46c4-bbe3-dd1980159059",
   "metadata": {},
   "outputs": [],
   "source": [
    "# tmp_values = np.array(\n",
    "#     [np.random.random(3) for element in range(4)]\n",
    "# )"
   ]
  },
  {
   "cell_type": "code",
   "execution_count": 71,
   "id": "8e2b9ef2-8c42-4c6f-8921-a601ea7aa458",
   "metadata": {},
   "outputs": [],
   "source": [
    "# tmp_values"
   ]
  },
  {
   "cell_type": "code",
   "execution_count": 72,
   "id": "6d784dea-b0b6-4c86-af95-825936a62471",
   "metadata": {},
   "outputs": [],
   "source": [
    "# tmp_values[:,:2]"
   ]
  },
  {
   "cell_type": "code",
   "execution_count": 73,
   "id": "cfddd11a-6ef5-449d-895c-93dc9c908824",
   "metadata": {},
   "outputs": [],
   "source": [
    "# tmp_values[:,2]"
   ]
  },
  {
   "cell_type": "code",
   "execution_count": 74,
   "id": "b9537663-7d8d-4cb4-8a49-1665ebd931c2",
   "metadata": {},
   "outputs": [],
   "source": [
    "# tmp_values[0][0]"
   ]
  },
  {
   "cell_type": "code",
   "execution_count": 75,
   "id": "3a00afc7-0949-474c-98ef-30be27d819ad",
   "metadata": {},
   "outputs": [],
   "source": [
    "# tmp_values[:,1:3]"
   ]
  },
  {
   "cell_type": "code",
   "execution_count": 76,
   "id": "146d4761-af6e-4670-bab7-2d9d34a9a227",
   "metadata": {},
   "outputs": [],
   "source": [
    "# print(\n",
    "#     \"tmp_values.shape {:},\\ntmp_values[:,:1].shape {:},\\ntmp_values[:,1].shape {:}\".format(\n",
    "#         tmp_values.shape, tmp_values[:,:1].shape, tmp_values[:,1].shape\n",
    "#     )\n",
    "# )"
   ]
  },
  {
   "cell_type": "code",
   "execution_count": 77,
   "id": "6bcc5b5c-1cc6-4618-a770-feebc7d0af4f",
   "metadata": {},
   "outputs": [],
   "source": [
    "# tmp_Y = tmp_values[:,1]"
   ]
  },
  {
   "cell_type": "code",
   "execution_count": 78,
   "id": "8a96147e-67bf-4a70-8faf-33bc7eef87c3",
   "metadata": {},
   "outputs": [],
   "source": [
    "# tmp_Y"
   ]
  },
  {
   "cell_type": "code",
   "execution_count": 79,
   "id": "c8e39cae-01a5-4def-891d-03467b78bff4",
   "metadata": {},
   "outputs": [],
   "source": [
    "# del tmp_values, tmp_Y"
   ]
  },
  {
   "cell_type": "code",
   "execution_count": null,
   "id": "1f7cb1a1-c7bc-488d-81b9-235328715054",
   "metadata": {},
   "outputs": [],
   "source": []
  },
  {
   "cell_type": "code",
   "execution_count": null,
   "id": "3d35efae-c81e-4804-8380-0f1ba606a172",
   "metadata": {},
   "outputs": [],
   "source": []
  },
  {
   "cell_type": "code",
   "execution_count": null,
   "id": "b00d02f5-2663-4ea9-aa32-7b982f23580f",
   "metadata": {},
   "outputs": [],
   "source": []
  }
 ],
 "metadata": {
  "kernelspec": {
   "display_name": "Python 3 (ipykernel)",
   "language": "python",
   "name": "python3"
  },
  "language_info": {
   "codemirror_mode": {
    "name": "ipython",
    "version": 3
   },
   "file_extension": ".py",
   "mimetype": "text/x-python",
   "name": "python",
   "nbconvert_exporter": "python",
   "pygments_lexer": "ipython3",
   "version": "3.10.6"
  }
 },
 "nbformat": 4,
 "nbformat_minor": 5
}
